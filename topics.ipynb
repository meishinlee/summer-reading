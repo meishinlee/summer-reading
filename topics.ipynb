{
 "cells": [
  {
   "cell_type": "code",
   "metadata": {
    "cell_id": "4d356711ea8a4ca4ab670818fef0ecf9",
    "tags": [],
    "deepnote_to_be_reexecuted": false,
    "source_hash": "a75f8627",
    "execution_start": 1656110007286,
    "execution_millis": 1,
    "deepnote_cell_type": "code",
    "deepnote_cell_height": 279
   },
   "source": "import pandas as pd\nimport string\nimport nltk\nimport numpy as np\nimport re\nfrom nltk.tokenize import word_tokenize\nfrom nltk.corpus import stopwords\nfrom nltk.stem import WordNetLemmatizer\nfrom sklearn.feature_extraction.text import TfidfVectorizer\nfrom sklearn.decomposition import LatentDirichletAllocation\nfrom queue import PriorityQueue as pq\nimport editdistance",
   "execution_count": 33,
   "outputs": []
  },
  {
   "cell_type": "code",
   "metadata": {
    "cell_id": "26bbff9f6d354017aa5dfee3446e1998",
    "tags": [],
    "deepnote_to_be_reexecuted": false,
    "source_hash": "d6485474",
    "execution_start": 1656109252879,
    "execution_millis": 41,
    "deepnote_cell_type": "code",
    "deepnote_cell_height": 99
   },
   "source": "adv_reads = pd.read_csv('google_books_1299.csv')\nadv_reads.drop(columns=adv_reads.columns[0], axis=1, inplace=True)",
   "execution_count": 2,
   "outputs": []
  },
  {
   "cell_type": "code",
   "metadata": {
    "cell_id": "4cad93ced6bc4156ab33b29c97a4c2b8",
    "tags": [],
    "deepnote_to_be_reexecuted": false,
    "source_hash": "7c37366e",
    "execution_start": 1656109252943,
    "execution_millis": 86,
    "deepnote_cell_type": "code",
    "deepnote_cell_height": 730.65625
   },
   "source": "adv_reads.drop_duplicates(keep='first', inplace=True, ignore_index=True)\n\n# manually set: should we do this?\nadv_reads['lower_age'] = [16 for i in range(len(adv_reads))]\nadv_reads['upper_age'] = [20 for i in range(len(adv_reads))]\nadv_reads.head(2000)\n",
   "execution_count": 3,
   "outputs": [
    {
     "output_type": "execute_result",
     "execution_count": 3,
     "data": {
      "application/vnd.deepnote.dataframe.v3+json": {
       "column_count": 15,
       "row_count": 948,
       "columns": [
        {
         "name": "title",
         "dtype": "object",
         "stats": {
          "unique_count": 246,
          "nan_count": 0,
          "categories": [
           {
            "name": "The Queen of Nothing (The Folk of the Air #3)",
            "count": 13
           },
           {
            "name": "The Hitchhiker's Guide to the Galaxy: 42nd Anniversary Edition",
            "count": 12
           },
           {
            "name": "244 others",
            "count": 923
           }
          ]
         }
        },
        {
         "name": "author",
         "dtype": "object",
         "stats": {
          "unique_count": 183,
          "nan_count": 0,
          "categories": [
           {
            "name": "Agatha Christie",
            "count": 29
           },
           {
            "name": "Brian Tracy",
            "count": 28
           },
           {
            "name": "181 others",
            "count": 891
           }
          ]
         }
        },
        {
         "name": "rating",
         "dtype": "float64",
         "stats": {
          "unique_count": 18,
          "nan_count": 57,
          "min": "2.5",
          "max": "5.0",
          "histogram": [
           {
            "bin_start": 2.5,
            "bin_end": 2.75,
            "count": 10
           },
           {
            "bin_start": 2.75,
            "bin_end": 3,
            "count": 0
           },
           {
            "bin_start": 3,
            "bin_end": 3.25,
            "count": 0
           },
           {
            "bin_start": 3.25,
            "bin_end": 3.5,
            "count": 6
           },
           {
            "bin_start": 3.5,
            "bin_end": 3.75,
            "count": 25
           },
           {
            "bin_start": 3.75,
            "bin_end": 4,
            "count": 42
           },
           {
            "bin_start": 4,
            "bin_end": 4.25,
            "count": 167
           },
           {
            "bin_start": 4.25,
            "bin_end": 4.5,
            "count": 154
           },
           {
            "bin_start": 4.5,
            "bin_end": 4.75,
            "count": 340
           },
           {
            "bin_start": 4.75,
            "bin_end": 5,
            "count": 147
           }
          ]
         }
        },
        {
         "name": "voters",
         "dtype": "object",
         "stats": {
          "unique_count": 162,
          "nan_count": 57,
          "categories": [
           {
            "name": "2",
            "count": 37
           },
           {
            "name": "161 others",
            "count": 854
           },
           {
            "name": "Missing",
            "count": 57
           }
          ]
         }
        },
        {
         "name": "price",
         "dtype": "float64",
         "stats": {
          "unique_count": 125,
          "nan_count": 0,
          "min": "0.0",
          "max": "886.08",
          "histogram": [
           {
            "bin_start": 0,
            "bin_end": 88.608,
            "count": 861
           },
           {
            "bin_start": 88.608,
            "bin_end": 177.216,
            "count": 75
           },
           {
            "bin_start": 177.216,
            "bin_end": 265.824,
            "count": 10
           },
           {
            "bin_start": 265.824,
            "bin_end": 354.432,
            "count": 0
           },
           {
            "bin_start": 354.432,
            "bin_end": 443.04,
            "count": 0
           },
           {
            "bin_start": 443.04,
            "bin_end": 531.648,
            "count": 0
           },
           {
            "bin_start": 531.648,
            "bin_end": 620.2560000000001,
            "count": 0
           },
           {
            "bin_start": 620.2560000000001,
            "bin_end": 708.864,
            "count": 0
           },
           {
            "bin_start": 708.864,
            "bin_end": 797.472,
            "count": 0
           },
           {
            "bin_start": 797.472,
            "bin_end": 886.08,
            "count": 2
           }
          ]
         }
        },
        {
         "name": "currency",
         "dtype": "object",
         "stats": {
          "unique_count": 2,
          "nan_count": 0,
          "categories": [
           {
            "name": "SAR",
            "count": 925
           },
           {
            "name": "Free",
            "count": 23
           }
          ]
         }
        },
        {
         "name": "description",
         "dtype": "object",
         "stats": {
          "unique_count": 244,
          "nan_count": 3,
          "categories": [
           {
            "name": "The intoxicating and bloodthirsty finale to the New York Times bestselling The Cruel Prince, nominated for the CILIP CARNEGIE MEDAL 2019, and  New York Times bestseller The Wicked King \n\nAfter being pronounced Queen of Faerie and then abruptly exiled by the Wicked King Cardan, Jude finds herself unmoored, the queen of nothing. She spends her time with Vivi and Oak, watching reality television, and doing odd jobs, including squaring up to a cannibalistic faerie.\n\nWhen her twin sister Taryn shows up asking a favour, Jude jumps at the chance to return to the Faerie world, even if it means facing Cardan, who she loves despite his betrayal. When a dark curse is unveiled, Jude must become the first mortal Queen of Faerie and break the curse, or risk upsetting the balance of the whole Faerie world.",
            "count": 13
           },
           {
            "name": "243 others",
            "count": 932
           },
           {
            "name": "Missing",
            "count": 3
           }
          ]
         }
        },
        {
         "name": "publisher",
         "dtype": "object",
         "stats": {
          "unique_count": 82,
          "nan_count": 0,
          "categories": [
           {
            "name": "HarperCollins UK",
            "count": 97
           },
           {
            "name": "Hachette UK",
            "count": 92
           },
           {
            "name": "80 others",
            "count": 759
           }
          ]
         }
        },
        {
         "name": "page_count",
         "dtype": "int64",
         "stats": {
          "unique_count": 103,
          "nan_count": 0,
          "min": "7",
          "max": "9781302013929",
          "histogram": [
           {
            "bin_start": 7,
            "bin_end": 978130201399.2,
            "count": 947
           },
           {
            "bin_start": 978130201399.2,
            "bin_end": 1956260402791.4,
            "count": 0
           },
           {
            "bin_start": 1956260402791.4,
            "bin_end": 2934390604183.5996,
            "count": 0
           },
           {
            "bin_start": 2934390604183.5996,
            "bin_end": 3912520805575.8,
            "count": 0
           },
           {
            "bin_start": 3912520805575.8,
            "bin_end": 4890651006968,
            "count": 0
           },
           {
            "bin_start": 4890651006968,
            "bin_end": 5868781208360.199,
            "count": 0
           },
           {
            "bin_start": 5868781208360.199,
            "bin_end": 6846911409752.399,
            "count": 0
           },
           {
            "bin_start": 6846911409752.399,
            "bin_end": 7825041611144.6,
            "count": 0
           },
           {
            "bin_start": 7825041611144.6,
            "bin_end": 8803171812536.799,
            "count": 0
           },
           {
            "bin_start": 8803171812536.799,
            "bin_end": 9781302013929,
            "count": 1
           }
          ]
         }
        },
        {
         "name": "generes",
         "dtype": "object",
         "stats": {
          "unique_count": 242,
          "nan_count": 0,
          "categories": [
           {
            "name": "none",
            "count": 227
           },
           {
            "name": "Fiction , Thrillers , Suspense",
            "count": 35
           },
           {
            "name": "240 others",
            "count": 686
           }
          ]
         }
        },
        {
         "name": "ISBN",
         "dtype": "object",
         "stats": {
          "unique_count": 227,
          "nan_count": 0,
          "categories": [
           {
            "name": "Original pages",
            "count": 19
           },
           {
            "name": "9781471407574",
            "count": 13
           },
           {
            "name": "225 others",
            "count": 916
           }
          ]
         }
        },
        {
         "name": "language",
         "dtype": "object",
         "stats": {
          "unique_count": 1,
          "nan_count": 0,
          "categories": [
           {
            "name": "English",
            "count": 948
           }
          ]
         }
        },
        {
         "name": "published_date",
         "dtype": "object",
         "stats": {
          "unique_count": 216,
          "nan_count": 0,
          "categories": [
           {
            "name": "Oct 15, 2019",
            "count": 36
           },
           {
            "name": "Oct 17, 2019",
            "count": 24
           },
           {
            "name": "214 others",
            "count": 888
           }
          ]
         }
        },
        {
         "name": "lower_age",
         "dtype": "int64",
         "stats": {
          "unique_count": 1,
          "nan_count": 0,
          "min": "16",
          "max": "16",
          "histogram": [
           {
            "bin_start": 15.5,
            "bin_end": 15.6,
            "count": 0
           },
           {
            "bin_start": 15.6,
            "bin_end": 15.7,
            "count": 0
           },
           {
            "bin_start": 15.7,
            "bin_end": 15.8,
            "count": 0
           },
           {
            "bin_start": 15.8,
            "bin_end": 15.9,
            "count": 0
           },
           {
            "bin_start": 15.9,
            "bin_end": 16,
            "count": 0
           },
           {
            "bin_start": 16,
            "bin_end": 16.1,
            "count": 948
           },
           {
            "bin_start": 16.1,
            "bin_end": 16.2,
            "count": 0
           },
           {
            "bin_start": 16.2,
            "bin_end": 16.3,
            "count": 0
           },
           {
            "bin_start": 16.3,
            "bin_end": 16.4,
            "count": 0
           },
           {
            "bin_start": 16.4,
            "bin_end": 16.5,
            "count": 0
           }
          ]
         }
        },
        {
         "name": "upper_age",
         "dtype": "int64",
         "stats": {
          "unique_count": 1,
          "nan_count": 0,
          "min": "20",
          "max": "20",
          "histogram": [
           {
            "bin_start": 19.5,
            "bin_end": 19.6,
            "count": 0
           },
           {
            "bin_start": 19.6,
            "bin_end": 19.7,
            "count": 0
           },
           {
            "bin_start": 19.7,
            "bin_end": 19.8,
            "count": 0
           },
           {
            "bin_start": 19.8,
            "bin_end": 19.9,
            "count": 0
           },
           {
            "bin_start": 19.9,
            "bin_end": 20,
            "count": 0
           },
           {
            "bin_start": 20,
            "bin_end": 20.1,
            "count": 948
           },
           {
            "bin_start": 20.1,
            "bin_end": 20.2,
            "count": 0
           },
           {
            "bin_start": 20.2,
            "bin_end": 20.3,
            "count": 0
           },
           {
            "bin_start": 20.3,
            "bin_end": 20.4,
            "count": 0
           },
           {
            "bin_start": 20.4,
            "bin_end": 20.5,
            "count": 0
           }
          ]
         }
        },
        {
         "name": "_deepnote_index_column",
         "dtype": "int64"
        }
       ],
       "rows": [
        {
         "title": "Attack on Titan: Volume 13",
         "author": "Hajime Isayama",
         "rating": 4.6,
         "voters": "428",
         "price": 43.28,
         "currency": "SAR",
         "description": "NO SAFE PLACE LEFT At great cost to the Garrison and the Survey Corps, Commander Erwin has managed to recover Eren from the Titans who tried to carry him off. But during the battle, Eren manifested yet another power he doesn't understand. As Eren and Krista find new enemies, the Survey Corps faces threats from both inside and outside the walls. And what will happen to Ymir, now that she has decided to make herself the Titans' prize?",
         "publisher": "Kodansha Comics",
         "page_count": 192,
         "generes": "none",
         "ISBN": "9781612626864",
         "language": "English",
         "published_date": "Jul 31, 2014",
         "lower_age": 16,
         "upper_age": 20,
         "_deepnote_index_column": 0
        },
        {
         "title": "Antiques Roadkill: A Trash 'n' Treasures Mystery",
         "author": "Barbara Allan",
         "rating": 3.3,
         "voters": "23",
         "price": 26.15,
         "currency": "SAR",
         "description": "Determined to make a new start in her quaint hometown on the banks of the Mississippi, Brandy Borne never dreams she'll become the prime suspect in a murder case. . . \n\nMoving back in with her eccentric, larger-than-life mother, Brandy Borne finds small-town Serenity anything but serene. It seems an unscrupulous antiques dealer has swindled Vivian out of the family's heirlooms. But when he is found run over in a country lane, Brandy becomes Murder Suspect Number One--with her mother coming in a very close second. . . \n\nThe list of other suspects is impressive--the victim's business seems to have been based on bilking seniors out of their possessions. And when the Borne \"girls\" uncover a few very unsavory Serenity secrets, they become targets for a murderer whose favorite hobby seems to be collecting victims. \n\nDon't miss Brandy Borne's tips on antiques! \n\n\"Cozy mystery fans will love this down-to-earth heroine with the wry sense of humor and a big heart.\" --Nancy Pickard \n\n\"With its s…",
         "publisher": "Kensington Publishing Corp.",
         "page_count": 288,
         "generes": "Fiction , Mystery &amp, Detective , Cozy , General",
         "ISBN": "9780758272799",
         "language": "English",
         "published_date": "Jul 1, 2007",
         "lower_age": 16,
         "upper_age": 20,
         "_deepnote_index_column": 1
        },
        {
         "title": "The Art of Super Mario Odyssey",
         "author": "Nintendo",
         "rating": 3.9,
         "voters": "9",
         "price": 133.85,
         "currency": "SAR",
         "description": "Take a globetrotting journey all over the world--and beyond!--with this companion art book to the hit video game for the Nintendo Switch(TM) system!\n\nIn October of 2017, Super Mario Odyssey(TM) took the gaming world by storm. Now, discover the art and expertise that went into creating one of Nintendo's best-loved games!\n\n This full-color volume clocks in at over 350 pages and features concept art, preliminary sketches, and notes from the development team, plus insight into some early ideas that didn't make it into the game itself! Explore the world of Super Mario Odyssey from every angle, including screen shots, marketing material, and more, to fully appreciate this captivating adventure",
         "publisher": "Dark Horse Comics",
         "page_count": 368,
         "generes": "Games &amp, Activities , Video &amp, Electronic",
         "ISBN": "9781506713816",
         "language": "English",
         "published_date": "Nov 5, 2019",
         "lower_age": 16,
         "upper_age": 20,
         "_deepnote_index_column": 2
        },
        {
         "title": "Getting Away Is Deadly: An Ellie Avery Mystery",
         "author": "Sara Rosett",
         "rating": 4,
         "voters": "10",
         "price": 26.15,
         "currency": "SAR",
         "description": "With swollen feet and swelling belly, pregnant Ellie bravely joins the nation's tourists in seeing the sights in Washington, D.C. But a fatal incident at the Metro station convinces Ellie that something is rotten in the capital city. Should she do the safe thing and pack her bags? Not likely when too many people are telling lies, hiding secrets, and acting suspiciously. Luckily, Ellie Avery is just the right woman to clean up the most mysterious cases of murder--even if she has to brave the most dangerous byways in the corridors of power . . .\n\n\n\n\nDon't miss Ellie Avery's top-notch tips for great vacations!\n\n\n\nPraise for Sara Rosett and her Mom Zone Mysteries. . .\n\n\n\n\"Crackles with intrigue, keeps you turning pages.\"\n--Alesia Holliday\n\n\n\n\"Sharp writing, tight plotting, a fascinating peek into the world of military wives. Jump in!\"\n--Cynthia Baxter\n\n\n\n\"The stunning conclusion should delight readers.\"\n--Romantic Times",
         "publisher": "Kensington Publishing Corp.",
         "page_count": 320,
         "generes": "none",
         "ISBN": "9781617734076",
         "language": "English",
         "published_date": "Mar 1, 2009",
         "lower_age": 16,
         "upper_age": 20,
         "_deepnote_index_column": 3
        },
        {
         "title": "The Painted Man (The Demon Cycle, Book 1)",
         "author": "Peter V. Brett",
         "rating": 4.5,
         "voters": "577",
         "price": 28.54,
         "currency": "SAR",
         "description": "The stunning debut fantasy novel from author Peter V. Brett.   The Painted Man, book one of the Demon Cycle, is a captivating and thrilling fantasy adventure, pulling the reader into a world of demons, darkness and heroes.  AS DARKNESS FALLS, THE DEMONS RISE For hundreds of years these creatures have terrorized the night, slowly culling the human population. It was not always this way. Men and women did not always cower behind protective magical wards and hope to see the dawn. Once, they battled the demons on equal terms, but those days, and skills, are gone. Arlen Bales lives with his parents on their isolated farmstead until a demon attack shatters their world. He learns a savage lesson that day: that people, as well as magic, can let you down. Rejecting the fear that kills as efficiently as the creatures, Arlen risks another path in order to offer humanity a last, fleeting chance of survival.",
         "publisher": "HarperCollins UK",
         "page_count": 544,
         "generes": "Fiction , Fantasy , Dark Fantasy",
         "ISBN": "9780007287758",
         "language": "English",
         "published_date": "Jan 8, 2009",
         "lower_age": 16,
         "upper_age": 20,
         "_deepnote_index_column": 4
        },
        {
         "title": "A Feast for Crows (A Song of Ice and Fire, Book 4)",
         "author": "George R.R. Martin",
         "rating": 4.5,
         "voters": "832",
         "price": 29.29,
         "currency": "SAR",
         "description": "HBO’s hit series A GAME OF THRONES is based on George R. R. Martin’s internationally bestselling series A SONG OF ICE AND FIRE, the greatest fantasy epic of the modern age. A FEAST FOR CROWS is the fourth volume in the series. The Lannisters are in power on the Iron Throne. The war in the Seven Kingdoms has burned itself out, but in its bitter aftermath new conflicts spark to life. The Martells of Dorne and the Starks of Winterfell seek vengeance for their dead. Euron Crow’s Eye, as black a pirate as ever raised a sail, returns from the smoking ruins of Valyria to claim the Iron Isles. From the icy north, where Others threaten the Wall, apprentice Maester Samwell Tarly brings a mysterious babe in arms to the Citadel. As plots, intrigue and battle threaten to engulf Westeros, victory will go to the men and women possessed of the coldest steel and the coldest hearts.",
         "publisher": "HarperCollins UK",
         "page_count": 864,
         "generes": "none",
         "ISBN": "9780007369218",
         "language": "English",
         "published_date": "Feb 24, 2011",
         "lower_age": 16,
         "upper_age": 20,
         "_deepnote_index_column": 5
        },
        {
         "title": "God of War: The Official Novelization",
         "author": "J.M. Barlog",
         "rating": 4.5,
         "voters": "94",
         "price": 15.82,
         "currency": "SAR",
         "description": "The novelization of the highly anticipated God of War 4 game.\nHis vengeance against the Gods of Olympus years behind him, Kratos now lives as a man in the realm of Norse gods and monsters. It is in this harsh, unforgiving world that he must fight to survive... and teach his son to do the same. This startling reimagining of God of War deconstructs the core elements that defined the series—satisfying combat; breathtaking scale; and a powerful narrative—and fuses them anew.",
         "publisher": "Titan Books",
         "page_count": 400,
         "generes": "Fiction , Media Tie-In",
         "ISBN": "9781789090154",
         "language": "English",
         "published_date": "Aug 28, 2018",
         "lower_age": 16,
         "upper_age": 20,
         "_deepnote_index_column": 6
        },
        {
         "title": "Edgedancer: From the Stormlight Archive",
         "author": "Brandon Sanderson",
         "rating": 4.8,
         "voters": "221",
         "price": 36.79,
         "currency": "SAR",
         "description": "From #1 New York Times bestselling author Brandon Sanderson, a special gift edition of Edgedancer, a short novel of the Stormlight Archive (previously published in Arcanum Unbounded).Three years ago, Lift asked a goddess to stop her from growing older--a wish she believed was granted. Now, in Edgedancer, the barely teenage nascent Knight Radiant finds that time stands still for no one. Although the young Azish emperor granted her safe haven from an executioner she knows only as Darkness, court life is suffocating the free-spirited Lift, who can't help heading to Yeddaw when she hears the relentless Darkness is there hunting people like her with budding powers. The downtrodden in Yeddaw have no champion, and Lift knows she must seize this awesome responsibility.\nOther Tor books by Brandon Sanderson The Cosmere\n \n The Stormlight Archive\n The Way of Kings\n Words of Radiance\n Edgedancer (Novella)\n Oathbringer\n \n The Mistborn trilogy\n Mistborn: The Final Empire\n The Well of Ascension\n The …",
         "publisher": "Tor Books",
         "page_count": 226,
         "generes": "Fiction , Fantasy , Epic",
         "ISBN": "9781250166609",
         "language": "English",
         "published_date": "Oct 17, 2017",
         "lower_age": 16,
         "upper_age": 20,
         "_deepnote_index_column": 7
        },
        {
         "title": "Blood, Sweat, and Pixels: The Triumphant, Turbulent Stories Behind How Video Games Are Made",
         "author": "Jason Schreier",
         "rating": 4.3,
         "voters": "135",
         "price": 50.25,
         "currency": "SAR",
         "description": "NATIONAL BESTSELLERDeveloping video games—hero's journey or fool's errand? The creative and technical logistics that go into building today's hottest games can be more harrowing and complex than the games themselves, often seeming like an endless maze or a bottomless abyss. In Blood, Sweat, and Pixels, Jason Schreier takes readers on a fascinating odyssey behind the scenes of video game development, where the creator may be a team of 600 overworked underdogs or a solitary geek genius. Exploring the artistic challenges, technical impossibilities, marketplace demands, and Donkey Kong-sized monkey wrenches thrown into the works by corporate, Blood, Sweat, and Pixels reveals how bringing any game to completion is more than Sisyphean—it's nothing short of miraculous.Taking some of the most popular, bestselling recent games, Schreier immerses readers in the hellfire of the development process, whether it's RPG studio Bioware's challenge to beat an impossible schedule and overcome countless …",
         "publisher": "HarperCollins",
         "page_count": 304,
         "generes": "Games &amp, Activities , Video &amp, Electronic",
         "ISBN": "9780062651242",
         "language": "English",
         "published_date": "Sep 5, 2017",
         "lower_age": 16,
         "upper_age": 20,
         "_deepnote_index_column": 8
        },
        {
         "title": "Twas The Nightshift Before Christmas: Festive hospital diaries from the author of million-copy hit This is Going to Hurt",
         "author": "Adam Kay",
         "rating": 4.7,
         "voters": "47",
         "price": 41.82,
         "currency": "SAR",
         "description": "A short gift book of festive hospital diaries from the author of million-copy bestseller This is Going to HurtChristmas is coming, the goose is getting fat . . . but 1.4 million NHS staff are heading off to work. In this perfect present for anyone who has ever set foot in a hospital, Adam Kay delves back into his diaries for a hilarious, horrifying and sometimes heartbreaking peek behind the blue curtain at Christmastime.Twas the Nightshift Before Christmas is a love letter to all those who spend their festive season on the front line, removing babies and baubles from the various places they get stuck, at the most wonderful time of the year.'The perfect surgical stocking-filler' The Times",
         "publisher": "Pan Macmillan",
         "page_count": 112,
         "generes": "Biography &amp, Autobiography , Medical (incl. Patients)",
         "ISBN": "9781529018592",
         "language": "English",
         "published_date": "Oct 17, 2019",
         "lower_age": 16,
         "upper_age": 20,
         "_deepnote_index_column": 9
        }
       ]
      },
      "text/plain": "                                                 title             author  \\\n0                           Attack on Titan: Volume 13     Hajime Isayama   \n1     Antiques Roadkill: A Trash 'n' Treasures Mystery      Barbara Allan   \n2                       The Art of Super Mario Odyssey           Nintendo   \n3       Getting Away Is Deadly: An Ellie Avery Mystery        Sara Rosett   \n4            The Painted Man (The Demon Cycle, Book 1)     Peter V. Brett   \n..                                                 ...                ...   \n943  The Essentials of Finance and Accounting for N...      Edward Fields   \n944                          The Magic of Thinking Big  David J. Schwartz   \n945  Twas The Nightshift Before Christmas: Festive ...           Adam Kay   \n946  Why We Sleep: The New Science of Sleep and Dreams     Matthew Walker   \n947           W is for Wasted: A Kinsey Millhone Novel        Sue Grafton   \n\n     rating voters   price currency  \\\n0       4.6    428   43.28      SAR   \n1       3.3     23   26.15      SAR   \n2       3.9      9  133.85      SAR   \n3       4.0     10   26.15      SAR   \n4       4.5    577   28.54      SAR   \n..      ...    ...     ...      ...   \n943     NaN    NaN   58.99      SAR   \n944     4.6    244   66.87      SAR   \n945     4.7     47   41.82      SAR   \n946     4.8     52   46.85      SAR   \n947     4.3    206   39.34      SAR   \n\n                                           description  \\\n0    NO SAFE PLACE LEFT At great cost to the Garris...   \n1    Determined to make a new start in her quaint h...   \n2    Take a globetrotting journey all over the worl...   \n3    With swollen feet and swelling belly, pregnant...   \n4    The stunning debut fantasy novel from author P...   \n..                                                 ...   \n943  Based on the bestselling AMA seminar, a nuts-a...   \n944  The timeless and practical advice in The Magic...   \n945  A short gift book of festive hospital diaries ...   \n946  'Astonishing ... an amazing book ... absolutel...   \n947  Private investigator Kinsey Millhone finds sho...   \n\n                       publisher  page_count  \\\n0                Kodansha Comics         192   \n1    Kensington Publishing Corp.         288   \n2              Dark Horse Comics         368   \n3    Kensington Publishing Corp.         320   \n4               HarperCollins UK         544   \n..                           ...         ...   \n943                       AMACOM         320   \n944                      Penguin         256   \n945                Pan Macmillan         112   \n946                   Penguin UK         368   \n947                      Penguin         448   \n\n                                               generes           ISBN  \\\n0                                                 none  9781612626864   \n1    Fiction , Mystery &amp, Detective , Cozy , Gen...  9780758272799   \n2      Games &amp, Activities , Video &amp, Electronic  9781506713816   \n3                                                 none  9781617734076   \n4                     Fiction , Fantasy , Dark Fantasy  9780007287758   \n..                                                 ...            ...   \n943    Business &amp, Economics , Accounting , General  9780814416259   \n944          Self-Help , Personal Growth , Self-Esteem  9780698198586   \n945                     Medical , Health Care Delivery  9781529018592   \n946  Psychology , Cognitive Psychology &amp, Cognition  9780141983776   \n947                     Fiction , Thrillers , Suspense  9781101636459   \n\n    language published_date  lower_age  upper_age  \n0    English   Jul 31, 2014         16         20  \n1    English    Jul 1, 2007         16         20  \n2    English    Nov 5, 2019         16         20  \n3    English    Mar 1, 2009         16         20  \n4    English    Jan 8, 2009         16         20  \n..       ...            ...        ...        ...  \n943  English   Mar 15, 2011         16         20  \n944  English    Dec 2, 2014         16         20  \n945  English   Oct 17, 2019         16         20  \n946  English   Sep 28, 2017         16         20  \n947  English   Sep 10, 2013         16         20  \n\n[948 rows x 15 columns]",
      "text/html": "<div>\n<style scoped>\n    .dataframe tbody tr th:only-of-type {\n        vertical-align: middle;\n    }\n\n    .dataframe tbody tr th {\n        vertical-align: top;\n    }\n\n    .dataframe thead th {\n        text-align: right;\n    }\n</style>\n<table border=\"1\" class=\"dataframe\">\n  <thead>\n    <tr style=\"text-align: right;\">\n      <th></th>\n      <th>title</th>\n      <th>author</th>\n      <th>rating</th>\n      <th>voters</th>\n      <th>price</th>\n      <th>currency</th>\n      <th>description</th>\n      <th>publisher</th>\n      <th>page_count</th>\n      <th>generes</th>\n      <th>ISBN</th>\n      <th>language</th>\n      <th>published_date</th>\n      <th>lower_age</th>\n      <th>upper_age</th>\n    </tr>\n  </thead>\n  <tbody>\n    <tr>\n      <th>0</th>\n      <td>Attack on Titan: Volume 13</td>\n      <td>Hajime Isayama</td>\n      <td>4.6</td>\n      <td>428</td>\n      <td>43.28</td>\n      <td>SAR</td>\n      <td>NO SAFE PLACE LEFT At great cost to the Garris...</td>\n      <td>Kodansha Comics</td>\n      <td>192</td>\n      <td>none</td>\n      <td>9781612626864</td>\n      <td>English</td>\n      <td>Jul 31, 2014</td>\n      <td>16</td>\n      <td>20</td>\n    </tr>\n    <tr>\n      <th>1</th>\n      <td>Antiques Roadkill: A Trash 'n' Treasures Mystery</td>\n      <td>Barbara Allan</td>\n      <td>3.3</td>\n      <td>23</td>\n      <td>26.15</td>\n      <td>SAR</td>\n      <td>Determined to make a new start in her quaint h...</td>\n      <td>Kensington Publishing Corp.</td>\n      <td>288</td>\n      <td>Fiction , Mystery &amp;amp, Detective , Cozy , Gen...</td>\n      <td>9780758272799</td>\n      <td>English</td>\n      <td>Jul 1, 2007</td>\n      <td>16</td>\n      <td>20</td>\n    </tr>\n    <tr>\n      <th>2</th>\n      <td>The Art of Super Mario Odyssey</td>\n      <td>Nintendo</td>\n      <td>3.9</td>\n      <td>9</td>\n      <td>133.85</td>\n      <td>SAR</td>\n      <td>Take a globetrotting journey all over the worl...</td>\n      <td>Dark Horse Comics</td>\n      <td>368</td>\n      <td>Games &amp;amp, Activities , Video &amp;amp, Electronic</td>\n      <td>9781506713816</td>\n      <td>English</td>\n      <td>Nov 5, 2019</td>\n      <td>16</td>\n      <td>20</td>\n    </tr>\n    <tr>\n      <th>3</th>\n      <td>Getting Away Is Deadly: An Ellie Avery Mystery</td>\n      <td>Sara Rosett</td>\n      <td>4.0</td>\n      <td>10</td>\n      <td>26.15</td>\n      <td>SAR</td>\n      <td>With swollen feet and swelling belly, pregnant...</td>\n      <td>Kensington Publishing Corp.</td>\n      <td>320</td>\n      <td>none</td>\n      <td>9781617734076</td>\n      <td>English</td>\n      <td>Mar 1, 2009</td>\n      <td>16</td>\n      <td>20</td>\n    </tr>\n    <tr>\n      <th>4</th>\n      <td>The Painted Man (The Demon Cycle, Book 1)</td>\n      <td>Peter V. Brett</td>\n      <td>4.5</td>\n      <td>577</td>\n      <td>28.54</td>\n      <td>SAR</td>\n      <td>The stunning debut fantasy novel from author P...</td>\n      <td>HarperCollins UK</td>\n      <td>544</td>\n      <td>Fiction , Fantasy , Dark Fantasy</td>\n      <td>9780007287758</td>\n      <td>English</td>\n      <td>Jan 8, 2009</td>\n      <td>16</td>\n      <td>20</td>\n    </tr>\n    <tr>\n      <th>...</th>\n      <td>...</td>\n      <td>...</td>\n      <td>...</td>\n      <td>...</td>\n      <td>...</td>\n      <td>...</td>\n      <td>...</td>\n      <td>...</td>\n      <td>...</td>\n      <td>...</td>\n      <td>...</td>\n      <td>...</td>\n      <td>...</td>\n      <td>...</td>\n      <td>...</td>\n    </tr>\n    <tr>\n      <th>943</th>\n      <td>The Essentials of Finance and Accounting for N...</td>\n      <td>Edward Fields</td>\n      <td>NaN</td>\n      <td>NaN</td>\n      <td>58.99</td>\n      <td>SAR</td>\n      <td>Based on the bestselling AMA seminar, a nuts-a...</td>\n      <td>AMACOM</td>\n      <td>320</td>\n      <td>Business &amp;amp, Economics , Accounting , General</td>\n      <td>9780814416259</td>\n      <td>English</td>\n      <td>Mar 15, 2011</td>\n      <td>16</td>\n      <td>20</td>\n    </tr>\n    <tr>\n      <th>944</th>\n      <td>The Magic of Thinking Big</td>\n      <td>David J. Schwartz</td>\n      <td>4.6</td>\n      <td>244</td>\n      <td>66.87</td>\n      <td>SAR</td>\n      <td>The timeless and practical advice in The Magic...</td>\n      <td>Penguin</td>\n      <td>256</td>\n      <td>Self-Help , Personal Growth , Self-Esteem</td>\n      <td>9780698198586</td>\n      <td>English</td>\n      <td>Dec 2, 2014</td>\n      <td>16</td>\n      <td>20</td>\n    </tr>\n    <tr>\n      <th>945</th>\n      <td>Twas The Nightshift Before Christmas: Festive ...</td>\n      <td>Adam Kay</td>\n      <td>4.7</td>\n      <td>47</td>\n      <td>41.82</td>\n      <td>SAR</td>\n      <td>A short gift book of festive hospital diaries ...</td>\n      <td>Pan Macmillan</td>\n      <td>112</td>\n      <td>Medical , Health Care Delivery</td>\n      <td>9781529018592</td>\n      <td>English</td>\n      <td>Oct 17, 2019</td>\n      <td>16</td>\n      <td>20</td>\n    </tr>\n    <tr>\n      <th>946</th>\n      <td>Why We Sleep: The New Science of Sleep and Dreams</td>\n      <td>Matthew Walker</td>\n      <td>4.8</td>\n      <td>52</td>\n      <td>46.85</td>\n      <td>SAR</td>\n      <td>'Astonishing ... an amazing book ... absolutel...</td>\n      <td>Penguin UK</td>\n      <td>368</td>\n      <td>Psychology , Cognitive Psychology &amp;amp, Cognition</td>\n      <td>9780141983776</td>\n      <td>English</td>\n      <td>Sep 28, 2017</td>\n      <td>16</td>\n      <td>20</td>\n    </tr>\n    <tr>\n      <th>947</th>\n      <td>W is for Wasted: A Kinsey Millhone Novel</td>\n      <td>Sue Grafton</td>\n      <td>4.3</td>\n      <td>206</td>\n      <td>39.34</td>\n      <td>SAR</td>\n      <td>Private investigator Kinsey Millhone finds sho...</td>\n      <td>Penguin</td>\n      <td>448</td>\n      <td>Fiction , Thrillers , Suspense</td>\n      <td>9781101636459</td>\n      <td>English</td>\n      <td>Sep 10, 2013</td>\n      <td>16</td>\n      <td>20</td>\n    </tr>\n  </tbody>\n</table>\n<p>948 rows × 15 columns</p>\n</div>"
     },
     "metadata": {}
    }
   ]
  },
  {
   "cell_type": "code",
   "metadata": {
    "cell_id": "6733b3d579984f2280e88066e29ac3eb",
    "tags": [],
    "deepnote_to_be_reexecuted": false,
    "source_hash": "ca08e19e",
    "execution_start": 1656109253035,
    "execution_millis": 75,
    "deepnote_table_state": {
     "pageSize": 10,
     "pageIndex": 0,
     "filters": [],
     "sortBy": [
      {
       "id": "Inerest_age",
       "type": "desc"
      }
     ]
    },
    "deepnote_table_loading": false,
    "deepnote_table_invalid": false,
    "deepnote_cell_type": "code",
    "deepnote_cell_height": 690.65625
   },
   "source": "child_books = pd.read_csv(\"children_books.csv\")\nchild_books.drop_duplicates(keep='first', inplace=True, ignore_index=True)\nchild_books.head(5000)",
   "execution_count": 4,
   "outputs": [
    {
     "output_type": "execute_result",
     "execution_count": 4,
     "data": {
      "application/vnd.deepnote.dataframe.v3+json": {
       "column_count": 5,
       "row_count": 41,
       "columns": [
        {
         "name": "Title",
         "dtype": "object",
         "stats": {
          "unique_count": 41,
          "nan_count": 0,
          "categories": [
           {
            "name": "Don't Pick on Me!",
            "count": 1
           },
           {
            "name": "The Complete Calvin and Hobbes",
            "count": 1
           },
           {
            "name": "39 others",
            "count": 39
           }
          ]
         }
        },
        {
         "name": "Author",
         "dtype": "object",
         "stats": {
          "unique_count": 39,
          "nan_count": 2,
          "categories": [
           {
            "name": "Rosemary Stones",
            "count": 1
           },
           {
            "name": "38 others",
            "count": 38
           },
           {
            "name": "Missing",
            "count": 2
           }
          ]
         }
        },
        {
         "name": "Desc",
         "dtype": "object",
         "stats": {
          "unique_count": 41,
          "nan_count": 0,
          "categories": [
           {
            "name": "Practical advice for children on how to handle bullying. Jane's class think that wearing the 'right' label clothing is very important, and her classmates start to make fun of her: 'What a fleabag!', 'Where did you get that coat - the Oxfam shop?' Jane wishes she didn't have to go to school; she is beginning to dread each new day. Michael isn't good at football. The other boys make fun of him, banging into him 'accidentally' and tripping him up when the games teacher isn't looking. Michael's mum wonders why he's always covered in bruises, but Michael won't say.Bullying encompasses many things: being called names, being beaten up, having your bus fare stolen, being made to feel stupid... It's always horrible. Almost everyone gets bullied at some point in their life; often it happens at school. But you don't have to accept being bullied, and if you're a bully, you can learn to stop. This book explores why some people bully, why others are bullied and what you can do to change things.",
            "count": 1
           },
           {
            "name": "The comic-strip adventures of Calvin, a naughty boy with a philosophical bent, and his soft toy tiger companion Hobbes, delighted readers from 1985 to 1995. The huge achievement of the comic's creator Bill Watterson is celebrated here in this wonderful cloth-bound three-volume box set, which contains in chronological order every Calvin and Hobbes strip.  For those who have never experienced the sheer delight of Watterson's creation, here is a brief summary: Calvin is an active and imaginative little boy; his friend Hobbes appears as a stuffed tiger when other people are around, but when the two of them are alone he comes to life and is Calvin's friend and playmate. They live with Calvin's long-suffering parents, who have to cope with his turbulent behaviour.  The charm of the strip is multi-faceted. On the one hand, Calvin is a typical six-year-old with a vivid imagination: one minute he is fearless intergalactic traveller Spaceman Spiff, crash-landing on a hostile planet, the next he is a fearsome T-Rex stalking his victim through the Jurassic jungle. He is in thrall to consumerism, hates school, loves making gruesome snowmen, and plays Calvinball, an anarchic game of ever-changing rules.  Yet he is also given to philosophising about the big issues of life, ably supported or gently undermined by Hobbes's quietly caustic asides (the tiger's name is no coincidence). Here is an outlet for Watterson's deeply-held views about the craziness of the modern world; indeed, the artist himself has always shunned publicity.  The strip is also enhanced by its strong cast of supporting characters. Mrs Wormwood the teacher looms over Calvin when he not paying attention; the school bully (who calls Calvin Twinky) is always on hand to 'pound' him; Susie, the little girl from down the road, often gets her own back on her snowball-throwing nemesis.  Calvin's dad is a particularly funny creation: long-suffering, anti-media, and a proponent of fresh air, he also manages to get his revenge on his manic son by tying him up in mental knots with spurious bits of information (for example, he tells Calvin that old photographs are black and white because the world comprised only those colours in the past).  All these ingredients would, in the right hands, combine to make a perfectly good comic strip, but what always put Calvin and Hobbes ahead of the competition was the sheer artistry of Watterson's illustrations. In this regard, the chronological arrangement of the strips usefully shows Watterson's increasingly sophisticated technique, from his drawings of desert canyons and hideous inhabitants of alien planets, to the facial expressions of all his characters.  It is hard to deny that Watterson owes a debt to Charles Schulz, whose Peanuts strip also offered a sophisticated yet deceptively simple evocation of the inner lives of children. For Calvin and Hobbes, however, Watterson combined uncanny ability, more than a touch of surrealism and a huge dose of humour to distil the essence of late-twentieth-century childhood, thereby elevating his strip into a league of its own.",
            "count": 1
           },
           {
            "name": "39 others",
            "count": 39
           }
          ]
         }
        },
        {
         "name": "Inerest_age",
         "dtype": "object",
         "stats": {
          "unique_count": 12,
          "nan_count": 0,
          "categories": [
           {
            "name": "13+ ",
            "count": 11
           },
           {
            "name": "12+ ",
            "count": 8
           },
           {
            "name": "10 others",
            "count": 22
           }
          ]
         }
        },
        {
         "name": "Reading_age",
         "dtype": "object",
         "stats": {
          "unique_count": 10,
          "nan_count": 0,
          "categories": [
           {
            "name": "12+                               ",
            "count": 9
           },
           {
            "name": "11+                               ",
            "count": 8
           },
           {
            "name": "8 others",
            "count": 24
           }
          ]
         }
        },
        {
         "name": "_deepnote_index_column",
         "dtype": "int64"
        }
       ],
       "rows": [
        {
         "Title": "Don't Pick on Me!",
         "Author": "Rosemary Stones",
         "Desc": "Practical advice for children on how to handle bullying. Jane's class think that wearing the 'right' label clothing is very important, and her classmates start to make fun of her: 'What a fleabag!', 'Where did you get that coat - the Oxfam shop?' Jane wishes she didn't have to go to school; she is beginning to dread each new day. Michael isn't good at football. The other boys make fun of him, banging into him 'accidentally' and tripping him up when the games teacher isn't looking. Michael's mum wonders why he's always covered in bruises, but Michael won't say.Bullying encompasses many things: being called names, being beaten up, having your bus fare stolen, being made to feel stupid... It's always horrible. Almost everyone gets bullied at some point in their life; often it happens at school. But you don't have to accept being bullied, and if you're a bully, you can learn to stop. This book explores why some people bully, why others are bullied and what you can do to change things.",
         "Inerest_age": "9+ ",
         "Reading_age": "9+                               ",
         "_deepnote_index_column": 25
        },
        {
         "Title": "The Complete Calvin and Hobbes",
         "Author": "nan",
         "Desc": "The comic-strip adventures of Calvin, a naughty boy with a philosophical bent, and his soft toy tiger companion Hobbes, delighted readers from 1985 to 1995. The huge achievement of the comic's creator Bill Watterson is celebrated here in this wonderful cloth-bound three-volume box set, which contains in chronological order every Calvin and Hobbes strip.  For those who have never experienced the sheer delight of Watterson's creation, here is a brief summary: Calvin is an active and imaginative little boy; his friend Hobbes appears as a stuffed tiger when other people are around, but when the two of them are alone he comes to life and is Calvin's friend and playmate. They live with Calvin's long-suffering parents, who have to cope with his turbulent behaviour.  The charm of the strip is multi-faceted. On the one hand, Calvin is a typical six-year-old with a vivid imagination: one minute he is fearless intergalactic traveller Spaceman Spiff, crash-landing on a hostile planet, the next he…",
         "Inerest_age": "9+ ",
         "Reading_age": "8+                               ",
         "_deepnote_index_column": 24
        },
        {
         "Title": "Pop-Up Frankenstein",
         "Author": "Claire Hawcock (adapted from Mary Shelley) Illustrator: Anthony Williams (Art) Rob Taylor (colour) and David Hawcock (Pop-ups)\n",
         "Desc": "Frankenstein tells the story of a privileged and self-absorbed young man whose arrogant obsession leads him to create a monstrous version of a human being.\nFrankenstein abandons the physically grotesque creature he has created, leaving it to be reviled and rejected by mankind. As a consequence, its gentle nature is twisted and distorted until it becomes a veritable monster, wreaking havoc and bringing death and destruction in its wake.\nThis remarkable new version blends the finest contemporary illustration, dramatic storytelling and superb paper engineering. A combination of comic strip detail and stunning pop-ups on every spread bring each moment of the story to life, from the monster's creation to his dramatic demise.",
         "Inerest_age": "9+ ",
         "Reading_age": "9+                               ",
         "_deepnote_index_column": 22
        },
        {
         "Title": "The Song from Somewhere Else",
         "Author": "AF Harrold\nIllustrator: Levi Pinfold",
         "Desc": "Frank is being bullied - for what, she's not sure. Being smart? Being different, perhaps. One day, after the bullies throw her bag in the middle of a huge patch of stinging nettles, Nick Underbridge comes to her aid - a strange boy that everyone makes fun of at school for his hugeness and odd, unidentifiable smell. \nAs Frank and Nick become friends, Frank discovers something strange and wonderful in Nick's basement - and an explanation for what holds him apart from the others at school.\nA sometimes sad and sometimes wry tale of bullying and fitting in, The Song From Somewhere Else is also a magical tale about how - sometimes - people might feel alien to us, but that families are universal, whoever you are.\nLevi Pinfold's stunning, intricate and moody illustrations add an extra layer of atmosphere to this heartfelt and beautifully strange story.\nWinner of the Kate Greenaway Amnesty CLIP Honour in 2018.",
         "Inerest_age": "8+ ",
         "Reading_age": "8+                               ",
         "_deepnote_index_column": 16
        },
        {
         "Title": "Rules for a Knight",
         "Author": "Ethan Hawke Illustrator: Ryan Hawke",
         "Desc": "On the eve of battle, Sir Thomas Lemuel Hawke of Cornwall writes a letter to his children. It is a guide on how to live well, like a knight: staying wise, humble, courageous, loving and kind.\nHawke has tried to make this book look as authentic as possible. The cover stands out with a gold-embossed leaf. Inside, an editor’s note talks about the discovery of the ‘historical’ letter, confirming Sir Thomas's death at the Battle of Slaughter Bridge in 1483.It all gives the book an important and timeless feel. Hawke has a way with a sentence, and many of the sections read like note-perfect proverbs. There are also some lovely, tender scenes with the grandfather. It can be a little dense at times, so children may want to dip in and out of the short, standalone chapters. But the book is pitched in such a way that they can get new meaning from it as they grow into teenagers and young adults.",
         "Inerest_age": "7+ ",
         "Reading_age": "10+                               ",
         "_deepnote_index_column": 27
        },
        {
         "Title": "The Sin Eater's Daughter",
         "Author": "Melinda Salisbury",
         "Desc": "Seventeen-year-old Twylla lives in the castle and is betrothed to the prince, but she isn't a princess or a member of court. Twylla is the court executioner. As the Goddess embodied, she can kill with a single touch. Only the prince, with his royal blood, is immune to her touch, but even he avoids her. Then a new guard arrives, one with an easy smile that belies his deadly swordsmanship. He sees past the executioner robes to the girl beneath, and a friendship blossoms between him and Twylla, a friendship that could be more if Twylla wasn't promised to the prince. But her romantic problems are trivial when she discovers the mad plan that the power-hungry and vicious queen is plotting. As everything begins to spiral out of control, Twylla has to decide who she trusts, who she loves, and what she is willing to do for her kingdom.\nThe Sin Eater's Daughter is a truly original fantasy set in a richly imagined world full of complex and complicated characters. The world is multi-layered and S…",
         "Inerest_age": "14+ ",
         "Reading_age": "14+                               ",
         "_deepnote_index_column": 13
        },
        {
         "Title": "Dark Inside",
         "Author": "Jeyn Roberts",
         "Desc": "After a huge earthquake strikes every continent on Earth, strange things start happening and people begin behaving very oddly. Aries survives a bus crash, while Clementine barely escapes the horror of a town massacre. While Mason is in hospital at his dying mother’s bedside his school is destroyed and all his friends killed, whilst Michael’s experience of a road rage incident leaves him reeling... These four survivors soon realise they must draw on all their resources to fight an unknown evil taking over their world.This is the story of four teenagers and their struggle to survive in a post-apocalyptic world. Dark and disturbing yet exciting, it reveals real humanity and emotion, as the relationships between the young people are tested to the limit. A readable and refreshing take on the zombie genre.",
         "Inerest_age": "14+ ",
         "Reading_age": "10+                               ",
         "_deepnote_index_column": 6
        },
        {
         "Title": "Holding Up the Universe",
         "Author": "Jennifer Niven",
         "Desc": "Jennifer Niven's deeply compelling and highly successful first teen novel All The Bright Places was very much for an older audience with its themes of depression and suicide. Her new book Holding Up the Universe is suitable for younger teens as well - and just as powerfully written.\nThe book is narrated in turns by Libby, famous for once being 'America's Fattest Teen' and starting high school after years of being home schooled, and Jack, who seems to be one of the popular kids but secretly suffers from Prospagnosia - the inability to recognise the faces of familiar people even those in this own family which is often called 'face blindness'. Their worlds collide in a horribly cruel high school game and an unlikely friendship is formed that leads to something even deeper.\nJennifer Niven is a gorgeous writer. Her characters Libby and Jack feel so real that it's almost impossible to believe they don't live and breathe. The author herself struggled with weight issues and anxiety over the y…",
         "Inerest_age": "14+ ",
         "Reading_age": "12+                               ",
         "_deepnote_index_column": 21
        },
        {
         "Title": "The Changes Trilogy",
         "Author": "Peter Dickinson",
         "Desc": "Gripped by a strange fear, England closes its doors to the outside world. In a tunnel beneath Wales one man opens a crack in a mysterious stone wall, and all over the island of Britain people react with horror to perfectly normal machines. Abandoning their cars on the roads and destroying their own factories, many flee the cities for the countryside, where they return to farming and an old-fashioned life. When families are split apart and grown-ups forget how they used to live, young people face unexpected challenges.\nA classic in the teen sci-fi genre, perfect for those who have read all the contemporary YA dystopian novels and want to see where it all began.",
         "Inerest_age": "14+ ",
         "Reading_age": "13+                               ",
         "_deepnote_index_column": 18
        },
        {
         "Title": "Jimmy Corrigan:",
         "Author": "Chris Ware",
         "Desc": "This extraordinary graphic novel is so obviously a labour of love that the reader can only marvel at the energy that has been expended in its creation.  Although the two plots that make up the book are essentially simple, the care with which Ware has executed them gives them an almost mythic quality. Jimmy Corrigan is a lonely, single, thirty-something with a boring job in an office cubicle, and a domineering mother who, in spite of living in a nursing home, is never far from the telephone or Jimmy. His crippling shyness renders him incapable of even saying hello to Peggy, the woman who works at an adjacent desk. When the father he has never known sends him an invitation and a plane ticket, Jimmy feels compelled to fly out to meet him.  Jimmy's (by and large disastrous) trip is mirrored by the boyhood tale of his grandfather, James, whose relationship with his father is tainted by unhappiness. (It's not as confusing as it sounds.) Young James's mother has died, leaving his father with…",
         "Inerest_age": "14+ ",
         "Reading_age": "14+                               ",
         "_deepnote_index_column": 33
        }
       ]
      },
      "text/plain": "                             Title  \\\n0      The Girl Who Drank the Moon   \n1                  Time Between Us   \n2                Girl Out of Water   \n3                          Captive   \n4              The School of Music   \n5                The Crystal Stair   \n6                      Dark Inside   \n7                      Kite Spirit   \n8             I Capture the Castle   \n9                           Butter   \n10                    Dead Jealous   \n11                 A Flash of Blue   \n12                 Jet Black Heart   \n13        The Sin Eater's Daughter   \n14   King Lear - Manga Shakespeare   \n15                    Frankenstein   \n16    The Song from Somewhere Else   \n17       Amy & Roger's Epic Detour   \n18             The Changes Trilogy   \n19  The Train to Impossible Places   \n20                    Half Brother   \n21         Holding Up the Universe   \n22             Pop-Up Frankenstein   \n23                 Mister Creecher   \n24  The Complete Calvin and Hobbes   \n25               Don't Pick on Me!   \n26              Five Hundred Miles   \n27              Rules for a Knight   \n28                 Paper Avalanche   \n29                     Ghost World   \n30                        Invictus   \n31            The Name of the Star   \n32      Spy for the Queen of Scots   \n33                 Jimmy Corrigan:   \n34                The Martian Girl   \n35                 Buffalo Soldier   \n36                     Witchstruck   \n37                         Flyaway   \n38         Etiquette and Espionage   \n39           The Sky is Everywhere   \n40                     Glass Sword   \n\n                                               Author  \\\n0                                      Kelly Barnhill   \n1                                Tamara Ireland Stone   \n2                                       Nat Luurtsema   \n3                                        A J Grainger   \n4   Rachel Bowen and Meurig Bowen Illustrator: Dan...   \n5                                    Catherine Fisher   \n6                                        Jeyn Roberts   \n7                                    Sita Brahmachari   \n8                                         Dodie Smith   \n9                                     Erin Jade Lange   \n10                                       Sharon Jones   \n11                                       Maria Farrer   \n12                                      Teresa Flavin   \n13                                  Melinda Salisbury   \n14                                William Shakespeare   \n15                                       Mary Shelley   \n16              AF Harrold\\nIllustrator: Levi Pinfold   \n17                                      Morgan Matson   \n18                                    Peter Dickinson   \n19           P.G. Bell Illustrator: Flavia Sorrentino   \n20                                      Kenneth Oppel   \n21                                     Jennifer Niven   \n22  Claire Hawcock (adapted from Mary Shelley) Ill...   \n23                                    Chris Priestley   \n24                                                NaN   \n25                                    Rosemary Stones   \n26                                       Kevin Brooks   \n27                Ethan Hawke Illustrator: Ryan Hawke   \n28                                    Lisa Williamson   \n29                                      Daniel Clowes   \n30                                       Ryan Graudin   \n31                                    Maureen Johnson   \n32                                    Theresa Breslin   \n33                                         Chris Ware   \n34                                                NaN   \n35                                      Tanya Landman   \n36                                      Victoria Lamb   \n37                                   Lucy Christopher   \n38                                      Gail Carriger   \n39                                       Jandy Nelson   \n40                                   Victoria Aveyard   \n\n                                                 Desc Inerest_age  \\\n0   Every year, the evil Protectorate offers a bab...      10-14    \n1   Sixteen-year-old Anna is struggling to underst...        13+    \n2   Lou Brown's swimming ambitions sank without tr...      13-18    \n3   Robyn is scared. Ever since the attempted assa...        13+    \n4   Welcome to the School of Music. In charge is M...        10+    \n5   The Crystal Stair picks up after At the World’...        12+    \n6   After a huge earthquake strikes every continen...        14+    \n7   When her best friend Dawn commits suicide, Kit...        13+    \n8   Originally published in 1949, this delightful ...        12+    \n9   Isolated and bullied at school, with a dysfunc...        13+    \n10  When Poppy Sinclair finds the body of a young ...        13+    \n11  Since Amber's eighteen year old brother Liam d...      13-15    \n12  Dory is having a boring family holiday in a sm...        11+    \n13  Seventeen-year-old Twylla lives in the castle ...        14+    \n14  The story of Lear, the old chieftain, who divi...        11+    \n15  Obsessed with the idea of rivalling God and cr...        13+    \n16  Frank is being bullied - for what, she's not s...         8+    \n17  Amy Curry’s life is a disaster. Her father rec...        12+    \n18  Gripped by a strange fear, England closes its ...        14+    \n19  Suzy Smith is very surprised when a huge magic...      10-12    \n20  Oppel bases his first YA novel on projects in ...        11+    \n21  Jennifer Niven's deeply compelling and highly ...        14+    \n22  Frankenstein tells the story of a privileged a...         9+    \n23  Billy is a street urchin, pickpocket and petty...        12+    \n24  The comic-strip adventures of Calvin, a naught...         9+    \n25  Practical advice for children on how to handle...         9+    \n26  In the industrial wastelands of east London, t...        13+    \n27  On the eve of battle, Sir Thomas Lemuel Hawke ...         7+    \n28  Fourteen-year-old Ro Snow’s got a secret: her ...        12+    \n29  Daniel Clowes is able to tell brilliant storie...        13+    \n30  Farway Gaius McCarthy was born in the future, ...        11+    \n31  Louisiana teenager Rory is embarking on a new ...        13+    \n32  Beautiful young aristocrat Ginette, known as J...        12+    \n33  This extraordinary graphic novel is so obvious...        14+    \n34  Following on from the brilliant Lost on Mars, ...        10+    \n35  Plantation slave Charley Smith is eleven when ...        13+    \n36  The future Elizabeth I has been imprisoned by ...        12+    \n37  Isla embarks on an art project to make a flyin...        12+    \n38  Sophronia is horrified when her mother decides...        11+    \n39  Grief has turned Lennie's world upside down - ...        13+    \n40  Mare Barrow knows she is different. Her blood ...      13-18    \n\n                             Reading_age  \n0   10-14                                 \n1     12+                                 \n2     10+                                 \n3      13                                 \n4     10+                                 \n5      8+                                 \n6     10+                                 \n7     12+                                 \n8     12+                                 \n9     13+                                 \n10    13+                                 \n11    10+                                 \n12    11+                                 \n13    14+                                 \n14    11+                                 \n15    13+                                 \n16     8+                                 \n17    12+                                 \n18    13+                                 \n19  10-12                                 \n20     9+                                 \n21    12+                                 \n22     9+                                 \n23    11+                                 \n24     8+                                 \n25     9+                                 \n26     9+                                 \n27    10+                                 \n28    12+                                 \n29    13+                                 \n30    11+                                 \n31    13+                                 \n32    12+                                 \n33    14+                                 \n34    10+                                 \n35    11+                                 \n36    12+                                 \n37    11+                                 \n38    11+                                 \n39    12+                                 \n40    11+                                 ",
      "text/html": "<div>\n<style scoped>\n    .dataframe tbody tr th:only-of-type {\n        vertical-align: middle;\n    }\n\n    .dataframe tbody tr th {\n        vertical-align: top;\n    }\n\n    .dataframe thead th {\n        text-align: right;\n    }\n</style>\n<table border=\"1\" class=\"dataframe\">\n  <thead>\n    <tr style=\"text-align: right;\">\n      <th></th>\n      <th>Title</th>\n      <th>Author</th>\n      <th>Desc</th>\n      <th>Inerest_age</th>\n      <th>Reading_age</th>\n    </tr>\n  </thead>\n  <tbody>\n    <tr>\n      <th>0</th>\n      <td>The Girl Who Drank the Moon</td>\n      <td>Kelly Barnhill</td>\n      <td>Every year, the evil Protectorate offers a bab...</td>\n      <td>10-14</td>\n      <td>10-14</td>\n    </tr>\n    <tr>\n      <th>1</th>\n      <td>Time Between Us</td>\n      <td>Tamara Ireland Stone</td>\n      <td>Sixteen-year-old Anna is struggling to underst...</td>\n      <td>13+</td>\n      <td>12+</td>\n    </tr>\n    <tr>\n      <th>2</th>\n      <td>Girl Out of Water</td>\n      <td>Nat Luurtsema</td>\n      <td>Lou Brown's swimming ambitions sank without tr...</td>\n      <td>13-18</td>\n      <td>10+</td>\n    </tr>\n    <tr>\n      <th>3</th>\n      <td>Captive</td>\n      <td>A J Grainger</td>\n      <td>Robyn is scared. Ever since the attempted assa...</td>\n      <td>13+</td>\n      <td>13</td>\n    </tr>\n    <tr>\n      <th>4</th>\n      <td>The School of Music</td>\n      <td>Rachel Bowen and Meurig Bowen Illustrator: Dan...</td>\n      <td>Welcome to the School of Music. In charge is M...</td>\n      <td>10+</td>\n      <td>10+</td>\n    </tr>\n    <tr>\n      <th>5</th>\n      <td>The Crystal Stair</td>\n      <td>Catherine Fisher</td>\n      <td>The Crystal Stair picks up after At the World’...</td>\n      <td>12+</td>\n      <td>8+</td>\n    </tr>\n    <tr>\n      <th>6</th>\n      <td>Dark Inside</td>\n      <td>Jeyn Roberts</td>\n      <td>After a huge earthquake strikes every continen...</td>\n      <td>14+</td>\n      <td>10+</td>\n    </tr>\n    <tr>\n      <th>7</th>\n      <td>Kite Spirit</td>\n      <td>Sita Brahmachari</td>\n      <td>When her best friend Dawn commits suicide, Kit...</td>\n      <td>13+</td>\n      <td>12+</td>\n    </tr>\n    <tr>\n      <th>8</th>\n      <td>I Capture the Castle</td>\n      <td>Dodie Smith</td>\n      <td>Originally published in 1949, this delightful ...</td>\n      <td>12+</td>\n      <td>12+</td>\n    </tr>\n    <tr>\n      <th>9</th>\n      <td>Butter</td>\n      <td>Erin Jade Lange</td>\n      <td>Isolated and bullied at school, with a dysfunc...</td>\n      <td>13+</td>\n      <td>13+</td>\n    </tr>\n    <tr>\n      <th>10</th>\n      <td>Dead Jealous</td>\n      <td>Sharon Jones</td>\n      <td>When Poppy Sinclair finds the body of a young ...</td>\n      <td>13+</td>\n      <td>13+</td>\n    </tr>\n    <tr>\n      <th>11</th>\n      <td>A Flash of Blue</td>\n      <td>Maria Farrer</td>\n      <td>Since Amber's eighteen year old brother Liam d...</td>\n      <td>13-15</td>\n      <td>10+</td>\n    </tr>\n    <tr>\n      <th>12</th>\n      <td>Jet Black Heart</td>\n      <td>Teresa Flavin</td>\n      <td>Dory is having a boring family holiday in a sm...</td>\n      <td>11+</td>\n      <td>11+</td>\n    </tr>\n    <tr>\n      <th>13</th>\n      <td>The Sin Eater's Daughter</td>\n      <td>Melinda Salisbury</td>\n      <td>Seventeen-year-old Twylla lives in the castle ...</td>\n      <td>14+</td>\n      <td>14+</td>\n    </tr>\n    <tr>\n      <th>14</th>\n      <td>King Lear - Manga Shakespeare</td>\n      <td>William Shakespeare</td>\n      <td>The story of Lear, the old chieftain, who divi...</td>\n      <td>11+</td>\n      <td>11+</td>\n    </tr>\n    <tr>\n      <th>15</th>\n      <td>Frankenstein</td>\n      <td>Mary Shelley</td>\n      <td>Obsessed with the idea of rivalling God and cr...</td>\n      <td>13+</td>\n      <td>13+</td>\n    </tr>\n    <tr>\n      <th>16</th>\n      <td>The Song from Somewhere Else</td>\n      <td>AF Harrold\\nIllustrator: Levi Pinfold</td>\n      <td>Frank is being bullied - for what, she's not s...</td>\n      <td>8+</td>\n      <td>8+</td>\n    </tr>\n    <tr>\n      <th>17</th>\n      <td>Amy &amp; Roger's Epic Detour</td>\n      <td>Morgan Matson</td>\n      <td>Amy Curry’s life is a disaster. Her father rec...</td>\n      <td>12+</td>\n      <td>12+</td>\n    </tr>\n    <tr>\n      <th>18</th>\n      <td>The Changes Trilogy</td>\n      <td>Peter Dickinson</td>\n      <td>Gripped by a strange fear, England closes its ...</td>\n      <td>14+</td>\n      <td>13+</td>\n    </tr>\n    <tr>\n      <th>19</th>\n      <td>The Train to Impossible Places</td>\n      <td>P.G. Bell Illustrator: Flavia Sorrentino</td>\n      <td>Suzy Smith is very surprised when a huge magic...</td>\n      <td>10-12</td>\n      <td>10-12</td>\n    </tr>\n    <tr>\n      <th>20</th>\n      <td>Half Brother</td>\n      <td>Kenneth Oppel</td>\n      <td>Oppel bases his first YA novel on projects in ...</td>\n      <td>11+</td>\n      <td>9+</td>\n    </tr>\n    <tr>\n      <th>21</th>\n      <td>Holding Up the Universe</td>\n      <td>Jennifer Niven</td>\n      <td>Jennifer Niven's deeply compelling and highly ...</td>\n      <td>14+</td>\n      <td>12+</td>\n    </tr>\n    <tr>\n      <th>22</th>\n      <td>Pop-Up Frankenstein</td>\n      <td>Claire Hawcock (adapted from Mary Shelley) Ill...</td>\n      <td>Frankenstein tells the story of a privileged a...</td>\n      <td>9+</td>\n      <td>9+</td>\n    </tr>\n    <tr>\n      <th>23</th>\n      <td>Mister Creecher</td>\n      <td>Chris Priestley</td>\n      <td>Billy is a street urchin, pickpocket and petty...</td>\n      <td>12+</td>\n      <td>11+</td>\n    </tr>\n    <tr>\n      <th>24</th>\n      <td>The Complete Calvin and Hobbes</td>\n      <td>NaN</td>\n      <td>The comic-strip adventures of Calvin, a naught...</td>\n      <td>9+</td>\n      <td>8+</td>\n    </tr>\n    <tr>\n      <th>25</th>\n      <td>Don't Pick on Me!</td>\n      <td>Rosemary Stones</td>\n      <td>Practical advice for children on how to handle...</td>\n      <td>9+</td>\n      <td>9+</td>\n    </tr>\n    <tr>\n      <th>26</th>\n      <td>Five Hundred Miles</td>\n      <td>Kevin Brooks</td>\n      <td>In the industrial wastelands of east London, t...</td>\n      <td>13+</td>\n      <td>9+</td>\n    </tr>\n    <tr>\n      <th>27</th>\n      <td>Rules for a Knight</td>\n      <td>Ethan Hawke Illustrator: Ryan Hawke</td>\n      <td>On the eve of battle, Sir Thomas Lemuel Hawke ...</td>\n      <td>7+</td>\n      <td>10+</td>\n    </tr>\n    <tr>\n      <th>28</th>\n      <td>Paper Avalanche</td>\n      <td>Lisa Williamson</td>\n      <td>Fourteen-year-old Ro Snow’s got a secret: her ...</td>\n      <td>12+</td>\n      <td>12+</td>\n    </tr>\n    <tr>\n      <th>29</th>\n      <td>Ghost World</td>\n      <td>Daniel Clowes</td>\n      <td>Daniel Clowes is able to tell brilliant storie...</td>\n      <td>13+</td>\n      <td>13+</td>\n    </tr>\n    <tr>\n      <th>30</th>\n      <td>Invictus</td>\n      <td>Ryan Graudin</td>\n      <td>Farway Gaius McCarthy was born in the future, ...</td>\n      <td>11+</td>\n      <td>11+</td>\n    </tr>\n    <tr>\n      <th>31</th>\n      <td>The Name of the Star</td>\n      <td>Maureen Johnson</td>\n      <td>Louisiana teenager Rory is embarking on a new ...</td>\n      <td>13+</td>\n      <td>13+</td>\n    </tr>\n    <tr>\n      <th>32</th>\n      <td>Spy for the Queen of Scots</td>\n      <td>Theresa Breslin</td>\n      <td>Beautiful young aristocrat Ginette, known as J...</td>\n      <td>12+</td>\n      <td>12+</td>\n    </tr>\n    <tr>\n      <th>33</th>\n      <td>Jimmy Corrigan:</td>\n      <td>Chris Ware</td>\n      <td>This extraordinary graphic novel is so obvious...</td>\n      <td>14+</td>\n      <td>14+</td>\n    </tr>\n    <tr>\n      <th>34</th>\n      <td>The Martian Girl</td>\n      <td>NaN</td>\n      <td>Following on from the brilliant Lost on Mars, ...</td>\n      <td>10+</td>\n      <td>10+</td>\n    </tr>\n    <tr>\n      <th>35</th>\n      <td>Buffalo Soldier</td>\n      <td>Tanya Landman</td>\n      <td>Plantation slave Charley Smith is eleven when ...</td>\n      <td>13+</td>\n      <td>11+</td>\n    </tr>\n    <tr>\n      <th>36</th>\n      <td>Witchstruck</td>\n      <td>Victoria Lamb</td>\n      <td>The future Elizabeth I has been imprisoned by ...</td>\n      <td>12+</td>\n      <td>12+</td>\n    </tr>\n    <tr>\n      <th>37</th>\n      <td>Flyaway</td>\n      <td>Lucy Christopher</td>\n      <td>Isla embarks on an art project to make a flyin...</td>\n      <td>12+</td>\n      <td>11+</td>\n    </tr>\n    <tr>\n      <th>38</th>\n      <td>Etiquette and Espionage</td>\n      <td>Gail Carriger</td>\n      <td>Sophronia is horrified when her mother decides...</td>\n      <td>11+</td>\n      <td>11+</td>\n    </tr>\n    <tr>\n      <th>39</th>\n      <td>The Sky is Everywhere</td>\n      <td>Jandy Nelson</td>\n      <td>Grief has turned Lennie's world upside down - ...</td>\n      <td>13+</td>\n      <td>12+</td>\n    </tr>\n    <tr>\n      <th>40</th>\n      <td>Glass Sword</td>\n      <td>Victoria Aveyard</td>\n      <td>Mare Barrow knows she is different. Her blood ...</td>\n      <td>13-18</td>\n      <td>11+</td>\n    </tr>\n  </tbody>\n</table>\n</div>"
     },
     "metadata": {}
    }
   ]
  },
  {
   "cell_type": "code",
   "metadata": {
    "cell_id": "cd0873c21f164b7e80515646a40020c9",
    "tags": [],
    "deepnote_to_be_reexecuted": false,
    "source_hash": "8144a91d",
    "execution_start": 1656109253158,
    "execution_millis": 689,
    "deepnote_cell_type": "code",
    "deepnote_cell_height": 405
   },
   "source": "# we want to replace reading age with appr. age lim\n# new columns: upper_age, lower_age\nupper_age = []\nlower_age = []\nfor ind in child_books.index: \n    # print(child_books['Reading_age'][1][:2])\n    if '-' in child_books['Reading_age'][ind]:\n        lower, upper = child_books['Reading_age'][ind].split('-')\n        upper_age.append(int(upper))\n        lower_age.append(int(lower))\n    else: # + \n        lower = int(child_books['Reading_age'][ind][:2].strip(string.punctuation))\n        upper = int(lower+3) # manually set \n        upper_age.append(upper)\n        lower_age.append(lower)\n\n# add age columsn to child_books\nchild_books['lower_age'] = lower_age\nchild_books['upper_age'] = upper_age",
   "execution_count": 5,
   "outputs": []
  },
  {
   "cell_type": "code",
   "metadata": {
    "cell_id": "6deabae4eca244be8e2fd8d5ee2a889d",
    "tags": [],
    "deepnote_to_be_reexecuted": false,
    "source_hash": "542fb031",
    "execution_start": 1656109253160,
    "execution_millis": 41,
    "deepnote_cell_type": "code",
    "deepnote_cell_height": 531
   },
   "source": "child_stories = pd.read_csv('children_stories.Csv')\nchild_stories.drop_duplicates(keep='first', inplace=True, ignore_index=True)\nstory_upper = []\nstory_lower = []\n# Strip off age and split by -\nfor ind in child_stories.index:\n    age = child_stories['cats'][ind][4:]\n    if '-' in age:\n        lower, upper = age.split('-')\n        story_lower.append(int(lower))\n        story_upper.append(int(upper))\n    else: #+\n        try: \n            lower = int(age.strip(string.punctuation))\n            upper = lower + 3\n            story_lower.append(int(lower))\n            story_upper.append(int(upper))\n        except: # in this case we will default to 2-9 years (default)\n            story_lower.append(2)\n            story_upper.append(9)\n            \n# Add 2 columns to child_stories\nchild_stories['lower_age'] = story_lower\nchild_stories['upper_age'] = story_upper\n\n# child_stories['Author'] = [None for i in range(len(child_stories))]",
   "execution_count": 6,
   "outputs": []
  },
  {
   "cell_type": "code",
   "metadata": {
    "cell_id": "8ec85112316341b3a60fd58cc9f525c4",
    "tags": [],
    "deepnote_to_be_reexecuted": false,
    "source_hash": "52e41c75",
    "execution_start": 1656109253202,
    "execution_millis": 651,
    "deepnote_table_state": {
     "pageSize": 10,
     "pageIndex": 0,
     "filters": [],
     "sortBy": [
      {
       "id": "upper_age",
       "type": "desc"
      }
     ]
    },
    "deepnote_table_loading": false,
    "deepnote_cell_type": "code",
    "deepnote_cell_height": 690.65625
   },
   "source": "# child_books.head()\nchild_stories.head(2000)\n# We won't be using the 'Reading_age' column ",
   "execution_count": 7,
   "outputs": [
    {
     "output_type": "execute_result",
     "execution_count": 7,
     "data": {
      "application/vnd.deepnote.dataframe.v3+json": {
       "column_count": 5,
       "row_count": 422,
       "columns": [
        {
         "name": "names",
         "dtype": "object",
         "stats": {
          "unique_count": 390,
          "nan_count": 0,
          "categories": [
           {
            "name": "Nursery Rhymes",
            "count": 3
           },
           {
            "name": "The Iron Man",
            "count": 2
           },
           {
            "name": "388 others",
            "count": 417
           }
          ]
         }
        },
        {
         "name": "cats",
         "dtype": "object",
         "stats": {
          "unique_count": 59,
          "nan_count": 0,
          "categories": [
           {
            "name": "Age 9+",
            "count": 32
           },
           {
            "name": "Age 3+",
            "count": 29
           },
           {
            "name": "57 others",
            "count": 361
           }
          ]
         }
        },
        {
         "name": "desc",
         "dtype": "object",
         "stats": {
          "unique_count": 393,
          "nan_count": 0,
          "categories": [
           {
            "name": "• This is a big collection of over forty rhymes to enjoy together\n• It’s a great book that will last your child well after they start school\n• You’ll have great fun",
            "count": 2
           },
           {
            "name": "The king wants his magician, Melric, to make him more powerful but Melric keeps telling him that more power will not make him happier. Instead of listening, the King invites Sondrak the sorcerer over to see if he will help grant his wish. Melric soon realises that the sorcerer is up to no good - but how can he get rid of him without making the king angry?\nDavid McKee’s stories are a joy to read. Each page is bursting with gorgeous, detailed illustrations that not only bring the tale to life, but tell stories of their own. Children will delight in spotting all the activities taking place in the colourful spreads, making this a staple for any bookshelf ",
            "count": 2
           },
           {
            "name": "391 others",
            "count": 418
           }
          ]
         }
        },
        {
         "name": "lower_age",
         "dtype": "int64",
         "stats": {
          "unique_count": 14,
          "nan_count": 0,
          "min": "0",
          "max": "13",
          "histogram": [
           {
            "bin_start": 0,
            "bin_end": 1.3,
            "count": 70
           },
           {
            "bin_start": 1.3,
            "bin_end": 2.6,
            "count": 55
           },
           {
            "bin_start": 2.6,
            "bin_end": 3.9000000000000004,
            "count": 49
           },
           {
            "bin_start": 3.9000000000000004,
            "bin_end": 5.2,
            "count": 51
           },
           {
            "bin_start": 5.2,
            "bin_end": 6.5,
            "count": 27
           },
           {
            "bin_start": 6.5,
            "bin_end": 7.800000000000001,
            "count": 36
           },
           {
            "bin_start": 7.800000000000001,
            "bin_end": 9.1,
            "count": 71
           },
           {
            "bin_start": 9.1,
            "bin_end": 10.4,
            "count": 27
           },
           {
            "bin_start": 10.4,
            "bin_end": 11.700000000000001,
            "count": 21
           },
           {
            "bin_start": 11.700000000000001,
            "bin_end": 13,
            "count": 15
           }
          ]
         }
        },
        {
         "name": "upper_age",
         "dtype": "int64",
         "stats": {
          "unique_count": 15,
          "nan_count": 0,
          "min": "2",
          "max": "16",
          "histogram": [
           {
            "bin_start": 2,
            "bin_end": 3.4,
            "count": 33
           },
           {
            "bin_start": 3.4,
            "bin_end": 4.8,
            "count": 24
           },
           {
            "bin_start": 4.8,
            "bin_end": 6.199999999999999,
            "count": 93
           },
           {
            "bin_start": 6.199999999999999,
            "bin_end": 7.6,
            "count": 26
           },
           {
            "bin_start": 7.6,
            "bin_end": 9,
            "count": 25
           },
           {
            "bin_start": 9,
            "bin_end": 10.399999999999999,
            "count": 78
           },
           {
            "bin_start": 10.399999999999999,
            "bin_end": 11.799999999999999,
            "count": 38
           },
           {
            "bin_start": 11.799999999999999,
            "bin_end": 13.2,
            "count": 67
           },
           {
            "bin_start": 13.2,
            "bin_end": 14.6,
            "count": 22
           },
           {
            "bin_start": 14.6,
            "bin_end": 16,
            "count": 16
           }
          ]
         }
        },
        {
         "name": "_deepnote_index_column",
         "dtype": "int64"
        }
       ],
       "rows": [
        {
         "names": "Alex Rider Mission 2: Point Blanc",
         "cats": "Age 13+",
         "desc": "Alex Rider is plucked from his life as an average schoolboy to pit his wits as a spy for MI6 against the frightening Doctor Grief and his evil plans.\nAs the action moves from London to the French Alps, the tension mounts, making this book very difficult to put down. An exciting r",
         "lower_age": 13,
         "upper_age": 16,
         "_deepnote_index_column": 301
        },
        {
         "names": "Stormbreaker",
         "cats": "Age 13+",
         "desc": "Fourteen-year-old Alex Rider finds his life turned upside down on discovering that his late uncle wasn't a mild-mannered banker, but instead a field agent for MI6. Soon, Alex himself is dragged into the world of espionage and intrigue.\nThis well-written and action-packed story is the first in the bestselling Alex Rider series about a daring teenage spy. Cleverly plotted and full of excitement, the combination of spy gadgets and undercover escapades will ensure this story is completely irresistible to ",
         "lower_age": 13,
         "upper_age": 16,
         "_deepnote_index_column": 303
        },
        {
         "names": "Double Cross",
         "cats": "Age 13+",
         "desc": "This is the very welcome fourth novel in Blackman's award-winning Noughts and Crosses series, which continues the story of Callie Rose, from the ruling elite black class and Tobey, from the minority 'blankers'.\nEach teenager harbours a dreadful secret, their reluctant friendship flowering and faltering through shared experience, unwilling criminal involvement and the use of violence to defeat evil.\nBlackman portrays an engagingly vulnerable, multifaceted character in Tobey, who narrates the majority of the book, and through him creates for her readers profound moral and ethical dilemmas.\nHer dystopian world is sufficiently close to ours for teenage readers to draw many disturbing parallels with contemporary urban culture, but happily resolution is offered through the ultimate indestru",
         "lower_age": 13,
         "upper_age": 16,
         "_deepnote_index_column": 370
        },
        {
         "names": "The Owl Service",
         "cats": "Age 12+",
         "desc": "Alison and her family are spending a holiday in Wales, in a bed and breakfast run by Gwyn and his mother. When Alison finds a curious dinner service in the attic, with a strange pattern of floral owls that looks different depending on how it is arranged, the discovery sets off a strange chain of events that look set to affect everyone's lives.\nSoon, Alison, her stepbrother Roger and Gwyn find themselves repeating an ancient Welsh legend associated with the valley where they are staying. As tension begins to rise, can they break the pattern and avoid tragedy?\nWinner of both the Guardian Children's Book Award and the Carnegie Medal, this extraordinary and powerful story is a modern classic. Blending together mystery, adventure, history and a complex set of human relationships, it will leave young readers eager to read more f",
         "lower_age": 12,
         "upper_age": 15,
         "_deepnote_index_column": 367
        },
        {
         "names": "Coraline",
         "cats": "Age 12+",
         "desc": "One day Coraline unlocks a mysterious door that opens onto another world, a twisted parody of Coraline's own dimension. She discovers something very sinister about her ‘other mother’, who has trapped her real parents and plans to keep the family there forever.\nAs Coraline tries to escape, she is faced with a fantastical series of macabre and bizarre situations. Excellently written, and superbly original, Coraline is well suited to those who enjoy reading about the weird and the wonderful with a dash of horror and humour.It is destined to",
         "lower_age": 12,
         "upper_age": 15,
         "_deepnote_index_column": 366
        },
        {
         "names": "The Ruby in the Smoke",
         "cats": "Age 12+",
         "desc": "After the sudden death of her father, Sally Lockhart is forced to go to live in London with an obnoxious cousin. There, she receives an anonymous letter containing a warning so dire that it makes a man die of fear at her feet. Determined to discover the truth about what happened to her father, Sally is soon plunged into a dangerous and terrifying adventure that takes her to the dark heart of Victorian London.\nInspired by the tradition of the Victorian melodrama, Philip Pullman's first Sally Lockhart story is a cracking adventure. Cleverly-plotted, bristling with excitement and brilliantly gripping, it also provides an intriguing insight into the injustice and inequality of Victorian society, making it rich and fascinating reading for ol",
         "lower_age": 12,
         "upper_age": 15,
         "_deepnote_index_column": 305
        },
        {
         "names": "Blood",
         "cats": "Age 12+",
         "desc": "This well-deserved republication of Durant's 1992 novel is a murder mystery which goes beyond the obvious.\nWhen Robert's parents are shot dead in their home, it appears that they have disturbed thieves. Frustrated by the slow police investigation, he feels compelled to uncover their identity and discovers a situation which threatens his own sanity.\nDurant's cleverly constructed short novel follows Robert through his psychiatric treatment, and readers gradually become aware of the background to his mental state and the events which he has been blocking from consciousness, and is only gradually acknowledging. As we read it emerges that the novel is in fact Robert's own account written as part of his therapy. An exciting, unusual, ag",
         "lower_age": 12,
         "upper_age": 15,
         "_deepnote_index_column": 388
        },
        {
         "names": "Dancing in My Nuddy-pants!",
         "cats": "Age 11-15",
         "desc": "Angst-ridden teenage heroine, Georgia Nicolson, hilariously reflects on the trials, tribulations and occasional delights of adolescence, recorded in minute-by-minute diary form.\nThis fourth book in the series sees Georgia suffering her usual problems with boys and school, continuing her on/off relationship with the Sex God and Dave the Laugh, and enduring the embarrassing behaviour of her parents.\nBut despite her casual talk of 'red-bottomosity,' 'trouser snake addendums,' and of course, 'nuddy-pants,' she is in fact a very moral and restrained teenager - the only unplanned pregnancy in the book is the one bestowed by Georgia's cat, Ang",
         "lower_age": 11,
         "upper_age": 15,
         "_deepnote_index_column": 409
        },
        {
         "names": "Checkmate",
         "cats": "Age 12+",
         "desc": "How does a sweet and innocent child grow up to be so bitter and twisted that she is prepared not only to kill those she considers to be enemies of ‘the cause’ but also to blow herself up in the process?\nThis final installment in the Noughts & Crosses trilogy, set in an alternative reality where dark-skinned Crosses are considered superior to fair-skinned Noughts, follows Callie Rose’s life from ages 7-16.\nAs she grows up and gradually uncovers the secrets about her father, her grandparents and her early childhood which have been kept hidden for so long, her evil Uncle Jude reappears and instigates an insidious plan to destroy Callie Rose and her family.\nA dramatic conclusion to an award-winning series, which is both relevant and topical",
         "lower_age": 12,
         "upper_age": 15,
         "_deepnote_index_column": 360
        },
        {
         "names": "Feather Boy",
         "cats": "Age 12+",
         "desc": "Robert is having a tough time at school, being bullied by Nicker; he's also trying to deal with the break-up of his parents' marriage. He feels like it's just his luck to be landed with 'a spooky old bat' called Edith, when his class takes part in a project with the local old people's home. However, in attempting to solve the mystery of her son's death, he confronts both the bully and his own fears. The reader is drawn through this novel by some wonderfully moving mome",
         "lower_age": 12,
         "upper_age": 15,
         "_deepnote_index_column": 397
        }
       ]
      },
      "text/plain": "                                                names      cats  \\\n0                                       HIDE AND SEEK   Age 2-9   \n1                                 GINGER THE GIRAFFE    Age 2-9   \n2                                     DOING MY CHORES   Age 2-9   \n3                                 ABE THE SERVICE DOG   Age 2-9   \n4                       SUNNY MEADOWS WOODLAND SCHOOL   Age 2-9   \n..                                                ...       ...   \n417  Carrying the Elephant: A Memoir of Love and Loss   Age 11+   \n418                                      War and Peas    Age 8+   \n419                                     Love that Dog  Age 9-12   \n420                              A Pilgrim's Progress    Age 9+   \n421                                    Secret Friends  Age 7-11   \n\n                                                  desc  lower_age  upper_age  \n0    Was it just another game of hide and seek? No....          2          9  \n1    Read this warm tale of camaraderie and affecti...          2          9  \n2    Love shines through this great illustrated kid...          2          9  \n3    Abe was a real Service Dog who dedicated his l...          2          9  \n4    The class took a little train and went deep in...          2          9  \n..                                                 ...        ...        ...  \n417  In the 72 prose poems that make up this unusua...         11         14  \n418  Nearly forty years after its original appearan...          8         11  \n419  Jack has a great sadness in his life, but he i...          9         12  \n420  'I had a dream last night ... large enough to ...          9         12  \n421  At her new school, Rafaella suffers daily name...          7         11  \n\n[422 rows x 5 columns]",
      "text/html": "<div>\n<style scoped>\n    .dataframe tbody tr th:only-of-type {\n        vertical-align: middle;\n    }\n\n    .dataframe tbody tr th {\n        vertical-align: top;\n    }\n\n    .dataframe thead th {\n        text-align: right;\n    }\n</style>\n<table border=\"1\" class=\"dataframe\">\n  <thead>\n    <tr style=\"text-align: right;\">\n      <th></th>\n      <th>names</th>\n      <th>cats</th>\n      <th>desc</th>\n      <th>lower_age</th>\n      <th>upper_age</th>\n    </tr>\n  </thead>\n  <tbody>\n    <tr>\n      <th>0</th>\n      <td>HIDE AND SEEK</td>\n      <td>Age 2-9</td>\n      <td>Was it just another game of hide and seek? No....</td>\n      <td>2</td>\n      <td>9</td>\n    </tr>\n    <tr>\n      <th>1</th>\n      <td>GINGER THE GIRAFFE</td>\n      <td>Age 2-9</td>\n      <td>Read this warm tale of camaraderie and affecti...</td>\n      <td>2</td>\n      <td>9</td>\n    </tr>\n    <tr>\n      <th>2</th>\n      <td>DOING MY CHORES</td>\n      <td>Age 2-9</td>\n      <td>Love shines through this great illustrated kid...</td>\n      <td>2</td>\n      <td>9</td>\n    </tr>\n    <tr>\n      <th>3</th>\n      <td>ABE THE SERVICE DOG</td>\n      <td>Age 2-9</td>\n      <td>Abe was a real Service Dog who dedicated his l...</td>\n      <td>2</td>\n      <td>9</td>\n    </tr>\n    <tr>\n      <th>4</th>\n      <td>SUNNY MEADOWS WOODLAND SCHOOL</td>\n      <td>Age 2-9</td>\n      <td>The class took a little train and went deep in...</td>\n      <td>2</td>\n      <td>9</td>\n    </tr>\n    <tr>\n      <th>...</th>\n      <td>...</td>\n      <td>...</td>\n      <td>...</td>\n      <td>...</td>\n      <td>...</td>\n    </tr>\n    <tr>\n      <th>417</th>\n      <td>Carrying the Elephant: A Memoir of Love and Loss</td>\n      <td>Age 11+</td>\n      <td>In the 72 prose poems that make up this unusua...</td>\n      <td>11</td>\n      <td>14</td>\n    </tr>\n    <tr>\n      <th>418</th>\n      <td>War and Peas</td>\n      <td>Age 8+</td>\n      <td>Nearly forty years after its original appearan...</td>\n      <td>8</td>\n      <td>11</td>\n    </tr>\n    <tr>\n      <th>419</th>\n      <td>Love that Dog</td>\n      <td>Age 9-12</td>\n      <td>Jack has a great sadness in his life, but he i...</td>\n      <td>9</td>\n      <td>12</td>\n    </tr>\n    <tr>\n      <th>420</th>\n      <td>A Pilgrim's Progress</td>\n      <td>Age 9+</td>\n      <td>'I had a dream last night ... large enough to ...</td>\n      <td>9</td>\n      <td>12</td>\n    </tr>\n    <tr>\n      <th>421</th>\n      <td>Secret Friends</td>\n      <td>Age 7-11</td>\n      <td>At her new school, Rafaella suffers daily name...</td>\n      <td>7</td>\n      <td>11</td>\n    </tr>\n  </tbody>\n</table>\n<p>422 rows × 5 columns</p>\n</div>"
     },
     "metadata": {}
    }
   ]
  },
  {
   "cell_type": "code",
   "metadata": {
    "cell_id": "5ad236ef4b114a6d981fb74e9ee2decc",
    "tags": [],
    "deepnote_to_be_reexecuted": false,
    "source_hash": "a92433e1",
    "execution_start": 1656109253207,
    "execution_millis": 647,
    "deepnote_cell_type": "code",
    "deepnote_cell_height": 175.75,
    "deepnote_output_heights": [
     78.765625
    ]
   },
   "source": "child_books.columns, child_stories.columns",
   "execution_count": 8,
   "outputs": [
    {
     "output_type": "execute_result",
     "execution_count": 8,
     "data": {
      "text/plain": "(Index(['Title', 'Author', 'Desc', 'Inerest_age', 'Reading_age', 'lower_age',\n        'upper_age'],\n       dtype='object'),\n Index(['names', 'cats', 'desc', 'lower_age', 'upper_age'], dtype='object'))"
     },
     "metadata": {}
    }
   ]
  },
  {
   "cell_type": "code",
   "metadata": {
    "cell_id": "196462c7153b44dda078a8efab38d596",
    "tags": [],
    "deepnote_to_be_reexecuted": false,
    "source_hash": "55c8fc29",
    "execution_start": 1656109253286,
    "execution_millis": 568,
    "deepnote_table_state": {
     "pageSize": 10,
     "pageIndex": 46,
     "filters": [],
     "sortBy": []
    },
    "deepnote_table_loading": false,
    "deepnote_cell_type": "code",
    "deepnote_cell_height": 569.65625
   },
   "source": "# is there a way to combine these two dataframes together? \n# we only need the title, upperage, lowerage, desc and author from each dataframe\ndf_1 = child_books.copy().drop(columns = ['Inerest_age', 'Reading_age'])\ndf_1['Type'] = 'Books'\ndf_1 = df_1.rename(columns = {'Title': 'title', 'Desc' : 'desc', 'Author':'author'})\n\ndf_2 = child_stories.copy().drop(columns = ['cats']) \ndf_2['Type'] = 'Stories'\ndf_2 = df_2.rename(columns = {'names': 'title', 'Author':'author'})\ndf_2['Author'] = [None for i in range(len(df_2))]\n\ndf_combined = pd.concat([df_1, df_2])\n# df_combined.value_counts('title')\ndf_combined",
   "execution_count": 9,
   "outputs": [
    {
     "output_type": "execute_result",
     "execution_count": 9,
     "data": {
      "application/vnd.deepnote.dataframe.v3+json": {
       "column_count": 7,
       "row_count": 463,
       "columns": [
        {
         "name": "title",
         "dtype": "object",
         "stats": {
          "unique_count": 429,
          "nan_count": 0,
          "categories": [
           {
            "name": "Nursery Rhymes",
            "count": 3
           },
           {
            "name": "King Lear - Manga Shakespeare",
            "count": 2
           },
           {
            "name": "427 others",
            "count": 458
           }
          ]
         }
        },
        {
         "name": "author",
         "dtype": "object",
         "stats": {
          "unique_count": 39,
          "nan_count": 424,
          "categories": [
           {
            "name": "Kelly Barnhill",
            "count": 1
           },
           {
            "name": "38 others",
            "count": 38
           },
           {
            "name": "Missing",
            "count": 424
           }
          ]
         }
        },
        {
         "name": "desc",
         "dtype": "object",
         "stats": {
          "unique_count": 434,
          "nan_count": 0,
          "categories": [
           {
            "name": "This dad does everything well: from running like a cheetah to singing like a pop star. He's even a dab hand on roller skates. Quite simply, he's brilliant.\nThis board book version of a much-loved story brims over with an adorable, young enthusiasm for dads - at a time when they just can't do wrong!\nThe charming, funny illustrations will make you want to stop at each page, and go back over the little details they capture.\nIt's all guaranteed to put a big smile on the face ",
            "count": 2
           },
           {
            "name": "Follow a father and his family as they go out in search of a bear. They wade through the grass, splash through the river, squelch through the mud and even negotiate a snowstorm on their way. But what will await them in the cave on the other side of the dark forest?\nMichael Rosen's repetitive text has a musical charm that lends itself perfectly to reading aloud, whether to a group or to an individual - and children will enjoy joining in with actions and words. Combined with Helen Oxenbury's beautiful illustrations, it makes for a wonderfully enertaining picture book that has be",
            "count": 2
           },
           {
            "name": "432 others",
            "count": 459
           }
          ]
         }
        },
        {
         "name": "lower_age",
         "dtype": "int64",
         "stats": {
          "unique_count": 15,
          "nan_count": 0,
          "min": "0",
          "max": "14",
          "histogram": [
           {
            "bin_start": 0,
            "bin_end": 1.4,
            "count": 70
           },
           {
            "bin_start": 1.4,
            "bin_end": 2.8,
            "count": 55
           },
           {
            "bin_start": 2.8,
            "bin_end": 4.199999999999999,
            "count": 78
           },
           {
            "bin_start": 4.199999999999999,
            "bin_end": 5.6,
            "count": 22
           },
           {
            "bin_start": 5.6,
            "bin_end": 7,
            "count": 27
           },
           {
            "bin_start": 7,
            "bin_end": 8.399999999999999,
            "count": 70
           },
           {
            "bin_start": 8.399999999999999,
            "bin_end": 9.799999999999999,
            "count": 44
           },
           {
            "bin_start": 9.799999999999999,
            "bin_end": 11.2,
            "count": 64
           },
           {
            "bin_start": 11.2,
            "bin_end": 12.6,
            "count": 21
           },
           {
            "bin_start": 12.6,
            "bin_end": 14,
            "count": 12
           }
          ]
         }
        },
        {
         "name": "upper_age",
         "dtype": "int64",
         "stats": {
          "unique_count": 16,
          "nan_count": 0,
          "min": "2",
          "max": "17",
          "histogram": [
           {
            "bin_start": 2,
            "bin_end": 3.5,
            "count": 33
           },
           {
            "bin_start": 3.5,
            "bin_end": 5,
            "count": 24
           },
           {
            "bin_start": 5,
            "bin_end": 6.5,
            "count": 93
           },
           {
            "bin_start": 6.5,
            "bin_end": 8,
            "count": 26
           },
           {
            "bin_start": 8,
            "bin_end": 9.5,
            "count": 74
           },
           {
            "bin_start": 9.5,
            "bin_end": 11,
            "count": 29
           },
           {
            "bin_start": 11,
            "bin_end": 12.5,
            "count": 85
           },
           {
            "bin_start": 12.5,
            "bin_end": 14,
            "count": 34
           },
           {
            "bin_start": 14,
            "bin_end": 15.5,
            "count": 53
           },
           {
            "bin_start": 15.5,
            "bin_end": 17,
            "count": 12
           }
          ]
         }
        },
        {
         "name": "Type",
         "dtype": "object",
         "stats": {
          "unique_count": 2,
          "nan_count": 0,
          "categories": [
           {
            "name": "Stories",
            "count": 422
           },
           {
            "name": "Books",
            "count": 41
           }
          ]
         }
        },
        {
         "name": "Author",
         "dtype": "object",
         "stats": {
          "unique_count": 0,
          "nan_count": 463,
          "categories": [
           {
            "name": "Missing",
            "count": 463
           }
          ]
         }
        },
        {
         "name": "_deepnote_index_column",
         "dtype": "int64"
        }
       ],
       "rows": [
        {
         "title": "Love that Dog",
         "author": "nan",
         "desc": "Jack has a great sadness in his life, but he is not about to share his feelings with anyone, and he is definitely not going to write poetry about it - he's a boy isn't he? However, intrigued by the weekly poems his teacher reads to the class, he tentatively responds.\nBy writing his poems, Jack begins to explore feelings of anger and loss, as well as joyful recollections of his much-loved dog, Sky. Jack is encouraged to invite his favourite poet to class, and this becomes the turning point in his return to a rich and exciting world of learning and discovery.\nThis heart-warming, unusually structured story, which includes the poems that the teacher reads to the class, r",
         "lower_age": 9,
         "upper_age": 12,
         "Type": "Stories",
         "Author": "None",
         "_deepnote_index_column": 419
        },
        {
         "title": "A Pilgrim's Progress",
         "author": "nan",
         "desc": "'I had a dream last night ... large enough to fill the rest of my life.' This retelling of John Bunyan's classic story is filled with drama, excitement and adventure. On his journey of a life-time to the City of Gold, Christian meets an extraordinary cast of characters, such as the terrible Giant Despair and the monster Apollyon. Together with Hopeful, his steadfast companion, he survives the snipers and mantraps, the Great Bog, Vanity Fair, Lucre Hill and Castle Doubting. But will he find the courage to cross the final river to ",
         "lower_age": 9,
         "upper_age": 12,
         "Type": "Stories",
         "Author": "None",
         "_deepnote_index_column": 420
        },
        {
         "title": "Secret Friends",
         "author": "nan",
         "desc": "At her new school, Rafaella suffers daily name-calling from her peers. Lucy feels partly responsible, having herself invented the nickname 'Earwig' as a result of Rafaella’s prominent ears.\nThe two girls form a secret friendship, but Rafaella’s insecurity about her appearance eventually leads to tragedy. A moving s",
         "lower_age": 7,
         "upper_age": 11,
         "Type": "Stories",
         "Author": "None",
         "_deepnote_index_column": 421
        }
       ]
      },
      "text/plain": "                                                title  \\\n0                         The Girl Who Drank the Moon   \n1                                     Time Between Us   \n2                                   Girl Out of Water   \n3                                             Captive   \n4                                 The School of Music   \n..                                                ...   \n417  Carrying the Elephant: A Memoir of Love and Loss   \n418                                      War and Peas   \n419                                     Love that Dog   \n420                              A Pilgrim's Progress   \n421                                    Secret Friends   \n\n                                                author  \\\n0                                       Kelly Barnhill   \n1                                 Tamara Ireland Stone   \n2                                        Nat Luurtsema   \n3                                         A J Grainger   \n4    Rachel Bowen and Meurig Bowen Illustrator: Dan...   \n..                                                 ...   \n417                                                NaN   \n418                                                NaN   \n419                                                NaN   \n420                                                NaN   \n421                                                NaN   \n\n                                                  desc  lower_age  upper_age  \\\n0    Every year, the evil Protectorate offers a bab...         10         14   \n1    Sixteen-year-old Anna is struggling to underst...         12         15   \n2    Lou Brown's swimming ambitions sank without tr...         10         13   \n3    Robyn is scared. Ever since the attempted assa...         13         16   \n4    Welcome to the School of Music. In charge is M...         10         13   \n..                                                 ...        ...        ...   \n417  In the 72 prose poems that make up this unusua...         11         14   \n418  Nearly forty years after its original appearan...          8         11   \n419  Jack has a great sadness in his life, but he i...          9         12   \n420  'I had a dream last night ... large enough to ...          9         12   \n421  At her new school, Rafaella suffers daily name...          7         11   \n\n        Type Author  \n0      Books    NaN  \n1      Books    NaN  \n2      Books    NaN  \n3      Books    NaN  \n4      Books    NaN  \n..       ...    ...  \n417  Stories   None  \n418  Stories   None  \n419  Stories   None  \n420  Stories   None  \n421  Stories   None  \n\n[463 rows x 7 columns]",
      "text/html": "<div>\n<style scoped>\n    .dataframe tbody tr th:only-of-type {\n        vertical-align: middle;\n    }\n\n    .dataframe tbody tr th {\n        vertical-align: top;\n    }\n\n    .dataframe thead th {\n        text-align: right;\n    }\n</style>\n<table border=\"1\" class=\"dataframe\">\n  <thead>\n    <tr style=\"text-align: right;\">\n      <th></th>\n      <th>title</th>\n      <th>author</th>\n      <th>desc</th>\n      <th>lower_age</th>\n      <th>upper_age</th>\n      <th>Type</th>\n      <th>Author</th>\n    </tr>\n  </thead>\n  <tbody>\n    <tr>\n      <th>0</th>\n      <td>The Girl Who Drank the Moon</td>\n      <td>Kelly Barnhill</td>\n      <td>Every year, the evil Protectorate offers a bab...</td>\n      <td>10</td>\n      <td>14</td>\n      <td>Books</td>\n      <td>NaN</td>\n    </tr>\n    <tr>\n      <th>1</th>\n      <td>Time Between Us</td>\n      <td>Tamara Ireland Stone</td>\n      <td>Sixteen-year-old Anna is struggling to underst...</td>\n      <td>12</td>\n      <td>15</td>\n      <td>Books</td>\n      <td>NaN</td>\n    </tr>\n    <tr>\n      <th>2</th>\n      <td>Girl Out of Water</td>\n      <td>Nat Luurtsema</td>\n      <td>Lou Brown's swimming ambitions sank without tr...</td>\n      <td>10</td>\n      <td>13</td>\n      <td>Books</td>\n      <td>NaN</td>\n    </tr>\n    <tr>\n      <th>3</th>\n      <td>Captive</td>\n      <td>A J Grainger</td>\n      <td>Robyn is scared. Ever since the attempted assa...</td>\n      <td>13</td>\n      <td>16</td>\n      <td>Books</td>\n      <td>NaN</td>\n    </tr>\n    <tr>\n      <th>4</th>\n      <td>The School of Music</td>\n      <td>Rachel Bowen and Meurig Bowen Illustrator: Dan...</td>\n      <td>Welcome to the School of Music. In charge is M...</td>\n      <td>10</td>\n      <td>13</td>\n      <td>Books</td>\n      <td>NaN</td>\n    </tr>\n    <tr>\n      <th>...</th>\n      <td>...</td>\n      <td>...</td>\n      <td>...</td>\n      <td>...</td>\n      <td>...</td>\n      <td>...</td>\n      <td>...</td>\n    </tr>\n    <tr>\n      <th>417</th>\n      <td>Carrying the Elephant: A Memoir of Love and Loss</td>\n      <td>NaN</td>\n      <td>In the 72 prose poems that make up this unusua...</td>\n      <td>11</td>\n      <td>14</td>\n      <td>Stories</td>\n      <td>None</td>\n    </tr>\n    <tr>\n      <th>418</th>\n      <td>War and Peas</td>\n      <td>NaN</td>\n      <td>Nearly forty years after its original appearan...</td>\n      <td>8</td>\n      <td>11</td>\n      <td>Stories</td>\n      <td>None</td>\n    </tr>\n    <tr>\n      <th>419</th>\n      <td>Love that Dog</td>\n      <td>NaN</td>\n      <td>Jack has a great sadness in his life, but he i...</td>\n      <td>9</td>\n      <td>12</td>\n      <td>Stories</td>\n      <td>None</td>\n    </tr>\n    <tr>\n      <th>420</th>\n      <td>A Pilgrim's Progress</td>\n      <td>NaN</td>\n      <td>'I had a dream last night ... large enough to ...</td>\n      <td>9</td>\n      <td>12</td>\n      <td>Stories</td>\n      <td>None</td>\n    </tr>\n    <tr>\n      <th>421</th>\n      <td>Secret Friends</td>\n      <td>NaN</td>\n      <td>At her new school, Rafaella suffers daily name...</td>\n      <td>7</td>\n      <td>11</td>\n      <td>Stories</td>\n      <td>None</td>\n    </tr>\n  </tbody>\n</table>\n<p>463 rows × 7 columns</p>\n</div>"
     },
     "metadata": {}
    }
   ]
  },
  {
   "cell_type": "code",
   "metadata": {
    "cell_id": "6d065523515b48c39ba0dce529dfc284",
    "tags": [],
    "deepnote_to_be_reexecuted": false,
    "source_hash": "f6e18672",
    "execution_start": 1656109253332,
    "execution_millis": 524,
    "deepnote_cell_type": "code",
    "deepnote_cell_height": 766.65625
   },
   "source": "# Rename columns of adv_reads \ntry: \n    adv_reads.drop(columns=['rating', 'voters','price','currency','publisher','page_count','generes','ISBN','language','published_date'], inplace=True)\nexcept:\n    pass\nadv_reads = adv_reads.rename(columns = {'description': 'desc'})\nadv_reads['Type'] = ['Books' for i in range(len(adv_reads))]\nadv_reads.fillna('', inplace=True)\nadv_reads",
   "execution_count": 10,
   "outputs": [
    {
     "output_type": "execute_result",
     "execution_count": 10,
     "data": {
      "application/vnd.deepnote.dataframe.v3+json": {
       "column_count": 6,
       "row_count": 948,
       "columns": [
        {
         "name": "title",
         "dtype": "object",
         "stats": {
          "unique_count": 246,
          "nan_count": 0,
          "categories": [
           {
            "name": "The Queen of Nothing (The Folk of the Air #3)",
            "count": 13
           },
           {
            "name": "The Hitchhiker's Guide to the Galaxy: 42nd Anniversary Edition",
            "count": 12
           },
           {
            "name": "244 others",
            "count": 923
           }
          ]
         }
        },
        {
         "name": "author",
         "dtype": "object",
         "stats": {
          "unique_count": 183,
          "nan_count": 0,
          "categories": [
           {
            "name": "Agatha Christie",
            "count": 29
           },
           {
            "name": "Brian Tracy",
            "count": 28
           },
           {
            "name": "181 others",
            "count": 891
           }
          ]
         }
        },
        {
         "name": "desc",
         "dtype": "object",
         "stats": {
          "unique_count": 245,
          "nan_count": 0,
          "categories": [
           {
            "name": "The intoxicating and bloodthirsty finale to the New York Times bestselling The Cruel Prince, nominated for the CILIP CARNEGIE MEDAL 2019, and  New York Times bestseller The Wicked King \n\nAfter being pronounced Queen of Faerie and then abruptly exiled by the Wicked King Cardan, Jude finds herself unmoored, the queen of nothing. She spends her time with Vivi and Oak, watching reality television, and doing odd jobs, including squaring up to a cannibalistic faerie.\n\nWhen her twin sister Taryn shows up asking a favour, Jude jumps at the chance to return to the Faerie world, even if it means facing Cardan, who she loves despite his betrayal. When a dark curse is unveiled, Jude must become the first mortal Queen of Faerie and break the curse, or risk upsetting the balance of the whole Faerie world.",
            "count": 13
           },
           {
            "name": "The intergalactic adventures of Arthur Dent begin in the first volume of the 'trilogy of five', Douglas Adams' comedy sci-fi classic The Hitchhiker's Guide to the Galaxy. This edition, with a metallic sheen cover, includes exclusive bonus material from the Douglas Adams archives, and an introduction by former Doctor Who showrunner, Russell T Davies.On 12 October 1979 the most remarkable book ever to come out of the great publishing corporations of Ursa Minor (and Earth) was made available to humanity - The Hitchhiker's Guide to the Galaxy.\n\nIt's an ordinary Thursday lunchtime for Arthur Dent until his house gets demolished. The Earth follows shortly afterwards to make way for a new hyperspace express route, and his best friend has just announced that he's an alien. At this moment, they're hurtling through space with nothing but their towels and an innocuous-looking book inscribed, in large friendly letters, with the words: DON'T PANIC. The weekend has only just begun . . .Follow Arthur Dent's galactic (mis)adventures in the rest of the trilogy with five parts: The Restaurant at the End of the Universe, Life, the Universe and Everything, So Long, and Thanks for All the Fish, and Mostly Harmless.",
            "count": 12
           },
           {
            "name": "243 others",
            "count": 923
           }
          ]
         }
        },
        {
         "name": "lower_age",
         "dtype": "int64",
         "stats": {
          "unique_count": 1,
          "nan_count": 0,
          "min": "16",
          "max": "16",
          "histogram": [
           {
            "bin_start": 15.5,
            "bin_end": 15.6,
            "count": 0
           },
           {
            "bin_start": 15.6,
            "bin_end": 15.7,
            "count": 0
           },
           {
            "bin_start": 15.7,
            "bin_end": 15.8,
            "count": 0
           },
           {
            "bin_start": 15.8,
            "bin_end": 15.9,
            "count": 0
           },
           {
            "bin_start": 15.9,
            "bin_end": 16,
            "count": 0
           },
           {
            "bin_start": 16,
            "bin_end": 16.1,
            "count": 948
           },
           {
            "bin_start": 16.1,
            "bin_end": 16.2,
            "count": 0
           },
           {
            "bin_start": 16.2,
            "bin_end": 16.3,
            "count": 0
           },
           {
            "bin_start": 16.3,
            "bin_end": 16.4,
            "count": 0
           },
           {
            "bin_start": 16.4,
            "bin_end": 16.5,
            "count": 0
           }
          ]
         }
        },
        {
         "name": "upper_age",
         "dtype": "int64",
         "stats": {
          "unique_count": 1,
          "nan_count": 0,
          "min": "20",
          "max": "20",
          "histogram": [
           {
            "bin_start": 19.5,
            "bin_end": 19.6,
            "count": 0
           },
           {
            "bin_start": 19.6,
            "bin_end": 19.7,
            "count": 0
           },
           {
            "bin_start": 19.7,
            "bin_end": 19.8,
            "count": 0
           },
           {
            "bin_start": 19.8,
            "bin_end": 19.9,
            "count": 0
           },
           {
            "bin_start": 19.9,
            "bin_end": 20,
            "count": 0
           },
           {
            "bin_start": 20,
            "bin_end": 20.1,
            "count": 948
           },
           {
            "bin_start": 20.1,
            "bin_end": 20.2,
            "count": 0
           },
           {
            "bin_start": 20.2,
            "bin_end": 20.3,
            "count": 0
           },
           {
            "bin_start": 20.3,
            "bin_end": 20.4,
            "count": 0
           },
           {
            "bin_start": 20.4,
            "bin_end": 20.5,
            "count": 0
           }
          ]
         }
        },
        {
         "name": "Type",
         "dtype": "object",
         "stats": {
          "unique_count": 1,
          "nan_count": 0,
          "categories": [
           {
            "name": "Books",
            "count": 948
           }
          ]
         }
        },
        {
         "name": "_deepnote_index_column",
         "dtype": "int64"
        }
       ],
       "rows": [
        {
         "title": "Attack on Titan: Volume 13",
         "author": "Hajime Isayama",
         "desc": "NO SAFE PLACE LEFT At great cost to the Garrison and the Survey Corps, Commander Erwin has managed to recover Eren from the Titans who tried to carry him off. But during the battle, Eren manifested yet another power he doesn't understand. As Eren and Krista find new enemies, the Survey Corps faces threats from both inside and outside the walls. And what will happen to Ymir, now that she has decided to make herself the Titans' prize?",
         "lower_age": 16,
         "upper_age": 20,
         "Type": "Books",
         "_deepnote_index_column": 0
        },
        {
         "title": "Antiques Roadkill: A Trash 'n' Treasures Mystery",
         "author": "Barbara Allan",
         "desc": "Determined to make a new start in her quaint hometown on the banks of the Mississippi, Brandy Borne never dreams she'll become the prime suspect in a murder case. . . \n\nMoving back in with her eccentric, larger-than-life mother, Brandy Borne finds small-town Serenity anything but serene. It seems an unscrupulous antiques dealer has swindled Vivian out of the family's heirlooms. But when he is found run over in a country lane, Brandy becomes Murder Suspect Number One--with her mother coming in a very close second. . . \n\nThe list of other suspects is impressive--the victim's business seems to have been based on bilking seniors out of their possessions. And when the Borne \"girls\" uncover a few very unsavory Serenity secrets, they become targets for a murderer whose favorite hobby seems to be collecting victims. \n\nDon't miss Brandy Borne's tips on antiques! \n\n\"Cozy mystery fans will love this down-to-earth heroine with the wry sense of humor and a big heart.\" --Nancy Pickard \n\n\"With its s…",
         "lower_age": 16,
         "upper_age": 20,
         "Type": "Books",
         "_deepnote_index_column": 1
        },
        {
         "title": "The Art of Super Mario Odyssey",
         "author": "Nintendo",
         "desc": "Take a globetrotting journey all over the world--and beyond!--with this companion art book to the hit video game for the Nintendo Switch(TM) system!\n\nIn October of 2017, Super Mario Odyssey(TM) took the gaming world by storm. Now, discover the art and expertise that went into creating one of Nintendo's best-loved games!\n\n This full-color volume clocks in at over 350 pages and features concept art, preliminary sketches, and notes from the development team, plus insight into some early ideas that didn't make it into the game itself! Explore the world of Super Mario Odyssey from every angle, including screen shots, marketing material, and more, to fully appreciate this captivating adventure",
         "lower_age": 16,
         "upper_age": 20,
         "Type": "Books",
         "_deepnote_index_column": 2
        },
        {
         "title": "Getting Away Is Deadly: An Ellie Avery Mystery",
         "author": "Sara Rosett",
         "desc": "With swollen feet and swelling belly, pregnant Ellie bravely joins the nation's tourists in seeing the sights in Washington, D.C. But a fatal incident at the Metro station convinces Ellie that something is rotten in the capital city. Should she do the safe thing and pack her bags? Not likely when too many people are telling lies, hiding secrets, and acting suspiciously. Luckily, Ellie Avery is just the right woman to clean up the most mysterious cases of murder--even if she has to brave the most dangerous byways in the corridors of power . . .\n\n\n\n\nDon't miss Ellie Avery's top-notch tips for great vacations!\n\n\n\nPraise for Sara Rosett and her Mom Zone Mysteries. . .\n\n\n\n\"Crackles with intrigue, keeps you turning pages.\"\n--Alesia Holliday\n\n\n\n\"Sharp writing, tight plotting, a fascinating peek into the world of military wives. Jump in!\"\n--Cynthia Baxter\n\n\n\n\"The stunning conclusion should delight readers.\"\n--Romantic Times",
         "lower_age": 16,
         "upper_age": 20,
         "Type": "Books",
         "_deepnote_index_column": 3
        },
        {
         "title": "The Painted Man (The Demon Cycle, Book 1)",
         "author": "Peter V. Brett",
         "desc": "The stunning debut fantasy novel from author Peter V. Brett.   The Painted Man, book one of the Demon Cycle, is a captivating and thrilling fantasy adventure, pulling the reader into a world of demons, darkness and heroes.  AS DARKNESS FALLS, THE DEMONS RISE For hundreds of years these creatures have terrorized the night, slowly culling the human population. It was not always this way. Men and women did not always cower behind protective magical wards and hope to see the dawn. Once, they battled the demons on equal terms, but those days, and skills, are gone. Arlen Bales lives with his parents on their isolated farmstead until a demon attack shatters their world. He learns a savage lesson that day: that people, as well as magic, can let you down. Rejecting the fear that kills as efficiently as the creatures, Arlen risks another path in order to offer humanity a last, fleeting chance of survival.",
         "lower_age": 16,
         "upper_age": 20,
         "Type": "Books",
         "_deepnote_index_column": 4
        },
        {
         "title": "A Feast for Crows (A Song of Ice and Fire, Book 4)",
         "author": "George R.R. Martin",
         "desc": "HBO’s hit series A GAME OF THRONES is based on George R. R. Martin’s internationally bestselling series A SONG OF ICE AND FIRE, the greatest fantasy epic of the modern age. A FEAST FOR CROWS is the fourth volume in the series. The Lannisters are in power on the Iron Throne. The war in the Seven Kingdoms has burned itself out, but in its bitter aftermath new conflicts spark to life. The Martells of Dorne and the Starks of Winterfell seek vengeance for their dead. Euron Crow’s Eye, as black a pirate as ever raised a sail, returns from the smoking ruins of Valyria to claim the Iron Isles. From the icy north, where Others threaten the Wall, apprentice Maester Samwell Tarly brings a mysterious babe in arms to the Citadel. As plots, intrigue and battle threaten to engulf Westeros, victory will go to the men and women possessed of the coldest steel and the coldest hearts.",
         "lower_age": 16,
         "upper_age": 20,
         "Type": "Books",
         "_deepnote_index_column": 5
        },
        {
         "title": "God of War: The Official Novelization",
         "author": "J.M. Barlog",
         "desc": "The novelization of the highly anticipated God of War 4 game.\nHis vengeance against the Gods of Olympus years behind him, Kratos now lives as a man in the realm of Norse gods and monsters. It is in this harsh, unforgiving world that he must fight to survive... and teach his son to do the same. This startling reimagining of God of War deconstructs the core elements that defined the series—satisfying combat; breathtaking scale; and a powerful narrative—and fuses them anew.",
         "lower_age": 16,
         "upper_age": 20,
         "Type": "Books",
         "_deepnote_index_column": 6
        },
        {
         "title": "Edgedancer: From the Stormlight Archive",
         "author": "Brandon Sanderson",
         "desc": "From #1 New York Times bestselling author Brandon Sanderson, a special gift edition of Edgedancer, a short novel of the Stormlight Archive (previously published in Arcanum Unbounded).Three years ago, Lift asked a goddess to stop her from growing older--a wish she believed was granted. Now, in Edgedancer, the barely teenage nascent Knight Radiant finds that time stands still for no one. Although the young Azish emperor granted her safe haven from an executioner she knows only as Darkness, court life is suffocating the free-spirited Lift, who can't help heading to Yeddaw when she hears the relentless Darkness is there hunting people like her with budding powers. The downtrodden in Yeddaw have no champion, and Lift knows she must seize this awesome responsibility.\nOther Tor books by Brandon Sanderson The Cosmere\n \n The Stormlight Archive\n The Way of Kings\n Words of Radiance\n Edgedancer (Novella)\n Oathbringer\n \n The Mistborn trilogy\n Mistborn: The Final Empire\n The Well of Ascension\n The …",
         "lower_age": 16,
         "upper_age": 20,
         "Type": "Books",
         "_deepnote_index_column": 7
        },
        {
         "title": "Blood, Sweat, and Pixels: The Triumphant, Turbulent Stories Behind How Video Games Are Made",
         "author": "Jason Schreier",
         "desc": "NATIONAL BESTSELLERDeveloping video games—hero's journey or fool's errand? The creative and technical logistics that go into building today's hottest games can be more harrowing and complex than the games themselves, often seeming like an endless maze or a bottomless abyss. In Blood, Sweat, and Pixels, Jason Schreier takes readers on a fascinating odyssey behind the scenes of video game development, where the creator may be a team of 600 overworked underdogs or a solitary geek genius. Exploring the artistic challenges, technical impossibilities, marketplace demands, and Donkey Kong-sized monkey wrenches thrown into the works by corporate, Blood, Sweat, and Pixels reveals how bringing any game to completion is more than Sisyphean—it's nothing short of miraculous.Taking some of the most popular, bestselling recent games, Schreier immerses readers in the hellfire of the development process, whether it's RPG studio Bioware's challenge to beat an impossible schedule and overcome countless …",
         "lower_age": 16,
         "upper_age": 20,
         "Type": "Books",
         "_deepnote_index_column": 8
        },
        {
         "title": "Twas The Nightshift Before Christmas: Festive hospital diaries from the author of million-copy hit This is Going to Hurt",
         "author": "Adam Kay",
         "desc": "A short gift book of festive hospital diaries from the author of million-copy bestseller This is Going to HurtChristmas is coming, the goose is getting fat . . . but 1.4 million NHS staff are heading off to work. In this perfect present for anyone who has ever set foot in a hospital, Adam Kay delves back into his diaries for a hilarious, horrifying and sometimes heartbreaking peek behind the blue curtain at Christmastime.Twas the Nightshift Before Christmas is a love letter to all those who spend their festive season on the front line, removing babies and baubles from the various places they get stuck, at the most wonderful time of the year.'The perfect surgical stocking-filler' The Times",
         "lower_age": 16,
         "upper_age": 20,
         "Type": "Books",
         "_deepnote_index_column": 9
        }
       ]
      },
      "text/plain": "                                                 title             author  \\\n0                           Attack on Titan: Volume 13     Hajime Isayama   \n1     Antiques Roadkill: A Trash 'n' Treasures Mystery      Barbara Allan   \n2                       The Art of Super Mario Odyssey           Nintendo   \n3       Getting Away Is Deadly: An Ellie Avery Mystery        Sara Rosett   \n4            The Painted Man (The Demon Cycle, Book 1)     Peter V. Brett   \n..                                                 ...                ...   \n943  The Essentials of Finance and Accounting for N...      Edward Fields   \n944                          The Magic of Thinking Big  David J. Schwartz   \n945  Twas The Nightshift Before Christmas: Festive ...           Adam Kay   \n946  Why We Sleep: The New Science of Sleep and Dreams     Matthew Walker   \n947           W is for Wasted: A Kinsey Millhone Novel        Sue Grafton   \n\n                                                  desc  lower_age  upper_age  \\\n0    NO SAFE PLACE LEFT At great cost to the Garris...         16         20   \n1    Determined to make a new start in her quaint h...         16         20   \n2    Take a globetrotting journey all over the worl...         16         20   \n3    With swollen feet and swelling belly, pregnant...         16         20   \n4    The stunning debut fantasy novel from author P...         16         20   \n..                                                 ...        ...        ...   \n943  Based on the bestselling AMA seminar, a nuts-a...         16         20   \n944  The timeless and practical advice in The Magic...         16         20   \n945  A short gift book of festive hospital diaries ...         16         20   \n946  'Astonishing ... an amazing book ... absolutel...         16         20   \n947  Private investigator Kinsey Millhone finds sho...         16         20   \n\n      Type  \n0    Books  \n1    Books  \n2    Books  \n3    Books  \n4    Books  \n..     ...  \n943  Books  \n944  Books  \n945  Books  \n946  Books  \n947  Books  \n\n[948 rows x 6 columns]",
      "text/html": "<div>\n<style scoped>\n    .dataframe tbody tr th:only-of-type {\n        vertical-align: middle;\n    }\n\n    .dataframe tbody tr th {\n        vertical-align: top;\n    }\n\n    .dataframe thead th {\n        text-align: right;\n    }\n</style>\n<table border=\"1\" class=\"dataframe\">\n  <thead>\n    <tr style=\"text-align: right;\">\n      <th></th>\n      <th>title</th>\n      <th>author</th>\n      <th>desc</th>\n      <th>lower_age</th>\n      <th>upper_age</th>\n      <th>Type</th>\n    </tr>\n  </thead>\n  <tbody>\n    <tr>\n      <th>0</th>\n      <td>Attack on Titan: Volume 13</td>\n      <td>Hajime Isayama</td>\n      <td>NO SAFE PLACE LEFT At great cost to the Garris...</td>\n      <td>16</td>\n      <td>20</td>\n      <td>Books</td>\n    </tr>\n    <tr>\n      <th>1</th>\n      <td>Antiques Roadkill: A Trash 'n' Treasures Mystery</td>\n      <td>Barbara Allan</td>\n      <td>Determined to make a new start in her quaint h...</td>\n      <td>16</td>\n      <td>20</td>\n      <td>Books</td>\n    </tr>\n    <tr>\n      <th>2</th>\n      <td>The Art of Super Mario Odyssey</td>\n      <td>Nintendo</td>\n      <td>Take a globetrotting journey all over the worl...</td>\n      <td>16</td>\n      <td>20</td>\n      <td>Books</td>\n    </tr>\n    <tr>\n      <th>3</th>\n      <td>Getting Away Is Deadly: An Ellie Avery Mystery</td>\n      <td>Sara Rosett</td>\n      <td>With swollen feet and swelling belly, pregnant...</td>\n      <td>16</td>\n      <td>20</td>\n      <td>Books</td>\n    </tr>\n    <tr>\n      <th>4</th>\n      <td>The Painted Man (The Demon Cycle, Book 1)</td>\n      <td>Peter V. Brett</td>\n      <td>The stunning debut fantasy novel from author P...</td>\n      <td>16</td>\n      <td>20</td>\n      <td>Books</td>\n    </tr>\n    <tr>\n      <th>...</th>\n      <td>...</td>\n      <td>...</td>\n      <td>...</td>\n      <td>...</td>\n      <td>...</td>\n      <td>...</td>\n    </tr>\n    <tr>\n      <th>943</th>\n      <td>The Essentials of Finance and Accounting for N...</td>\n      <td>Edward Fields</td>\n      <td>Based on the bestselling AMA seminar, a nuts-a...</td>\n      <td>16</td>\n      <td>20</td>\n      <td>Books</td>\n    </tr>\n    <tr>\n      <th>944</th>\n      <td>The Magic of Thinking Big</td>\n      <td>David J. Schwartz</td>\n      <td>The timeless and practical advice in The Magic...</td>\n      <td>16</td>\n      <td>20</td>\n      <td>Books</td>\n    </tr>\n    <tr>\n      <th>945</th>\n      <td>Twas The Nightshift Before Christmas: Festive ...</td>\n      <td>Adam Kay</td>\n      <td>A short gift book of festive hospital diaries ...</td>\n      <td>16</td>\n      <td>20</td>\n      <td>Books</td>\n    </tr>\n    <tr>\n      <th>946</th>\n      <td>Why We Sleep: The New Science of Sleep and Dreams</td>\n      <td>Matthew Walker</td>\n      <td>'Astonishing ... an amazing book ... absolutel...</td>\n      <td>16</td>\n      <td>20</td>\n      <td>Books</td>\n    </tr>\n    <tr>\n      <th>947</th>\n      <td>W is for Wasted: A Kinsey Millhone Novel</td>\n      <td>Sue Grafton</td>\n      <td>Private investigator Kinsey Millhone finds sho...</td>\n      <td>16</td>\n      <td>20</td>\n      <td>Books</td>\n    </tr>\n  </tbody>\n</table>\n<p>948 rows × 6 columns</p>\n</div>"
     },
     "metadata": {}
    }
   ]
  },
  {
   "cell_type": "code",
   "metadata": {
    "cell_id": "eced9de226544f93b8bdd79d482b8cf4",
    "tags": [],
    "deepnote_to_be_reexecuted": false,
    "source_hash": "10ffd341",
    "execution_start": 1656109253351,
    "execution_millis": 505,
    "deepnote_cell_type": "code",
    "deepnote_cell_height": 455.109375
   },
   "source": "# get rid of numbers\ndf_combined['title_formatted'] = df_combined['title'].str.replace('\\d+', '')\ndf_combined['desc_formatted'] = df_combined['desc'].str.replace('\\d+', '')\nadv_reads['title_formatted'] = adv_reads['title'].str.replace('\\d+','')\nadv_reads['desc_formatted'] = adv_reads['desc'].str.replace('\\d+','')\n\n# make lowercase\ndf_combined['title_formatted'] = df_combined['title_formatted'].apply(str.lower)\ndf_combined['desc_formatted'] = df_combined['desc_formatted'].apply(str.lower)\nadv_reads['title_formatted'] = adv_reads['title_formatted'].apply(str.lower)\nadv_reads['desc_formatted'] = adv_reads['desc_formatted'].apply(str.lower)\n",
   "execution_count": 11,
   "outputs": [
    {
     "name": "stderr",
     "text": "<ipython-input-11-cecfd9b579cc>:2: FutureWarning: The default value of regex will change from True to False in a future version.\n  df_combined['title_formatted'] = df_combined['title'].str.replace('\\d+', '')\n<ipython-input-11-cecfd9b579cc>:3: FutureWarning: The default value of regex will change from True to False in a future version.\n  df_combined['desc_formatted'] = df_combined['desc'].str.replace('\\d+', '')\n<ipython-input-11-cecfd9b579cc>:4: FutureWarning: The default value of regex will change from True to False in a future version.\n  adv_reads['title_formatted'] = adv_reads['title'].str.replace('\\d+','')\n<ipython-input-11-cecfd9b579cc>:5: FutureWarning: The default value of regex will change from True to False in a future version.\n  adv_reads['desc_formatted'] = adv_reads['desc'].str.replace('\\d+','')\n",
     "output_type": "stream"
    }
   ]
  },
  {
   "cell_type": "code",
   "metadata": {
    "cell_id": "6829c78816f24daf89347438cfc37041",
    "tags": [],
    "deepnote_to_be_reexecuted": false,
    "source_hash": "177dce20",
    "execution_start": 1656109253480,
    "execution_millis": 3031,
    "deepnote_cell_type": "code",
    "deepnote_cell_height": 222.15625
   },
   "source": "# We can tokenize the words here to remove punctuation \n# Tokenize words \nnltk.download('punkt')\ndf_combined['title_desc'] = df_combined['title_formatted'].apply(word_tokenize) + df_combined['desc_formatted'].apply(word_tokenize)\nadv_reads['title_desc'] = adv_reads['title_formatted'].apply(word_tokenize) + adv_reads['desc_formatted'].apply(word_tokenize)\n# df_combined",
   "execution_count": 12,
   "outputs": [
    {
     "name": "stderr",
     "text": "[nltk_data] Downloading package punkt to /root/nltk_data...\n[nltk_data]   Unzipping tokenizers/punkt.zip.\n",
     "output_type": "stream"
    }
   ]
  },
  {
   "cell_type": "code",
   "metadata": {
    "cell_id": "6f5c504d269f4c43a9d765a4073c54cf",
    "tags": [],
    "deepnote_to_be_reexecuted": false,
    "source_hash": "54da64cd",
    "execution_start": 1656109256519,
    "execution_millis": 283,
    "deepnote_table_state": {
     "pageSize": 10,
     "pageIndex": 0,
     "filters": [],
     "sortBy": []
    },
    "deepnote_table_loading": false,
    "deepnote_cell_type": "code",
    "deepnote_cell_height": 622.65625
   },
   "source": "adv_reads",
   "execution_count": 13,
   "outputs": [
    {
     "output_type": "execute_result",
     "execution_count": 13,
     "data": {
      "application/vnd.deepnote.dataframe.v3+json": {
       "column_count": 9,
       "row_count": 948,
       "columns": [
        {
         "name": "title",
         "dtype": "object",
         "stats": {
          "unique_count": 246,
          "nan_count": 0,
          "categories": [
           {
            "name": "The Queen of Nothing (The Folk of the Air #3)",
            "count": 13
           },
           {
            "name": "The Hitchhiker's Guide to the Galaxy: 42nd Anniversary Edition",
            "count": 12
           },
           {
            "name": "244 others",
            "count": 923
           }
          ]
         }
        },
        {
         "name": "author",
         "dtype": "object",
         "stats": {
          "unique_count": 183,
          "nan_count": 0,
          "categories": [
           {
            "name": "Agatha Christie",
            "count": 29
           },
           {
            "name": "Brian Tracy",
            "count": 28
           },
           {
            "name": "181 others",
            "count": 891
           }
          ]
         }
        },
        {
         "name": "desc",
         "dtype": "object",
         "stats": {
          "unique_count": 245,
          "nan_count": 0,
          "categories": [
           {
            "name": "The intoxicating and bloodthirsty finale to the New York Times bestselling The Cruel Prince, nominated for the CILIP CARNEGIE MEDAL 2019, and  New York Times bestseller The Wicked King \n\nAfter being pronounced Queen of Faerie and then abruptly exiled by the Wicked King Cardan, Jude finds herself unmoored, the queen of nothing. She spends her time with Vivi and Oak, watching reality television, and doing odd jobs, including squaring up to a cannibalistic faerie.\n\nWhen her twin sister Taryn shows up asking a favour, Jude jumps at the chance to return to the Faerie world, even if it means facing Cardan, who she loves despite his betrayal. When a dark curse is unveiled, Jude must become the first mortal Queen of Faerie and break the curse, or risk upsetting the balance of the whole Faerie world.",
            "count": 13
           },
           {
            "name": "The intergalactic adventures of Arthur Dent begin in the first volume of the 'trilogy of five', Douglas Adams' comedy sci-fi classic The Hitchhiker's Guide to the Galaxy. This edition, with a metallic sheen cover, includes exclusive bonus material from the Douglas Adams archives, and an introduction by former Doctor Who showrunner, Russell T Davies.On 12 October 1979 the most remarkable book ever to come out of the great publishing corporations of Ursa Minor (and Earth) was made available to humanity - The Hitchhiker's Guide to the Galaxy.\n\nIt's an ordinary Thursday lunchtime for Arthur Dent until his house gets demolished. The Earth follows shortly afterwards to make way for a new hyperspace express route, and his best friend has just announced that he's an alien. At this moment, they're hurtling through space with nothing but their towels and an innocuous-looking book inscribed, in large friendly letters, with the words: DON'T PANIC. The weekend has only just begun . . .Follow Arthur Dent's galactic (mis)adventures in the rest of the trilogy with five parts: The Restaurant at the End of the Universe, Life, the Universe and Everything, So Long, and Thanks for All the Fish, and Mostly Harmless.",
            "count": 12
           },
           {
            "name": "243 others",
            "count": 923
           }
          ]
         }
        },
        {
         "name": "lower_age",
         "dtype": "int64",
         "stats": {
          "unique_count": 1,
          "nan_count": 0,
          "min": "16",
          "max": "16",
          "histogram": [
           {
            "bin_start": 15.5,
            "bin_end": 15.6,
            "count": 0
           },
           {
            "bin_start": 15.6,
            "bin_end": 15.7,
            "count": 0
           },
           {
            "bin_start": 15.7,
            "bin_end": 15.8,
            "count": 0
           },
           {
            "bin_start": 15.8,
            "bin_end": 15.9,
            "count": 0
           },
           {
            "bin_start": 15.9,
            "bin_end": 16,
            "count": 0
           },
           {
            "bin_start": 16,
            "bin_end": 16.1,
            "count": 948
           },
           {
            "bin_start": 16.1,
            "bin_end": 16.2,
            "count": 0
           },
           {
            "bin_start": 16.2,
            "bin_end": 16.3,
            "count": 0
           },
           {
            "bin_start": 16.3,
            "bin_end": 16.4,
            "count": 0
           },
           {
            "bin_start": 16.4,
            "bin_end": 16.5,
            "count": 0
           }
          ]
         }
        },
        {
         "name": "upper_age",
         "dtype": "int64",
         "stats": {
          "unique_count": 1,
          "nan_count": 0,
          "min": "20",
          "max": "20",
          "histogram": [
           {
            "bin_start": 19.5,
            "bin_end": 19.6,
            "count": 0
           },
           {
            "bin_start": 19.6,
            "bin_end": 19.7,
            "count": 0
           },
           {
            "bin_start": 19.7,
            "bin_end": 19.8,
            "count": 0
           },
           {
            "bin_start": 19.8,
            "bin_end": 19.9,
            "count": 0
           },
           {
            "bin_start": 19.9,
            "bin_end": 20,
            "count": 0
           },
           {
            "bin_start": 20,
            "bin_end": 20.1,
            "count": 948
           },
           {
            "bin_start": 20.1,
            "bin_end": 20.2,
            "count": 0
           },
           {
            "bin_start": 20.2,
            "bin_end": 20.3,
            "count": 0
           },
           {
            "bin_start": 20.3,
            "bin_end": 20.4,
            "count": 0
           },
           {
            "bin_start": 20.4,
            "bin_end": 20.5,
            "count": 0
           }
          ]
         }
        },
        {
         "name": "Type",
         "dtype": "object",
         "stats": {
          "unique_count": 1,
          "nan_count": 0,
          "categories": [
           {
            "name": "Books",
            "count": 948
           }
          ]
         }
        },
        {
         "name": "title_formatted",
         "dtype": "object",
         "stats": {
          "unique_count": 241,
          "nan_count": 0,
          "categories": [
           {
            "name": "how to win friends and influence people",
            "count": 14
           },
           {
            "name": "the queen of nothing (the folk of the air #)",
            "count": 13
           },
           {
            "name": "239 others",
            "count": 921
           }
          ]
         }
        },
        {
         "name": "desc_formatted",
         "dtype": "object",
         "stats": {
          "unique_count": 245,
          "nan_count": 0,
          "categories": [
           {
            "name": "the intoxicating and bloodthirsty finale to the new york times bestselling the cruel prince, nominated for the cilip carnegie medal , and  new york times bestseller the wicked king \n\nafter being pronounced queen of faerie and then abruptly exiled by the wicked king cardan, jude finds herself unmoored, the queen of nothing. she spends her time with vivi and oak, watching reality television, and doing odd jobs, including squaring up to a cannibalistic faerie.\n\nwhen her twin sister taryn shows up asking a favour, jude jumps at the chance to return to the faerie world, even if it means facing cardan, who she loves despite his betrayal. when a dark curse is unveiled, jude must become the first mortal queen of faerie and break the curse, or risk upsetting the balance of the whole faerie world.",
            "count": 13
           },
           {
            "name": "the intergalactic adventures of arthur dent begin in the first volume of the 'trilogy of five', douglas adams' comedy sci-fi classic the hitchhiker's guide to the galaxy. this edition, with a metallic sheen cover, includes exclusive bonus material from the douglas adams archives, and an introduction by former doctor who showrunner, russell t davies.on  october  the most remarkable book ever to come out of the great publishing corporations of ursa minor (and earth) was made available to humanity - the hitchhiker's guide to the galaxy.\n\nit's an ordinary thursday lunchtime for arthur dent until his house gets demolished. the earth follows shortly afterwards to make way for a new hyperspace express route, and his best friend has just announced that he's an alien. at this moment, they're hurtling through space with nothing but their towels and an innocuous-looking book inscribed, in large friendly letters, with the words: don't panic. the weekend has only just begun . . .follow arthur dent's galactic (mis)adventures in the rest of the trilogy with five parts: the restaurant at the end of the universe, life, the universe and everything, so long, and thanks for all the fish, and mostly harmless.",
            "count": 12
           },
           {
            "name": "243 others",
            "count": 923
           }
          ]
         }
        },
        {
         "name": "title_desc",
         "dtype": "object",
         "stats": {
          "unique_count": 948,
          "nan_count": 0,
          "categories": [
           {
            "name": "['the', 'queen', 'of', 'nothing', '(', 'the', 'folk', 'of', 'the', 'air', '#', ')', 'the', 'intoxicating', 'and', 'bloodthirsty', 'finale', 'to', 'the', 'new', 'york', 'times', 'bestselling', 'the', 'cruel', 'prince', ',', 'nominated', 'for', 'the', 'cilip', 'carnegie', 'medal', ',', 'and', 'new', 'york', 'times', 'bestseller', 'the', 'wicked', 'king', 'after', 'being', 'pronounced', 'queen', 'of', 'faerie', 'and', 'then', 'abruptly', 'exiled', 'by', 'the', 'wicked', 'king', 'cardan', ',', 'jude', 'finds', 'herself', 'unmoored', ',', 'the', 'queen', 'of', 'nothing', '.', 'she', 'spends', 'her', 'time', 'with', 'vivi', 'and', 'oak', ',', 'watching', 'reality', 'television', ',', 'and', 'doing', 'odd', 'jobs', ',', 'including', 'squaring', 'up', 'to', 'a', 'cannibalistic', 'faerie', '.', 'when', 'her', 'twin', 'sister', 'taryn', 'shows', 'up', 'asking', 'a', 'favour', ',', 'jude', 'jumps', 'at', 'the', 'chance', 'to', 'return', 'to', 'the', 'faerie', 'world', ',', 'even', 'if', 'it', 'means', 'facing', 'cardan', ',', 'who', 'she', 'loves', 'despite', 'his', 'betrayal', '.', 'when', 'a', 'dark', 'curse', 'is', 'unveiled', ',', 'jude', 'must', 'become', 'the', 'first', 'mortal', 'queen', 'of', 'faerie', 'and', 'break', 'the', 'curse', ',', 'or', 'risk', 'upsetting', 'the', 'balance', 'of', 'the', 'whole', 'faerie', 'world', '.']",
            "count": 13
           },
           {
            "name": "['the', 'hitchhiker', \"'s\", 'guide', 'to', 'the', 'galaxy', ':', 'nd', 'anniversary', 'edition', 'the', 'intergalactic', 'adventures', 'of', 'arthur', 'dent', 'begin', 'in', 'the', 'first', 'volume', 'of', 'the', \"'trilogy\", 'of', 'five', \"'\", ',', 'douglas', 'adams', \"'\", 'comedy', 'sci-fi', 'classic', 'the', 'hitchhiker', \"'s\", 'guide', 'to', 'the', 'galaxy', '.', 'this', 'edition', ',', 'with', 'a', 'metallic', 'sheen', 'cover', ',', 'includes', 'exclusive', 'bonus', 'material', 'from', 'the', 'douglas', 'adams', 'archives', ',', 'and', 'an', 'introduction', 'by', 'former', 'doctor', 'who', 'showrunner', ',', 'russell', 't', 'davies.on', 'october', 'the', 'most', 'remarkable', 'book', 'ever', 'to', 'come', 'out', 'of', 'the', 'great', 'publishing', 'corporations', 'of', 'ursa', 'minor', '(', 'and', 'earth', ')', 'was', 'made', 'available', 'to', 'humanity', '-', 'the', 'hitchhiker', \"'s\", 'guide', 'to', 'the', 'galaxy', '.', 'it', \"'s\", 'an', 'ordinary', 'thursday', 'lunchtime', 'for', 'arthur', 'dent', 'until', 'his', 'house', 'gets', 'demolished', '.', 'the', 'earth', 'follows', 'shortly', 'afterwards', 'to', 'make', 'way', 'for', 'a', 'new', 'hyperspace', 'express', 'route', ',', 'and', 'his', 'best', 'friend', 'has', 'just', 'announced', 'that', 'he', \"'s\", 'an', 'alien', '.', 'at', 'this', 'moment', ',', 'they', \"'re\", 'hurtling', 'through', 'space', 'with', 'nothing', 'but', 'their', 'towels', 'and', 'an', 'innocuous-looking', 'book', 'inscribed', ',', 'in', 'large', 'friendly', 'letters', ',', 'with', 'the', 'words', ':', 'do', \"n't\", 'panic', '.', 'the', 'weekend', 'has', 'only', 'just', 'begun', '.', '.', '.follow', 'arthur', 'dent', \"'s\", 'galactic', '(', 'mis', ')', 'adventures', 'in', 'the', 'rest', 'of', 'the', 'trilogy', 'with', 'five', 'parts', ':', 'the', 'restaurant', 'at', 'the', 'end', 'of', 'the', 'universe', ',', 'life', ',', 'the', 'universe', 'and', 'everything', ',', 'so', 'long', ',', 'and', 'thanks', 'for', 'all', 'the', 'fish', ',', 'and', 'mostly', 'harmless', '.']",
            "count": 12
           },
           {
            "name": "245 others",
            "count": 923
           }
          ]
         }
        },
        {
         "name": "_deepnote_index_column",
         "dtype": "int64"
        }
       ],
       "rows": [
        {
         "title": "Attack on Titan: Volume 13",
         "author": "Hajime Isayama",
         "desc": "NO SAFE PLACE LEFT At great cost to the Garrison and the Survey Corps, Commander Erwin has managed to recover Eren from the Titans who tried to carry him off. But during the battle, Eren manifested yet another power he doesn't understand. As Eren and Krista find new enemies, the Survey Corps faces threats from both inside and outside the walls. And what will happen to Ymir, now that she has decided to make herself the Titans' prize?",
         "lower_age": 16,
         "upper_age": 20,
         "Type": "Books",
         "title_formatted": "attack on titan: volume ",
         "desc_formatted": "no safe place left at great cost to the garrison and the survey corps, commander erwin has managed to recover eren from the titans who tried to carry him off. but during the battle, eren manifested yet another power he doesn't understand. as eren and krista find new enemies, the survey corps faces threats from both inside and outside the walls. and what will happen to ymir, now that she has decided to make herself the titans' prize?",
         "title_desc": "['attack', 'on', 'titan', ':', 'volume', 'no', 'safe', 'place', 'left', 'at', 'great', 'cost', 'to', 'the', 'garrison', 'and', 'the', 'survey', 'corps', ',', 'commander', 'erwin', 'has', 'managed', 'to', 'recover', 'eren', 'from', 'the', 'titans', 'who', 'tried', 'to', 'carry', 'him', 'off', '.', 'but', 'during', 'the', 'battle', ',', 'eren', 'manifested', 'yet', 'another', 'power', 'he', 'does', \"n't\", 'understand', '.', 'as', 'eren', 'and', 'krista', 'find', 'new', 'enemies', ',', 'the', 'survey', 'corps', 'faces', 'threats', 'from', 'both', 'inside', 'and', 'outside', 'the', 'walls', '.', 'and', 'what', 'will', 'happen', 'to', 'ymir', ',', 'now', 'that', 'she', 'has', 'decided', 'to', 'make', 'herself', 'the', 'titans', \"'\", 'prize', '?']",
         "_deepnote_index_column": 0
        },
        {
         "title": "Antiques Roadkill: A Trash 'n' Treasures Mystery",
         "author": "Barbara Allan",
         "desc": "Determined to make a new start in her quaint hometown on the banks of the Mississippi, Brandy Borne never dreams she'll become the prime suspect in a murder case. . . \n\nMoving back in with her eccentric, larger-than-life mother, Brandy Borne finds small-town Serenity anything but serene. It seems an unscrupulous antiques dealer has swindled Vivian out of the family's heirlooms. But when he is found run over in a country lane, Brandy becomes Murder Suspect Number One--with her mother coming in a very close second. . . \n\nThe list of other suspects is impressive--the victim's business seems to have been based on bilking seniors out of their possessions. And when the Borne \"girls\" uncover a few very unsavory Serenity secrets, they become targets for a murderer whose favorite hobby seems to be collecting victims. \n\nDon't miss Brandy Borne's tips on antiques! \n\n\"Cozy mystery fans will love this down-to-earth heroine with the wry sense of humor and a big heart.\" --Nancy Pickard \n\n\"With its s…",
         "lower_age": 16,
         "upper_age": 20,
         "Type": "Books",
         "title_formatted": "antiques roadkill: a trash 'n' treasures mystery",
         "desc_formatted": "determined to make a new start in her quaint hometown on the banks of the mississippi, brandy borne never dreams she'll become the prime suspect in a murder case. . . \n\nmoving back in with her eccentric, larger-than-life mother, brandy borne finds small-town serenity anything but serene. it seems an unscrupulous antiques dealer has swindled vivian out of the family's heirlooms. but when he is found run over in a country lane, brandy becomes murder suspect number one--with her mother coming in a very close second. . . \n\nthe list of other suspects is impressive--the victim's business seems to have been based on bilking seniors out of their possessions. and when the borne \"girls\" uncover a few very unsavory serenity secrets, they become targets for a murderer whose favorite hobby seems to be collecting victims. \n\ndon't miss brandy borne's tips on antiques! \n\n\"cozy mystery fans will love this down-to-earth heroine with the wry sense of humor and a big heart.\" --nancy pickard \n\n\"with its s…",
         "title_desc": "['antiques', 'roadkill', ':', 'a', 'trash', \"'n\", \"'\", 'treasures', 'mystery', 'determined', 'to', 'make', 'a', 'new', 'start', 'in', 'her', 'quaint', 'hometown', 'on', 'the', 'banks', 'of', 'the', 'mississippi', ',', 'brandy', 'borne', 'never', 'dreams', 'she', \"'ll\", 'become', 'the', 'prime', 'suspect', 'in', 'a', 'murder', 'case', '.', '.', '.', 'moving', 'back', 'in', 'with', 'her', 'eccentric', ',', 'larger-than-life', 'mother', ',', 'brandy', 'borne', 'finds', 'small-town', 'serenity', 'anything', 'but', 'serene', '.', 'it', 'seems', 'an', 'unscrupulous', 'antiques', 'dealer', 'has', 'swindled', 'vivian', 'out', 'of', 'the', 'family', \"'s\", 'heirlooms', '.', 'but', 'when', 'he', 'is', 'found', 'run', 'over', 'in', 'a', 'country', 'lane', ',', 'brandy', 'becomes', 'murder', 'suspect', 'number', 'one', '--', 'with', 'her', 'mother', 'coming', 'in', 'a', 'very', 'close', 'second', '.', '.', '.', 'the', 'list', 'of', 'other', 'suspects', 'is', 'impressive', '--', 'the', 'victim', \"'…",
         "_deepnote_index_column": 1
        },
        {
         "title": "The Art of Super Mario Odyssey",
         "author": "Nintendo",
         "desc": "Take a globetrotting journey all over the world--and beyond!--with this companion art book to the hit video game for the Nintendo Switch(TM) system!\n\nIn October of 2017, Super Mario Odyssey(TM) took the gaming world by storm. Now, discover the art and expertise that went into creating one of Nintendo's best-loved games!\n\n This full-color volume clocks in at over 350 pages and features concept art, preliminary sketches, and notes from the development team, plus insight into some early ideas that didn't make it into the game itself! Explore the world of Super Mario Odyssey from every angle, including screen shots, marketing material, and more, to fully appreciate this captivating adventure",
         "lower_age": 16,
         "upper_age": 20,
         "Type": "Books",
         "title_formatted": "the art of super mario odyssey",
         "desc_formatted": "take a globetrotting journey all over the world--and beyond!--with this companion art book to the hit video game for the nintendo switch(tm) system!\n\nin october of , super mario odyssey(tm) took the gaming world by storm. now, discover the art and expertise that went into creating one of nintendo's best-loved games!\n\n this full-color volume clocks in at over  pages and features concept art, preliminary sketches, and notes from the development team, plus insight into some early ideas that didn't make it into the game itself! explore the world of super mario odyssey from every angle, including screen shots, marketing material, and more, to fully appreciate this captivating adventure",
         "title_desc": "['the', 'art', 'of', 'super', 'mario', 'odyssey', 'take', 'a', 'globetrotting', 'journey', 'all', 'over', 'the', 'world', '--', 'and', 'beyond', '!', '--', 'with', 'this', 'companion', 'art', 'book', 'to', 'the', 'hit', 'video', 'game', 'for', 'the', 'nintendo', 'switch', '(', 'tm', ')', 'system', '!', 'in', 'october', 'of', ',', 'super', 'mario', 'odyssey', '(', 'tm', ')', 'took', 'the', 'gaming', 'world', 'by', 'storm', '.', 'now', ',', 'discover', 'the', 'art', 'and', 'expertise', 'that', 'went', 'into', 'creating', 'one', 'of', 'nintendo', \"'s\", 'best-loved', 'games', '!', 'this', 'full-color', 'volume', 'clocks', 'in', 'at', 'over', 'pages', 'and', 'features', 'concept', 'art', ',', 'preliminary', 'sketches', ',', 'and', 'notes', 'from', 'the', 'development', 'team', ',', 'plus', 'insight', 'into', 'some', 'early', 'ideas', 'that', 'did', \"n't\", 'make', 'it', 'into', 'the', 'game', 'itself', '!', 'explore', 'the', 'world', 'of', 'super', 'mario', 'odyssey', 'from', 'every', 'angl…",
         "_deepnote_index_column": 2
        },
        {
         "title": "Getting Away Is Deadly: An Ellie Avery Mystery",
         "author": "Sara Rosett",
         "desc": "With swollen feet and swelling belly, pregnant Ellie bravely joins the nation's tourists in seeing the sights in Washington, D.C. But a fatal incident at the Metro station convinces Ellie that something is rotten in the capital city. Should she do the safe thing and pack her bags? Not likely when too many people are telling lies, hiding secrets, and acting suspiciously. Luckily, Ellie Avery is just the right woman to clean up the most mysterious cases of murder--even if she has to brave the most dangerous byways in the corridors of power . . .\n\n\n\n\nDon't miss Ellie Avery's top-notch tips for great vacations!\n\n\n\nPraise for Sara Rosett and her Mom Zone Mysteries. . .\n\n\n\n\"Crackles with intrigue, keeps you turning pages.\"\n--Alesia Holliday\n\n\n\n\"Sharp writing, tight plotting, a fascinating peek into the world of military wives. Jump in!\"\n--Cynthia Baxter\n\n\n\n\"The stunning conclusion should delight readers.\"\n--Romantic Times",
         "lower_age": 16,
         "upper_age": 20,
         "Type": "Books",
         "title_formatted": "getting away is deadly: an ellie avery mystery",
         "desc_formatted": "with swollen feet and swelling belly, pregnant ellie bravely joins the nation's tourists in seeing the sights in washington, d.c. but a fatal incident at the metro station convinces ellie that something is rotten in the capital city. should she do the safe thing and pack her bags? not likely when too many people are telling lies, hiding secrets, and acting suspiciously. luckily, ellie avery is just the right woman to clean up the most mysterious cases of murder--even if she has to brave the most dangerous byways in the corridors of power . . .\n\n\n\n\ndon't miss ellie avery's top-notch tips for great vacations!\n\n\n\npraise for sara rosett and her mom zone mysteries. . .\n\n\n\n\"crackles with intrigue, keeps you turning pages.\"\n--alesia holliday\n\n\n\n\"sharp writing, tight plotting, a fascinating peek into the world of military wives. jump in!\"\n--cynthia baxter\n\n\n\n\"the stunning conclusion should delight readers.\"\n--romantic times",
         "title_desc": "['getting', 'away', 'is', 'deadly', ':', 'an', 'ellie', 'avery', 'mystery', 'with', 'swollen', 'feet', 'and', 'swelling', 'belly', ',', 'pregnant', 'ellie', 'bravely', 'joins', 'the', 'nation', \"'s\", 'tourists', 'in', 'seeing', 'the', 'sights', 'in', 'washington', ',', 'd.c.', 'but', 'a', 'fatal', 'incident', 'at', 'the', 'metro', 'station', 'convinces', 'ellie', 'that', 'something', 'is', 'rotten', 'in', 'the', 'capital', 'city', '.', 'should', 'she', 'do', 'the', 'safe', 'thing', 'and', 'pack', 'her', 'bags', '?', 'not', 'likely', 'when', 'too', 'many', 'people', 'are', 'telling', 'lies', ',', 'hiding', 'secrets', ',', 'and', 'acting', 'suspiciously', '.', 'luckily', ',', 'ellie', 'avery', 'is', 'just', 'the', 'right', 'woman', 'to', 'clean', 'up', 'the', 'most', 'mysterious', 'cases', 'of', 'murder', '--', 'even', 'if', 'she', 'has', 'to', 'brave', 'the', 'most', 'dangerous', 'byways', 'in', 'the', 'corridors', 'of', 'power', '.', '.', '.', 'do', \"n't\", 'miss', 'ellie', 'avery', \"'…",
         "_deepnote_index_column": 3
        },
        {
         "title": "The Painted Man (The Demon Cycle, Book 1)",
         "author": "Peter V. Brett",
         "desc": "The stunning debut fantasy novel from author Peter V. Brett.   The Painted Man, book one of the Demon Cycle, is a captivating and thrilling fantasy adventure, pulling the reader into a world of demons, darkness and heroes.  AS DARKNESS FALLS, THE DEMONS RISE For hundreds of years these creatures have terrorized the night, slowly culling the human population. It was not always this way. Men and women did not always cower behind protective magical wards and hope to see the dawn. Once, they battled the demons on equal terms, but those days, and skills, are gone. Arlen Bales lives with his parents on their isolated farmstead until a demon attack shatters their world. He learns a savage lesson that day: that people, as well as magic, can let you down. Rejecting the fear that kills as efficiently as the creatures, Arlen risks another path in order to offer humanity a last, fleeting chance of survival.",
         "lower_age": 16,
         "upper_age": 20,
         "Type": "Books",
         "title_formatted": "the painted man (the demon cycle, book )",
         "desc_formatted": "the stunning debut fantasy novel from author peter v. brett.   the painted man, book one of the demon cycle, is a captivating and thrilling fantasy adventure, pulling the reader into a world of demons, darkness and heroes.  as darkness falls, the demons rise for hundreds of years these creatures have terrorized the night, slowly culling the human population. it was not always this way. men and women did not always cower behind protective magical wards and hope to see the dawn. once, they battled the demons on equal terms, but those days, and skills, are gone. arlen bales lives with his parents on their isolated farmstead until a demon attack shatters their world. he learns a savage lesson that day: that people, as well as magic, can let you down. rejecting the fear that kills as efficiently as the creatures, arlen risks another path in order to offer humanity a last, fleeting chance of survival.",
         "title_desc": "['the', 'painted', 'man', '(', 'the', 'demon', 'cycle', ',', 'book', ')', 'the', 'stunning', 'debut', 'fantasy', 'novel', 'from', 'author', 'peter', 'v.', 'brett', '.', 'the', 'painted', 'man', ',', 'book', 'one', 'of', 'the', 'demon', 'cycle', ',', 'is', 'a', 'captivating', 'and', 'thrilling', 'fantasy', 'adventure', ',', 'pulling', 'the', 'reader', 'into', 'a', 'world', 'of', 'demons', ',', 'darkness', 'and', 'heroes', '.', 'as', 'darkness', 'falls', ',', 'the', 'demons', 'rise', 'for', 'hundreds', 'of', 'years', 'these', 'creatures', 'have', 'terrorized', 'the', 'night', ',', 'slowly', 'culling', 'the', 'human', 'population', '.', 'it', 'was', 'not', 'always', 'this', 'way', '.', 'men', 'and', 'women', 'did', 'not', 'always', 'cower', 'behind', 'protective', 'magical', 'wards', 'and', 'hope', 'to', 'see', 'the', 'dawn', '.', 'once', ',', 'they', 'battled', 'the', 'demons', 'on', 'equal', 'terms', ',', 'but', 'those', 'days', ',', 'and', 'skills', ',', 'are', 'gone', '.', 'arlen', '…",
         "_deepnote_index_column": 4
        },
        {
         "title": "A Feast for Crows (A Song of Ice and Fire, Book 4)",
         "author": "George R.R. Martin",
         "desc": "HBO’s hit series A GAME OF THRONES is based on George R. R. Martin’s internationally bestselling series A SONG OF ICE AND FIRE, the greatest fantasy epic of the modern age. A FEAST FOR CROWS is the fourth volume in the series. The Lannisters are in power on the Iron Throne. The war in the Seven Kingdoms has burned itself out, but in its bitter aftermath new conflicts spark to life. The Martells of Dorne and the Starks of Winterfell seek vengeance for their dead. Euron Crow’s Eye, as black a pirate as ever raised a sail, returns from the smoking ruins of Valyria to claim the Iron Isles. From the icy north, where Others threaten the Wall, apprentice Maester Samwell Tarly brings a mysterious babe in arms to the Citadel. As plots, intrigue and battle threaten to engulf Westeros, victory will go to the men and women possessed of the coldest steel and the coldest hearts.",
         "lower_age": 16,
         "upper_age": 20,
         "Type": "Books",
         "title_formatted": "a feast for crows (a song of ice and fire, book )",
         "desc_formatted": "hbo’s hit series a game of thrones is based on george r. r. martin’s internationally bestselling series a song of ice and fire, the greatest fantasy epic of the modern age. a feast for crows is the fourth volume in the series. the lannisters are in power on the iron throne. the war in the seven kingdoms has burned itself out, but in its bitter aftermath new conflicts spark to life. the martells of dorne and the starks of winterfell seek vengeance for their dead. euron crow’s eye, as black a pirate as ever raised a sail, returns from the smoking ruins of valyria to claim the iron isles. from the icy north, where others threaten the wall, apprentice maester samwell tarly brings a mysterious babe in arms to the citadel. as plots, intrigue and battle threaten to engulf westeros, victory will go to the men and women possessed of the coldest steel and the coldest hearts.",
         "title_desc": "['a', 'feast', 'for', 'crows', '(', 'a', 'song', 'of', 'ice', 'and', 'fire', ',', 'book', ')', 'hbo', '’', 's', 'hit', 'series', 'a', 'game', 'of', 'thrones', 'is', 'based', 'on', 'george', 'r.', 'r.', 'martin', '’', 's', 'internationally', 'bestselling', 'series', 'a', 'song', 'of', 'ice', 'and', 'fire', ',', 'the', 'greatest', 'fantasy', 'epic', 'of', 'the', 'modern', 'age', '.', 'a', 'feast', 'for', 'crows', 'is', 'the', 'fourth', 'volume', 'in', 'the', 'series', '.', 'the', 'lannisters', 'are', 'in', 'power', 'on', 'the', 'iron', 'throne', '.', 'the', 'war', 'in', 'the', 'seven', 'kingdoms', 'has', 'burned', 'itself', 'out', ',', 'but', 'in', 'its', 'bitter', 'aftermath', 'new', 'conflicts', 'spark', 'to', 'life', '.', 'the', 'martells', 'of', 'dorne', 'and', 'the', 'starks', 'of', 'winterfell', 'seek', 'vengeance', 'for', 'their', 'dead', '.', 'euron', 'crow', '’', 's', 'eye', ',', 'as', 'black', 'a', 'pirate', 'as', 'ever', 'raised', 'a', 'sail', ',', 'returns', 'from', 'the', '…",
         "_deepnote_index_column": 5
        },
        {
         "title": "God of War: The Official Novelization",
         "author": "J.M. Barlog",
         "desc": "The novelization of the highly anticipated God of War 4 game.\nHis vengeance against the Gods of Olympus years behind him, Kratos now lives as a man in the realm of Norse gods and monsters. It is in this harsh, unforgiving world that he must fight to survive... and teach his son to do the same. This startling reimagining of God of War deconstructs the core elements that defined the series—satisfying combat; breathtaking scale; and a powerful narrative—and fuses them anew.",
         "lower_age": 16,
         "upper_age": 20,
         "Type": "Books",
         "title_formatted": "god of war: the official novelization",
         "desc_formatted": "the novelization of the highly anticipated god of war  game.\nhis vengeance against the gods of olympus years behind him, kratos now lives as a man in the realm of norse gods and monsters. it is in this harsh, unforgiving world that he must fight to survive... and teach his son to do the same. this startling reimagining of god of war deconstructs the core elements that defined the series—satisfying combat; breathtaking scale; and a powerful narrative—and fuses them anew.",
         "title_desc": "['god', 'of', 'war', ':', 'the', 'official', 'novelization', 'the', 'novelization', 'of', 'the', 'highly', 'anticipated', 'god', 'of', 'war', 'game', '.', 'his', 'vengeance', 'against', 'the', 'gods', 'of', 'olympus', 'years', 'behind', 'him', ',', 'kratos', 'now', 'lives', 'as', 'a', 'man', 'in', 'the', 'realm', 'of', 'norse', 'gods', 'and', 'monsters', '.', 'it', 'is', 'in', 'this', 'harsh', ',', 'unforgiving', 'world', 'that', 'he', 'must', 'fight', 'to', 'survive', '...', 'and', 'teach', 'his', 'son', 'to', 'do', 'the', 'same', '.', 'this', 'startling', 'reimagining', 'of', 'god', 'of', 'war', 'deconstructs', 'the', 'core', 'elements', 'that', 'defined', 'the', 'series—satisfying', 'combat', ';', 'breathtaking', 'scale', ';', 'and', 'a', 'powerful', 'narrative—and', 'fuses', 'them', 'anew', '.']",
         "_deepnote_index_column": 6
        },
        {
         "title": "Edgedancer: From the Stormlight Archive",
         "author": "Brandon Sanderson",
         "desc": "From #1 New York Times bestselling author Brandon Sanderson, a special gift edition of Edgedancer, a short novel of the Stormlight Archive (previously published in Arcanum Unbounded).Three years ago, Lift asked a goddess to stop her from growing older--a wish she believed was granted. Now, in Edgedancer, the barely teenage nascent Knight Radiant finds that time stands still for no one. Although the young Azish emperor granted her safe haven from an executioner she knows only as Darkness, court life is suffocating the free-spirited Lift, who can't help heading to Yeddaw when she hears the relentless Darkness is there hunting people like her with budding powers. The downtrodden in Yeddaw have no champion, and Lift knows she must seize this awesome responsibility.\nOther Tor books by Brandon Sanderson The Cosmere\n \n The Stormlight Archive\n The Way of Kings\n Words of Radiance\n Edgedancer (Novella)\n Oathbringer\n \n The Mistborn trilogy\n Mistborn: The Final Empire\n The Well of Ascension\n The …",
         "lower_age": 16,
         "upper_age": 20,
         "Type": "Books",
         "title_formatted": "edgedancer: from the stormlight archive",
         "desc_formatted": "from # new york times bestselling author brandon sanderson, a special gift edition of edgedancer, a short novel of the stormlight archive (previously published in arcanum unbounded).three years ago, lift asked a goddess to stop her from growing older--a wish she believed was granted. now, in edgedancer, the barely teenage nascent knight radiant finds that time stands still for no one. although the young azish emperor granted her safe haven from an executioner she knows only as darkness, court life is suffocating the free-spirited lift, who can't help heading to yeddaw when she hears the relentless darkness is there hunting people like her with budding powers. the downtrodden in yeddaw have no champion, and lift knows she must seize this awesome responsibility.\nother tor books by brandon sanderson the cosmere\n \n the stormlight archive\n the way of kings\n words of radiance\n edgedancer (novella)\n oathbringer\n \n the mistborn trilogy\n mistborn: the final empire\n the well of ascension\n the h…",
         "title_desc": "['edgedancer', ':', 'from', 'the', 'stormlight', 'archive', 'from', '#', 'new', 'york', 'times', 'bestselling', 'author', 'brandon', 'sanderson', ',', 'a', 'special', 'gift', 'edition', 'of', 'edgedancer', ',', 'a', 'short', 'novel', 'of', 'the', 'stormlight', 'archive', '(', 'previously', 'published', 'in', 'arcanum', 'unbounded', ')', '.three', 'years', 'ago', ',', 'lift', 'asked', 'a', 'goddess', 'to', 'stop', 'her', 'from', 'growing', 'older', '--', 'a', 'wish', 'she', 'believed', 'was', 'granted', '.', 'now', ',', 'in', 'edgedancer', ',', 'the', 'barely', 'teenage', 'nascent', 'knight', 'radiant', 'finds', 'that', 'time', 'stands', 'still', 'for', 'no', 'one', '.', 'although', 'the', 'young', 'azish', 'emperor', 'granted', 'her', 'safe', 'haven', 'from', 'an', 'executioner', 'she', 'knows', 'only', 'as', 'darkness', ',', 'court', 'life', 'is', 'suffocating', 'the', 'free-spirited', 'lift', ',', 'who', 'ca', \"n't\", 'help', 'heading', 'to', 'yeddaw', 'when', 'she', 'hears', 'the', …",
         "_deepnote_index_column": 7
        },
        {
         "title": "Blood, Sweat, and Pixels: The Triumphant, Turbulent Stories Behind How Video Games Are Made",
         "author": "Jason Schreier",
         "desc": "NATIONAL BESTSELLERDeveloping video games—hero's journey or fool's errand? The creative and technical logistics that go into building today's hottest games can be more harrowing and complex than the games themselves, often seeming like an endless maze or a bottomless abyss. In Blood, Sweat, and Pixels, Jason Schreier takes readers on a fascinating odyssey behind the scenes of video game development, where the creator may be a team of 600 overworked underdogs or a solitary geek genius. Exploring the artistic challenges, technical impossibilities, marketplace demands, and Donkey Kong-sized monkey wrenches thrown into the works by corporate, Blood, Sweat, and Pixels reveals how bringing any game to completion is more than Sisyphean—it's nothing short of miraculous.Taking some of the most popular, bestselling recent games, Schreier immerses readers in the hellfire of the development process, whether it's RPG studio Bioware's challenge to beat an impossible schedule and overcome countless …",
         "lower_age": 16,
         "upper_age": 20,
         "Type": "Books",
         "title_formatted": "blood, sweat, and pixels: the triumphant, turbulent stories behind how video games are made",
         "desc_formatted": "national bestsellerdeveloping video games—hero's journey or fool's errand? the creative and technical logistics that go into building today's hottest games can be more harrowing and complex than the games themselves, often seeming like an endless maze or a bottomless abyss. in blood, sweat, and pixels, jason schreier takes readers on a fascinating odyssey behind the scenes of video game development, where the creator may be a team of  overworked underdogs or a solitary geek genius. exploring the artistic challenges, technical impossibilities, marketplace demands, and donkey kong-sized monkey wrenches thrown into the works by corporate, blood, sweat, and pixels reveals how bringing any game to completion is more than sisyphean—it's nothing short of miraculous.taking some of the most popular, bestselling recent games, schreier immerses readers in the hellfire of the development process, whether it's rpg studio bioware's challenge to beat an impossible schedule and overcome countless tec…",
         "title_desc": "['blood', ',', 'sweat', ',', 'and', 'pixels', ':', 'the', 'triumphant', ',', 'turbulent', 'stories', 'behind', 'how', 'video', 'games', 'are', 'made', 'national', 'bestsellerdeveloping', 'video', 'games—hero', \"'s\", 'journey', 'or', 'fool', \"'s\", 'errand', '?', 'the', 'creative', 'and', 'technical', 'logistics', 'that', 'go', 'into', 'building', 'today', \"'s\", 'hottest', 'games', 'can', 'be', 'more', 'harrowing', 'and', 'complex', 'than', 'the', 'games', 'themselves', ',', 'often', 'seeming', 'like', 'an', 'endless', 'maze', 'or', 'a', 'bottomless', 'abyss', '.', 'in', 'blood', ',', 'sweat', ',', 'and', 'pixels', ',', 'jason', 'schreier', 'takes', 'readers', 'on', 'a', 'fascinating', 'odyssey', 'behind', 'the', 'scenes', 'of', 'video', 'game', 'development', ',', 'where', 'the', 'creator', 'may', 'be', 'a', 'team', 'of', 'overworked', 'underdogs', 'or', 'a', 'solitary', 'geek', 'genius', '.', 'exploring', 'the', 'artistic', 'challenges', ',', 'technical', 'impossibilities', ',', 'mark…",
         "_deepnote_index_column": 8
        },
        {
         "title": "Twas The Nightshift Before Christmas: Festive hospital diaries from the author of million-copy hit This is Going to Hurt",
         "author": "Adam Kay",
         "desc": "A short gift book of festive hospital diaries from the author of million-copy bestseller This is Going to HurtChristmas is coming, the goose is getting fat . . . but 1.4 million NHS staff are heading off to work. In this perfect present for anyone who has ever set foot in a hospital, Adam Kay delves back into his diaries for a hilarious, horrifying and sometimes heartbreaking peek behind the blue curtain at Christmastime.Twas the Nightshift Before Christmas is a love letter to all those who spend their festive season on the front line, removing babies and baubles from the various places they get stuck, at the most wonderful time of the year.'The perfect surgical stocking-filler' The Times",
         "lower_age": 16,
         "upper_age": 20,
         "Type": "Books",
         "title_formatted": "twas the nightshift before christmas: festive hospital diaries from the author of million-copy hit this is going to hurt",
         "desc_formatted": "a short gift book of festive hospital diaries from the author of million-copy bestseller this is going to hurtchristmas is coming, the goose is getting fat . . . but . million nhs staff are heading off to work. in this perfect present for anyone who has ever set foot in a hospital, adam kay delves back into his diaries for a hilarious, horrifying and sometimes heartbreaking peek behind the blue curtain at christmastime.twas the nightshift before christmas is a love letter to all those who spend their festive season on the front line, removing babies and baubles from the various places they get stuck, at the most wonderful time of the year.'the perfect surgical stocking-filler' the times",
         "title_desc": "['twas', 'the', 'nightshift', 'before', 'christmas', ':', 'festive', 'hospital', 'diaries', 'from', 'the', 'author', 'of', 'million-copy', 'hit', 'this', 'is', 'going', 'to', 'hurt', 'a', 'short', 'gift', 'book', 'of', 'festive', 'hospital', 'diaries', 'from', 'the', 'author', 'of', 'million-copy', 'bestseller', 'this', 'is', 'going', 'to', 'hurtchristmas', 'is', 'coming', ',', 'the', 'goose', 'is', 'getting', 'fat', '.', '.', '.', 'but', '.', 'million', 'nhs', 'staff', 'are', 'heading', 'off', 'to', 'work', '.', 'in', 'this', 'perfect', 'present', 'for', 'anyone', 'who', 'has', 'ever', 'set', 'foot', 'in', 'a', 'hospital', ',', 'adam', 'kay', 'delves', 'back', 'into', 'his', 'diaries', 'for', 'a', 'hilarious', ',', 'horrifying', 'and', 'sometimes', 'heartbreaking', 'peek', 'behind', 'the', 'blue', 'curtain', 'at', 'christmastime.twas', 'the', 'nightshift', 'before', 'christmas', 'is', 'a', 'love', 'letter', 'to', 'all', 'those', 'who', 'spend', 'their', 'festive', 'season', 'on', 'th…",
         "_deepnote_index_column": 9
        }
       ]
      },
      "text/plain": "                                                 title             author  \\\n0                           Attack on Titan: Volume 13     Hajime Isayama   \n1     Antiques Roadkill: A Trash 'n' Treasures Mystery      Barbara Allan   \n2                       The Art of Super Mario Odyssey           Nintendo   \n3       Getting Away Is Deadly: An Ellie Avery Mystery        Sara Rosett   \n4            The Painted Man (The Demon Cycle, Book 1)     Peter V. Brett   \n..                                                 ...                ...   \n943  The Essentials of Finance and Accounting for N...      Edward Fields   \n944                          The Magic of Thinking Big  David J. Schwartz   \n945  Twas The Nightshift Before Christmas: Festive ...           Adam Kay   \n946  Why We Sleep: The New Science of Sleep and Dreams     Matthew Walker   \n947           W is for Wasted: A Kinsey Millhone Novel        Sue Grafton   \n\n                                                  desc  lower_age  upper_age  \\\n0    NO SAFE PLACE LEFT At great cost to the Garris...         16         20   \n1    Determined to make a new start in her quaint h...         16         20   \n2    Take a globetrotting journey all over the worl...         16         20   \n3    With swollen feet and swelling belly, pregnant...         16         20   \n4    The stunning debut fantasy novel from author P...         16         20   \n..                                                 ...        ...        ...   \n943  Based on the bestselling AMA seminar, a nuts-a...         16         20   \n944  The timeless and practical advice in The Magic...         16         20   \n945  A short gift book of festive hospital diaries ...         16         20   \n946  'Astonishing ... an amazing book ... absolutel...         16         20   \n947  Private investigator Kinsey Millhone finds sho...         16         20   \n\n      Type                                    title_formatted  \\\n0    Books                           attack on titan: volume    \n1    Books   antiques roadkill: a trash 'n' treasures mystery   \n2    Books                     the art of super mario odyssey   \n3    Books     getting away is deadly: an ellie avery mystery   \n4    Books           the painted man (the demon cycle, book )   \n..     ...                                                ...   \n943  Books  the essentials of finance and accounting for n...   \n944  Books                          the magic of thinking big   \n945  Books  twas the nightshift before christmas: festive ...   \n946  Books  why we sleep: the new science of sleep and dreams   \n947  Books           w is for wasted: a kinsey millhone novel   \n\n                                        desc_formatted  \\\n0    no safe place left at great cost to the garris...   \n1    determined to make a new start in her quaint h...   \n2    take a globetrotting journey all over the worl...   \n3    with swollen feet and swelling belly, pregnant...   \n4    the stunning debut fantasy novel from author p...   \n..                                                 ...   \n943  based on the bestselling ama seminar, a nuts-a...   \n944  the timeless and practical advice in the magic...   \n945  a short gift book of festive hospital diaries ...   \n946  'astonishing ... an amazing book ... absolutel...   \n947  private investigator kinsey millhone finds sho...   \n\n                                            title_desc  \n0    [attack, on, titan, :, volume, no, safe, place...  \n1    [antiques, roadkill, :, a, trash, 'n, ', treas...  \n2    [the, art, of, super, mario, odyssey, take, a,...  \n3    [getting, away, is, deadly, :, an, ellie, aver...  \n4    [the, painted, man, (, the, demon, cycle, ,, b...  \n..                                                 ...  \n943  [the, essentials, of, finance, and, accounting...  \n944  [the, magic, of, thinking, big, the, timeless,...  \n945  [twas, the, nightshift, before, christmas, :, ...  \n946  [why, we, sleep, :, the, new, science, of, sle...  \n947  [w, is, for, wasted, :, a, kinsey, millhone, n...  \n\n[948 rows x 9 columns]",
      "text/html": "<div>\n<style scoped>\n    .dataframe tbody tr th:only-of-type {\n        vertical-align: middle;\n    }\n\n    .dataframe tbody tr th {\n        vertical-align: top;\n    }\n\n    .dataframe thead th {\n        text-align: right;\n    }\n</style>\n<table border=\"1\" class=\"dataframe\">\n  <thead>\n    <tr style=\"text-align: right;\">\n      <th></th>\n      <th>title</th>\n      <th>author</th>\n      <th>desc</th>\n      <th>lower_age</th>\n      <th>upper_age</th>\n      <th>Type</th>\n      <th>title_formatted</th>\n      <th>desc_formatted</th>\n      <th>title_desc</th>\n    </tr>\n  </thead>\n  <tbody>\n    <tr>\n      <th>0</th>\n      <td>Attack on Titan: Volume 13</td>\n      <td>Hajime Isayama</td>\n      <td>NO SAFE PLACE LEFT At great cost to the Garris...</td>\n      <td>16</td>\n      <td>20</td>\n      <td>Books</td>\n      <td>attack on titan: volume</td>\n      <td>no safe place left at great cost to the garris...</td>\n      <td>[attack, on, titan, :, volume, no, safe, place...</td>\n    </tr>\n    <tr>\n      <th>1</th>\n      <td>Antiques Roadkill: A Trash 'n' Treasures Mystery</td>\n      <td>Barbara Allan</td>\n      <td>Determined to make a new start in her quaint h...</td>\n      <td>16</td>\n      <td>20</td>\n      <td>Books</td>\n      <td>antiques roadkill: a trash 'n' treasures mystery</td>\n      <td>determined to make a new start in her quaint h...</td>\n      <td>[antiques, roadkill, :, a, trash, 'n, ', treas...</td>\n    </tr>\n    <tr>\n      <th>2</th>\n      <td>The Art of Super Mario Odyssey</td>\n      <td>Nintendo</td>\n      <td>Take a globetrotting journey all over the worl...</td>\n      <td>16</td>\n      <td>20</td>\n      <td>Books</td>\n      <td>the art of super mario odyssey</td>\n      <td>take a globetrotting journey all over the worl...</td>\n      <td>[the, art, of, super, mario, odyssey, take, a,...</td>\n    </tr>\n    <tr>\n      <th>3</th>\n      <td>Getting Away Is Deadly: An Ellie Avery Mystery</td>\n      <td>Sara Rosett</td>\n      <td>With swollen feet and swelling belly, pregnant...</td>\n      <td>16</td>\n      <td>20</td>\n      <td>Books</td>\n      <td>getting away is deadly: an ellie avery mystery</td>\n      <td>with swollen feet and swelling belly, pregnant...</td>\n      <td>[getting, away, is, deadly, :, an, ellie, aver...</td>\n    </tr>\n    <tr>\n      <th>4</th>\n      <td>The Painted Man (The Demon Cycle, Book 1)</td>\n      <td>Peter V. Brett</td>\n      <td>The stunning debut fantasy novel from author P...</td>\n      <td>16</td>\n      <td>20</td>\n      <td>Books</td>\n      <td>the painted man (the demon cycle, book )</td>\n      <td>the stunning debut fantasy novel from author p...</td>\n      <td>[the, painted, man, (, the, demon, cycle, ,, b...</td>\n    </tr>\n    <tr>\n      <th>...</th>\n      <td>...</td>\n      <td>...</td>\n      <td>...</td>\n      <td>...</td>\n      <td>...</td>\n      <td>...</td>\n      <td>...</td>\n      <td>...</td>\n      <td>...</td>\n    </tr>\n    <tr>\n      <th>943</th>\n      <td>The Essentials of Finance and Accounting for N...</td>\n      <td>Edward Fields</td>\n      <td>Based on the bestselling AMA seminar, a nuts-a...</td>\n      <td>16</td>\n      <td>20</td>\n      <td>Books</td>\n      <td>the essentials of finance and accounting for n...</td>\n      <td>based on the bestselling ama seminar, a nuts-a...</td>\n      <td>[the, essentials, of, finance, and, accounting...</td>\n    </tr>\n    <tr>\n      <th>944</th>\n      <td>The Magic of Thinking Big</td>\n      <td>David J. Schwartz</td>\n      <td>The timeless and practical advice in The Magic...</td>\n      <td>16</td>\n      <td>20</td>\n      <td>Books</td>\n      <td>the magic of thinking big</td>\n      <td>the timeless and practical advice in the magic...</td>\n      <td>[the, magic, of, thinking, big, the, timeless,...</td>\n    </tr>\n    <tr>\n      <th>945</th>\n      <td>Twas The Nightshift Before Christmas: Festive ...</td>\n      <td>Adam Kay</td>\n      <td>A short gift book of festive hospital diaries ...</td>\n      <td>16</td>\n      <td>20</td>\n      <td>Books</td>\n      <td>twas the nightshift before christmas: festive ...</td>\n      <td>a short gift book of festive hospital diaries ...</td>\n      <td>[twas, the, nightshift, before, christmas, :, ...</td>\n    </tr>\n    <tr>\n      <th>946</th>\n      <td>Why We Sleep: The New Science of Sleep and Dreams</td>\n      <td>Matthew Walker</td>\n      <td>'Astonishing ... an amazing book ... absolutel...</td>\n      <td>16</td>\n      <td>20</td>\n      <td>Books</td>\n      <td>why we sleep: the new science of sleep and dreams</td>\n      <td>'astonishing ... an amazing book ... absolutel...</td>\n      <td>[why, we, sleep, :, the, new, science, of, sle...</td>\n    </tr>\n    <tr>\n      <th>947</th>\n      <td>W is for Wasted: A Kinsey Millhone Novel</td>\n      <td>Sue Grafton</td>\n      <td>Private investigator Kinsey Millhone finds sho...</td>\n      <td>16</td>\n      <td>20</td>\n      <td>Books</td>\n      <td>w is for wasted: a kinsey millhone novel</td>\n      <td>private investigator kinsey millhone finds sho...</td>\n      <td>[w, is, for, wasted, :, a, kinsey, millhone, n...</td>\n    </tr>\n  </tbody>\n</table>\n<p>948 rows × 9 columns</p>\n</div>"
     },
     "metadata": {}
    }
   ]
  },
  {
   "cell_type": "code",
   "metadata": {
    "cell_id": "651864a290264c1ebbad366e9e8fd54b",
    "tags": [],
    "deepnote_to_be_reexecuted": false,
    "source_hash": "54f0811",
    "execution_start": 1656109256609,
    "execution_millis": 25308,
    "deepnote_cell_type": "code",
    "deepnote_cell_height": 316.609375
   },
   "source": "# Remove stopwords\nnltk.download('stopwords')\ndef remove_stopwords(input1):\n    words = []\n    for word in input1:\n        if word not in stopwords.words('english'):\n            words.append(word)\n    return words\n\ndf_combined['title_desc'] =  df_combined['title_desc'].apply(remove_stopwords)\nadv_reads['title_desc'] =  adv_reads['title_desc'].apply(remove_stopwords)",
   "execution_count": 14,
   "outputs": [
    {
     "name": "stderr",
     "text": "[nltk_data] Downloading package stopwords to /root/nltk_data...\n[nltk_data]   Unzipping corpora/stopwords.zip.\n",
     "output_type": "stream"
    }
   ]
  },
  {
   "cell_type": "code",
   "metadata": {
    "cell_id": "956e647f53404a48bffef4f25060608b",
    "tags": [],
    "deepnote_to_be_reexecuted": false,
    "source_hash": "14dce115",
    "execution_start": 1656109281921,
    "execution_millis": 2946,
    "deepnote_cell_type": "code",
    "deepnote_cell_height": 298.328125
   },
   "source": "# Lemmatize \nnltk.download('wordnet')\nnltk.download('omw-1.4')\nlem = WordNetLemmatizer()\ndef lemma_wordnet(input):\n    return [lem.lemmatize(w) for w in input]\ndf_combined['title_desc'] = df_combined['title_desc'].apply(lemma_wordnet)\nadv_reads['title_desc'] = adv_reads['title_desc'].apply(lemma_wordnet)",
   "execution_count": 15,
   "outputs": [
    {
     "name": "stderr",
     "text": "[nltk_data] Downloading package wordnet to /root/nltk_data...\n[nltk_data]   Unzipping corpora/wordnet.zip.\n[nltk_data] Downloading package omw-1.4 to /root/nltk_data...\n[nltk_data]   Unzipping corpora/omw-1.4.zip.\n",
     "output_type": "stream"
    }
   ]
  },
  {
   "cell_type": "code",
   "metadata": {
    "cell_id": "a506439adbb34105b37a8a59798ecdd2",
    "tags": [],
    "deepnote_to_be_reexecuted": false,
    "source_hash": "8e7c9fd5",
    "execution_start": 1656109284872,
    "execution_millis": 224,
    "deepnote_cell_type": "code",
    "deepnote_cell_height": 730.65625
   },
   "source": "# translate list to string\ndef join_text(input):\n    combined = ' '.join(input)\n    return combined\ndf_combined['title_desc_filtered']=df_combined['title_desc'].apply(join_text)\nadv_reads['title_desc_filtered']=adv_reads['title_desc'].apply(join_text)\nadv_reads",
   "execution_count": 16,
   "outputs": [
    {
     "output_type": "execute_result",
     "execution_count": 16,
     "data": {
      "application/vnd.deepnote.dataframe.v3+json": {
       "column_count": 10,
       "row_count": 948,
       "columns": [
        {
         "name": "title",
         "dtype": "object",
         "stats": {
          "unique_count": 246,
          "nan_count": 0,
          "categories": [
           {
            "name": "The Queen of Nothing (The Folk of the Air #3)",
            "count": 13
           },
           {
            "name": "The Hitchhiker's Guide to the Galaxy: 42nd Anniversary Edition",
            "count": 12
           },
           {
            "name": "244 others",
            "count": 923
           }
          ]
         }
        },
        {
         "name": "author",
         "dtype": "object",
         "stats": {
          "unique_count": 183,
          "nan_count": 0,
          "categories": [
           {
            "name": "Agatha Christie",
            "count": 29
           },
           {
            "name": "Brian Tracy",
            "count": 28
           },
           {
            "name": "181 others",
            "count": 891
           }
          ]
         }
        },
        {
         "name": "desc",
         "dtype": "object",
         "stats": {
          "unique_count": 245,
          "nan_count": 0,
          "categories": [
           {
            "name": "The intoxicating and bloodthirsty finale to the New York Times bestselling The Cruel Prince, nominated for the CILIP CARNEGIE MEDAL 2019, and  New York Times bestseller The Wicked King \n\nAfter being pronounced Queen of Faerie and then abruptly exiled by the Wicked King Cardan, Jude finds herself unmoored, the queen of nothing. She spends her time with Vivi and Oak, watching reality television, and doing odd jobs, including squaring up to a cannibalistic faerie.\n\nWhen her twin sister Taryn shows up asking a favour, Jude jumps at the chance to return to the Faerie world, even if it means facing Cardan, who she loves despite his betrayal. When a dark curse is unveiled, Jude must become the first mortal Queen of Faerie and break the curse, or risk upsetting the balance of the whole Faerie world.",
            "count": 13
           },
           {
            "name": "The intergalactic adventures of Arthur Dent begin in the first volume of the 'trilogy of five', Douglas Adams' comedy sci-fi classic The Hitchhiker's Guide to the Galaxy. This edition, with a metallic sheen cover, includes exclusive bonus material from the Douglas Adams archives, and an introduction by former Doctor Who showrunner, Russell T Davies.On 12 October 1979 the most remarkable book ever to come out of the great publishing corporations of Ursa Minor (and Earth) was made available to humanity - The Hitchhiker's Guide to the Galaxy.\n\nIt's an ordinary Thursday lunchtime for Arthur Dent until his house gets demolished. The Earth follows shortly afterwards to make way for a new hyperspace express route, and his best friend has just announced that he's an alien. At this moment, they're hurtling through space with nothing but their towels and an innocuous-looking book inscribed, in large friendly letters, with the words: DON'T PANIC. The weekend has only just begun . . .Follow Arthur Dent's galactic (mis)adventures in the rest of the trilogy with five parts: The Restaurant at the End of the Universe, Life, the Universe and Everything, So Long, and Thanks for All the Fish, and Mostly Harmless.",
            "count": 12
           },
           {
            "name": "243 others",
            "count": 923
           }
          ]
         }
        },
        {
         "name": "lower_age",
         "dtype": "int64",
         "stats": {
          "unique_count": 1,
          "nan_count": 0,
          "min": "16",
          "max": "16",
          "histogram": [
           {
            "bin_start": 15.5,
            "bin_end": 15.6,
            "count": 0
           },
           {
            "bin_start": 15.6,
            "bin_end": 15.7,
            "count": 0
           },
           {
            "bin_start": 15.7,
            "bin_end": 15.8,
            "count": 0
           },
           {
            "bin_start": 15.8,
            "bin_end": 15.9,
            "count": 0
           },
           {
            "bin_start": 15.9,
            "bin_end": 16,
            "count": 0
           },
           {
            "bin_start": 16,
            "bin_end": 16.1,
            "count": 948
           },
           {
            "bin_start": 16.1,
            "bin_end": 16.2,
            "count": 0
           },
           {
            "bin_start": 16.2,
            "bin_end": 16.3,
            "count": 0
           },
           {
            "bin_start": 16.3,
            "bin_end": 16.4,
            "count": 0
           },
           {
            "bin_start": 16.4,
            "bin_end": 16.5,
            "count": 0
           }
          ]
         }
        },
        {
         "name": "upper_age",
         "dtype": "int64",
         "stats": {
          "unique_count": 1,
          "nan_count": 0,
          "min": "20",
          "max": "20",
          "histogram": [
           {
            "bin_start": 19.5,
            "bin_end": 19.6,
            "count": 0
           },
           {
            "bin_start": 19.6,
            "bin_end": 19.7,
            "count": 0
           },
           {
            "bin_start": 19.7,
            "bin_end": 19.8,
            "count": 0
           },
           {
            "bin_start": 19.8,
            "bin_end": 19.9,
            "count": 0
           },
           {
            "bin_start": 19.9,
            "bin_end": 20,
            "count": 0
           },
           {
            "bin_start": 20,
            "bin_end": 20.1,
            "count": 948
           },
           {
            "bin_start": 20.1,
            "bin_end": 20.2,
            "count": 0
           },
           {
            "bin_start": 20.2,
            "bin_end": 20.3,
            "count": 0
           },
           {
            "bin_start": 20.3,
            "bin_end": 20.4,
            "count": 0
           },
           {
            "bin_start": 20.4,
            "bin_end": 20.5,
            "count": 0
           }
          ]
         }
        },
        {
         "name": "Type",
         "dtype": "object",
         "stats": {
          "unique_count": 1,
          "nan_count": 0,
          "categories": [
           {
            "name": "Books",
            "count": 948
           }
          ]
         }
        },
        {
         "name": "title_formatted",
         "dtype": "object",
         "stats": {
          "unique_count": 241,
          "nan_count": 0,
          "categories": [
           {
            "name": "how to win friends and influence people",
            "count": 14
           },
           {
            "name": "the queen of nothing (the folk of the air #)",
            "count": 13
           },
           {
            "name": "239 others",
            "count": 921
           }
          ]
         }
        },
        {
         "name": "desc_formatted",
         "dtype": "object",
         "stats": {
          "unique_count": 245,
          "nan_count": 0,
          "categories": [
           {
            "name": "the intoxicating and bloodthirsty finale to the new york times bestselling the cruel prince, nominated for the cilip carnegie medal , and  new york times bestseller the wicked king \n\nafter being pronounced queen of faerie and then abruptly exiled by the wicked king cardan, jude finds herself unmoored, the queen of nothing. she spends her time with vivi and oak, watching reality television, and doing odd jobs, including squaring up to a cannibalistic faerie.\n\nwhen her twin sister taryn shows up asking a favour, jude jumps at the chance to return to the faerie world, even if it means facing cardan, who she loves despite his betrayal. when a dark curse is unveiled, jude must become the first mortal queen of faerie and break the curse, or risk upsetting the balance of the whole faerie world.",
            "count": 13
           },
           {
            "name": "the intergalactic adventures of arthur dent begin in the first volume of the 'trilogy of five', douglas adams' comedy sci-fi classic the hitchhiker's guide to the galaxy. this edition, with a metallic sheen cover, includes exclusive bonus material from the douglas adams archives, and an introduction by former doctor who showrunner, russell t davies.on  october  the most remarkable book ever to come out of the great publishing corporations of ursa minor (and earth) was made available to humanity - the hitchhiker's guide to the galaxy.\n\nit's an ordinary thursday lunchtime for arthur dent until his house gets demolished. the earth follows shortly afterwards to make way for a new hyperspace express route, and his best friend has just announced that he's an alien. at this moment, they're hurtling through space with nothing but their towels and an innocuous-looking book inscribed, in large friendly letters, with the words: don't panic. the weekend has only just begun . . .follow arthur dent's galactic (mis)adventures in the rest of the trilogy with five parts: the restaurant at the end of the universe, life, the universe and everything, so long, and thanks for all the fish, and mostly harmless.",
            "count": 12
           },
           {
            "name": "243 others",
            "count": 923
           }
          ]
         }
        },
        {
         "name": "title_desc",
         "dtype": "object",
         "stats": {
          "unique_count": 948,
          "nan_count": 0,
          "categories": [
           {
            "name": "['queen', 'nothing', '(', 'folk', 'air', '#', ')', 'intoxicating', 'bloodthirsty', 'finale', 'new', 'york', 'time', 'bestselling', 'cruel', 'prince', ',', 'nominated', 'cilip', 'carnegie', 'medal', ',', 'new', 'york', 'time', 'bestseller', 'wicked', 'king', 'pronounced', 'queen', 'faerie', 'abruptly', 'exiled', 'wicked', 'king', 'cardan', ',', 'jude', 'find', 'unmoored', ',', 'queen', 'nothing', '.', 'spends', 'time', 'vivi', 'oak', ',', 'watching', 'reality', 'television', ',', 'odd', 'job', ',', 'including', 'squaring', 'cannibalistic', 'faerie', '.', 'twin', 'sister', 'taryn', 'show', 'asking', 'favour', ',', 'jude', 'jump', 'chance', 'return', 'faerie', 'world', ',', 'even', 'mean', 'facing', 'cardan', ',', 'love', 'despite', 'betrayal', '.', 'dark', 'curse', 'unveiled', ',', 'jude', 'must', 'become', 'first', 'mortal', 'queen', 'faerie', 'break', 'curse', ',', 'risk', 'upsetting', 'balance', 'whole', 'faerie', 'world', '.']",
            "count": 13
           },
           {
            "name": "['hitchhiker', \"'s\", 'guide', 'galaxy', ':', 'nd', 'anniversary', 'edition', 'intergalactic', 'adventure', 'arthur', 'dent', 'begin', 'first', 'volume', \"'trilogy\", 'five', \"'\", ',', 'douglas', 'adam', \"'\", 'comedy', 'sci-fi', 'classic', 'hitchhiker', \"'s\", 'guide', 'galaxy', '.', 'edition', ',', 'metallic', 'sheen', 'cover', ',', 'includes', 'exclusive', 'bonus', 'material', 'douglas', 'adam', 'archive', ',', 'introduction', 'former', 'doctor', 'showrunner', ',', 'russell', 'davies.on', 'october', 'remarkable', 'book', 'ever', 'come', 'great', 'publishing', 'corporation', 'ursa', 'minor', '(', 'earth', ')', 'made', 'available', 'humanity', '-', 'hitchhiker', \"'s\", 'guide', 'galaxy', '.', \"'s\", 'ordinary', 'thursday', 'lunchtime', 'arthur', 'dent', 'house', 'get', 'demolished', '.', 'earth', 'follows', 'shortly', 'afterwards', 'make', 'way', 'new', 'hyperspace', 'express', 'route', ',', 'best', 'friend', 'announced', \"'s\", 'alien', '.', 'moment', ',', \"'re\", 'hurtling', 'space', 'nothing', 'towel', 'innocuous-looking', 'book', 'inscribed', ',', 'large', 'friendly', 'letter', ',', 'word', ':', \"n't\", 'panic', '.', 'weekend', 'begun', '.', '.', '.follow', 'arthur', 'dent', \"'s\", 'galactic', '(', 'mi', ')', 'adventure', 'rest', 'trilogy', 'five', 'part', ':', 'restaurant', 'end', 'universe', ',', 'life', ',', 'universe', 'everything', ',', 'long', ',', 'thanks', 'fish', ',', 'mostly', 'harmless', '.']",
            "count": 12
           },
           {
            "name": "245 others",
            "count": 923
           }
          ]
         }
        },
        {
         "name": "title_desc_filtered",
         "dtype": "object",
         "stats": {
          "unique_count": 247,
          "nan_count": 0,
          "categories": [
           {
            "name": "queen nothing ( folk air # ) intoxicating bloodthirsty finale new york time bestselling cruel prince , nominated cilip carnegie medal , new york time bestseller wicked king pronounced queen faerie abruptly exiled wicked king cardan , jude find unmoored , queen nothing . spends time vivi oak , watching reality television , odd job , including squaring cannibalistic faerie . twin sister taryn show asking favour , jude jump chance return faerie world , even mean facing cardan , love despite betrayal . dark curse unveiled , jude must become first mortal queen faerie break curse , risk upsetting balance whole faerie world .",
            "count": 13
           },
           {
            "name": "hitchhiker 's guide galaxy : nd anniversary edition intergalactic adventure arthur dent begin first volume 'trilogy five ' , douglas adam ' comedy sci-fi classic hitchhiker 's guide galaxy . edition , metallic sheen cover , includes exclusive bonus material douglas adam archive , introduction former doctor showrunner , russell davies.on october remarkable book ever come great publishing corporation ursa minor ( earth ) made available humanity - hitchhiker 's guide galaxy . 's ordinary thursday lunchtime arthur dent house get demolished . earth follows shortly afterwards make way new hyperspace express route , best friend announced 's alien . moment , 're hurtling space nothing towel innocuous-looking book inscribed , large friendly letter , word : n't panic . weekend begun . . .follow arthur dent 's galactic ( mi ) adventure rest trilogy five part : restaurant end universe , life , universe everything , long , thanks fish , mostly harmless .",
            "count": 12
           },
           {
            "name": "245 others",
            "count": 923
           }
          ]
         }
        },
        {
         "name": "_deepnote_index_column",
         "dtype": "int64"
        }
       ],
       "rows": [
        {
         "title": "Attack on Titan: Volume 13",
         "author": "Hajime Isayama",
         "desc": "NO SAFE PLACE LEFT At great cost to the Garrison and the Survey Corps, Commander Erwin has managed to recover Eren from the Titans who tried to carry him off. But during the battle, Eren manifested yet another power he doesn't understand. As Eren and Krista find new enemies, the Survey Corps faces threats from both inside and outside the walls. And what will happen to Ymir, now that she has decided to make herself the Titans' prize?",
         "lower_age": 16,
         "upper_age": 20,
         "Type": "Books",
         "title_formatted": "attack on titan: volume ",
         "desc_formatted": "no safe place left at great cost to the garrison and the survey corps, commander erwin has managed to recover eren from the titans who tried to carry him off. but during the battle, eren manifested yet another power he doesn't understand. as eren and krista find new enemies, the survey corps faces threats from both inside and outside the walls. and what will happen to ymir, now that she has decided to make herself the titans' prize?",
         "title_desc": "['attack', 'titan', ':', 'volume', 'safe', 'place', 'left', 'great', 'cost', 'garrison', 'survey', 'corp', ',', 'commander', 'erwin', 'managed', 'recover', 'eren', 'titan', 'tried', 'carry', '.', 'battle', ',', 'eren', 'manifested', 'yet', 'another', 'power', \"n't\", 'understand', '.', 'eren', 'krista', 'find', 'new', 'enemy', ',', 'survey', 'corp', 'face', 'threat', 'inside', 'outside', 'wall', '.', 'happen', 'ymir', ',', 'decided', 'make', 'titan', \"'\", 'prize', '?']",
         "title_desc_filtered": "attack titan : volume safe place left great cost garrison survey corp , commander erwin managed recover eren titan tried carry . battle , eren manifested yet another power n't understand . eren krista find new enemy , survey corp face threat inside outside wall . happen ymir , decided make titan ' prize ?",
         "_deepnote_index_column": 0
        },
        {
         "title": "Antiques Roadkill: A Trash 'n' Treasures Mystery",
         "author": "Barbara Allan",
         "desc": "Determined to make a new start in her quaint hometown on the banks of the Mississippi, Brandy Borne never dreams she'll become the prime suspect in a murder case. . . \n\nMoving back in with her eccentric, larger-than-life mother, Brandy Borne finds small-town Serenity anything but serene. It seems an unscrupulous antiques dealer has swindled Vivian out of the family's heirlooms. But when he is found run over in a country lane, Brandy becomes Murder Suspect Number One--with her mother coming in a very close second. . . \n\nThe list of other suspects is impressive--the victim's business seems to have been based on bilking seniors out of their possessions. And when the Borne \"girls\" uncover a few very unsavory Serenity secrets, they become targets for a murderer whose favorite hobby seems to be collecting victims. \n\nDon't miss Brandy Borne's tips on antiques! \n\n\"Cozy mystery fans will love this down-to-earth heroine with the wry sense of humor and a big heart.\" --Nancy Pickard \n\n\"With its s…",
         "lower_age": 16,
         "upper_age": 20,
         "Type": "Books",
         "title_formatted": "antiques roadkill: a trash 'n' treasures mystery",
         "desc_formatted": "determined to make a new start in her quaint hometown on the banks of the mississippi, brandy borne never dreams she'll become the prime suspect in a murder case. . . \n\nmoving back in with her eccentric, larger-than-life mother, brandy borne finds small-town serenity anything but serene. it seems an unscrupulous antiques dealer has swindled vivian out of the family's heirlooms. but when he is found run over in a country lane, brandy becomes murder suspect number one--with her mother coming in a very close second. . . \n\nthe list of other suspects is impressive--the victim's business seems to have been based on bilking seniors out of their possessions. and when the borne \"girls\" uncover a few very unsavory serenity secrets, they become targets for a murderer whose favorite hobby seems to be collecting victims. \n\ndon't miss brandy borne's tips on antiques! \n\n\"cozy mystery fans will love this down-to-earth heroine with the wry sense of humor and a big heart.\" --nancy pickard \n\n\"with its s…",
         "title_desc": "['antique', 'roadkill', ':', 'trash', \"'n\", \"'\", 'treasure', 'mystery', 'determined', 'make', 'new', 'start', 'quaint', 'hometown', 'bank', 'mississippi', ',', 'brandy', 'borne', 'never', 'dream', \"'ll\", 'become', 'prime', 'suspect', 'murder', 'case', '.', '.', '.', 'moving', 'back', 'eccentric', ',', 'larger-than-life', 'mother', ',', 'brandy', 'borne', 'find', 'small-town', 'serenity', 'anything', 'serene', '.', 'seems', 'unscrupulous', 'antique', 'dealer', 'swindled', 'vivian', 'family', \"'s\", 'heirloom', '.', 'found', 'run', 'country', 'lane', ',', 'brandy', 'becomes', 'murder', 'suspect', 'number', 'one', '--', 'mother', 'coming', 'close', 'second', '.', '.', '.', 'list', 'suspect', 'impressive', '--', 'victim', \"'s\", 'business', 'seems', 'based', 'bilking', 'senior', 'possession', '.', 'borne', '``', 'girl', \"''\", 'uncover', 'unsavory', 'serenity', 'secret', ',', 'become', 'target', 'murderer', 'whose', 'favorite', 'hobby', 'seems', 'collecting', 'victim', '.', \"n't\", 'miss', 'b…",
         "title_desc_filtered": "antique roadkill : trash 'n ' treasure mystery determined make new start quaint hometown bank mississippi , brandy borne never dream 'll become prime suspect murder case . . . moving back eccentric , larger-than-life mother , brandy borne find small-town serenity anything serene . seems unscrupulous antique dealer swindled vivian family 's heirloom . found run country lane , brandy becomes murder suspect number one -- mother coming close second . . . list suspect impressive -- victim 's business seems based bilking senior possession . borne `` girl '' uncover unsavory serenity secret , become target murderer whose favorite hobby seems collecting victim . n't miss brandy borne 's tip antique ! `` cozy mystery fan love down-to-earth heroine wry sense humor big heart . '' -- nancy pickard '' small-town setting quirky character , antique roadkill fun start finish . dive enjoy . '' -- laurien berenson",
         "_deepnote_index_column": 1
        },
        {
         "title": "The Art of Super Mario Odyssey",
         "author": "Nintendo",
         "desc": "Take a globetrotting journey all over the world--and beyond!--with this companion art book to the hit video game for the Nintendo Switch(TM) system!\n\nIn October of 2017, Super Mario Odyssey(TM) took the gaming world by storm. Now, discover the art and expertise that went into creating one of Nintendo's best-loved games!\n\n This full-color volume clocks in at over 350 pages and features concept art, preliminary sketches, and notes from the development team, plus insight into some early ideas that didn't make it into the game itself! Explore the world of Super Mario Odyssey from every angle, including screen shots, marketing material, and more, to fully appreciate this captivating adventure",
         "lower_age": 16,
         "upper_age": 20,
         "Type": "Books",
         "title_formatted": "the art of super mario odyssey",
         "desc_formatted": "take a globetrotting journey all over the world--and beyond!--with this companion art book to the hit video game for the nintendo switch(tm) system!\n\nin october of , super mario odyssey(tm) took the gaming world by storm. now, discover the art and expertise that went into creating one of nintendo's best-loved games!\n\n this full-color volume clocks in at over  pages and features concept art, preliminary sketches, and notes from the development team, plus insight into some early ideas that didn't make it into the game itself! explore the world of super mario odyssey from every angle, including screen shots, marketing material, and more, to fully appreciate this captivating adventure",
         "title_desc": "['art', 'super', 'mario', 'odyssey', 'take', 'globetrotting', 'journey', 'world', '--', 'beyond', '!', '--', 'companion', 'art', 'book', 'hit', 'video', 'game', 'nintendo', 'switch', '(', 'tm', ')', 'system', '!', 'october', ',', 'super', 'mario', 'odyssey', '(', 'tm', ')', 'took', 'gaming', 'world', 'storm', '.', ',', 'discover', 'art', 'expertise', 'went', 'creating', 'one', 'nintendo', \"'s\", 'best-loved', 'game', '!', 'full-color', 'volume', 'clock', 'page', 'feature', 'concept', 'art', ',', 'preliminary', 'sketch', ',', 'note', 'development', 'team', ',', 'plus', 'insight', 'early', 'idea', \"n't\", 'make', 'game', '!', 'explore', 'world', 'super', 'mario', 'odyssey', 'every', 'angle', ',', 'including', 'screen', 'shot', ',', 'marketing', 'material', ',', ',', 'fully', 'appreciate', 'captivating', 'adventure']",
         "title_desc_filtered": "art super mario odyssey take globetrotting journey world -- beyond ! -- companion art book hit video game nintendo switch ( tm ) system ! october , super mario odyssey ( tm ) took gaming world storm . , discover art expertise went creating one nintendo 's best-loved game ! full-color volume clock page feature concept art , preliminary sketch , note development team , plus insight early idea n't make game ! explore world super mario odyssey every angle , including screen shot , marketing material , , fully appreciate captivating adventure",
         "_deepnote_index_column": 2
        },
        {
         "title": "Getting Away Is Deadly: An Ellie Avery Mystery",
         "author": "Sara Rosett",
         "desc": "With swollen feet and swelling belly, pregnant Ellie bravely joins the nation's tourists in seeing the sights in Washington, D.C. But a fatal incident at the Metro station convinces Ellie that something is rotten in the capital city. Should she do the safe thing and pack her bags? Not likely when too many people are telling lies, hiding secrets, and acting suspiciously. Luckily, Ellie Avery is just the right woman to clean up the most mysterious cases of murder--even if she has to brave the most dangerous byways in the corridors of power . . .\n\n\n\n\nDon't miss Ellie Avery's top-notch tips for great vacations!\n\n\n\nPraise for Sara Rosett and her Mom Zone Mysteries. . .\n\n\n\n\"Crackles with intrigue, keeps you turning pages.\"\n--Alesia Holliday\n\n\n\n\"Sharp writing, tight plotting, a fascinating peek into the world of military wives. Jump in!\"\n--Cynthia Baxter\n\n\n\n\"The stunning conclusion should delight readers.\"\n--Romantic Times",
         "lower_age": 16,
         "upper_age": 20,
         "Type": "Books",
         "title_formatted": "getting away is deadly: an ellie avery mystery",
         "desc_formatted": "with swollen feet and swelling belly, pregnant ellie bravely joins the nation's tourists in seeing the sights in washington, d.c. but a fatal incident at the metro station convinces ellie that something is rotten in the capital city. should she do the safe thing and pack her bags? not likely when too many people are telling lies, hiding secrets, and acting suspiciously. luckily, ellie avery is just the right woman to clean up the most mysterious cases of murder--even if she has to brave the most dangerous byways in the corridors of power . . .\n\n\n\n\ndon't miss ellie avery's top-notch tips for great vacations!\n\n\n\npraise for sara rosett and her mom zone mysteries. . .\n\n\n\n\"crackles with intrigue, keeps you turning pages.\"\n--alesia holliday\n\n\n\n\"sharp writing, tight plotting, a fascinating peek into the world of military wives. jump in!\"\n--cynthia baxter\n\n\n\n\"the stunning conclusion should delight readers.\"\n--romantic times",
         "title_desc": "['getting', 'away', 'deadly', ':', 'ellie', 'avery', 'mystery', 'swollen', 'foot', 'swelling', 'belly', ',', 'pregnant', 'ellie', 'bravely', 'join', 'nation', \"'s\", 'tourist', 'seeing', 'sight', 'washington', ',', 'd.c.', 'fatal', 'incident', 'metro', 'station', 'convinces', 'ellie', 'something', 'rotten', 'capital', 'city', '.', 'safe', 'thing', 'pack', 'bag', '?', 'likely', 'many', 'people', 'telling', 'lie', ',', 'hiding', 'secret', ',', 'acting', 'suspiciously', '.', 'luckily', ',', 'ellie', 'avery', 'right', 'woman', 'clean', 'mysterious', 'case', 'murder', '--', 'even', 'brave', 'dangerous', 'byway', 'corridor', 'power', '.', '.', '.', \"n't\", 'miss', 'ellie', 'avery', \"'s\", 'top-notch', 'tip', 'great', 'vacation', '!', 'praise', 'sara', 'rosett', 'mom', 'zone', 'mystery', '.', '.', '.', \"''\", 'crackle', 'intrigue', ',', 'keep', 'turning', 'page', '.', \"''\", '--', 'alesia', 'holliday', \"''\", 'sharp', 'writing', ',', 'tight', 'plotting', ',', 'fascinating', 'peek', 'world', 'milit…",
         "title_desc_filtered": "getting away deadly : ellie avery mystery swollen foot swelling belly , pregnant ellie bravely join nation 's tourist seeing sight washington , d.c. fatal incident metro station convinces ellie something rotten capital city . safe thing pack bag ? likely many people telling lie , hiding secret , acting suspiciously . luckily , ellie avery right woman clean mysterious case murder -- even brave dangerous byway corridor power . . . n't miss ellie avery 's top-notch tip great vacation ! praise sara rosett mom zone mystery . . . '' crackle intrigue , keep turning page . '' -- alesia holliday '' sharp writing , tight plotting , fascinating peek world military wife . jump ! '' -- cynthia baxter '' stunning conclusion delight reader . '' -- romantic time",
         "_deepnote_index_column": 3
        },
        {
         "title": "The Painted Man (The Demon Cycle, Book 1)",
         "author": "Peter V. Brett",
         "desc": "The stunning debut fantasy novel from author Peter V. Brett.   The Painted Man, book one of the Demon Cycle, is a captivating and thrilling fantasy adventure, pulling the reader into a world of demons, darkness and heroes.  AS DARKNESS FALLS, THE DEMONS RISE For hundreds of years these creatures have terrorized the night, slowly culling the human population. It was not always this way. Men and women did not always cower behind protective magical wards and hope to see the dawn. Once, they battled the demons on equal terms, but those days, and skills, are gone. Arlen Bales lives with his parents on their isolated farmstead until a demon attack shatters their world. He learns a savage lesson that day: that people, as well as magic, can let you down. Rejecting the fear that kills as efficiently as the creatures, Arlen risks another path in order to offer humanity a last, fleeting chance of survival.",
         "lower_age": 16,
         "upper_age": 20,
         "Type": "Books",
         "title_formatted": "the painted man (the demon cycle, book )",
         "desc_formatted": "the stunning debut fantasy novel from author peter v. brett.   the painted man, book one of the demon cycle, is a captivating and thrilling fantasy adventure, pulling the reader into a world of demons, darkness and heroes.  as darkness falls, the demons rise for hundreds of years these creatures have terrorized the night, slowly culling the human population. it was not always this way. men and women did not always cower behind protective magical wards and hope to see the dawn. once, they battled the demons on equal terms, but those days, and skills, are gone. arlen bales lives with his parents on their isolated farmstead until a demon attack shatters their world. he learns a savage lesson that day: that people, as well as magic, can let you down. rejecting the fear that kills as efficiently as the creatures, arlen risks another path in order to offer humanity a last, fleeting chance of survival.",
         "title_desc": "['painted', 'man', '(', 'demon', 'cycle', ',', 'book', ')', 'stunning', 'debut', 'fantasy', 'novel', 'author', 'peter', 'v.', 'brett', '.', 'painted', 'man', ',', 'book', 'one', 'demon', 'cycle', ',', 'captivating', 'thrilling', 'fantasy', 'adventure', ',', 'pulling', 'reader', 'world', 'demon', ',', 'darkness', 'hero', '.', 'darkness', 'fall', ',', 'demon', 'rise', 'hundred', 'year', 'creature', 'terrorized', 'night', ',', 'slowly', 'culling', 'human', 'population', '.', 'always', 'way', '.', 'men', 'woman', 'always', 'cower', 'behind', 'protective', 'magical', 'ward', 'hope', 'see', 'dawn', '.', ',', 'battled', 'demon', 'equal', 'term', ',', 'day', ',', 'skill', ',', 'gone', '.', 'arlen', 'bale', 'life', 'parent', 'isolated', 'farmstead', 'demon', 'attack', 'shatters', 'world', '.', 'learns', 'savage', 'lesson', 'day', ':', 'people', ',', 'well', 'magic', ',', 'let', '.', 'rejecting', 'fear', 'kill', 'efficiently', 'creature', ',', 'arlen', 'risk', 'another', 'path', 'order', 'offer…",
         "title_desc_filtered": "painted man ( demon cycle , book ) stunning debut fantasy novel author peter v. brett . painted man , book one demon cycle , captivating thrilling fantasy adventure , pulling reader world demon , darkness hero . darkness fall , demon rise hundred year creature terrorized night , slowly culling human population . always way . men woman always cower behind protective magical ward hope see dawn . , battled demon equal term , day , skill , gone . arlen bale life parent isolated farmstead demon attack shatters world . learns savage lesson day : people , well magic , let . rejecting fear kill efficiently creature , arlen risk another path order offer humanity last , fleeting chance survival .",
         "_deepnote_index_column": 4
        },
        {
         "title": "A Feast for Crows (A Song of Ice and Fire, Book 4)",
         "author": "George R.R. Martin",
         "desc": "HBO’s hit series A GAME OF THRONES is based on George R. R. Martin’s internationally bestselling series A SONG OF ICE AND FIRE, the greatest fantasy epic of the modern age. A FEAST FOR CROWS is the fourth volume in the series. The Lannisters are in power on the Iron Throne. The war in the Seven Kingdoms has burned itself out, but in its bitter aftermath new conflicts spark to life. The Martells of Dorne and the Starks of Winterfell seek vengeance for their dead. Euron Crow’s Eye, as black a pirate as ever raised a sail, returns from the smoking ruins of Valyria to claim the Iron Isles. From the icy north, where Others threaten the Wall, apprentice Maester Samwell Tarly brings a mysterious babe in arms to the Citadel. As plots, intrigue and battle threaten to engulf Westeros, victory will go to the men and women possessed of the coldest steel and the coldest hearts.",
         "lower_age": 16,
         "upper_age": 20,
         "Type": "Books",
         "title_formatted": "a feast for crows (a song of ice and fire, book )",
         "desc_formatted": "hbo’s hit series a game of thrones is based on george r. r. martin’s internationally bestselling series a song of ice and fire, the greatest fantasy epic of the modern age. a feast for crows is the fourth volume in the series. the lannisters are in power on the iron throne. the war in the seven kingdoms has burned itself out, but in its bitter aftermath new conflicts spark to life. the martells of dorne and the starks of winterfell seek vengeance for their dead. euron crow’s eye, as black a pirate as ever raised a sail, returns from the smoking ruins of valyria to claim the iron isles. from the icy north, where others threaten the wall, apprentice maester samwell tarly brings a mysterious babe in arms to the citadel. as plots, intrigue and battle threaten to engulf westeros, victory will go to the men and women possessed of the coldest steel and the coldest hearts.",
         "title_desc": "['feast', 'crow', '(', 'song', 'ice', 'fire', ',', 'book', ')', 'hbo', '’', 'hit', 'series', 'game', 'throne', 'based', 'george', 'r.', 'r.', 'martin', '’', 'internationally', 'bestselling', 'series', 'song', 'ice', 'fire', ',', 'greatest', 'fantasy', 'epic', 'modern', 'age', '.', 'feast', 'crow', 'fourth', 'volume', 'series', '.', 'lannisters', 'power', 'iron', 'throne', '.', 'war', 'seven', 'kingdom', 'burned', ',', 'bitter', 'aftermath', 'new', 'conflict', 'spark', 'life', '.', 'martells', 'dorne', 'starks', 'winterfell', 'seek', 'vengeance', 'dead', '.', 'euron', 'crow', '’', 'eye', ',', 'black', 'pirate', 'ever', 'raised', 'sail', ',', 'return', 'smoking', 'ruin', 'valyria', 'claim', 'iron', 'isle', '.', 'icy', 'north', ',', 'others', 'threaten', 'wall', ',', 'apprentice', 'maester', 'samwell', 'tarly', 'brings', 'mysterious', 'babe', 'arm', 'citadel', '.', 'plot', ',', 'intrigue', 'battle', 'threaten', 'engulf', 'westeros', ',', 'victory', 'go', 'men', 'woman', 'possessed', 'col…",
         "title_desc_filtered": "feast crow ( song ice fire , book ) hbo ’ hit series game throne based george r. r. martin ’ internationally bestselling series song ice fire , greatest fantasy epic modern age . feast crow fourth volume series . lannisters power iron throne . war seven kingdom burned , bitter aftermath new conflict spark life . martells dorne starks winterfell seek vengeance dead . euron crow ’ eye , black pirate ever raised sail , return smoking ruin valyria claim iron isle . icy north , others threaten wall , apprentice maester samwell tarly brings mysterious babe arm citadel . plot , intrigue battle threaten engulf westeros , victory go men woman possessed coldest steel coldest heart .",
         "_deepnote_index_column": 5
        },
        {
         "title": "God of War: The Official Novelization",
         "author": "J.M. Barlog",
         "desc": "The novelization of the highly anticipated God of War 4 game.\nHis vengeance against the Gods of Olympus years behind him, Kratos now lives as a man in the realm of Norse gods and monsters. It is in this harsh, unforgiving world that he must fight to survive... and teach his son to do the same. This startling reimagining of God of War deconstructs the core elements that defined the series—satisfying combat; breathtaking scale; and a powerful narrative—and fuses them anew.",
         "lower_age": 16,
         "upper_age": 20,
         "Type": "Books",
         "title_formatted": "god of war: the official novelization",
         "desc_formatted": "the novelization of the highly anticipated god of war  game.\nhis vengeance against the gods of olympus years behind him, kratos now lives as a man in the realm of norse gods and monsters. it is in this harsh, unforgiving world that he must fight to survive... and teach his son to do the same. this startling reimagining of god of war deconstructs the core elements that defined the series—satisfying combat; breathtaking scale; and a powerful narrative—and fuses them anew.",
         "title_desc": "['god', 'war', ':', 'official', 'novelization', 'novelization', 'highly', 'anticipated', 'god', 'war', 'game', '.', 'vengeance', 'god', 'olympus', 'year', 'behind', ',', 'kratos', 'life', 'man', 'realm', 'norse', 'god', 'monster', '.', 'harsh', ',', 'unforgiving', 'world', 'must', 'fight', 'survive', '...', 'teach', 'son', '.', 'startling', 'reimagining', 'god', 'war', 'deconstructs', 'core', 'element', 'defined', 'series—satisfying', 'combat', ';', 'breathtaking', 'scale', ';', 'powerful', 'narrative—and', 'fuse', 'anew', '.']",
         "title_desc_filtered": "god war : official novelization novelization highly anticipated god war game . vengeance god olympus year behind , kratos life man realm norse god monster . harsh , unforgiving world must fight survive ... teach son . startling reimagining god war deconstructs core element defined series—satisfying combat ; breathtaking scale ; powerful narrative—and fuse anew .",
         "_deepnote_index_column": 6
        },
        {
         "title": "Edgedancer: From the Stormlight Archive",
         "author": "Brandon Sanderson",
         "desc": "From #1 New York Times bestselling author Brandon Sanderson, a special gift edition of Edgedancer, a short novel of the Stormlight Archive (previously published in Arcanum Unbounded).Three years ago, Lift asked a goddess to stop her from growing older--a wish she believed was granted. Now, in Edgedancer, the barely teenage nascent Knight Radiant finds that time stands still for no one. Although the young Azish emperor granted her safe haven from an executioner she knows only as Darkness, court life is suffocating the free-spirited Lift, who can't help heading to Yeddaw when she hears the relentless Darkness is there hunting people like her with budding powers. The downtrodden in Yeddaw have no champion, and Lift knows she must seize this awesome responsibility.\nOther Tor books by Brandon Sanderson The Cosmere\n \n The Stormlight Archive\n The Way of Kings\n Words of Radiance\n Edgedancer (Novella)\n Oathbringer\n \n The Mistborn trilogy\n Mistborn: The Final Empire\n The Well of Ascension\n The …",
         "lower_age": 16,
         "upper_age": 20,
         "Type": "Books",
         "title_formatted": "edgedancer: from the stormlight archive",
         "desc_formatted": "from # new york times bestselling author brandon sanderson, a special gift edition of edgedancer, a short novel of the stormlight archive (previously published in arcanum unbounded).three years ago, lift asked a goddess to stop her from growing older--a wish she believed was granted. now, in edgedancer, the barely teenage nascent knight radiant finds that time stands still for no one. although the young azish emperor granted her safe haven from an executioner she knows only as darkness, court life is suffocating the free-spirited lift, who can't help heading to yeddaw when she hears the relentless darkness is there hunting people like her with budding powers. the downtrodden in yeddaw have no champion, and lift knows she must seize this awesome responsibility.\nother tor books by brandon sanderson the cosmere\n \n the stormlight archive\n the way of kings\n words of radiance\n edgedancer (novella)\n oathbringer\n \n the mistborn trilogy\n mistborn: the final empire\n the well of ascension\n the h…",
         "title_desc": "['edgedancer', ':', 'stormlight', 'archive', '#', 'new', 'york', 'time', 'bestselling', 'author', 'brandon', 'sanderson', ',', 'special', 'gift', 'edition', 'edgedancer', ',', 'short', 'novel', 'stormlight', 'archive', '(', 'previously', 'published', 'arcanum', 'unbounded', ')', '.three', 'year', 'ago', ',', 'lift', 'asked', 'goddess', 'stop', 'growing', 'older', '--', 'wish', 'believed', 'granted', '.', ',', 'edgedancer', ',', 'barely', 'teenage', 'nascent', 'knight', 'radiant', 'find', 'time', 'stand', 'still', 'one', '.', 'although', 'young', 'azish', 'emperor', 'granted', 'safe', 'executioner', 'know', 'darkness', ',', 'court', 'life', 'suffocating', 'free-spirited', 'lift', ',', 'ca', \"n't\", 'help', 'heading', 'yeddaw', 'hears', 'relentless', 'darkness', 'hunting', 'people', 'like', 'budding', 'power', '.', 'downtrodden', 'yeddaw', 'champion', ',', 'lift', 'know', 'must', 'seize', 'awesome', 'responsibility', '.', 'tor', 'book', 'brandon', 'sanderson', 'cosmere', 'stormlight', 'a…",
         "title_desc_filtered": "edgedancer : stormlight archive # new york time bestselling author brandon sanderson , special gift edition edgedancer , short novel stormlight archive ( previously published arcanum unbounded ) .three year ago , lift asked goddess stop growing older -- wish believed granted . , edgedancer , barely teenage nascent knight radiant find time stand still one . although young azish emperor granted safe executioner know darkness , court life suffocating free-spirited lift , ca n't help heading yeddaw hears relentless darkness hunting people like budding power . downtrodden yeddaw champion , lift know must seize awesome responsibility . tor book brandon sanderson cosmere stormlight archive way king word radiance edgedancer ( novella ) oathbringer mistborn trilogy mistborn : final empire well ascension hero age mistborn : wax wayne series alloy law shadow self band mourning collection arcanum unbounded cosmere novel elantris warbreaker alcatraz vs. evil librarian series alcatraz vs. evil libr…",
         "_deepnote_index_column": 7
        },
        {
         "title": "Blood, Sweat, and Pixels: The Triumphant, Turbulent Stories Behind How Video Games Are Made",
         "author": "Jason Schreier",
         "desc": "NATIONAL BESTSELLERDeveloping video games—hero's journey or fool's errand? The creative and technical logistics that go into building today's hottest games can be more harrowing and complex than the games themselves, often seeming like an endless maze or a bottomless abyss. In Blood, Sweat, and Pixels, Jason Schreier takes readers on a fascinating odyssey behind the scenes of video game development, where the creator may be a team of 600 overworked underdogs or a solitary geek genius. Exploring the artistic challenges, technical impossibilities, marketplace demands, and Donkey Kong-sized monkey wrenches thrown into the works by corporate, Blood, Sweat, and Pixels reveals how bringing any game to completion is more than Sisyphean—it's nothing short of miraculous.Taking some of the most popular, bestselling recent games, Schreier immerses readers in the hellfire of the development process, whether it's RPG studio Bioware's challenge to beat an impossible schedule and overcome countless …",
         "lower_age": 16,
         "upper_age": 20,
         "Type": "Books",
         "title_formatted": "blood, sweat, and pixels: the triumphant, turbulent stories behind how video games are made",
         "desc_formatted": "national bestsellerdeveloping video games—hero's journey or fool's errand? the creative and technical logistics that go into building today's hottest games can be more harrowing and complex than the games themselves, often seeming like an endless maze or a bottomless abyss. in blood, sweat, and pixels, jason schreier takes readers on a fascinating odyssey behind the scenes of video game development, where the creator may be a team of  overworked underdogs or a solitary geek genius. exploring the artistic challenges, technical impossibilities, marketplace demands, and donkey kong-sized monkey wrenches thrown into the works by corporate, blood, sweat, and pixels reveals how bringing any game to completion is more than sisyphean—it's nothing short of miraculous.taking some of the most popular, bestselling recent games, schreier immerses readers in the hellfire of the development process, whether it's rpg studio bioware's challenge to beat an impossible schedule and overcome countless tec…",
         "title_desc": "['blood', ',', 'sweat', ',', 'pixel', ':', 'triumphant', ',', 'turbulent', 'story', 'behind', 'video', 'game', 'made', 'national', 'bestsellerdeveloping', 'video', 'games—hero', \"'s\", 'journey', 'fool', \"'s\", 'errand', '?', 'creative', 'technical', 'logistics', 'go', 'building', 'today', \"'s\", 'hottest', 'game', 'harrowing', 'complex', 'game', ',', 'often', 'seeming', 'like', 'endless', 'maze', 'bottomless', 'abyss', '.', 'blood', ',', 'sweat', ',', 'pixel', ',', 'jason', 'schreier', 'take', 'reader', 'fascinating', 'odyssey', 'behind', 'scene', 'video', 'game', 'development', ',', 'creator', 'may', 'team', 'overworked', 'underdog', 'solitary', 'geek', 'genius', '.', 'exploring', 'artistic', 'challenge', ',', 'technical', 'impossibility', ',', 'marketplace', 'demand', ',', 'donkey', 'kong-sized', 'monkey', 'wrench', 'thrown', 'work', 'corporate', ',', 'blood', ',', 'sweat', ',', 'pixel', 'reveals', 'bringing', 'game', 'completion', 'sisyphean—it', \"'s\", 'nothing', 'short', 'miraculous…",
         "title_desc_filtered": "blood , sweat , pixel : triumphant , turbulent story behind video game made national bestsellerdeveloping video games—hero 's journey fool 's errand ? creative technical logistics go building today 's hottest game harrowing complex game , often seeming like endless maze bottomless abyss . blood , sweat , pixel , jason schreier take reader fascinating odyssey behind scene video game development , creator may team overworked underdog solitary geek genius . exploring artistic challenge , technical impossibility , marketplace demand , donkey kong-sized monkey wrench thrown work corporate , blood , sweat , pixel reveals bringing game completion sisyphean—it 's nothing short miraculous.taking popular , bestselling recent game , schreier immerses reader hellfire development process , whether 's rpg studio bioware 's challenge beat impossible schedule overcome countless technical nightmare build dragon age : inquisition ; indie developer eric barone 's single-handed effort grow country-life r…",
         "_deepnote_index_column": 8
        },
        {
         "title": "Twas The Nightshift Before Christmas: Festive hospital diaries from the author of million-copy hit This is Going to Hurt",
         "author": "Adam Kay",
         "desc": "A short gift book of festive hospital diaries from the author of million-copy bestseller This is Going to HurtChristmas is coming, the goose is getting fat . . . but 1.4 million NHS staff are heading off to work. In this perfect present for anyone who has ever set foot in a hospital, Adam Kay delves back into his diaries for a hilarious, horrifying and sometimes heartbreaking peek behind the blue curtain at Christmastime.Twas the Nightshift Before Christmas is a love letter to all those who spend their festive season on the front line, removing babies and baubles from the various places they get stuck, at the most wonderful time of the year.'The perfect surgical stocking-filler' The Times",
         "lower_age": 16,
         "upper_age": 20,
         "Type": "Books",
         "title_formatted": "twas the nightshift before christmas: festive hospital diaries from the author of million-copy hit this is going to hurt",
         "desc_formatted": "a short gift book of festive hospital diaries from the author of million-copy bestseller this is going to hurtchristmas is coming, the goose is getting fat . . . but . million nhs staff are heading off to work. in this perfect present for anyone who has ever set foot in a hospital, adam kay delves back into his diaries for a hilarious, horrifying and sometimes heartbreaking peek behind the blue curtain at christmastime.twas the nightshift before christmas is a love letter to all those who spend their festive season on the front line, removing babies and baubles from the various places they get stuck, at the most wonderful time of the year.'the perfect surgical stocking-filler' the times",
         "title_desc": "['twas', 'nightshift', 'christmas', ':', 'festive', 'hospital', 'diary', 'author', 'million-copy', 'hit', 'going', 'hurt', 'short', 'gift', 'book', 'festive', 'hospital', 'diary', 'author', 'million-copy', 'bestseller', 'going', 'hurtchristmas', 'coming', ',', 'goose', 'getting', 'fat', '.', '.', '.', '.', 'million', 'nh', 'staff', 'heading', 'work', '.', 'perfect', 'present', 'anyone', 'ever', 'set', 'foot', 'hospital', ',', 'adam', 'kay', 'delf', 'back', 'diary', 'hilarious', ',', 'horrifying', 'sometimes', 'heartbreaking', 'peek', 'behind', 'blue', 'curtain', 'christmastime.twas', 'nightshift', 'christmas', 'love', 'letter', 'spend', 'festive', 'season', 'front', 'line', ',', 'removing', 'baby', 'bauble', 'various', 'place', 'get', 'stuck', ',', 'wonderful', 'time', 'year', '.', \"'the\", 'perfect', 'surgical', 'stocking-filler', \"'\", 'time']",
         "title_desc_filtered": "twas nightshift christmas : festive hospital diary author million-copy hit going hurt short gift book festive hospital diary author million-copy bestseller going hurtchristmas coming , goose getting fat . . . . million nh staff heading work . perfect present anyone ever set foot hospital , adam kay delf back diary hilarious , horrifying sometimes heartbreaking peek behind blue curtain christmastime.twas nightshift christmas love letter spend festive season front line , removing baby bauble various place get stuck , wonderful time year . 'the perfect surgical stocking-filler ' time",
         "_deepnote_index_column": 9
        }
       ]
      },
      "text/plain": "                                                 title             author  \\\n0                           Attack on Titan: Volume 13     Hajime Isayama   \n1     Antiques Roadkill: A Trash 'n' Treasures Mystery      Barbara Allan   \n2                       The Art of Super Mario Odyssey           Nintendo   \n3       Getting Away Is Deadly: An Ellie Avery Mystery        Sara Rosett   \n4            The Painted Man (The Demon Cycle, Book 1)     Peter V. Brett   \n..                                                 ...                ...   \n943  The Essentials of Finance and Accounting for N...      Edward Fields   \n944                          The Magic of Thinking Big  David J. Schwartz   \n945  Twas The Nightshift Before Christmas: Festive ...           Adam Kay   \n946  Why We Sleep: The New Science of Sleep and Dreams     Matthew Walker   \n947           W is for Wasted: A Kinsey Millhone Novel        Sue Grafton   \n\n                                                  desc  lower_age  upper_age  \\\n0    NO SAFE PLACE LEFT At great cost to the Garris...         16         20   \n1    Determined to make a new start in her quaint h...         16         20   \n2    Take a globetrotting journey all over the worl...         16         20   \n3    With swollen feet and swelling belly, pregnant...         16         20   \n4    The stunning debut fantasy novel from author P...         16         20   \n..                                                 ...        ...        ...   \n943  Based on the bestselling AMA seminar, a nuts-a...         16         20   \n944  The timeless and practical advice in The Magic...         16         20   \n945  A short gift book of festive hospital diaries ...         16         20   \n946  'Astonishing ... an amazing book ... absolutel...         16         20   \n947  Private investigator Kinsey Millhone finds sho...         16         20   \n\n      Type                                    title_formatted  \\\n0    Books                           attack on titan: volume    \n1    Books   antiques roadkill: a trash 'n' treasures mystery   \n2    Books                     the art of super mario odyssey   \n3    Books     getting away is deadly: an ellie avery mystery   \n4    Books           the painted man (the demon cycle, book )   \n..     ...                                                ...   \n943  Books  the essentials of finance and accounting for n...   \n944  Books                          the magic of thinking big   \n945  Books  twas the nightshift before christmas: festive ...   \n946  Books  why we sleep: the new science of sleep and dreams   \n947  Books           w is for wasted: a kinsey millhone novel   \n\n                                        desc_formatted  \\\n0    no safe place left at great cost to the garris...   \n1    determined to make a new start in her quaint h...   \n2    take a globetrotting journey all over the worl...   \n3    with swollen feet and swelling belly, pregnant...   \n4    the stunning debut fantasy novel from author p...   \n..                                                 ...   \n943  based on the bestselling ama seminar, a nuts-a...   \n944  the timeless and practical advice in the magic...   \n945  a short gift book of festive hospital diaries ...   \n946  'astonishing ... an amazing book ... absolutel...   \n947  private investigator kinsey millhone finds sho...   \n\n                                            title_desc  \\\n0    [attack, titan, :, volume, safe, place, left, ...   \n1    [antique, roadkill, :, trash, 'n, ', treasure,...   \n2    [art, super, mario, odyssey, take, globetrotti...   \n3    [getting, away, deadly, :, ellie, avery, myste...   \n4    [painted, man, (, demon, cycle, ,, book, ), st...   \n..                                                 ...   \n943  [essential, finance, accounting, nonfinancial,...   \n944  [magic, thinking, big, timeless, practical, ad...   \n945  [twas, nightshift, christmas, :, festive, hosp...   \n946  [sleep, :, new, science, sleep, dream, 'astoni...   \n947  [w, wasted, :, kinsey, millhone, novel, privat...   \n\n                                   title_desc_filtered  \n0    attack titan : volume safe place left great co...  \n1    antique roadkill : trash 'n ' treasure mystery...  \n2    art super mario odyssey take globetrotting jou...  \n3    getting away deadly : ellie avery mystery swol...  \n4    painted man ( demon cycle , book ) stunning de...  \n..                                                 ...  \n943  essential finance accounting nonfinancial mana...  \n944  magic thinking big timeless practical advice m...  \n945  twas nightshift christmas : festive hospital d...  \n946  sleep : new science sleep dream 'astonishing ....  \n947  w wasted : kinsey millhone novel private inves...  \n\n[948 rows x 10 columns]",
      "text/html": "<div>\n<style scoped>\n    .dataframe tbody tr th:only-of-type {\n        vertical-align: middle;\n    }\n\n    .dataframe tbody tr th {\n        vertical-align: top;\n    }\n\n    .dataframe thead th {\n        text-align: right;\n    }\n</style>\n<table border=\"1\" class=\"dataframe\">\n  <thead>\n    <tr style=\"text-align: right;\">\n      <th></th>\n      <th>title</th>\n      <th>author</th>\n      <th>desc</th>\n      <th>lower_age</th>\n      <th>upper_age</th>\n      <th>Type</th>\n      <th>title_formatted</th>\n      <th>desc_formatted</th>\n      <th>title_desc</th>\n      <th>title_desc_filtered</th>\n    </tr>\n  </thead>\n  <tbody>\n    <tr>\n      <th>0</th>\n      <td>Attack on Titan: Volume 13</td>\n      <td>Hajime Isayama</td>\n      <td>NO SAFE PLACE LEFT At great cost to the Garris...</td>\n      <td>16</td>\n      <td>20</td>\n      <td>Books</td>\n      <td>attack on titan: volume</td>\n      <td>no safe place left at great cost to the garris...</td>\n      <td>[attack, titan, :, volume, safe, place, left, ...</td>\n      <td>attack titan : volume safe place left great co...</td>\n    </tr>\n    <tr>\n      <th>1</th>\n      <td>Antiques Roadkill: A Trash 'n' Treasures Mystery</td>\n      <td>Barbara Allan</td>\n      <td>Determined to make a new start in her quaint h...</td>\n      <td>16</td>\n      <td>20</td>\n      <td>Books</td>\n      <td>antiques roadkill: a trash 'n' treasures mystery</td>\n      <td>determined to make a new start in her quaint h...</td>\n      <td>[antique, roadkill, :, trash, 'n, ', treasure,...</td>\n      <td>antique roadkill : trash 'n ' treasure mystery...</td>\n    </tr>\n    <tr>\n      <th>2</th>\n      <td>The Art of Super Mario Odyssey</td>\n      <td>Nintendo</td>\n      <td>Take a globetrotting journey all over the worl...</td>\n      <td>16</td>\n      <td>20</td>\n      <td>Books</td>\n      <td>the art of super mario odyssey</td>\n      <td>take a globetrotting journey all over the worl...</td>\n      <td>[art, super, mario, odyssey, take, globetrotti...</td>\n      <td>art super mario odyssey take globetrotting jou...</td>\n    </tr>\n    <tr>\n      <th>3</th>\n      <td>Getting Away Is Deadly: An Ellie Avery Mystery</td>\n      <td>Sara Rosett</td>\n      <td>With swollen feet and swelling belly, pregnant...</td>\n      <td>16</td>\n      <td>20</td>\n      <td>Books</td>\n      <td>getting away is deadly: an ellie avery mystery</td>\n      <td>with swollen feet and swelling belly, pregnant...</td>\n      <td>[getting, away, deadly, :, ellie, avery, myste...</td>\n      <td>getting away deadly : ellie avery mystery swol...</td>\n    </tr>\n    <tr>\n      <th>4</th>\n      <td>The Painted Man (The Demon Cycle, Book 1)</td>\n      <td>Peter V. Brett</td>\n      <td>The stunning debut fantasy novel from author P...</td>\n      <td>16</td>\n      <td>20</td>\n      <td>Books</td>\n      <td>the painted man (the demon cycle, book )</td>\n      <td>the stunning debut fantasy novel from author p...</td>\n      <td>[painted, man, (, demon, cycle, ,, book, ), st...</td>\n      <td>painted man ( demon cycle , book ) stunning de...</td>\n    </tr>\n    <tr>\n      <th>...</th>\n      <td>...</td>\n      <td>...</td>\n      <td>...</td>\n      <td>...</td>\n      <td>...</td>\n      <td>...</td>\n      <td>...</td>\n      <td>...</td>\n      <td>...</td>\n      <td>...</td>\n    </tr>\n    <tr>\n      <th>943</th>\n      <td>The Essentials of Finance and Accounting for N...</td>\n      <td>Edward Fields</td>\n      <td>Based on the bestselling AMA seminar, a nuts-a...</td>\n      <td>16</td>\n      <td>20</td>\n      <td>Books</td>\n      <td>the essentials of finance and accounting for n...</td>\n      <td>based on the bestselling ama seminar, a nuts-a...</td>\n      <td>[essential, finance, accounting, nonfinancial,...</td>\n      <td>essential finance accounting nonfinancial mana...</td>\n    </tr>\n    <tr>\n      <th>944</th>\n      <td>The Magic of Thinking Big</td>\n      <td>David J. Schwartz</td>\n      <td>The timeless and practical advice in The Magic...</td>\n      <td>16</td>\n      <td>20</td>\n      <td>Books</td>\n      <td>the magic of thinking big</td>\n      <td>the timeless and practical advice in the magic...</td>\n      <td>[magic, thinking, big, timeless, practical, ad...</td>\n      <td>magic thinking big timeless practical advice m...</td>\n    </tr>\n    <tr>\n      <th>945</th>\n      <td>Twas The Nightshift Before Christmas: Festive ...</td>\n      <td>Adam Kay</td>\n      <td>A short gift book of festive hospital diaries ...</td>\n      <td>16</td>\n      <td>20</td>\n      <td>Books</td>\n      <td>twas the nightshift before christmas: festive ...</td>\n      <td>a short gift book of festive hospital diaries ...</td>\n      <td>[twas, nightshift, christmas, :, festive, hosp...</td>\n      <td>twas nightshift christmas : festive hospital d...</td>\n    </tr>\n    <tr>\n      <th>946</th>\n      <td>Why We Sleep: The New Science of Sleep and Dreams</td>\n      <td>Matthew Walker</td>\n      <td>'Astonishing ... an amazing book ... absolutel...</td>\n      <td>16</td>\n      <td>20</td>\n      <td>Books</td>\n      <td>why we sleep: the new science of sleep and dreams</td>\n      <td>'astonishing ... an amazing book ... absolutel...</td>\n      <td>[sleep, :, new, science, sleep, dream, 'astoni...</td>\n      <td>sleep : new science sleep dream 'astonishing ....</td>\n    </tr>\n    <tr>\n      <th>947</th>\n      <td>W is for Wasted: A Kinsey Millhone Novel</td>\n      <td>Sue Grafton</td>\n      <td>Private investigator Kinsey Millhone finds sho...</td>\n      <td>16</td>\n      <td>20</td>\n      <td>Books</td>\n      <td>w is for wasted: a kinsey millhone novel</td>\n      <td>private investigator kinsey millhone finds sho...</td>\n      <td>[w, wasted, :, kinsey, millhone, novel, privat...</td>\n      <td>w wasted : kinsey millhone novel private inves...</td>\n    </tr>\n  </tbody>\n</table>\n<p>948 rows × 10 columns</p>\n</div>"
     },
     "metadata": {}
    }
   ]
  },
  {
   "cell_type": "code",
   "metadata": {
    "cell_id": "82d17eb0dd9a4c0199629f1e0654bc62",
    "tags": [],
    "deepnote_to_be_reexecuted": false,
    "source_hash": "e6e26d91",
    "execution_start": 1656109284964,
    "execution_millis": 134,
    "deepnote_table_state": {
     "pageSize": 10,
     "pageIndex": 0,
     "filters": [],
     "sortBy": []
    },
    "deepnote_table_loading": false,
    "deepnote_cell_type": "code",
    "deepnote_cell_height": 729.265625
   },
   "source": "# Remove punctuation for clarity \ndf_combined['title_desc_filtered'] = df_combined['title_desc_filtered'].str.replace(r'[^\\w\\s]+', '')\ndf_combined",
   "execution_count": 17,
   "outputs": [
    {
     "name": "stderr",
     "text": "<ipython-input-17-708129f62dbc>:3: FutureWarning: The default value of regex will change from True to False in a future version.\n  df_combined['title_desc_filtered'] = df_combined['title_desc_filtered'].str.replace(r'[^\\w\\s]+', '')\n",
     "output_type": "stream"
    },
    {
     "output_type": "execute_result",
     "execution_count": 17,
     "data": {
      "application/vnd.deepnote.dataframe.v3+json": {
       "column_count": 11,
       "row_count": 463,
       "columns": [
        {
         "name": "title",
         "dtype": "object",
         "stats": {
          "unique_count": 429,
          "nan_count": 0,
          "categories": [
           {
            "name": "Nursery Rhymes",
            "count": 3
           },
           {
            "name": "King Lear - Manga Shakespeare",
            "count": 2
           },
           {
            "name": "427 others",
            "count": 458
           }
          ]
         }
        },
        {
         "name": "author",
         "dtype": "object",
         "stats": {
          "unique_count": 39,
          "nan_count": 424,
          "categories": [
           {
            "name": "Kelly Barnhill",
            "count": 1
           },
           {
            "name": "38 others",
            "count": 38
           },
           {
            "name": "Missing",
            "count": 424
           }
          ]
         }
        },
        {
         "name": "desc",
         "dtype": "object",
         "stats": {
          "unique_count": 434,
          "nan_count": 0,
          "categories": [
           {
            "name": "This dad does everything well: from running like a cheetah to singing like a pop star. He's even a dab hand on roller skates. Quite simply, he's brilliant.\nThis board book version of a much-loved story brims over with an adorable, young enthusiasm for dads - at a time when they just can't do wrong!\nThe charming, funny illustrations will make you want to stop at each page, and go back over the little details they capture.\nIt's all guaranteed to put a big smile on the face ",
            "count": 2
           },
           {
            "name": "Follow a father and his family as they go out in search of a bear. They wade through the grass, splash through the river, squelch through the mud and even negotiate a snowstorm on their way. But what will await them in the cave on the other side of the dark forest?\nMichael Rosen's repetitive text has a musical charm that lends itself perfectly to reading aloud, whether to a group or to an individual - and children will enjoy joining in with actions and words. Combined with Helen Oxenbury's beautiful illustrations, it makes for a wonderfully enertaining picture book that has be",
            "count": 2
           },
           {
            "name": "432 others",
            "count": 459
           }
          ]
         }
        },
        {
         "name": "lower_age",
         "dtype": "int64",
         "stats": {
          "unique_count": 15,
          "nan_count": 0,
          "min": "0",
          "max": "14",
          "histogram": [
           {
            "bin_start": 0,
            "bin_end": 1.4,
            "count": 70
           },
           {
            "bin_start": 1.4,
            "bin_end": 2.8,
            "count": 55
           },
           {
            "bin_start": 2.8,
            "bin_end": 4.199999999999999,
            "count": 78
           },
           {
            "bin_start": 4.199999999999999,
            "bin_end": 5.6,
            "count": 22
           },
           {
            "bin_start": 5.6,
            "bin_end": 7,
            "count": 27
           },
           {
            "bin_start": 7,
            "bin_end": 8.399999999999999,
            "count": 70
           },
           {
            "bin_start": 8.399999999999999,
            "bin_end": 9.799999999999999,
            "count": 44
           },
           {
            "bin_start": 9.799999999999999,
            "bin_end": 11.2,
            "count": 64
           },
           {
            "bin_start": 11.2,
            "bin_end": 12.6,
            "count": 21
           },
           {
            "bin_start": 12.6,
            "bin_end": 14,
            "count": 12
           }
          ]
         }
        },
        {
         "name": "upper_age",
         "dtype": "int64",
         "stats": {
          "unique_count": 16,
          "nan_count": 0,
          "min": "2",
          "max": "17",
          "histogram": [
           {
            "bin_start": 2,
            "bin_end": 3.5,
            "count": 33
           },
           {
            "bin_start": 3.5,
            "bin_end": 5,
            "count": 24
           },
           {
            "bin_start": 5,
            "bin_end": 6.5,
            "count": 93
           },
           {
            "bin_start": 6.5,
            "bin_end": 8,
            "count": 26
           },
           {
            "bin_start": 8,
            "bin_end": 9.5,
            "count": 74
           },
           {
            "bin_start": 9.5,
            "bin_end": 11,
            "count": 29
           },
           {
            "bin_start": 11,
            "bin_end": 12.5,
            "count": 85
           },
           {
            "bin_start": 12.5,
            "bin_end": 14,
            "count": 34
           },
           {
            "bin_start": 14,
            "bin_end": 15.5,
            "count": 53
           },
           {
            "bin_start": 15.5,
            "bin_end": 17,
            "count": 12
           }
          ]
         }
        },
        {
         "name": "Type",
         "dtype": "object",
         "stats": {
          "unique_count": 2,
          "nan_count": 0,
          "categories": [
           {
            "name": "Stories",
            "count": 422
           },
           {
            "name": "Books",
            "count": 41
           }
          ]
         }
        },
        {
         "name": "Author",
         "dtype": "object",
         "stats": {
          "unique_count": 0,
          "nan_count": 463,
          "categories": [
           {
            "name": "Missing",
            "count": 463
           }
          ]
         }
        },
        {
         "name": "title_formatted",
         "dtype": "object",
         "stats": {
          "unique_count": 429,
          "nan_count": 0,
          "categories": [
           {
            "name": "nursery rhymes",
            "count": 3
           },
           {
            "name": "king lear - manga shakespeare",
            "count": 2
           },
           {
            "name": "427 others",
            "count": 458
           }
          ]
         }
        },
        {
         "name": "desc_formatted",
         "dtype": "object",
         "stats": {
          "unique_count": 434,
          "nan_count": 0,
          "categories": [
           {
            "name": "this dad does everything well: from running like a cheetah to singing like a pop star. he's even a dab hand on roller skates. quite simply, he's brilliant.\nthis board book version of a much-loved story brims over with an adorable, young enthusiasm for dads - at a time when they just can't do wrong!\nthe charming, funny illustrations will make you want to stop at each page, and go back over the little details they capture.\nit's all guaranteed to put a big smile on the face ",
            "count": 2
           },
           {
            "name": "follow a father and his family as they go out in search of a bear. they wade through the grass, splash through the river, squelch through the mud and even negotiate a snowstorm on their way. but what will await them in the cave on the other side of the dark forest?\nmichael rosen's repetitive text has a musical charm that lends itself perfectly to reading aloud, whether to a group or to an individual - and children will enjoy joining in with actions and words. combined with helen oxenbury's beautiful illustrations, it makes for a wonderfully enertaining picture book that has be",
            "count": 2
           },
           {
            "name": "432 others",
            "count": 459
           }
          ]
         }
        },
        {
         "name": "title_desc",
         "dtype": "object",
         "stats": {
          "unique_count": 463,
          "nan_count": 0,
          "categories": [
           {
            "name": "['dad', 'brilliant', 'dad', 'everything', 'well', ':', 'running', 'like', 'cheetah', 'singing', 'like', 'pop', 'star', '.', \"'s\", 'even', 'dab', 'hand', 'roller', 'skate', '.', 'quite', 'simply', ',', \"'s\", 'brilliant', '.', 'board', 'book', 'version', 'much-loved', 'story', 'brim', 'adorable', ',', 'young', 'enthusiasm', 'dad', '-', 'time', 'ca', \"n't\", 'wrong', '!', 'charming', ',', 'funny', 'illustration', 'make', 'want', 'stop', 'page', ',', 'go', 'back', 'little', 'detail', 'capture', '.', \"'s\", 'guaranteed', 'put', 'big', 'smile', 'face']",
            "count": 2
           },
           {
            "name": "[\"'re\", 'going', 'bear', 'hunt', 'follow', 'father', 'family', 'go', 'search', 'bear', '.', 'wade', 'grass', ',', 'splash', 'river', ',', 'squelch', 'mud', 'even', 'negotiate', 'snowstorm', 'way', '.', 'await', 'cave', 'side', 'dark', 'forest', '?', 'michael', 'rosen', \"'s\", 'repetitive', 'text', 'musical', 'charm', 'lends', 'perfectly', 'reading', 'aloud', ',', 'whether', 'group', 'individual', '-', 'child', 'enjoy', 'joining', 'action', 'word', '.', 'combined', 'helen', 'oxenbury', \"'s\", 'beautiful', 'illustration', ',', 'make', 'wonderfully', 'enertaining', 'picture', 'book']",
            "count": 2
           },
           {
            "name": "432 others",
            "count": 459
           }
          ]
         }
        },
        {
         "name": "title_desc_filtered",
         "dtype": "object",
         "stats": {
          "unique_count": 434,
          "nan_count": 0,
          "categories": [
           {
            "name": "dad brilliant dad everything well  running like cheetah singing like pop star  s even dab hand roller skate  quite simply  s brilliant  board book version muchloved story brim adorable  young enthusiasm dad  time ca nt wrong  charming  funny illustration make want stop page  go back little detail capture  s guaranteed put big smile face",
            "count": 2
           },
           {
            "name": "re going bear hunt follow father family go search bear  wade grass  splash river  squelch mud even negotiate snowstorm way  await cave side dark forest  michael rosen s repetitive text musical charm lends perfectly reading aloud  whether group individual  child enjoy joining action word  combined helen oxenbury s beautiful illustration  make wonderfully enertaining picture book",
            "count": 2
           },
           {
            "name": "432 others",
            "count": 459
           }
          ]
         }
        },
        {
         "name": "_deepnote_index_column",
         "dtype": "int64"
        }
       ],
       "rows": [
        {
         "title": "The Girl Who Drank the Moon",
         "author": "Kelly Barnhill",
         "desc": "Every year, the evil Protectorate offers a baby to the evil witch in the forest to ensure their village’s safety. Yet, unknown to them, the witch is Xan, the plump and knowledgeable protector of the babies that she takes to the neighbouring village to be raised as special children, fed on starlight and destined to do wonderful things.\nYet, one day, Xan feeds one baby the moon by mistake and fills her with a huge amount of magic – a dangerous amount, as it turns out – so Xan decides to raise Luna as her own. But nothing is straightforward, and when Luna turns 13, everything will change.\nKelly Barnhill won the Newbery Medal in the US for this thoughtful and magical book about belonging, fear and family, and it’s easy to see why. The writing flows beautifully and Barnhill’s keen observation of human nature fits naturally into the story, which moves along at a satisfying pace.\nXan is a delightfully pleasant and caring crone witch who dispels the traditional image of cackling evildoer, and…",
         "lower_age": 10,
         "upper_age": 14,
         "Type": "Books",
         "Author": "nan",
         "title_formatted": "the girl who drank the moon",
         "desc_formatted": "every year, the evil protectorate offers a baby to the evil witch in the forest to ensure their village’s safety. yet, unknown to them, the witch is xan, the plump and knowledgeable protector of the babies that she takes to the neighbouring village to be raised as special children, fed on starlight and destined to do wonderful things.\nyet, one day, xan feeds one baby the moon by mistake and fills her with a huge amount of magic – a dangerous amount, as it turns out – so xan decides to raise luna as her own. but nothing is straightforward, and when luna turns , everything will change.\nkelly barnhill won the newbery medal in the us for this thoughtful and magical book about belonging, fear and family, and it’s easy to see why. the writing flows beautifully and barnhill’s keen observation of human nature fits naturally into the story, which moves along at a satisfying pace.\nxan is a delightfully pleasant and caring crone witch who dispels the traditional image of cackling evildoer, and r…",
         "title_desc": "['girl', 'drank', 'moon', 'every', 'year', ',', 'evil', 'protectorate', 'offer', 'baby', 'evil', 'witch', 'forest', 'ensure', 'village', '’', 'safety', '.', 'yet', ',', 'unknown', ',', 'witch', 'xan', ',', 'plump', 'knowledgeable', 'protector', 'baby', 'take', 'neighbouring', 'village', 'raised', 'special', 'child', ',', 'fed', 'starlight', 'destined', 'wonderful', 'thing', '.', 'yet', ',', 'one', 'day', ',', 'xan', 'feed', 'one', 'baby', 'moon', 'mistake', 'fill', 'huge', 'amount', 'magic', '–', 'dangerous', 'amount', ',', 'turn', '–', 'xan', 'decides', 'raise', 'luna', '.', 'nothing', 'straightforward', ',', 'luna', 'turn', ',', 'everything', 'change', '.', 'kelly', 'barnhill', 'newbery', 'medal', 'u', 'thoughtful', 'magical', 'book', 'belonging', ',', 'fear', 'family', ',', '’', 'easy', 'see', '.', 'writing', 'flow', 'beautifully', 'barnhill', '’', 'keen', 'observation', 'human', 'nature', 'fit', 'naturally', 'story', ',', 'move', 'along', 'satisfying', 'pace', '.', 'xan', 'delight…",
         "title_desc_filtered": "girl drank moon every year  evil protectorate offer baby evil witch forest ensure village  safety  yet  unknown  witch xan  plump knowledgeable protector baby take neighbouring village raised special child  fed starlight destined wonderful thing  yet  one day  xan feed one baby moon mistake fill huge amount magic  dangerous amount  turn  xan decides raise luna  nothing straightforward  luna turn  everything change  kelly barnhill newbery medal u thoughtful magical book belonging  fear family   easy see  writing flow beautifully barnhill  keen observation human nature fit naturally story  move along satisfying pace  xan delightfully pleasant caring crone witch dispels traditional image cackling evildoer  replaces something far loving magical  perfect young fan neil gaiman  ursula le guin diana wynne jones ",
         "_deepnote_index_column": 0
        },
        {
         "title": "Time Between Us",
         "author": "Tamara Ireland Stone",
         "desc": "Sixteen-year-old Anna is struggling to understand Bennett, the new boy at school. One minute he seems interested in her and she feels they have a connection  - but the next, he avoids her and acts as if he hardly knows her.\nWhen he saves her life, she finally discovers his secret and all the pieces of the puzzle fall into place. Anna realises they should never have been able to meet, let alone fall in love, because although he is a year older than her, Bennett was born in the year she turned 16. \nThis compelling time-travel adventure in the tradition of The Time Traveller's Wife will appeal to young fans of romance. Engaging, poignant and complex, it is an unpredictable story that will keep readers engrossed until the last page.",
         "lower_age": 12,
         "upper_age": 15,
         "Type": "Books",
         "Author": "nan",
         "title_formatted": "time between us",
         "desc_formatted": "sixteen-year-old anna is struggling to understand bennett, the new boy at school. one minute he seems interested in her and she feels they have a connection  - but the next, he avoids her and acts as if he hardly knows her.\nwhen he saves her life, she finally discovers his secret and all the pieces of the puzzle fall into place. anna realises they should never have been able to meet, let alone fall in love, because although he is a year older than her, bennett was born in the year she turned . \nthis compelling time-travel adventure in the tradition of the time traveller's wife will appeal to young fans of romance. engaging, poignant and complex, it is an unpredictable story that will keep readers engrossed until the last page.",
         "title_desc": "['time', 'u', 'sixteen-year-old', 'anna', 'struggling', 'understand', 'bennett', ',', 'new', 'boy', 'school', '.', 'one', 'minute', 'seems', 'interested', 'feel', 'connection', '-', 'next', ',', 'avoids', 'act', 'hardly', 'know', '.', 'save', 'life', ',', 'finally', 'discovers', 'secret', 'piece', 'puzzle', 'fall', 'place', '.', 'anna', 'realises', 'never', 'able', 'meet', ',', 'let', 'alone', 'fall', 'love', ',', 'although', 'year', 'older', ',', 'bennett', 'born', 'year', 'turned', '.', 'compelling', 'time-travel', 'adventure', 'tradition', 'time', 'traveller', \"'s\", 'wife', 'appeal', 'young', 'fan', 'romance', '.', 'engaging', ',', 'poignant', 'complex', ',', 'unpredictable', 'story', 'keep', 'reader', 'engrossed', 'last', 'page', '.']",
         "title_desc_filtered": "time u sixteenyearold anna struggling understand bennett  new boy school  one minute seems interested feel connection  next  avoids act hardly know  save life  finally discovers secret piece puzzle fall place  anna realises never able meet  let alone fall love  although year older  bennett born year turned  compelling timetravel adventure tradition time traveller s wife appeal young fan romance  engaging  poignant complex  unpredictable story keep reader engrossed last page ",
         "_deepnote_index_column": 1
        },
        {
         "title": "Girl Out of Water",
         "author": "Nat Luurtsema",
         "desc": "Lou Brown's swimming ambitions sank without trace when she failed in the Olympic time trials that sent her best friend off to High Performance Training Camp.\nFifteen years old, 5 foot 10 (and still growing), left at home with no hobby and no friend, she struggles to fit in with even the least cool kids at school. When an accidental encounter leads to her coaching three of the coolest guys around in their quest to get on TV, Lou finds her life descending into chaos and craziness.\nWith plenty of genuine laugh-out-loud moments and a zany plot, Lou's story is a hilarious, yet poignant, exploration of the highs and lows of navigating teenage relationships and social expectations. Contemporary and engaging with believable characters and a refreshingly original voice.",
         "lower_age": 10,
         "upper_age": 13,
         "Type": "Books",
         "Author": "nan",
         "title_formatted": "girl out of water",
         "desc_formatted": "lou brown's swimming ambitions sank without trace when she failed in the olympic time trials that sent her best friend off to high performance training camp.\nfifteen years old,  foot  (and still growing), left at home with no hobby and no friend, she struggles to fit in with even the least cool kids at school. when an accidental encounter leads to her coaching three of the coolest guys around in their quest to get on tv, lou finds her life descending into chaos and craziness.\nwith plenty of genuine laugh-out-loud moments and a zany plot, lou's story is a hilarious, yet poignant, exploration of the highs and lows of navigating teenage relationships and social expectations. contemporary and engaging with believable characters and a refreshingly original voice.",
         "title_desc": "['girl', 'water', 'lou', 'brown', \"'s\", 'swimming', 'ambition', 'sank', 'without', 'trace', 'failed', 'olympic', 'time', 'trial', 'sent', 'best', 'friend', 'high', 'performance', 'training', 'camp', '.', 'fifteen', 'year', 'old', ',', 'foot', '(', 'still', 'growing', ')', ',', 'left', 'home', 'hobby', 'friend', ',', 'struggle', 'fit', 'even', 'least', 'cool', 'kid', 'school', '.', 'accidental', 'encounter', 'lead', 'coaching', 'three', 'coolest', 'guy', 'around', 'quest', 'get', 'tv', ',', 'lou', 'find', 'life', 'descending', 'chaos', 'craziness', '.', 'plenty', 'genuine', 'laugh-out-loud', 'moment', 'zany', 'plot', ',', 'lou', \"'s\", 'story', 'hilarious', ',', 'yet', 'poignant', ',', 'exploration', 'high', 'low', 'navigating', 'teenage', 'relationship', 'social', 'expectation', '.', 'contemporary', 'engaging', 'believable', 'character', 'refreshingly', 'original', 'voice', '.']",
         "title_desc_filtered": "girl water lou brown s swimming ambition sank without trace failed olympic time trial sent best friend high performance training camp  fifteen year old  foot  still growing   left home hobby friend  struggle fit even least cool kid school  accidental encounter lead coaching three coolest guy around quest get tv  lou find life descending chaos craziness  plenty genuine laughoutloud moment zany plot  lou s story hilarious  yet poignant  exploration high low navigating teenage relationship social expectation  contemporary engaging believable character refreshingly original voice ",
         "_deepnote_index_column": 2
        },
        {
         "title": "Captive",
         "author": "A J Grainger",
         "desc": "Robyn is scared. Ever since the attempted assassination of her dad, the British prime minister, she dreads leaving home. Especially when he's staying in Downing Street and she's off to her grandparents' country estate. But this time, the animal rights activists aren't after the prime minister. It's Robyn they want.\nKidnapped at gunpoint, incarcerated in a tiny cell, Robyn wonders how far her dad will go to secure her release. Doubts about lies and corruption at the heart of government start to fester. At the same time, she grows close to one of her captors - the boy with regret and melancholy in his captivating green eyes…\nA gripping read and a moving exploration of identity, celebrity, loyalty, politics and power.",
         "lower_age": 13,
         "upper_age": 16,
         "Type": "Books",
         "Author": "nan",
         "title_formatted": "captive",
         "desc_formatted": "robyn is scared. ever since the attempted assassination of her dad, the british prime minister, she dreads leaving home. especially when he's staying in downing street and she's off to her grandparents' country estate. but this time, the animal rights activists aren't after the prime minister. it's robyn they want.\nkidnapped at gunpoint, incarcerated in a tiny cell, robyn wonders how far her dad will go to secure her release. doubts about lies and corruption at the heart of government start to fester. at the same time, she grows close to one of her captors - the boy with regret and melancholy in his captivating green eyes…\na gripping read and a moving exploration of identity, celebrity, loyalty, politics and power.",
         "title_desc": "['captive', 'robyn', 'scared', '.', 'ever', 'since', 'attempted', 'assassination', 'dad', ',', 'british', 'prime', 'minister', ',', 'dread', 'leaving', 'home', '.', 'especially', \"'s\", 'staying', 'downing', 'street', \"'s\", 'grandparent', \"'\", 'country', 'estate', '.', 'time', ',', 'animal', 'right', 'activist', \"n't\", 'prime', 'minister', '.', \"'s\", 'robyn', 'want', '.', 'kidnapped', 'gunpoint', ',', 'incarcerated', 'tiny', 'cell', ',', 'robyn', 'wonder', 'far', 'dad', 'go', 'secure', 'release', '.', 'doubt', 'lie', 'corruption', 'heart', 'government', 'start', 'fester', '.', 'time', ',', 'grows', 'close', 'one', 'captor', '-', 'boy', 'regret', 'melancholy', 'captivating', 'green', 'eyes…', 'gripping', 'read', 'moving', 'exploration', 'identity', ',', 'celebrity', ',', 'loyalty', ',', 'politics', 'power', '.']",
         "title_desc_filtered": "captive robyn scared  ever since attempted assassination dad  british prime minister  dread leaving home  especially s staying downing street s grandparent  country estate  time  animal right activist nt prime minister  s robyn want  kidnapped gunpoint  incarcerated tiny cell  robyn wonder far dad go secure release  doubt lie corruption heart government start fester  time  grows close one captor  boy regret melancholy captivating green eyes gripping read moving exploration identity  celebrity  loyalty  politics power ",
         "_deepnote_index_column": 3
        },
        {
         "title": "The School of Music",
         "author": "Rachel Bowen and Meurig Bowen Illustrator: Daniel Frost",
         "desc": "Welcome to the School of Music. In charge is Maestro Sergio Trunk. Over three terms, you'll discover the wide, wonderful world of music, whether you're listening, reading, writing or playing.  \nThere's a tour of musical genres and eras, from classical to jazz, medieval to modern, as well as introductions to the various instrument families - those played with a bow and those with keys. Once you've covered reading and writing music, and getting the timing right, you reach the best bit: having fun making a wonderful sound!\nAccompanying a chatty text, clean, sharp ice-cream coloured graphics make complex concepts incredibly clear, with musical samples to download and activities to stimulate responses and deepen understanding. Wise, inspiring and innovative, this introduction is underpinned by great depth and breadth of expertise. ",
         "lower_age": 10,
         "upper_age": 13,
         "Type": "Books",
         "Author": "nan",
         "title_formatted": "the school of music",
         "desc_formatted": "welcome to the school of music. in charge is maestro sergio trunk. over three terms, you'll discover the wide, wonderful world of music, whether you're listening, reading, writing or playing.  \nthere's a tour of musical genres and eras, from classical to jazz, medieval to modern, as well as introductions to the various instrument families - those played with a bow and those with keys. once you've covered reading and writing music, and getting the timing right, you reach the best bit: having fun making a wonderful sound!\naccompanying a chatty text, clean, sharp ice-cream coloured graphics make complex concepts incredibly clear, with musical samples to download and activities to stimulate responses and deepen understanding. wise, inspiring and innovative, this introduction is underpinned by great depth and breadth of expertise. ",
         "title_desc": "['school', 'music', 'welcome', 'school', 'music', '.', 'charge', 'maestro', 'sergio', 'trunk', '.', 'three', 'term', ',', \"'ll\", 'discover', 'wide', ',', 'wonderful', 'world', 'music', ',', 'whether', \"'re\", 'listening', ',', 'reading', ',', 'writing', 'playing', '.', \"'s\", 'tour', 'musical', 'genre', 'era', ',', 'classical', 'jazz', ',', 'medieval', 'modern', ',', 'well', 'introduction', 'various', 'instrument', 'family', '-', 'played', 'bow', 'key', '.', \"'ve\", 'covered', 'reading', 'writing', 'music', ',', 'getting', 'timing', 'right', ',', 'reach', 'best', 'bit', ':', 'fun', 'making', 'wonderful', 'sound', '!', 'accompanying', 'chatty', 'text', ',', 'clean', ',', 'sharp', 'ice-cream', 'coloured', 'graphic', 'make', 'complex', 'concept', 'incredibly', 'clear', ',', 'musical', 'sample', 'download', 'activity', 'stimulate', 'response', 'deepen', 'understanding', '.', 'wise', ',', 'inspiring', 'innovative', ',', 'introduction', 'underpinned', 'great', 'depth', 'breadth', 'expertise', …",
         "title_desc_filtered": "school music welcome school music  charge maestro sergio trunk  three term  ll discover wide  wonderful world music  whether re listening  reading  writing playing  s tour musical genre era  classical jazz  medieval modern  well introduction various instrument family  played bow key  ve covered reading writing music  getting timing right  reach best bit  fun making wonderful sound  accompanying chatty text  clean  sharp icecream coloured graphic make complex concept incredibly clear  musical sample download activity stimulate response deepen understanding  wise  inspiring innovative  introduction underpinned great depth breadth expertise ",
         "_deepnote_index_column": 4
        },
        {
         "title": "The Crystal Stair",
         "author": "Catherine Fisher",
         "desc": "The Crystal Stair picks up after At the World’s End. Caz and Will live in a settlement for survivors of the frozen world. Caz hasn’t seen her father for nine years, when the Blue Star poisoned and froze the planet. She can’t let go of the feeling that he may still be alive somewhere, and when she finds a secret file containing information about him, she’s determined to investigate. Caz and Will soon find themselves out in the frozen landscape once again, and it’s even more dangerous than last time.\nThis is a fantastic sequel for this dystopian series, keeping the fast pace of At the World’s End. It will certainly leave the reader asking for more.",
         "lower_age": 8,
         "upper_age": 11,
         "Type": "Books",
         "Author": "nan",
         "title_formatted": "the crystal stair",
         "desc_formatted": "the crystal stair picks up after at the world’s end. caz and will live in a settlement for survivors of the frozen world. caz hasn’t seen her father for nine years, when the blue star poisoned and froze the planet. she can’t let go of the feeling that he may still be alive somewhere, and when she finds a secret file containing information about him, she’s determined to investigate. caz and will soon find themselves out in the frozen landscape once again, and it’s even more dangerous than last time.\nthis is a fantastic sequel for this dystopian series, keeping the fast pace of at the world’s end. it will certainly leave the reader asking for more.",
         "title_desc": "['crystal', 'stair', 'crystal', 'stair', 'pick', 'world', '’', 'end', '.', 'caz', 'live', 'settlement', 'survivor', 'frozen', 'world', '.', 'caz', '’', 'seen', 'father', 'nine', 'year', ',', 'blue', 'star', 'poisoned', 'froze', 'planet', '.', '’', 'let', 'go', 'feeling', 'may', 'still', 'alive', 'somewhere', ',', 'find', 'secret', 'file', 'containing', 'information', ',', '’', 'determined', 'investigate', '.', 'caz', 'soon', 'find', 'frozen', 'landscape', ',', '’', 'even', 'dangerous', 'last', 'time', '.', 'fantastic', 'sequel', 'dystopian', 'series', ',', 'keeping', 'fast', 'pace', 'world', '’', 'end', '.', 'certainly', 'leave', 'reader', 'asking', '.']",
         "title_desc_filtered": "crystal stair crystal stair pick world  end  caz live settlement survivor frozen world  caz  seen father nine year  blue star poisoned froze planet   let go feeling may still alive somewhere  find secret file containing information   determined investigate  caz soon find frozen landscape   even dangerous last time  fantastic sequel dystopian series  keeping fast pace world  end  certainly leave reader asking ",
         "_deepnote_index_column": 5
        },
        {
         "title": "Dark Inside",
         "author": "Jeyn Roberts",
         "desc": "After a huge earthquake strikes every continent on Earth, strange things start happening and people begin behaving very oddly. Aries survives a bus crash, while Clementine barely escapes the horror of a town massacre. While Mason is in hospital at his dying mother’s bedside his school is destroyed and all his friends killed, whilst Michael’s experience of a road rage incident leaves him reeling... These four survivors soon realise they must draw on all their resources to fight an unknown evil taking over their world.This is the story of four teenagers and their struggle to survive in a post-apocalyptic world. Dark and disturbing yet exciting, it reveals real humanity and emotion, as the relationships between the young people are tested to the limit. A readable and refreshing take on the zombie genre.",
         "lower_age": 10,
         "upper_age": 13,
         "Type": "Books",
         "Author": "nan",
         "title_formatted": "dark inside",
         "desc_formatted": "after a huge earthquake strikes every continent on earth, strange things start happening and people begin behaving very oddly. aries survives a bus crash, while clementine barely escapes the horror of a town massacre. while mason is in hospital at his dying mother’s bedside his school is destroyed and all his friends killed, whilst michael’s experience of a road rage incident leaves him reeling... these four survivors soon realise they must draw on all their resources to fight an unknown evil taking over their world.this is the story of four teenagers and their struggle to survive in a post-apocalyptic world. dark and disturbing yet exciting, it reveals real humanity and emotion, as the relationships between the young people are tested to the limit. a readable and refreshing take on the zombie genre.",
         "title_desc": "['dark', 'inside', 'huge', 'earthquake', 'strike', 'every', 'continent', 'earth', ',', 'strange', 'thing', 'start', 'happening', 'people', 'begin', 'behaving', 'oddly', '.', 'aries', 'survives', 'bus', 'crash', ',', 'clementine', 'barely', 'escape', 'horror', 'town', 'massacre', '.', 'mason', 'hospital', 'dying', 'mother', '’', 'bedside', 'school', 'destroyed', 'friend', 'killed', ',', 'whilst', 'michael', '’', 'experience', 'road', 'rage', 'incident', 'leaf', 'reeling', '...', 'four', 'survivor', 'soon', 'realise', 'must', 'draw', 'resource', 'fight', 'unknown', 'evil', 'taking', 'world.this', 'story', 'four', 'teenager', 'struggle', 'survive', 'post-apocalyptic', 'world', '.', 'dark', 'disturbing', 'yet', 'exciting', ',', 'reveals', 'real', 'humanity', 'emotion', ',', 'relationship', 'young', 'people', 'tested', 'limit', '.', 'readable', 'refreshing', 'take', 'zombie', 'genre', '.']",
         "title_desc_filtered": "dark inside huge earthquake strike every continent earth  strange thing start happening people begin behaving oddly  aries survives bus crash  clementine barely escape horror town massacre  mason hospital dying mother  bedside school destroyed friend killed  whilst michael  experience road rage incident leaf reeling  four survivor soon realise must draw resource fight unknown evil taking worldthis story four teenager struggle survive postapocalyptic world  dark disturbing yet exciting  reveals real humanity emotion  relationship young people tested limit  readable refreshing take zombie genre ",
         "_deepnote_index_column": 6
        },
        {
         "title": "Kite Spirit",
         "author": "Sita Brahmachari",
         "desc": "When her best friend Dawn commits suicide, Kite's world falls apart. Struggling to deal with her hearbreaking grief, she leaves London with her father to spend the summer in the Lake District - but the strange house and unfamiliar landscape leave her feeling vulnerable and disorientated. Feeling that Dawn's spirit, embodied by an owl, has followed her to the countryside, she battles with her feelings of anger, guilt and sadness, refusing to engage with those around her. But gradually, a friendship with local boy Garth, and making connections with the local community help her to express her feelings and say goodbye to her best friend.This emotional story about grief and loss deals with some thought-provoking issues that some younger readers may find upsetting - although Brahmachari always approaches her subject with sensitivity and compassion. But Kire Spirit is also a celebration of family, friendship and the power of nature: Kite is an engaging and different heroine, and the Lake Dis…",
         "lower_age": 12,
         "upper_age": 15,
         "Type": "Books",
         "Author": "nan",
         "title_formatted": "kite spirit",
         "desc_formatted": "when her best friend dawn commits suicide, kite's world falls apart. struggling to deal with her hearbreaking grief, she leaves london with her father to spend the summer in the lake district - but the strange house and unfamiliar landscape leave her feeling vulnerable and disorientated. feeling that dawn's spirit, embodied by an owl, has followed her to the countryside, she battles with her feelings of anger, guilt and sadness, refusing to engage with those around her. but gradually, a friendship with local boy garth, and making connections with the local community help her to express her feelings and say goodbye to her best friend.this emotional story about grief and loss deals with some thought-provoking issues that some younger readers may find upsetting - although brahmachari always approaches her subject with sensitivity and compassion. but kire spirit is also a celebration of family, friendship and the power of nature: kite is an engaging and different heroine, and the lake dis…",
         "title_desc": "['kite', 'spirit', 'best', 'friend', 'dawn', 'commits', 'suicide', ',', 'kite', \"'s\", 'world', 'fall', 'apart', '.', 'struggling', 'deal', 'hearbreaking', 'grief', ',', 'leaf', 'london', 'father', 'spend', 'summer', 'lake', 'district', '-', 'strange', 'house', 'unfamiliar', 'landscape', 'leave', 'feeling', 'vulnerable', 'disorientated', '.', 'feeling', 'dawn', \"'s\", 'spirit', ',', 'embodied', 'owl', ',', 'followed', 'countryside', ',', 'battle', 'feeling', 'anger', ',', 'guilt', 'sadness', ',', 'refusing', 'engage', 'around', '.', 'gradually', ',', 'friendship', 'local', 'boy', 'garth', ',', 'making', 'connection', 'local', 'community', 'help', 'express', 'feeling', 'say', 'goodbye', 'best', 'friend.this', 'emotional', 'story', 'grief', 'loss', 'deal', 'thought-provoking', 'issue', 'younger', 'reader', 'may', 'find', 'upsetting', '-', 'although', 'brahmachari', 'always', 'approach', 'subject', 'sensitivity', 'compassion', '.', 'kire', 'spirit', 'also', 'celebration', 'family', ',', 'f…",
         "title_desc_filtered": "kite spirit best friend dawn commits suicide  kite s world fall apart  struggling deal hearbreaking grief  leaf london father spend summer lake district  strange house unfamiliar landscape leave feeling vulnerable disorientated  feeling dawn s spirit  embodied owl  followed countryside  battle feeling anger  guilt sadness  refusing engage around  gradually  friendship local boy garth  making connection local community help express feeling say goodbye best friendthis emotional story grief loss deal thoughtprovoking issue younger reader may find upsetting  although brahmachari always approach subject sensitivity compassion  kire spirit also celebration family  friendship power nature  kite engaging different heroine  lake district landscape full atmosphere ",
         "_deepnote_index_column": 7
        },
        {
         "title": "I Capture the Castle",
         "author": "Dodie Smith",
         "desc": "Originally published in 1949, this delightful novel by the author of the much-loved One Hundred and One Dalmatians, still retains its freshness today.\nCassandra, the 17-year-old narrator, lives an eccentric existence in a crumbling castle in the English countryside in the 1930s. Her father is a former bestselling novelist now suffering from a chronic case of writer's block and her glamorous but bohemian stepmother Topaz is a sometime artist model. Money is in short supply but Cassandra and her discontented older sister Rose are forced to make the best of things - until some young, wealthy American neighbours arrive and Rose sees an opportunity for them all to escape their impoverished existence.\nEven when she is encountering the difficulties of first love and first heartbreak, Cassandra remains a wonderfully likable heroine, with a strong narrative voice and a distinctive sense of humour. Whimsical, charming and beautifully written, this engaging classic novel will appeal equally to b…",
         "lower_age": 12,
         "upper_age": 15,
         "Type": "Books",
         "Author": "nan",
         "title_formatted": "i capture the castle",
         "desc_formatted": "originally published in , this delightful novel by the author of the much-loved one hundred and one dalmatians, still retains its freshness today.\ncassandra, the -year-old narrator, lives an eccentric existence in a crumbling castle in the english countryside in the s. her father is a former bestselling novelist now suffering from a chronic case of writer's block and her glamorous but bohemian stepmother topaz is a sometime artist model. money is in short supply but cassandra and her discontented older sister rose are forced to make the best of things - until some young, wealthy american neighbours arrive and rose sees an opportunity for them all to escape their impoverished existence.\neven when she is encountering the difficulties of first love and first heartbreak, cassandra remains a wonderfully likable heroine, with a strong narrative voice and a distinctive sense of humour. whimsical, charming and beautifully written, this engaging classic novel will appeal equally to both adult …",
         "title_desc": "['capture', 'castle', 'originally', 'published', ',', 'delightful', 'novel', 'author', 'much-loved', 'one', 'hundred', 'one', 'dalmatian', ',', 'still', 'retains', 'freshness', 'today', '.', 'cassandra', ',', '-year-old', 'narrator', ',', 'life', 'eccentric', 'existence', 'crumbling', 'castle', 'english', 'countryside', 's.', 'father', 'former', 'bestselling', 'novelist', 'suffering', 'chronic', 'case', 'writer', \"'s\", 'block', 'glamorous', 'bohemian', 'stepmother', 'topaz', 'sometime', 'artist', 'model', '.', 'money', 'short', 'supply', 'cassandra', 'discontented', 'older', 'sister', 'rose', 'forced', 'make', 'best', 'thing', '-', 'young', ',', 'wealthy', 'american', 'neighbour', 'arrive', 'rose', 'see', 'opportunity', 'escape', 'impoverished', 'existence', '.', 'even', 'encountering', 'difficulty', 'first', 'love', 'first', 'heartbreak', ',', 'cassandra', 'remains', 'wonderfully', 'likable', 'heroine', ',', 'strong', 'narrative', 'voice', 'distinctive', 'sense', 'humour', '.', 'whim…",
         "title_desc_filtered": "capture castle originally published  delightful novel author muchloved one hundred one dalmatian  still retains freshness today  cassandra  yearold narrator  life eccentric existence crumbling castle english countryside s father former bestselling novelist suffering chronic case writer s block glamorous bohemian stepmother topaz sometime artist model  money short supply cassandra discontented older sister rose forced make best thing  young  wealthy american neighbour arrive rose see opportunity escape impoverished existence  even encountering difficulty first love first heartbreak  cassandra remains wonderfully likable heroine  strong narrative voice distinctive sense humour  whimsical  charming beautifully written  engaging classic novel appeal equally adult young adult reader ",
         "_deepnote_index_column": 8
        },
        {
         "title": "Butter",
         "author": "Erin Jade Lange",
         "desc": "Isolated and bullied at school, with a dysfunctional family life and weighing over 400 lbs, 'Butter' as he is nicknamed by his high school classmates, feels he has little left to live for. His love for music has lost its shine, and even his online chats with Anna, the girl of his dreams, have to be carried out under a false persona. Butter makes up his mind life is no longer worth living but decides to go out with a bang, announcing that he plans to eat himself to death live on the internet on December 31st. \nYet Butter's online announcement proves to have unforseen consequences - far from pity, insults or indifference, he suddenly finds himself a celebrity amongst his classmates, who become fascinated by his horrifying plan. No longer ostracised, Butter soon becomes part of the popular crowd - and life takes an unexpected turn for the better. But what will happen when December 31st rolls around?Cleverly balancing darkness and light, this is a unique young adult novel which takes an u…",
         "lower_age": 13,
         "upper_age": 16,
         "Type": "Books",
         "Author": "nan",
         "title_formatted": "butter",
         "desc_formatted": "isolated and bullied at school, with a dysfunctional family life and weighing over  lbs, 'butter' as he is nicknamed by his high school classmates, feels he has little left to live for. his love for music has lost its shine, and even his online chats with anna, the girl of his dreams, have to be carried out under a false persona. butter makes up his mind life is no longer worth living but decides to go out with a bang, announcing that he plans to eat himself to death live on the internet on december st. \nyet butter's online announcement proves to have unforseen consequences - far from pity, insults or indifference, he suddenly finds himself a celebrity amongst his classmates, who become fascinated by his horrifying plan. no longer ostracised, butter soon becomes part of the popular crowd - and life takes an unexpected turn for the better. but what will happen when december st rolls around?cleverly balancing darkness and light, this is a unique young adult novel which takes an unflinch…",
         "title_desc": "['butter', 'isolated', 'bullied', 'school', ',', 'dysfunctional', 'family', 'life', 'weighing', 'lb', ',', \"'butter\", \"'\", 'nicknamed', 'high', 'school', 'classmate', ',', 'feel', 'little', 'left', 'live', '.', 'love', 'music', 'lost', 'shine', ',', 'even', 'online', 'chat', 'anna', ',', 'girl', 'dream', ',', 'carried', 'false', 'persona', '.', 'butter', 'make', 'mind', 'life', 'longer', 'worth', 'living', 'decides', 'go', 'bang', ',', 'announcing', 'plan', 'eat', 'death', 'live', 'internet', 'december', 'st.', 'yet', 'butter', \"'s\", 'online', 'announcement', 'prof', 'unforseen', 'consequence', '-', 'far', 'pity', ',', 'insult', 'indifference', ',', 'suddenly', 'find', 'celebrity', 'amongst', 'classmate', ',', 'become', 'fascinated', 'horrifying', 'plan', '.', 'longer', 'ostracised', ',', 'butter', 'soon', 'becomes', 'part', 'popular', 'crowd', '-', 'life', 'take', 'unexpected', 'turn', 'better', '.', 'happen', 'december', 'st', 'roll', 'around', '?', 'cleverly', 'balancing', 'darknes…",
         "title_desc_filtered": "butter isolated bullied school  dysfunctional family life weighing lb  butter  nicknamed high school classmate  feel little left live  love music lost shine  even online chat anna  girl dream  carried false persona  butter make mind life longer worth living decides go bang  announcing plan eat death live internet december st yet butter s online announcement prof unforseen consequence  far pity  insult indifference  suddenly find celebrity amongst classmate  become fascinated horrifying plan  longer ostracised  butter soon becomes part popular crowd  life take unexpected turn better  happen december st roll around  cleverly balancing darkness light  unique young adult novel take unflinching look isuses bingeing  overeating  depression suicide  lange s portrayal butter popular classmate always complex  sensitive nuanced  writes compellingly challenge faced contemporary teen  particular problem internet bullying  tension online reallife  identity  bold striking  butter powerful courageou…",
         "_deepnote_index_column": 9
        }
       ]
      },
      "text/plain": "                                                title  \\\n0                         The Girl Who Drank the Moon   \n1                                     Time Between Us   \n2                                   Girl Out of Water   \n3                                             Captive   \n4                                 The School of Music   \n..                                                ...   \n417  Carrying the Elephant: A Memoir of Love and Loss   \n418                                      War and Peas   \n419                                     Love that Dog   \n420                              A Pilgrim's Progress   \n421                                    Secret Friends   \n\n                                                author  \\\n0                                       Kelly Barnhill   \n1                                 Tamara Ireland Stone   \n2                                        Nat Luurtsema   \n3                                         A J Grainger   \n4    Rachel Bowen and Meurig Bowen Illustrator: Dan...   \n..                                                 ...   \n417                                                NaN   \n418                                                NaN   \n419                                                NaN   \n420                                                NaN   \n421                                                NaN   \n\n                                                  desc  lower_age  upper_age  \\\n0    Every year, the evil Protectorate offers a bab...         10         14   \n1    Sixteen-year-old Anna is struggling to underst...         12         15   \n2    Lou Brown's swimming ambitions sank without tr...         10         13   \n3    Robyn is scared. Ever since the attempted assa...         13         16   \n4    Welcome to the School of Music. In charge is M...         10         13   \n..                                                 ...        ...        ...   \n417  In the 72 prose poems that make up this unusua...         11         14   \n418  Nearly forty years after its original appearan...          8         11   \n419  Jack has a great sadness in his life, but he i...          9         12   \n420  'I had a dream last night ... large enough to ...          9         12   \n421  At her new school, Rafaella suffers daily name...          7         11   \n\n        Type Author                                   title_formatted  \\\n0      Books    NaN                       the girl who drank the moon   \n1      Books    NaN                                   time between us   \n2      Books    NaN                                 girl out of water   \n3      Books    NaN                                           captive   \n4      Books    NaN                               the school of music   \n..       ...    ...                                               ...   \n417  Stories   None  carrying the elephant: a memoir of love and loss   \n418  Stories   None                                      war and peas   \n419  Stories   None                                     love that dog   \n420  Stories   None                              a pilgrim's progress   \n421  Stories   None                                    secret friends   \n\n                                        desc_formatted  \\\n0    every year, the evil protectorate offers a bab...   \n1    sixteen-year-old anna is struggling to underst...   \n2    lou brown's swimming ambitions sank without tr...   \n3    robyn is scared. ever since the attempted assa...   \n4    welcome to the school of music. in charge is m...   \n..                                                 ...   \n417  in the  prose poems that make up this unusual ...   \n418  nearly forty years after its original appearan...   \n419  jack has a great sadness in his life, but he i...   \n420  'i had a dream last night ... large enough to ...   \n421  at her new school, rafaella suffers daily name...   \n\n                                            title_desc  \\\n0    [girl, drank, moon, every, year, ,, evil, prot...   \n1    [time, u, sixteen-year-old, anna, struggling, ...   \n2    [girl, water, lou, brown, 's, swimming, ambiti...   \n3    [captive, robyn, scared, ., ever, since, attem...   \n4    [school, music, welcome, school, music, ., cha...   \n..                                                 ...   \n417  [carrying, elephant, :, memoir, love, loss, pr...   \n418  [war, pea, nearly, forty, year, original, appe...   \n419  [love, dog, jack, great, sadness, life, ,, sha...   \n420  [pilgrim, 's, progress, ', dream, last, night,...   \n421  [secret, friend, new, school, ,, rafaella, suf...   \n\n                                   title_desc_filtered  \n0    girl drank moon every year  evil protectorate ...  \n1    time u sixteenyearold anna struggling understa...  \n2    girl water lou brown s swimming ambition sank ...  \n3    captive robyn scared  ever since attempted ass...  \n4    school music welcome school music  charge maes...  \n..                                                 ...  \n417  carrying elephant  memoir love loss prose poem...  \n418  war pea nearly forty year original appearance ...  \n419  love dog jack great sadness life  share feelin...  \n420  pilgrim s progress  dream last night  large en...  \n421  secret friend new school  rafaella suffers dai...  \n\n[463 rows x 11 columns]",
      "text/html": "<div>\n<style scoped>\n    .dataframe tbody tr th:only-of-type {\n        vertical-align: middle;\n    }\n\n    .dataframe tbody tr th {\n        vertical-align: top;\n    }\n\n    .dataframe thead th {\n        text-align: right;\n    }\n</style>\n<table border=\"1\" class=\"dataframe\">\n  <thead>\n    <tr style=\"text-align: right;\">\n      <th></th>\n      <th>title</th>\n      <th>author</th>\n      <th>desc</th>\n      <th>lower_age</th>\n      <th>upper_age</th>\n      <th>Type</th>\n      <th>Author</th>\n      <th>title_formatted</th>\n      <th>desc_formatted</th>\n      <th>title_desc</th>\n      <th>title_desc_filtered</th>\n    </tr>\n  </thead>\n  <tbody>\n    <tr>\n      <th>0</th>\n      <td>The Girl Who Drank the Moon</td>\n      <td>Kelly Barnhill</td>\n      <td>Every year, the evil Protectorate offers a bab...</td>\n      <td>10</td>\n      <td>14</td>\n      <td>Books</td>\n      <td>NaN</td>\n      <td>the girl who drank the moon</td>\n      <td>every year, the evil protectorate offers a bab...</td>\n      <td>[girl, drank, moon, every, year, ,, evil, prot...</td>\n      <td>girl drank moon every year  evil protectorate ...</td>\n    </tr>\n    <tr>\n      <th>1</th>\n      <td>Time Between Us</td>\n      <td>Tamara Ireland Stone</td>\n      <td>Sixteen-year-old Anna is struggling to underst...</td>\n      <td>12</td>\n      <td>15</td>\n      <td>Books</td>\n      <td>NaN</td>\n      <td>time between us</td>\n      <td>sixteen-year-old anna is struggling to underst...</td>\n      <td>[time, u, sixteen-year-old, anna, struggling, ...</td>\n      <td>time u sixteenyearold anna struggling understa...</td>\n    </tr>\n    <tr>\n      <th>2</th>\n      <td>Girl Out of Water</td>\n      <td>Nat Luurtsema</td>\n      <td>Lou Brown's swimming ambitions sank without tr...</td>\n      <td>10</td>\n      <td>13</td>\n      <td>Books</td>\n      <td>NaN</td>\n      <td>girl out of water</td>\n      <td>lou brown's swimming ambitions sank without tr...</td>\n      <td>[girl, water, lou, brown, 's, swimming, ambiti...</td>\n      <td>girl water lou brown s swimming ambition sank ...</td>\n    </tr>\n    <tr>\n      <th>3</th>\n      <td>Captive</td>\n      <td>A J Grainger</td>\n      <td>Robyn is scared. Ever since the attempted assa...</td>\n      <td>13</td>\n      <td>16</td>\n      <td>Books</td>\n      <td>NaN</td>\n      <td>captive</td>\n      <td>robyn is scared. ever since the attempted assa...</td>\n      <td>[captive, robyn, scared, ., ever, since, attem...</td>\n      <td>captive robyn scared  ever since attempted ass...</td>\n    </tr>\n    <tr>\n      <th>4</th>\n      <td>The School of Music</td>\n      <td>Rachel Bowen and Meurig Bowen Illustrator: Dan...</td>\n      <td>Welcome to the School of Music. In charge is M...</td>\n      <td>10</td>\n      <td>13</td>\n      <td>Books</td>\n      <td>NaN</td>\n      <td>the school of music</td>\n      <td>welcome to the school of music. in charge is m...</td>\n      <td>[school, music, welcome, school, music, ., cha...</td>\n      <td>school music welcome school music  charge maes...</td>\n    </tr>\n    <tr>\n      <th>...</th>\n      <td>...</td>\n      <td>...</td>\n      <td>...</td>\n      <td>...</td>\n      <td>...</td>\n      <td>...</td>\n      <td>...</td>\n      <td>...</td>\n      <td>...</td>\n      <td>...</td>\n      <td>...</td>\n    </tr>\n    <tr>\n      <th>417</th>\n      <td>Carrying the Elephant: A Memoir of Love and Loss</td>\n      <td>NaN</td>\n      <td>In the 72 prose poems that make up this unusua...</td>\n      <td>11</td>\n      <td>14</td>\n      <td>Stories</td>\n      <td>None</td>\n      <td>carrying the elephant: a memoir of love and loss</td>\n      <td>in the  prose poems that make up this unusual ...</td>\n      <td>[carrying, elephant, :, memoir, love, loss, pr...</td>\n      <td>carrying elephant  memoir love loss prose poem...</td>\n    </tr>\n    <tr>\n      <th>418</th>\n      <td>War and Peas</td>\n      <td>NaN</td>\n      <td>Nearly forty years after its original appearan...</td>\n      <td>8</td>\n      <td>11</td>\n      <td>Stories</td>\n      <td>None</td>\n      <td>war and peas</td>\n      <td>nearly forty years after its original appearan...</td>\n      <td>[war, pea, nearly, forty, year, original, appe...</td>\n      <td>war pea nearly forty year original appearance ...</td>\n    </tr>\n    <tr>\n      <th>419</th>\n      <td>Love that Dog</td>\n      <td>NaN</td>\n      <td>Jack has a great sadness in his life, but he i...</td>\n      <td>9</td>\n      <td>12</td>\n      <td>Stories</td>\n      <td>None</td>\n      <td>love that dog</td>\n      <td>jack has a great sadness in his life, but he i...</td>\n      <td>[love, dog, jack, great, sadness, life, ,, sha...</td>\n      <td>love dog jack great sadness life  share feelin...</td>\n    </tr>\n    <tr>\n      <th>420</th>\n      <td>A Pilgrim's Progress</td>\n      <td>NaN</td>\n      <td>'I had a dream last night ... large enough to ...</td>\n      <td>9</td>\n      <td>12</td>\n      <td>Stories</td>\n      <td>None</td>\n      <td>a pilgrim's progress</td>\n      <td>'i had a dream last night ... large enough to ...</td>\n      <td>[pilgrim, 's, progress, ', dream, last, night,...</td>\n      <td>pilgrim s progress  dream last night  large en...</td>\n    </tr>\n    <tr>\n      <th>421</th>\n      <td>Secret Friends</td>\n      <td>NaN</td>\n      <td>At her new school, Rafaella suffers daily name...</td>\n      <td>7</td>\n      <td>11</td>\n      <td>Stories</td>\n      <td>None</td>\n      <td>secret friends</td>\n      <td>at her new school, rafaella suffers daily name...</td>\n      <td>[secret, friend, new, school, ,, rafaella, suf...</td>\n      <td>secret friend new school  rafaella suffers dai...</td>\n    </tr>\n  </tbody>\n</table>\n<p>463 rows × 11 columns</p>\n</div>"
     },
     "metadata": {}
    }
   ]
  },
  {
   "cell_type": "code",
   "metadata": {
    "cell_id": "6a9b0cf15c2a44ff9c5a195402c78bfe",
    "deepnote_variable_name": "user_age",
    "deepnote_variable_value": "17",
    "deepnote_to_be_reexecuted": false,
    "source_hash": "5b29643f",
    "execution_start": 1656109285028,
    "execution_millis": 5657802,
    "deepnote_cell_type": "input-text"
   },
   "source": "user_age = '17'",
   "execution_count": 18,
   "outputs": []
  },
  {
   "cell_type": "code",
   "metadata": {
    "cell_id": "c77087eecdb6473b95055c36b5000dea",
    "tags": [],
    "deepnote_to_be_reexecuted": false,
    "source_hash": "e880ee78",
    "execution_start": 1656109285070,
    "execution_millis": 42,
    "deepnote_table_state": {
     "pageSize": 10,
     "pageIndex": 0,
     "filters": [],
     "sortBy": []
    },
    "deepnote_table_loading": false,
    "deepnote_cell_type": "code",
    "deepnote_cell_height": 730.65625
   },
   "source": "user_age = int(user_age)\nif int(user_age) >= 16: \n    df_16_plus = pd.concat([df_combined, adv_reads])\n    df_filter = df_16_plus[(df_16_plus['lower_age'] <= user_age) & (df_16_plus['upper_age'] >= user_age)]\nelse: \n    df_filter = df_combined[(df_combined['lower_age']<=user_age) & (df_combined['upper_age']>=user_age) ]\ndf_filter",
   "execution_count": 19,
   "outputs": [
    {
     "output_type": "execute_result",
     "execution_count": 19,
     "data": {
      "application/vnd.deepnote.dataframe.v3+json": {
       "column_count": 11,
       "row_count": 950,
       "columns": [
        {
         "name": "title",
         "dtype": "object",
         "stats": {
          "unique_count": 248,
          "nan_count": 0,
          "categories": [
           {
            "name": "The Queen of Nothing (The Folk of the Air #3)",
            "count": 13
           },
           {
            "name": "The Hitchhiker's Guide to the Galaxy: 42nd Anniversary Edition",
            "count": 12
           },
           {
            "name": "246 others",
            "count": 925
           }
          ]
         }
        },
        {
         "name": "author",
         "dtype": "object",
         "stats": {
          "unique_count": 185,
          "nan_count": 0,
          "categories": [
           {
            "name": "Agatha Christie",
            "count": 29
           },
           {
            "name": "Brian Tracy",
            "count": 28
           },
           {
            "name": "183 others",
            "count": 893
           }
          ]
         }
        },
        {
         "name": "desc",
         "dtype": "object",
         "stats": {
          "unique_count": 247,
          "nan_count": 0,
          "categories": [
           {
            "name": "The intoxicating and bloodthirsty finale to the New York Times bestselling The Cruel Prince, nominated for the CILIP CARNEGIE MEDAL 2019, and  New York Times bestseller The Wicked King \n\nAfter being pronounced Queen of Faerie and then abruptly exiled by the Wicked King Cardan, Jude finds herself unmoored, the queen of nothing. She spends her time with Vivi and Oak, watching reality television, and doing odd jobs, including squaring up to a cannibalistic faerie.\n\nWhen her twin sister Taryn shows up asking a favour, Jude jumps at the chance to return to the Faerie world, even if it means facing Cardan, who she loves despite his betrayal. When a dark curse is unveiled, Jude must become the first mortal Queen of Faerie and break the curse, or risk upsetting the balance of the whole Faerie world.",
            "count": 13
           },
           {
            "name": "The intergalactic adventures of Arthur Dent begin in the first volume of the 'trilogy of five', Douglas Adams' comedy sci-fi classic The Hitchhiker's Guide to the Galaxy. This edition, with a metallic sheen cover, includes exclusive bonus material from the Douglas Adams archives, and an introduction by former Doctor Who showrunner, Russell T Davies.On 12 October 1979 the most remarkable book ever to come out of the great publishing corporations of Ursa Minor (and Earth) was made available to humanity - The Hitchhiker's Guide to the Galaxy.\n\nIt's an ordinary Thursday lunchtime for Arthur Dent until his house gets demolished. The Earth follows shortly afterwards to make way for a new hyperspace express route, and his best friend has just announced that he's an alien. At this moment, they're hurtling through space with nothing but their towels and an innocuous-looking book inscribed, in large friendly letters, with the words: DON'T PANIC. The weekend has only just begun . . .Follow Arthur Dent's galactic (mis)adventures in the rest of the trilogy with five parts: The Restaurant at the End of the Universe, Life, the Universe and Everything, So Long, and Thanks for All the Fish, and Mostly Harmless.",
            "count": 12
           },
           {
            "name": "245 others",
            "count": 925
           }
          ]
         }
        },
        {
         "name": "lower_age",
         "dtype": "int64",
         "stats": {
          "unique_count": 2,
          "nan_count": 0,
          "min": "14",
          "max": "16",
          "histogram": [
           {
            "bin_start": 14,
            "bin_end": 14.2,
            "count": 2
           },
           {
            "bin_start": 14.2,
            "bin_end": 14.4,
            "count": 0
           },
           {
            "bin_start": 14.4,
            "bin_end": 14.6,
            "count": 0
           },
           {
            "bin_start": 14.6,
            "bin_end": 14.8,
            "count": 0
           },
           {
            "bin_start": 14.8,
            "bin_end": 15,
            "count": 0
           },
           {
            "bin_start": 15,
            "bin_end": 15.2,
            "count": 0
           },
           {
            "bin_start": 15.2,
            "bin_end": 15.4,
            "count": 0
           },
           {
            "bin_start": 15.4,
            "bin_end": 15.6,
            "count": 0
           },
           {
            "bin_start": 15.6,
            "bin_end": 15.8,
            "count": 0
           },
           {
            "bin_start": 15.8,
            "bin_end": 16,
            "count": 948
           }
          ]
         }
        },
        {
         "name": "upper_age",
         "dtype": "int64",
         "stats": {
          "unique_count": 2,
          "nan_count": 0,
          "min": "17",
          "max": "20",
          "histogram": [
           {
            "bin_start": 17,
            "bin_end": 17.3,
            "count": 2
           },
           {
            "bin_start": 17.3,
            "bin_end": 17.6,
            "count": 0
           },
           {
            "bin_start": 17.6,
            "bin_end": 17.9,
            "count": 0
           },
           {
            "bin_start": 17.9,
            "bin_end": 18.2,
            "count": 0
           },
           {
            "bin_start": 18.2,
            "bin_end": 18.5,
            "count": 0
           },
           {
            "bin_start": 18.5,
            "bin_end": 18.8,
            "count": 0
           },
           {
            "bin_start": 18.8,
            "bin_end": 19.1,
            "count": 0
           },
           {
            "bin_start": 19.1,
            "bin_end": 19.4,
            "count": 0
           },
           {
            "bin_start": 19.4,
            "bin_end": 19.7,
            "count": 0
           },
           {
            "bin_start": 19.7,
            "bin_end": 20,
            "count": 948
           }
          ]
         }
        },
        {
         "name": "Type",
         "dtype": "object",
         "stats": {
          "unique_count": 1,
          "nan_count": 0,
          "categories": [
           {
            "name": "Books",
            "count": 950
           }
          ]
         }
        },
        {
         "name": "Author",
         "dtype": "object",
         "stats": {
          "unique_count": 0,
          "nan_count": 950,
          "categories": [
           {
            "name": "Missing",
            "count": 950
           }
          ]
         }
        },
        {
         "name": "title_formatted",
         "dtype": "object",
         "stats": {
          "unique_count": 243,
          "nan_count": 0,
          "categories": [
           {
            "name": "how to win friends and influence people",
            "count": 14
           },
           {
            "name": "the queen of nothing (the folk of the air #)",
            "count": 13
           },
           {
            "name": "241 others",
            "count": 923
           }
          ]
         }
        },
        {
         "name": "desc_formatted",
         "dtype": "object",
         "stats": {
          "unique_count": 247,
          "nan_count": 0,
          "categories": [
           {
            "name": "the intoxicating and bloodthirsty finale to the new york times bestselling the cruel prince, nominated for the cilip carnegie medal , and  new york times bestseller the wicked king \n\nafter being pronounced queen of faerie and then abruptly exiled by the wicked king cardan, jude finds herself unmoored, the queen of nothing. she spends her time with vivi and oak, watching reality television, and doing odd jobs, including squaring up to a cannibalistic faerie.\n\nwhen her twin sister taryn shows up asking a favour, jude jumps at the chance to return to the faerie world, even if it means facing cardan, who she loves despite his betrayal. when a dark curse is unveiled, jude must become the first mortal queen of faerie and break the curse, or risk upsetting the balance of the whole faerie world.",
            "count": 13
           },
           {
            "name": "the intergalactic adventures of arthur dent begin in the first volume of the 'trilogy of five', douglas adams' comedy sci-fi classic the hitchhiker's guide to the galaxy. this edition, with a metallic sheen cover, includes exclusive bonus material from the douglas adams archives, and an introduction by former doctor who showrunner, russell t davies.on  october  the most remarkable book ever to come out of the great publishing corporations of ursa minor (and earth) was made available to humanity - the hitchhiker's guide to the galaxy.\n\nit's an ordinary thursday lunchtime for arthur dent until his house gets demolished. the earth follows shortly afterwards to make way for a new hyperspace express route, and his best friend has just announced that he's an alien. at this moment, they're hurtling through space with nothing but their towels and an innocuous-looking book inscribed, in large friendly letters, with the words: don't panic. the weekend has only just begun . . .follow arthur dent's galactic (mis)adventures in the rest of the trilogy with five parts: the restaurant at the end of the universe, life, the universe and everything, so long, and thanks for all the fish, and mostly harmless.",
            "count": 12
           },
           {
            "name": "245 others",
            "count": 925
           }
          ]
         }
        },
        {
         "name": "title_desc",
         "dtype": "object",
         "stats": {
          "unique_count": 950,
          "nan_count": 0,
          "categories": [
           {
            "name": "['queen', 'nothing', '(', 'folk', 'air', '#', ')', 'intoxicating', 'bloodthirsty', 'finale', 'new', 'york', 'time', 'bestselling', 'cruel', 'prince', ',', 'nominated', 'cilip', 'carnegie', 'medal', ',', 'new', 'york', 'time', 'bestseller', 'wicked', 'king', 'pronounced', 'queen', 'faerie', 'abruptly', 'exiled', 'wicked', 'king', 'cardan', ',', 'jude', 'find', 'unmoored', ',', 'queen', 'nothing', '.', 'spends', 'time', 'vivi', 'oak', ',', 'watching', 'reality', 'television', ',', 'odd', 'job', ',', 'including', 'squaring', 'cannibalistic', 'faerie', '.', 'twin', 'sister', 'taryn', 'show', 'asking', 'favour', ',', 'jude', 'jump', 'chance', 'return', 'faerie', 'world', ',', 'even', 'mean', 'facing', 'cardan', ',', 'love', 'despite', 'betrayal', '.', 'dark', 'curse', 'unveiled', ',', 'jude', 'must', 'become', 'first', 'mortal', 'queen', 'faerie', 'break', 'curse', ',', 'risk', 'upsetting', 'balance', 'whole', 'faerie', 'world', '.']",
            "count": 13
           },
           {
            "name": "['hitchhiker', \"'s\", 'guide', 'galaxy', ':', 'nd', 'anniversary', 'edition', 'intergalactic', 'adventure', 'arthur', 'dent', 'begin', 'first', 'volume', \"'trilogy\", 'five', \"'\", ',', 'douglas', 'adam', \"'\", 'comedy', 'sci-fi', 'classic', 'hitchhiker', \"'s\", 'guide', 'galaxy', '.', 'edition', ',', 'metallic', 'sheen', 'cover', ',', 'includes', 'exclusive', 'bonus', 'material', 'douglas', 'adam', 'archive', ',', 'introduction', 'former', 'doctor', 'showrunner', ',', 'russell', 'davies.on', 'october', 'remarkable', 'book', 'ever', 'come', 'great', 'publishing', 'corporation', 'ursa', 'minor', '(', 'earth', ')', 'made', 'available', 'humanity', '-', 'hitchhiker', \"'s\", 'guide', 'galaxy', '.', \"'s\", 'ordinary', 'thursday', 'lunchtime', 'arthur', 'dent', 'house', 'get', 'demolished', '.', 'earth', 'follows', 'shortly', 'afterwards', 'make', 'way', 'new', 'hyperspace', 'express', 'route', ',', 'best', 'friend', 'announced', \"'s\", 'alien', '.', 'moment', ',', \"'re\", 'hurtling', 'space', 'nothing', 'towel', 'innocuous-looking', 'book', 'inscribed', ',', 'large', 'friendly', 'letter', ',', 'word', ':', \"n't\", 'panic', '.', 'weekend', 'begun', '.', '.', '.follow', 'arthur', 'dent', \"'s\", 'galactic', '(', 'mi', ')', 'adventure', 'rest', 'trilogy', 'five', 'part', ':', 'restaurant', 'end', 'universe', ',', 'life', ',', 'universe', 'everything', ',', 'long', ',', 'thanks', 'fish', ',', 'mostly', 'harmless', '.']",
            "count": 12
           },
           {
            "name": "247 others",
            "count": 925
           }
          ]
         }
        },
        {
         "name": "title_desc_filtered",
         "dtype": "object",
         "stats": {
          "unique_count": 249,
          "nan_count": 0,
          "categories": [
           {
            "name": "queen nothing ( folk air # ) intoxicating bloodthirsty finale new york time bestselling cruel prince , nominated cilip carnegie medal , new york time bestseller wicked king pronounced queen faerie abruptly exiled wicked king cardan , jude find unmoored , queen nothing . spends time vivi oak , watching reality television , odd job , including squaring cannibalistic faerie . twin sister taryn show asking favour , jude jump chance return faerie world , even mean facing cardan , love despite betrayal . dark curse unveiled , jude must become first mortal queen faerie break curse , risk upsetting balance whole faerie world .",
            "count": 13
           },
           {
            "name": "hitchhiker 's guide galaxy : nd anniversary edition intergalactic adventure arthur dent begin first volume 'trilogy five ' , douglas adam ' comedy sci-fi classic hitchhiker 's guide galaxy . edition , metallic sheen cover , includes exclusive bonus material douglas adam archive , introduction former doctor showrunner , russell davies.on october remarkable book ever come great publishing corporation ursa minor ( earth ) made available humanity - hitchhiker 's guide galaxy . 's ordinary thursday lunchtime arthur dent house get demolished . earth follows shortly afterwards make way new hyperspace express route , best friend announced 's alien . moment , 're hurtling space nothing towel innocuous-looking book inscribed , large friendly letter , word : n't panic . weekend begun . . .follow arthur dent 's galactic ( mi ) adventure rest trilogy five part : restaurant end universe , life , universe everything , long , thanks fish , mostly harmless .",
            "count": 12
           },
           {
            "name": "247 others",
            "count": 925
           }
          ]
         }
        },
        {
         "name": "_deepnote_index_column",
         "dtype": "int64"
        }
       ],
       "rows": [
        {
         "title": "The Sin Eater's Daughter",
         "author": "Melinda Salisbury",
         "desc": "Seventeen-year-old Twylla lives in the castle and is betrothed to the prince, but she isn't a princess or a member of court. Twylla is the court executioner. As the Goddess embodied, she can kill with a single touch. Only the prince, with his royal blood, is immune to her touch, but even he avoids her. Then a new guard arrives, one with an easy smile that belies his deadly swordsmanship. He sees past the executioner robes to the girl beneath, and a friendship blossoms between him and Twylla, a friendship that could be more if Twylla wasn't promised to the prince. But her romantic problems are trivial when she discovers the mad plan that the power-hungry and vicious queen is plotting. As everything begins to spiral out of control, Twylla has to decide who she trusts, who she loves, and what she is willing to do for her kingdom.\nThe Sin Eater's Daughter is a truly original fantasy set in a richly imagined world full of complex and complicated characters. The world is multi-layered and S…",
         "lower_age": 14,
         "upper_age": 17,
         "Type": "Books",
         "Author": "nan",
         "title_formatted": "the sin eater's daughter",
         "desc_formatted": "seventeen-year-old twylla lives in the castle and is betrothed to the prince, but she isn't a princess or a member of court. twylla is the court executioner. as the goddess embodied, she can kill with a single touch. only the prince, with his royal blood, is immune to her touch, but even he avoids her. then a new guard arrives, one with an easy smile that belies his deadly swordsmanship. he sees past the executioner robes to the girl beneath, and a friendship blossoms between him and twylla, a friendship that could be more if twylla wasn't promised to the prince. but her romantic problems are trivial when she discovers the mad plan that the power-hungry and vicious queen is plotting. as everything begins to spiral out of control, twylla has to decide who she trusts, who she loves, and what she is willing to do for her kingdom.\nthe sin eater's daughter is a truly original fantasy set in a richly imagined world full of complex and complicated characters. the world is multi-layered and s…",
         "title_desc": "['sin', 'eater', \"'s\", 'daughter', 'seventeen-year-old', 'twylla', 'life', 'castle', 'betrothed', 'prince', ',', \"n't\", 'princess', 'member', 'court', '.', 'twylla', 'court', 'executioner', '.', 'goddess', 'embodied', ',', 'kill', 'single', 'touch', '.', 'prince', ',', 'royal', 'blood', ',', 'immune', 'touch', ',', 'even', 'avoids', '.', 'new', 'guard', 'arrives', ',', 'one', 'easy', 'smile', 'belies', 'deadly', 'swordsmanship', '.', 'see', 'past', 'executioner', 'robe', 'girl', 'beneath', ',', 'friendship', 'blossom', 'twylla', ',', 'friendship', 'could', 'twylla', \"n't\", 'promised', 'prince', '.', 'romantic', 'problem', 'trivial', 'discovers', 'mad', 'plan', 'power-hungry', 'vicious', 'queen', 'plotting', '.', 'everything', 'begin', 'spiral', 'control', ',', 'twylla', 'decide', 'trust', ',', 'love', ',', 'willing', 'kingdom', '.', 'sin', 'eater', \"'s\", 'daughter', 'truly', 'original', 'fantasy', 'set', 'richly', 'imagined', 'world', 'full', 'complex', 'complicated', 'character', '.'…",
         "title_desc_filtered": "sin eater s daughter seventeenyearold twylla life castle betrothed prince  nt princess member court  twylla court executioner  goddess embodied  kill single touch  prince  royal blood  immune touch  even avoids  new guard arrives  one easy smile belies deadly swordsmanship  see past executioner robe girl beneath  friendship blossom twylla  friendship could twylla nt promised prince  romantic problem trivial discovers mad plan powerhungry vicious queen plotting  everything begin spiral control  twylla decide trust  love  willing kingdom  sin eater s daughter truly original fantasy set richly imagined world full complex complicated character  world multilayered salisbury deftly weave original legend  myth  history bring world life  backdrop  political scheme wicked plot unfold  twylla caught middle  plot intricate world full unexpected twist  one shocking last  sin eater s daughter delicious read  ending satisfying  leave reader hungry next instalment series ",
         "_deepnote_index_column": 13
        },
        {
         "title": "Jimmy Corrigan:",
         "author": "Chris Ware",
         "desc": "This extraordinary graphic novel is so obviously a labour of love that the reader can only marvel at the energy that has been expended in its creation.  Although the two plots that make up the book are essentially simple, the care with which Ware has executed them gives them an almost mythic quality. Jimmy Corrigan is a lonely, single, thirty-something with a boring job in an office cubicle, and a domineering mother who, in spite of living in a nursing home, is never far from the telephone or Jimmy. His crippling shyness renders him incapable of even saying hello to Peggy, the woman who works at an adjacent desk. When the father he has never known sends him an invitation and a plane ticket, Jimmy feels compelled to fly out to meet him.  Jimmy's (by and large disastrous) trip is mirrored by the boyhood tale of his grandfather, James, whose relationship with his father is tainted by unhappiness. (It's not as confusing as it sounds.) Young James's mother has died, leaving his father with…",
         "lower_age": 14,
         "upper_age": 17,
         "Type": "Books",
         "Author": "nan",
         "title_formatted": "jimmy corrigan:",
         "desc_formatted": "this extraordinary graphic novel is so obviously a labour of love that the reader can only marvel at the energy that has been expended in its creation.  although the two plots that make up the book are essentially simple, the care with which ware has executed them gives them an almost mythic quality. jimmy corrigan is a lonely, single, thirty-something with a boring job in an office cubicle, and a domineering mother who, in spite of living in a nursing home, is never far from the telephone or jimmy. his crippling shyness renders him incapable of even saying hello to peggy, the woman who works at an adjacent desk. when the father he has never known sends him an invitation and a plane ticket, jimmy feels compelled to fly out to meet him.  jimmy's (by and large disastrous) trip is mirrored by the boyhood tale of his grandfather, james, whose relationship with his father is tainted by unhappiness. (it's not as confusing as it sounds.) young james's mother has died, leaving his father with…",
         "title_desc": "['jimmy', 'corrigan', ':', 'extraordinary', 'graphic', 'novel', 'obviously', 'labour', 'love', 'reader', 'marvel', 'energy', 'expended', 'creation', '.', 'although', 'two', 'plot', 'make', 'book', 'essentially', 'simple', ',', 'care', 'ware', 'executed', 'give', 'almost', 'mythic', 'quality', '.', 'jimmy', 'corrigan', 'lonely', ',', 'single', ',', 'thirty-something', 'boring', 'job', 'office', 'cubicle', ',', 'domineering', 'mother', ',', 'spite', 'living', 'nursing', 'home', ',', 'never', 'far', 'telephone', 'jimmy', '.', 'crippling', 'shyness', 'render', 'incapable', 'even', 'saying', 'hello', 'peggy', ',', 'woman', 'work', 'adjacent', 'desk', '.', 'father', 'never', 'known', 'sends', 'invitation', 'plane', 'ticket', ',', 'jimmy', 'feel', 'compelled', 'fly', 'meet', '.', 'jimmy', \"'s\", '(', 'large', 'disastrous', ')', 'trip', 'mirrored', 'boyhood', 'tale', 'grandfather', ',', 'james', ',', 'whose', 'relationship', 'father', 'tainted', 'unhappiness', '.', '(', \"'s\", 'confusing', 'sou…",
         "title_desc_filtered": "jimmy corrigan  extraordinary graphic novel obviously labour love reader marvel energy expended creation  although two plot make book essentially simple  care ware executed give almost mythic quality  jimmy corrigan lonely  single  thirtysomething boring job office cubicle  domineering mother  spite living nursing home  never far telephone jimmy  crippling shyness render incapable even saying hello peggy  woman work adjacent desk  father never known sends invitation plane ticket  jimmy feel compelled fly meet  jimmy s  large disastrous  trip mirrored boyhood tale grandfather  james  whose relationship father tainted unhappiness   s confusing sound   young james s mother died  leaving father unwanted job bringing little boy alone  time maintaining job glazier chicago world s fair  james frightened little boy  cowed father bullied school  vagueness fragility common young  lonely fearful child  quality inherited generation later grandson  chris ware s illustration simply aweinspiring tru…",
         "_deepnote_index_column": 33
        },
        {
         "title": "Attack on Titan: Volume 13",
         "author": "Hajime Isayama",
         "desc": "NO SAFE PLACE LEFT At great cost to the Garrison and the Survey Corps, Commander Erwin has managed to recover Eren from the Titans who tried to carry him off. But during the battle, Eren manifested yet another power he doesn't understand. As Eren and Krista find new enemies, the Survey Corps faces threats from both inside and outside the walls. And what will happen to Ymir, now that she has decided to make herself the Titans' prize?",
         "lower_age": 16,
         "upper_age": 20,
         "Type": "Books",
         "Author": "nan",
         "title_formatted": "attack on titan: volume ",
         "desc_formatted": "no safe place left at great cost to the garrison and the survey corps, commander erwin has managed to recover eren from the titans who tried to carry him off. but during the battle, eren manifested yet another power he doesn't understand. as eren and krista find new enemies, the survey corps faces threats from both inside and outside the walls. and what will happen to ymir, now that she has decided to make herself the titans' prize?",
         "title_desc": "['attack', 'titan', ':', 'volume', 'safe', 'place', 'left', 'great', 'cost', 'garrison', 'survey', 'corp', ',', 'commander', 'erwin', 'managed', 'recover', 'eren', 'titan', 'tried', 'carry', '.', 'battle', ',', 'eren', 'manifested', 'yet', 'another', 'power', \"n't\", 'understand', '.', 'eren', 'krista', 'find', 'new', 'enemy', ',', 'survey', 'corp', 'face', 'threat', 'inside', 'outside', 'wall', '.', 'happen', 'ymir', ',', 'decided', 'make', 'titan', \"'\", 'prize', '?']",
         "title_desc_filtered": "attack titan : volume safe place left great cost garrison survey corp , commander erwin managed recover eren titan tried carry . battle , eren manifested yet another power n't understand . eren krista find new enemy , survey corp face threat inside outside wall . happen ymir , decided make titan ' prize ?",
         "_deepnote_index_column": 0
        },
        {
         "title": "Antiques Roadkill: A Trash 'n' Treasures Mystery",
         "author": "Barbara Allan",
         "desc": "Determined to make a new start in her quaint hometown on the banks of the Mississippi, Brandy Borne never dreams she'll become the prime suspect in a murder case. . . \n\nMoving back in with her eccentric, larger-than-life mother, Brandy Borne finds small-town Serenity anything but serene. It seems an unscrupulous antiques dealer has swindled Vivian out of the family's heirlooms. But when he is found run over in a country lane, Brandy becomes Murder Suspect Number One--with her mother coming in a very close second. . . \n\nThe list of other suspects is impressive--the victim's business seems to have been based on bilking seniors out of their possessions. And when the Borne \"girls\" uncover a few very unsavory Serenity secrets, they become targets for a murderer whose favorite hobby seems to be collecting victims. \n\nDon't miss Brandy Borne's tips on antiques! \n\n\"Cozy mystery fans will love this down-to-earth heroine with the wry sense of humor and a big heart.\" --Nancy Pickard \n\n\"With its s…",
         "lower_age": 16,
         "upper_age": 20,
         "Type": "Books",
         "Author": "nan",
         "title_formatted": "antiques roadkill: a trash 'n' treasures mystery",
         "desc_formatted": "determined to make a new start in her quaint hometown on the banks of the mississippi, brandy borne never dreams she'll become the prime suspect in a murder case. . . \n\nmoving back in with her eccentric, larger-than-life mother, brandy borne finds small-town serenity anything but serene. it seems an unscrupulous antiques dealer has swindled vivian out of the family's heirlooms. but when he is found run over in a country lane, brandy becomes murder suspect number one--with her mother coming in a very close second. . . \n\nthe list of other suspects is impressive--the victim's business seems to have been based on bilking seniors out of their possessions. and when the borne \"girls\" uncover a few very unsavory serenity secrets, they become targets for a murderer whose favorite hobby seems to be collecting victims. \n\ndon't miss brandy borne's tips on antiques! \n\n\"cozy mystery fans will love this down-to-earth heroine with the wry sense of humor and a big heart.\" --nancy pickard \n\n\"with its s…",
         "title_desc": "['antique', 'roadkill', ':', 'trash', \"'n\", \"'\", 'treasure', 'mystery', 'determined', 'make', 'new', 'start', 'quaint', 'hometown', 'bank', 'mississippi', ',', 'brandy', 'borne', 'never', 'dream', \"'ll\", 'become', 'prime', 'suspect', 'murder', 'case', '.', '.', '.', 'moving', 'back', 'eccentric', ',', 'larger-than-life', 'mother', ',', 'brandy', 'borne', 'find', 'small-town', 'serenity', 'anything', 'serene', '.', 'seems', 'unscrupulous', 'antique', 'dealer', 'swindled', 'vivian', 'family', \"'s\", 'heirloom', '.', 'found', 'run', 'country', 'lane', ',', 'brandy', 'becomes', 'murder', 'suspect', 'number', 'one', '--', 'mother', 'coming', 'close', 'second', '.', '.', '.', 'list', 'suspect', 'impressive', '--', 'victim', \"'s\", 'business', 'seems', 'based', 'bilking', 'senior', 'possession', '.', 'borne', '``', 'girl', \"''\", 'uncover', 'unsavory', 'serenity', 'secret', ',', 'become', 'target', 'murderer', 'whose', 'favorite', 'hobby', 'seems', 'collecting', 'victim', '.', \"n't\", 'miss', 'b…",
         "title_desc_filtered": "antique roadkill : trash 'n ' treasure mystery determined make new start quaint hometown bank mississippi , brandy borne never dream 'll become prime suspect murder case . . . moving back eccentric , larger-than-life mother , brandy borne find small-town serenity anything serene . seems unscrupulous antique dealer swindled vivian family 's heirloom . found run country lane , brandy becomes murder suspect number one -- mother coming close second . . . list suspect impressive -- victim 's business seems based bilking senior possession . borne `` girl '' uncover unsavory serenity secret , become target murderer whose favorite hobby seems collecting victim . n't miss brandy borne 's tip antique ! `` cozy mystery fan love down-to-earth heroine wry sense humor big heart . '' -- nancy pickard '' small-town setting quirky character , antique roadkill fun start finish . dive enjoy . '' -- laurien berenson",
         "_deepnote_index_column": 1
        },
        {
         "title": "The Art of Super Mario Odyssey",
         "author": "Nintendo",
         "desc": "Take a globetrotting journey all over the world--and beyond!--with this companion art book to the hit video game for the Nintendo Switch(TM) system!\n\nIn October of 2017, Super Mario Odyssey(TM) took the gaming world by storm. Now, discover the art and expertise that went into creating one of Nintendo's best-loved games!\n\n This full-color volume clocks in at over 350 pages and features concept art, preliminary sketches, and notes from the development team, plus insight into some early ideas that didn't make it into the game itself! Explore the world of Super Mario Odyssey from every angle, including screen shots, marketing material, and more, to fully appreciate this captivating adventure",
         "lower_age": 16,
         "upper_age": 20,
         "Type": "Books",
         "Author": "nan",
         "title_formatted": "the art of super mario odyssey",
         "desc_formatted": "take a globetrotting journey all over the world--and beyond!--with this companion art book to the hit video game for the nintendo switch(tm) system!\n\nin october of , super mario odyssey(tm) took the gaming world by storm. now, discover the art and expertise that went into creating one of nintendo's best-loved games!\n\n this full-color volume clocks in at over  pages and features concept art, preliminary sketches, and notes from the development team, plus insight into some early ideas that didn't make it into the game itself! explore the world of super mario odyssey from every angle, including screen shots, marketing material, and more, to fully appreciate this captivating adventure",
         "title_desc": "['art', 'super', 'mario', 'odyssey', 'take', 'globetrotting', 'journey', 'world', '--', 'beyond', '!', '--', 'companion', 'art', 'book', 'hit', 'video', 'game', 'nintendo', 'switch', '(', 'tm', ')', 'system', '!', 'october', ',', 'super', 'mario', 'odyssey', '(', 'tm', ')', 'took', 'gaming', 'world', 'storm', '.', ',', 'discover', 'art', 'expertise', 'went', 'creating', 'one', 'nintendo', \"'s\", 'best-loved', 'game', '!', 'full-color', 'volume', 'clock', 'page', 'feature', 'concept', 'art', ',', 'preliminary', 'sketch', ',', 'note', 'development', 'team', ',', 'plus', 'insight', 'early', 'idea', \"n't\", 'make', 'game', '!', 'explore', 'world', 'super', 'mario', 'odyssey', 'every', 'angle', ',', 'including', 'screen', 'shot', ',', 'marketing', 'material', ',', ',', 'fully', 'appreciate', 'captivating', 'adventure']",
         "title_desc_filtered": "art super mario odyssey take globetrotting journey world -- beyond ! -- companion art book hit video game nintendo switch ( tm ) system ! october , super mario odyssey ( tm ) took gaming world storm . , discover art expertise went creating one nintendo 's best-loved game ! full-color volume clock page feature concept art , preliminary sketch , note development team , plus insight early idea n't make game ! explore world super mario odyssey every angle , including screen shot , marketing material , , fully appreciate captivating adventure",
         "_deepnote_index_column": 2
        },
        {
         "title": "Getting Away Is Deadly: An Ellie Avery Mystery",
         "author": "Sara Rosett",
         "desc": "With swollen feet and swelling belly, pregnant Ellie bravely joins the nation's tourists in seeing the sights in Washington, D.C. But a fatal incident at the Metro station convinces Ellie that something is rotten in the capital city. Should she do the safe thing and pack her bags? Not likely when too many people are telling lies, hiding secrets, and acting suspiciously. Luckily, Ellie Avery is just the right woman to clean up the most mysterious cases of murder--even if she has to brave the most dangerous byways in the corridors of power . . .\n\n\n\n\nDon't miss Ellie Avery's top-notch tips for great vacations!\n\n\n\nPraise for Sara Rosett and her Mom Zone Mysteries. . .\n\n\n\n\"Crackles with intrigue, keeps you turning pages.\"\n--Alesia Holliday\n\n\n\n\"Sharp writing, tight plotting, a fascinating peek into the world of military wives. Jump in!\"\n--Cynthia Baxter\n\n\n\n\"The stunning conclusion should delight readers.\"\n--Romantic Times",
         "lower_age": 16,
         "upper_age": 20,
         "Type": "Books",
         "Author": "nan",
         "title_formatted": "getting away is deadly: an ellie avery mystery",
         "desc_formatted": "with swollen feet and swelling belly, pregnant ellie bravely joins the nation's tourists in seeing the sights in washington, d.c. but a fatal incident at the metro station convinces ellie that something is rotten in the capital city. should she do the safe thing and pack her bags? not likely when too many people are telling lies, hiding secrets, and acting suspiciously. luckily, ellie avery is just the right woman to clean up the most mysterious cases of murder--even if she has to brave the most dangerous byways in the corridors of power . . .\n\n\n\n\ndon't miss ellie avery's top-notch tips for great vacations!\n\n\n\npraise for sara rosett and her mom zone mysteries. . .\n\n\n\n\"crackles with intrigue, keeps you turning pages.\"\n--alesia holliday\n\n\n\n\"sharp writing, tight plotting, a fascinating peek into the world of military wives. jump in!\"\n--cynthia baxter\n\n\n\n\"the stunning conclusion should delight readers.\"\n--romantic times",
         "title_desc": "['getting', 'away', 'deadly', ':', 'ellie', 'avery', 'mystery', 'swollen', 'foot', 'swelling', 'belly', ',', 'pregnant', 'ellie', 'bravely', 'join', 'nation', \"'s\", 'tourist', 'seeing', 'sight', 'washington', ',', 'd.c.', 'fatal', 'incident', 'metro', 'station', 'convinces', 'ellie', 'something', 'rotten', 'capital', 'city', '.', 'safe', 'thing', 'pack', 'bag', '?', 'likely', 'many', 'people', 'telling', 'lie', ',', 'hiding', 'secret', ',', 'acting', 'suspiciously', '.', 'luckily', ',', 'ellie', 'avery', 'right', 'woman', 'clean', 'mysterious', 'case', 'murder', '--', 'even', 'brave', 'dangerous', 'byway', 'corridor', 'power', '.', '.', '.', \"n't\", 'miss', 'ellie', 'avery', \"'s\", 'top-notch', 'tip', 'great', 'vacation', '!', 'praise', 'sara', 'rosett', 'mom', 'zone', 'mystery', '.', '.', '.', \"''\", 'crackle', 'intrigue', ',', 'keep', 'turning', 'page', '.', \"''\", '--', 'alesia', 'holliday', \"''\", 'sharp', 'writing', ',', 'tight', 'plotting', ',', 'fascinating', 'peek', 'world', 'milit…",
         "title_desc_filtered": "getting away deadly : ellie avery mystery swollen foot swelling belly , pregnant ellie bravely join nation 's tourist seeing sight washington , d.c. fatal incident metro station convinces ellie something rotten capital city . safe thing pack bag ? likely many people telling lie , hiding secret , acting suspiciously . luckily , ellie avery right woman clean mysterious case murder -- even brave dangerous byway corridor power . . . n't miss ellie avery 's top-notch tip great vacation ! praise sara rosett mom zone mystery . . . '' crackle intrigue , keep turning page . '' -- alesia holliday '' sharp writing , tight plotting , fascinating peek world military wife . jump ! '' -- cynthia baxter '' stunning conclusion delight reader . '' -- romantic time",
         "_deepnote_index_column": 3
        },
        {
         "title": "The Painted Man (The Demon Cycle, Book 1)",
         "author": "Peter V. Brett",
         "desc": "The stunning debut fantasy novel from author Peter V. Brett.   The Painted Man, book one of the Demon Cycle, is a captivating and thrilling fantasy adventure, pulling the reader into a world of demons, darkness and heroes.  AS DARKNESS FALLS, THE DEMONS RISE For hundreds of years these creatures have terrorized the night, slowly culling the human population. It was not always this way. Men and women did not always cower behind protective magical wards and hope to see the dawn. Once, they battled the demons on equal terms, but those days, and skills, are gone. Arlen Bales lives with his parents on their isolated farmstead until a demon attack shatters their world. He learns a savage lesson that day: that people, as well as magic, can let you down. Rejecting the fear that kills as efficiently as the creatures, Arlen risks another path in order to offer humanity a last, fleeting chance of survival.",
         "lower_age": 16,
         "upper_age": 20,
         "Type": "Books",
         "Author": "nan",
         "title_formatted": "the painted man (the demon cycle, book )",
         "desc_formatted": "the stunning debut fantasy novel from author peter v. brett.   the painted man, book one of the demon cycle, is a captivating and thrilling fantasy adventure, pulling the reader into a world of demons, darkness and heroes.  as darkness falls, the demons rise for hundreds of years these creatures have terrorized the night, slowly culling the human population. it was not always this way. men and women did not always cower behind protective magical wards and hope to see the dawn. once, they battled the demons on equal terms, but those days, and skills, are gone. arlen bales lives with his parents on their isolated farmstead until a demon attack shatters their world. he learns a savage lesson that day: that people, as well as magic, can let you down. rejecting the fear that kills as efficiently as the creatures, arlen risks another path in order to offer humanity a last, fleeting chance of survival.",
         "title_desc": "['painted', 'man', '(', 'demon', 'cycle', ',', 'book', ')', 'stunning', 'debut', 'fantasy', 'novel', 'author', 'peter', 'v.', 'brett', '.', 'painted', 'man', ',', 'book', 'one', 'demon', 'cycle', ',', 'captivating', 'thrilling', 'fantasy', 'adventure', ',', 'pulling', 'reader', 'world', 'demon', ',', 'darkness', 'hero', '.', 'darkness', 'fall', ',', 'demon', 'rise', 'hundred', 'year', 'creature', 'terrorized', 'night', ',', 'slowly', 'culling', 'human', 'population', '.', 'always', 'way', '.', 'men', 'woman', 'always', 'cower', 'behind', 'protective', 'magical', 'ward', 'hope', 'see', 'dawn', '.', ',', 'battled', 'demon', 'equal', 'term', ',', 'day', ',', 'skill', ',', 'gone', '.', 'arlen', 'bale', 'life', 'parent', 'isolated', 'farmstead', 'demon', 'attack', 'shatters', 'world', '.', 'learns', 'savage', 'lesson', 'day', ':', 'people', ',', 'well', 'magic', ',', 'let', '.', 'rejecting', 'fear', 'kill', 'efficiently', 'creature', ',', 'arlen', 'risk', 'another', 'path', 'order', 'offer…",
         "title_desc_filtered": "painted man ( demon cycle , book ) stunning debut fantasy novel author peter v. brett . painted man , book one demon cycle , captivating thrilling fantasy adventure , pulling reader world demon , darkness hero . darkness fall , demon rise hundred year creature terrorized night , slowly culling human population . always way . men woman always cower behind protective magical ward hope see dawn . , battled demon equal term , day , skill , gone . arlen bale life parent isolated farmstead demon attack shatters world . learns savage lesson day : people , well magic , let . rejecting fear kill efficiently creature , arlen risk another path order offer humanity last , fleeting chance survival .",
         "_deepnote_index_column": 4
        },
        {
         "title": "A Feast for Crows (A Song of Ice and Fire, Book 4)",
         "author": "George R.R. Martin",
         "desc": "HBO’s hit series A GAME OF THRONES is based on George R. R. Martin’s internationally bestselling series A SONG OF ICE AND FIRE, the greatest fantasy epic of the modern age. A FEAST FOR CROWS is the fourth volume in the series. The Lannisters are in power on the Iron Throne. The war in the Seven Kingdoms has burned itself out, but in its bitter aftermath new conflicts spark to life. The Martells of Dorne and the Starks of Winterfell seek vengeance for their dead. Euron Crow’s Eye, as black a pirate as ever raised a sail, returns from the smoking ruins of Valyria to claim the Iron Isles. From the icy north, where Others threaten the Wall, apprentice Maester Samwell Tarly brings a mysterious babe in arms to the Citadel. As plots, intrigue and battle threaten to engulf Westeros, victory will go to the men and women possessed of the coldest steel and the coldest hearts.",
         "lower_age": 16,
         "upper_age": 20,
         "Type": "Books",
         "Author": "nan",
         "title_formatted": "a feast for crows (a song of ice and fire, book )",
         "desc_formatted": "hbo’s hit series a game of thrones is based on george r. r. martin’s internationally bestselling series a song of ice and fire, the greatest fantasy epic of the modern age. a feast for crows is the fourth volume in the series. the lannisters are in power on the iron throne. the war in the seven kingdoms has burned itself out, but in its bitter aftermath new conflicts spark to life. the martells of dorne and the starks of winterfell seek vengeance for their dead. euron crow’s eye, as black a pirate as ever raised a sail, returns from the smoking ruins of valyria to claim the iron isles. from the icy north, where others threaten the wall, apprentice maester samwell tarly brings a mysterious babe in arms to the citadel. as plots, intrigue and battle threaten to engulf westeros, victory will go to the men and women possessed of the coldest steel and the coldest hearts.",
         "title_desc": "['feast', 'crow', '(', 'song', 'ice', 'fire', ',', 'book', ')', 'hbo', '’', 'hit', 'series', 'game', 'throne', 'based', 'george', 'r.', 'r.', 'martin', '’', 'internationally', 'bestselling', 'series', 'song', 'ice', 'fire', ',', 'greatest', 'fantasy', 'epic', 'modern', 'age', '.', 'feast', 'crow', 'fourth', 'volume', 'series', '.', 'lannisters', 'power', 'iron', 'throne', '.', 'war', 'seven', 'kingdom', 'burned', ',', 'bitter', 'aftermath', 'new', 'conflict', 'spark', 'life', '.', 'martells', 'dorne', 'starks', 'winterfell', 'seek', 'vengeance', 'dead', '.', 'euron', 'crow', '’', 'eye', ',', 'black', 'pirate', 'ever', 'raised', 'sail', ',', 'return', 'smoking', 'ruin', 'valyria', 'claim', 'iron', 'isle', '.', 'icy', 'north', ',', 'others', 'threaten', 'wall', ',', 'apprentice', 'maester', 'samwell', 'tarly', 'brings', 'mysterious', 'babe', 'arm', 'citadel', '.', 'plot', ',', 'intrigue', 'battle', 'threaten', 'engulf', 'westeros', ',', 'victory', 'go', 'men', 'woman', 'possessed', 'col…",
         "title_desc_filtered": "feast crow ( song ice fire , book ) hbo ’ hit series game throne based george r. r. martin ’ internationally bestselling series song ice fire , greatest fantasy epic modern age . feast crow fourth volume series . lannisters power iron throne . war seven kingdom burned , bitter aftermath new conflict spark life . martells dorne starks winterfell seek vengeance dead . euron crow ’ eye , black pirate ever raised sail , return smoking ruin valyria claim iron isle . icy north , others threaten wall , apprentice maester samwell tarly brings mysterious babe arm citadel . plot , intrigue battle threaten engulf westeros , victory go men woman possessed coldest steel coldest heart .",
         "_deepnote_index_column": 5
        },
        {
         "title": "God of War: The Official Novelization",
         "author": "J.M. Barlog",
         "desc": "The novelization of the highly anticipated God of War 4 game.\nHis vengeance against the Gods of Olympus years behind him, Kratos now lives as a man in the realm of Norse gods and monsters. It is in this harsh, unforgiving world that he must fight to survive... and teach his son to do the same. This startling reimagining of God of War deconstructs the core elements that defined the series—satisfying combat; breathtaking scale; and a powerful narrative—and fuses them anew.",
         "lower_age": 16,
         "upper_age": 20,
         "Type": "Books",
         "Author": "nan",
         "title_formatted": "god of war: the official novelization",
         "desc_formatted": "the novelization of the highly anticipated god of war  game.\nhis vengeance against the gods of olympus years behind him, kratos now lives as a man in the realm of norse gods and monsters. it is in this harsh, unforgiving world that he must fight to survive... and teach his son to do the same. this startling reimagining of god of war deconstructs the core elements that defined the series—satisfying combat; breathtaking scale; and a powerful narrative—and fuses them anew.",
         "title_desc": "['god', 'war', ':', 'official', 'novelization', 'novelization', 'highly', 'anticipated', 'god', 'war', 'game', '.', 'vengeance', 'god', 'olympus', 'year', 'behind', ',', 'kratos', 'life', 'man', 'realm', 'norse', 'god', 'monster', '.', 'harsh', ',', 'unforgiving', 'world', 'must', 'fight', 'survive', '...', 'teach', 'son', '.', 'startling', 'reimagining', 'god', 'war', 'deconstructs', 'core', 'element', 'defined', 'series—satisfying', 'combat', ';', 'breathtaking', 'scale', ';', 'powerful', 'narrative—and', 'fuse', 'anew', '.']",
         "title_desc_filtered": "god war : official novelization novelization highly anticipated god war game . vengeance god olympus year behind , kratos life man realm norse god monster . harsh , unforgiving world must fight survive ... teach son . startling reimagining god war deconstructs core element defined series—satisfying combat ; breathtaking scale ; powerful narrative—and fuse anew .",
         "_deepnote_index_column": 6
        },
        {
         "title": "Edgedancer: From the Stormlight Archive",
         "author": "Brandon Sanderson",
         "desc": "From #1 New York Times bestselling author Brandon Sanderson, a special gift edition of Edgedancer, a short novel of the Stormlight Archive (previously published in Arcanum Unbounded).Three years ago, Lift asked a goddess to stop her from growing older--a wish she believed was granted. Now, in Edgedancer, the barely teenage nascent Knight Radiant finds that time stands still for no one. Although the young Azish emperor granted her safe haven from an executioner she knows only as Darkness, court life is suffocating the free-spirited Lift, who can't help heading to Yeddaw when she hears the relentless Darkness is there hunting people like her with budding powers. The downtrodden in Yeddaw have no champion, and Lift knows she must seize this awesome responsibility.\nOther Tor books by Brandon Sanderson The Cosmere\n \n The Stormlight Archive\n The Way of Kings\n Words of Radiance\n Edgedancer (Novella)\n Oathbringer\n \n The Mistborn trilogy\n Mistborn: The Final Empire\n The Well of Ascension\n The …",
         "lower_age": 16,
         "upper_age": 20,
         "Type": "Books",
         "Author": "nan",
         "title_formatted": "edgedancer: from the stormlight archive",
         "desc_formatted": "from # new york times bestselling author brandon sanderson, a special gift edition of edgedancer, a short novel of the stormlight archive (previously published in arcanum unbounded).three years ago, lift asked a goddess to stop her from growing older--a wish she believed was granted. now, in edgedancer, the barely teenage nascent knight radiant finds that time stands still for no one. although the young azish emperor granted her safe haven from an executioner she knows only as darkness, court life is suffocating the free-spirited lift, who can't help heading to yeddaw when she hears the relentless darkness is there hunting people like her with budding powers. the downtrodden in yeddaw have no champion, and lift knows she must seize this awesome responsibility.\nother tor books by brandon sanderson the cosmere\n \n the stormlight archive\n the way of kings\n words of radiance\n edgedancer (novella)\n oathbringer\n \n the mistborn trilogy\n mistborn: the final empire\n the well of ascension\n the h…",
         "title_desc": "['edgedancer', ':', 'stormlight', 'archive', '#', 'new', 'york', 'time', 'bestselling', 'author', 'brandon', 'sanderson', ',', 'special', 'gift', 'edition', 'edgedancer', ',', 'short', 'novel', 'stormlight', 'archive', '(', 'previously', 'published', 'arcanum', 'unbounded', ')', '.three', 'year', 'ago', ',', 'lift', 'asked', 'goddess', 'stop', 'growing', 'older', '--', 'wish', 'believed', 'granted', '.', ',', 'edgedancer', ',', 'barely', 'teenage', 'nascent', 'knight', 'radiant', 'find', 'time', 'stand', 'still', 'one', '.', 'although', 'young', 'azish', 'emperor', 'granted', 'safe', 'executioner', 'know', 'darkness', ',', 'court', 'life', 'suffocating', 'free-spirited', 'lift', ',', 'ca', \"n't\", 'help', 'heading', 'yeddaw', 'hears', 'relentless', 'darkness', 'hunting', 'people', 'like', 'budding', 'power', '.', 'downtrodden', 'yeddaw', 'champion', ',', 'lift', 'know', 'must', 'seize', 'awesome', 'responsibility', '.', 'tor', 'book', 'brandon', 'sanderson', 'cosmere', 'stormlight', 'a…",
         "title_desc_filtered": "edgedancer : stormlight archive # new york time bestselling author brandon sanderson , special gift edition edgedancer , short novel stormlight archive ( previously published arcanum unbounded ) .three year ago , lift asked goddess stop growing older -- wish believed granted . , edgedancer , barely teenage nascent knight radiant find time stand still one . although young azish emperor granted safe executioner know darkness , court life suffocating free-spirited lift , ca n't help heading yeddaw hears relentless darkness hunting people like budding power . downtrodden yeddaw champion , lift know must seize awesome responsibility . tor book brandon sanderson cosmere stormlight archive way king word radiance edgedancer ( novella ) oathbringer mistborn trilogy mistborn : final empire well ascension hero age mistborn : wax wayne series alloy law shadow self band mourning collection arcanum unbounded cosmere novel elantris warbreaker alcatraz vs. evil librarian series alcatraz vs. evil libr…",
         "_deepnote_index_column": 7
        }
       ]
      },
      "text/plain": "                                                 title             author  \\\n13                            The Sin Eater's Daughter  Melinda Salisbury   \n33                                     Jimmy Corrigan:         Chris Ware   \n0                           Attack on Titan: Volume 13     Hajime Isayama   \n1     Antiques Roadkill: A Trash 'n' Treasures Mystery      Barbara Allan   \n2                       The Art of Super Mario Odyssey           Nintendo   \n..                                                 ...                ...   \n943  The Essentials of Finance and Accounting for N...      Edward Fields   \n944                          The Magic of Thinking Big  David J. Schwartz   \n945  Twas The Nightshift Before Christmas: Festive ...           Adam Kay   \n946  Why We Sleep: The New Science of Sleep and Dreams     Matthew Walker   \n947           W is for Wasted: A Kinsey Millhone Novel        Sue Grafton   \n\n                                                  desc  lower_age  upper_age  \\\n13   Seventeen-year-old Twylla lives in the castle ...         14         17   \n33   This extraordinary graphic novel is so obvious...         14         17   \n0    NO SAFE PLACE LEFT At great cost to the Garris...         16         20   \n1    Determined to make a new start in her quaint h...         16         20   \n2    Take a globetrotting journey all over the worl...         16         20   \n..                                                 ...        ...        ...   \n943  Based on the bestselling AMA seminar, a nuts-a...         16         20   \n944  The timeless and practical advice in The Magic...         16         20   \n945  A short gift book of festive hospital diaries ...         16         20   \n946  'Astonishing ... an amazing book ... absolutel...         16         20   \n947  Private investigator Kinsey Millhone finds sho...         16         20   \n\n      Type Author                                    title_formatted  \\\n13   Books    NaN                           the sin eater's daughter   \n33   Books    NaN                                    jimmy corrigan:   \n0    Books    NaN                           attack on titan: volume    \n1    Books    NaN   antiques roadkill: a trash 'n' treasures mystery   \n2    Books    NaN                     the art of super mario odyssey   \n..     ...    ...                                                ...   \n943  Books    NaN  the essentials of finance and accounting for n...   \n944  Books    NaN                          the magic of thinking big   \n945  Books    NaN  twas the nightshift before christmas: festive ...   \n946  Books    NaN  why we sleep: the new science of sleep and dreams   \n947  Books    NaN           w is for wasted: a kinsey millhone novel   \n\n                                        desc_formatted  \\\n13   seventeen-year-old twylla lives in the castle ...   \n33   this extraordinary graphic novel is so obvious...   \n0    no safe place left at great cost to the garris...   \n1    determined to make a new start in her quaint h...   \n2    take a globetrotting journey all over the worl...   \n..                                                 ...   \n943  based on the bestselling ama seminar, a nuts-a...   \n944  the timeless and practical advice in the magic...   \n945  a short gift book of festive hospital diaries ...   \n946  'astonishing ... an amazing book ... absolutel...   \n947  private investigator kinsey millhone finds sho...   \n\n                                            title_desc  \\\n13   [sin, eater, 's, daughter, seventeen-year-old,...   \n33   [jimmy, corrigan, :, extraordinary, graphic, n...   \n0    [attack, titan, :, volume, safe, place, left, ...   \n1    [antique, roadkill, :, trash, 'n, ', treasure,...   \n2    [art, super, mario, odyssey, take, globetrotti...   \n..                                                 ...   \n943  [essential, finance, accounting, nonfinancial,...   \n944  [magic, thinking, big, timeless, practical, ad...   \n945  [twas, nightshift, christmas, :, festive, hosp...   \n946  [sleep, :, new, science, sleep, dream, 'astoni...   \n947  [w, wasted, :, kinsey, millhone, novel, privat...   \n\n                                   title_desc_filtered  \n13   sin eater s daughter seventeenyearold twylla l...  \n33   jimmy corrigan  extraordinary graphic novel ob...  \n0    attack titan : volume safe place left great co...  \n1    antique roadkill : trash 'n ' treasure mystery...  \n2    art super mario odyssey take globetrotting jou...  \n..                                                 ...  \n943  essential finance accounting nonfinancial mana...  \n944  magic thinking big timeless practical advice m...  \n945  twas nightshift christmas : festive hospital d...  \n946  sleep : new science sleep dream 'astonishing ....  \n947  w wasted : kinsey millhone novel private inves...  \n\n[950 rows x 11 columns]",
      "text/html": "<div>\n<style scoped>\n    .dataframe tbody tr th:only-of-type {\n        vertical-align: middle;\n    }\n\n    .dataframe tbody tr th {\n        vertical-align: top;\n    }\n\n    .dataframe thead th {\n        text-align: right;\n    }\n</style>\n<table border=\"1\" class=\"dataframe\">\n  <thead>\n    <tr style=\"text-align: right;\">\n      <th></th>\n      <th>title</th>\n      <th>author</th>\n      <th>desc</th>\n      <th>lower_age</th>\n      <th>upper_age</th>\n      <th>Type</th>\n      <th>Author</th>\n      <th>title_formatted</th>\n      <th>desc_formatted</th>\n      <th>title_desc</th>\n      <th>title_desc_filtered</th>\n    </tr>\n  </thead>\n  <tbody>\n    <tr>\n      <th>13</th>\n      <td>The Sin Eater's Daughter</td>\n      <td>Melinda Salisbury</td>\n      <td>Seventeen-year-old Twylla lives in the castle ...</td>\n      <td>14</td>\n      <td>17</td>\n      <td>Books</td>\n      <td>NaN</td>\n      <td>the sin eater's daughter</td>\n      <td>seventeen-year-old twylla lives in the castle ...</td>\n      <td>[sin, eater, 's, daughter, seventeen-year-old,...</td>\n      <td>sin eater s daughter seventeenyearold twylla l...</td>\n    </tr>\n    <tr>\n      <th>33</th>\n      <td>Jimmy Corrigan:</td>\n      <td>Chris Ware</td>\n      <td>This extraordinary graphic novel is so obvious...</td>\n      <td>14</td>\n      <td>17</td>\n      <td>Books</td>\n      <td>NaN</td>\n      <td>jimmy corrigan:</td>\n      <td>this extraordinary graphic novel is so obvious...</td>\n      <td>[jimmy, corrigan, :, extraordinary, graphic, n...</td>\n      <td>jimmy corrigan  extraordinary graphic novel ob...</td>\n    </tr>\n    <tr>\n      <th>0</th>\n      <td>Attack on Titan: Volume 13</td>\n      <td>Hajime Isayama</td>\n      <td>NO SAFE PLACE LEFT At great cost to the Garris...</td>\n      <td>16</td>\n      <td>20</td>\n      <td>Books</td>\n      <td>NaN</td>\n      <td>attack on titan: volume</td>\n      <td>no safe place left at great cost to the garris...</td>\n      <td>[attack, titan, :, volume, safe, place, left, ...</td>\n      <td>attack titan : volume safe place left great co...</td>\n    </tr>\n    <tr>\n      <th>1</th>\n      <td>Antiques Roadkill: A Trash 'n' Treasures Mystery</td>\n      <td>Barbara Allan</td>\n      <td>Determined to make a new start in her quaint h...</td>\n      <td>16</td>\n      <td>20</td>\n      <td>Books</td>\n      <td>NaN</td>\n      <td>antiques roadkill: a trash 'n' treasures mystery</td>\n      <td>determined to make a new start in her quaint h...</td>\n      <td>[antique, roadkill, :, trash, 'n, ', treasure,...</td>\n      <td>antique roadkill : trash 'n ' treasure mystery...</td>\n    </tr>\n    <tr>\n      <th>2</th>\n      <td>The Art of Super Mario Odyssey</td>\n      <td>Nintendo</td>\n      <td>Take a globetrotting journey all over the worl...</td>\n      <td>16</td>\n      <td>20</td>\n      <td>Books</td>\n      <td>NaN</td>\n      <td>the art of super mario odyssey</td>\n      <td>take a globetrotting journey all over the worl...</td>\n      <td>[art, super, mario, odyssey, take, globetrotti...</td>\n      <td>art super mario odyssey take globetrotting jou...</td>\n    </tr>\n    <tr>\n      <th>...</th>\n      <td>...</td>\n      <td>...</td>\n      <td>...</td>\n      <td>...</td>\n      <td>...</td>\n      <td>...</td>\n      <td>...</td>\n      <td>...</td>\n      <td>...</td>\n      <td>...</td>\n      <td>...</td>\n    </tr>\n    <tr>\n      <th>943</th>\n      <td>The Essentials of Finance and Accounting for N...</td>\n      <td>Edward Fields</td>\n      <td>Based on the bestselling AMA seminar, a nuts-a...</td>\n      <td>16</td>\n      <td>20</td>\n      <td>Books</td>\n      <td>NaN</td>\n      <td>the essentials of finance and accounting for n...</td>\n      <td>based on the bestselling ama seminar, a nuts-a...</td>\n      <td>[essential, finance, accounting, nonfinancial,...</td>\n      <td>essential finance accounting nonfinancial mana...</td>\n    </tr>\n    <tr>\n      <th>944</th>\n      <td>The Magic of Thinking Big</td>\n      <td>David J. Schwartz</td>\n      <td>The timeless and practical advice in The Magic...</td>\n      <td>16</td>\n      <td>20</td>\n      <td>Books</td>\n      <td>NaN</td>\n      <td>the magic of thinking big</td>\n      <td>the timeless and practical advice in the magic...</td>\n      <td>[magic, thinking, big, timeless, practical, ad...</td>\n      <td>magic thinking big timeless practical advice m...</td>\n    </tr>\n    <tr>\n      <th>945</th>\n      <td>Twas The Nightshift Before Christmas: Festive ...</td>\n      <td>Adam Kay</td>\n      <td>A short gift book of festive hospital diaries ...</td>\n      <td>16</td>\n      <td>20</td>\n      <td>Books</td>\n      <td>NaN</td>\n      <td>twas the nightshift before christmas: festive ...</td>\n      <td>a short gift book of festive hospital diaries ...</td>\n      <td>[twas, nightshift, christmas, :, festive, hosp...</td>\n      <td>twas nightshift christmas : festive hospital d...</td>\n    </tr>\n    <tr>\n      <th>946</th>\n      <td>Why We Sleep: The New Science of Sleep and Dreams</td>\n      <td>Matthew Walker</td>\n      <td>'Astonishing ... an amazing book ... absolutel...</td>\n      <td>16</td>\n      <td>20</td>\n      <td>Books</td>\n      <td>NaN</td>\n      <td>why we sleep: the new science of sleep and dreams</td>\n      <td>'astonishing ... an amazing book ... absolutel...</td>\n      <td>[sleep, :, new, science, sleep, dream, 'astoni...</td>\n      <td>sleep : new science sleep dream 'astonishing ....</td>\n    </tr>\n    <tr>\n      <th>947</th>\n      <td>W is for Wasted: A Kinsey Millhone Novel</td>\n      <td>Sue Grafton</td>\n      <td>Private investigator Kinsey Millhone finds sho...</td>\n      <td>16</td>\n      <td>20</td>\n      <td>Books</td>\n      <td>NaN</td>\n      <td>w is for wasted: a kinsey millhone novel</td>\n      <td>private investigator kinsey millhone finds sho...</td>\n      <td>[w, wasted, :, kinsey, millhone, novel, privat...</td>\n      <td>w wasted : kinsey millhone novel private inves...</td>\n    </tr>\n  </tbody>\n</table>\n<p>950 rows × 11 columns</p>\n</div>"
     },
     "metadata": {}
    }
   ]
  },
  {
   "cell_type": "code",
   "metadata": {
    "cell_id": "a6e3f2eac091401a9efaa2b63a0df234",
    "tags": [],
    "deepnote_to_be_reexecuted": false,
    "source_hash": "396a05a8",
    "execution_start": 1656109285121,
    "execution_millis": 118,
    "deepnote_cell_type": "code",
    "deepnote_cell_height": 190.609375
   },
   "source": "vectorizer = TfidfVectorizer(max_features=1800, lowercase=True, stop_words='english', ngram_range=(1,1)) #unigrams and bigrams\ntf_idf_output = vectorizer.fit_transform(df_filter['title_desc_filtered'])\nvocab = np.array(vectorizer.get_feature_names())\n# vocab",
   "execution_count": 20,
   "outputs": [
    {
     "name": "stderr",
     "text": "/shared-libs/python3.9/py/lib/python3.9/site-packages/sklearn/utils/deprecation.py:87: FutureWarning: Function get_feature_names is deprecated; get_feature_names is deprecated in 1.0 and will be removed in 1.2. Please use get_feature_names_out instead.\n  warnings.warn(msg, category=FutureWarning)\n",
     "output_type": "stream"
    }
   ]
  },
  {
   "cell_type": "code",
   "metadata": {
    "cell_id": "18fc63de9e21443791d59525b71c9f24",
    "deepnote_variable_name": "num_topics",
    "deepnote_variable_value": "20",
    "deepnote_to_be_reexecuted": false,
    "source_hash": "b4c43500",
    "execution_start": 1656109285282,
    "execution_millis": 1,
    "deepnote_cell_type": "input-text"
   },
   "source": "num_topics = '20'",
   "execution_count": 21,
   "outputs": []
  },
  {
   "cell_type": "code",
   "metadata": {
    "cell_id": "c2e1d302d818496b8f038d52f1302084",
    "tags": [],
    "deepnote_to_be_reexecuted": false,
    "source_hash": "f334514b",
    "execution_start": 1656109285283,
    "execution_millis": 1613,
    "deepnote_cell_type": "code",
    "deepnote_cell_height": 117
   },
   "source": "# Perform LDA \nnum_topics = int(num_topics) # can be changed \nlda = LatentDirichletAllocation(n_components=num_topics, random_state=1).fit(tf_idf_output)",
   "execution_count": 22,
   "outputs": []
  },
  {
   "cell_type": "code",
   "metadata": {
    "cell_id": "6a6fc9eb7cda4c56a6c14573ac29acd2",
    "deepnote_variable_name": "num_top_words",
    "deepnote_variable_value": "15",
    "deepnote_to_be_reexecuted": false,
    "source_hash": "9bf19a22",
    "execution_start": 1656109286899,
    "execution_millis": 2,
    "deepnote_cell_type": "input-text"
   },
   "source": "num_top_words = '15'",
   "execution_count": 23,
   "outputs": []
  },
  {
   "cell_type": "code",
   "metadata": {
    "cell_id": "08477ab16f0a471686fd8be670a773ec",
    "tags": [],
    "deepnote_to_be_reexecuted": false,
    "source_hash": "37e037f4",
    "execution_start": 1656109286904,
    "execution_millis": 5,
    "deepnote_cell_type": "code",
    "deepnote_cell_height": 243
   },
   "source": "num_top_words = int(num_top_words) # can be changed. Can also be generated from Cohere\n  \ntopics_set = []\n\n# draft that works\ndef display_topics(model, feature_names, no_top_words):\n    for topic_idx, topic in enumerate(model.components_):\n        topics_set.append(set([feature_names[i] for i in topic.argsort()[:-no_top_words - 1:-1]]))\n\ndisplay_topics(lda, vocab, num_top_words)",
   "execution_count": 24,
   "outputs": []
  },
  {
   "cell_type": "code",
   "metadata": {
    "cell_id": "9b2f941ecc334cd48d5aef470b329996",
    "deepnote_variable_name": "user_phrase",
    "deepnote_variable_value": "mystirious crime in New York City evil detective",
    "deepnote_to_be_reexecuted": false,
    "source_hash": "2342bc42",
    "execution_start": 1656110551201,
    "execution_millis": 7,
    "deepnote_cell_type": "input-text"
   },
   "source": "user_phrase = 'mystirious crime in New York City evil detective'",
   "execution_count": 56,
   "outputs": []
  },
  {
   "cell_type": "code",
   "source": "# word correct\nnltk.download('words')\nfrom nltk.corpus import words\nwords_corpus = words.words()\n\nuser_input_list = user_phrase.split()\nuser_input_list = [elem.strip(string.punctuation).lower() for elem in user_input_list]\n\ndef run_autocorrect(input_word): \n    closest_words = pq()\n    for word in words_corpus: \n        distance = editdistance.eval(word, input_word)\n        closest_words.put((distance, word))\n    return closest_words.get()\n\nnew_phrase_list = []\nfor elem in user_input_list: \n    if elem not in words_corpus: \n        correct_word = run_autocorrect(elem)\n        new_phrase_list.append(correct_word[1])\n    else: \n        new_phrase_list.append(elem)\n\nuser_phrase = \" \".join(new_phrase_list)\nuser_phrase",
   "metadata": {
    "cell_id": "901a0666ca3841aab1d091a0a6aa7625",
    "tags": [],
    "deepnote_to_be_reexecuted": false,
    "source_hash": "7e763412",
    "execution_start": 1656110553495,
    "execution_millis": 881,
    "owner_user_id": "3368d2ef-7e80-411c-933c-c0bf7e4e7d6b",
    "deepnote_cell_type": "code",
    "deepnote_cell_height": 616.34375,
    "deepnote_output_heights": [
     null,
     21.1875
    ]
   },
   "outputs": [
    {
     "name": "stderr",
     "text": "[nltk_data] Downloading package words to /root/nltk_data...\n[nltk_data]   Package words is already up-to-date!\n",
     "output_type": "stream"
    },
    {
     "output_type": "execute_result",
     "execution_count": 57,
     "data": {
      "text/plain": "'mysterious crime in new york city evil detective'"
     },
     "metadata": {}
    }
   ],
   "execution_count": 57
  },
  {
   "cell_type": "code",
   "metadata": {
    "cell_id": "2493fb42ff3045eab1a9e2defb932260",
    "tags": [],
    "deepnote_to_be_reexecuted": false,
    "source_hash": "a9a0826",
    "execution_start": 1656109286963,
    "execution_millis": 2,
    "deepnote_cell_type": "code",
    "deepnote_cell_height": 494.515625
   },
   "source": "# There is no point of removing stopwords here because we are seeing how much similarity there is regardless. \n# I am thinking of adding spell-correction here? \n\n# user_phrase = set(user_phrase.lower().split())\n# we will preprocess the user phrase just like how we preprocessed the descriptions. Removing stopwords won't matter\n# since we are looking at frequency \n\nuser_phrase = word_tokenize(user_phrase)\nuser_phrase = [word if word not in string.punctuation else '' for word in user_phrase]\n #user_phrase.replace(string.punctuation, '')\nuser_phrase = set([lem.lemmatize(w).lower() for w in user_phrase])\n# print(user_phrase)\n\nbest_topic = topics_set[0] #initialization \nbest_intersection = -1\nfor group in topics_set: \n    # print(group, user_phrase, len(user_phrase.intersection(group)))\n    if len(user_phrase.intersection(group)) > best_intersection: \n        best_topic = group\n        best_intersection = len(user_phrase.intersection(group))\n\nprint(best_topic, best_intersection) # returns best list of topics and length of the intersection ",
   "execution_count": 26,
   "outputs": [
    {
     "name": "stdout",
     "text": "{'day', 'vagrant', 'harry', 'poirot', 'death', 'law', 'wizard', 'vampire', 'kinsey', 'city', 'shining', 'paige', 'lot', 'strange', 'new'} 2\n",
     "output_type": "stream"
    }
   ]
  },
  {
   "cell_type": "code",
   "metadata": {
    "cell_id": "4e51014b9d504bcebc08ea32cdd9f842",
    "tags": [],
    "deepnote_to_be_reexecuted": false,
    "source_hash": "c732e692",
    "execution_start": 1656109286964,
    "execution_millis": 45,
    "deepnote_table_state": {
     "pageSize": 10,
     "pageIndex": 95,
     "filters": [],
     "sortBy": []
    },
    "deepnote_table_loading": false,
    "deepnote_cell_type": "code",
    "deepnote_cell_height": 622.65625
   },
   "source": "df_filter",
   "execution_count": 27,
   "outputs": [
    {
     "output_type": "execute_result",
     "execution_count": 27,
     "data": {
      "application/vnd.deepnote.dataframe.v3+json": {
       "column_count": 11,
       "row_count": 950,
       "columns": [
        {
         "name": "title",
         "dtype": "object",
         "stats": {
          "unique_count": 248,
          "nan_count": 0,
          "categories": [
           {
            "name": "The Queen of Nothing (The Folk of the Air #3)",
            "count": 13
           },
           {
            "name": "The Hitchhiker's Guide to the Galaxy: 42nd Anniversary Edition",
            "count": 12
           },
           {
            "name": "246 others",
            "count": 925
           }
          ]
         }
        },
        {
         "name": "author",
         "dtype": "object",
         "stats": {
          "unique_count": 185,
          "nan_count": 0,
          "categories": [
           {
            "name": "Agatha Christie",
            "count": 29
           },
           {
            "name": "Brian Tracy",
            "count": 28
           },
           {
            "name": "183 others",
            "count": 893
           }
          ]
         }
        },
        {
         "name": "desc",
         "dtype": "object",
         "stats": {
          "unique_count": 247,
          "nan_count": 0,
          "categories": [
           {
            "name": "The intoxicating and bloodthirsty finale to the New York Times bestselling The Cruel Prince, nominated for the CILIP CARNEGIE MEDAL 2019, and  New York Times bestseller The Wicked King \n\nAfter being pronounced Queen of Faerie and then abruptly exiled by the Wicked King Cardan, Jude finds herself unmoored, the queen of nothing. She spends her time with Vivi and Oak, watching reality television, and doing odd jobs, including squaring up to a cannibalistic faerie.\n\nWhen her twin sister Taryn shows up asking a favour, Jude jumps at the chance to return to the Faerie world, even if it means facing Cardan, who she loves despite his betrayal. When a dark curse is unveiled, Jude must become the first mortal Queen of Faerie and break the curse, or risk upsetting the balance of the whole Faerie world.",
            "count": 13
           },
           {
            "name": "The intergalactic adventures of Arthur Dent begin in the first volume of the 'trilogy of five', Douglas Adams' comedy sci-fi classic The Hitchhiker's Guide to the Galaxy. This edition, with a metallic sheen cover, includes exclusive bonus material from the Douglas Adams archives, and an introduction by former Doctor Who showrunner, Russell T Davies.On 12 October 1979 the most remarkable book ever to come out of the great publishing corporations of Ursa Minor (and Earth) was made available to humanity - The Hitchhiker's Guide to the Galaxy.\n\nIt's an ordinary Thursday lunchtime for Arthur Dent until his house gets demolished. The Earth follows shortly afterwards to make way for a new hyperspace express route, and his best friend has just announced that he's an alien. At this moment, they're hurtling through space with nothing but their towels and an innocuous-looking book inscribed, in large friendly letters, with the words: DON'T PANIC. The weekend has only just begun . . .Follow Arthur Dent's galactic (mis)adventures in the rest of the trilogy with five parts: The Restaurant at the End of the Universe, Life, the Universe and Everything, So Long, and Thanks for All the Fish, and Mostly Harmless.",
            "count": 12
           },
           {
            "name": "245 others",
            "count": 925
           }
          ]
         }
        },
        {
         "name": "lower_age",
         "dtype": "int64",
         "stats": {
          "unique_count": 2,
          "nan_count": 0,
          "min": "14",
          "max": "16",
          "histogram": [
           {
            "bin_start": 14,
            "bin_end": 14.2,
            "count": 2
           },
           {
            "bin_start": 14.2,
            "bin_end": 14.4,
            "count": 0
           },
           {
            "bin_start": 14.4,
            "bin_end": 14.6,
            "count": 0
           },
           {
            "bin_start": 14.6,
            "bin_end": 14.8,
            "count": 0
           },
           {
            "bin_start": 14.8,
            "bin_end": 15,
            "count": 0
           },
           {
            "bin_start": 15,
            "bin_end": 15.2,
            "count": 0
           },
           {
            "bin_start": 15.2,
            "bin_end": 15.4,
            "count": 0
           },
           {
            "bin_start": 15.4,
            "bin_end": 15.6,
            "count": 0
           },
           {
            "bin_start": 15.6,
            "bin_end": 15.8,
            "count": 0
           },
           {
            "bin_start": 15.8,
            "bin_end": 16,
            "count": 948
           }
          ]
         }
        },
        {
         "name": "upper_age",
         "dtype": "int64",
         "stats": {
          "unique_count": 2,
          "nan_count": 0,
          "min": "17",
          "max": "20",
          "histogram": [
           {
            "bin_start": 17,
            "bin_end": 17.3,
            "count": 2
           },
           {
            "bin_start": 17.3,
            "bin_end": 17.6,
            "count": 0
           },
           {
            "bin_start": 17.6,
            "bin_end": 17.9,
            "count": 0
           },
           {
            "bin_start": 17.9,
            "bin_end": 18.2,
            "count": 0
           },
           {
            "bin_start": 18.2,
            "bin_end": 18.5,
            "count": 0
           },
           {
            "bin_start": 18.5,
            "bin_end": 18.8,
            "count": 0
           },
           {
            "bin_start": 18.8,
            "bin_end": 19.1,
            "count": 0
           },
           {
            "bin_start": 19.1,
            "bin_end": 19.4,
            "count": 0
           },
           {
            "bin_start": 19.4,
            "bin_end": 19.7,
            "count": 0
           },
           {
            "bin_start": 19.7,
            "bin_end": 20,
            "count": 948
           }
          ]
         }
        },
        {
         "name": "Type",
         "dtype": "object",
         "stats": {
          "unique_count": 1,
          "nan_count": 0,
          "categories": [
           {
            "name": "Books",
            "count": 950
           }
          ]
         }
        },
        {
         "name": "Author",
         "dtype": "object",
         "stats": {
          "unique_count": 0,
          "nan_count": 950,
          "categories": [
           {
            "name": "Missing",
            "count": 950
           }
          ]
         }
        },
        {
         "name": "title_formatted",
         "dtype": "object",
         "stats": {
          "unique_count": 243,
          "nan_count": 0,
          "categories": [
           {
            "name": "how to win friends and influence people",
            "count": 14
           },
           {
            "name": "the queen of nothing (the folk of the air #)",
            "count": 13
           },
           {
            "name": "241 others",
            "count": 923
           }
          ]
         }
        },
        {
         "name": "desc_formatted",
         "dtype": "object",
         "stats": {
          "unique_count": 247,
          "nan_count": 0,
          "categories": [
           {
            "name": "the intoxicating and bloodthirsty finale to the new york times bestselling the cruel prince, nominated for the cilip carnegie medal , and  new york times bestseller the wicked king \n\nafter being pronounced queen of faerie and then abruptly exiled by the wicked king cardan, jude finds herself unmoored, the queen of nothing. she spends her time with vivi and oak, watching reality television, and doing odd jobs, including squaring up to a cannibalistic faerie.\n\nwhen her twin sister taryn shows up asking a favour, jude jumps at the chance to return to the faerie world, even if it means facing cardan, who she loves despite his betrayal. when a dark curse is unveiled, jude must become the first mortal queen of faerie and break the curse, or risk upsetting the balance of the whole faerie world.",
            "count": 13
           },
           {
            "name": "the intergalactic adventures of arthur dent begin in the first volume of the 'trilogy of five', douglas adams' comedy sci-fi classic the hitchhiker's guide to the galaxy. this edition, with a metallic sheen cover, includes exclusive bonus material from the douglas adams archives, and an introduction by former doctor who showrunner, russell t davies.on  october  the most remarkable book ever to come out of the great publishing corporations of ursa minor (and earth) was made available to humanity - the hitchhiker's guide to the galaxy.\n\nit's an ordinary thursday lunchtime for arthur dent until his house gets demolished. the earth follows shortly afterwards to make way for a new hyperspace express route, and his best friend has just announced that he's an alien. at this moment, they're hurtling through space with nothing but their towels and an innocuous-looking book inscribed, in large friendly letters, with the words: don't panic. the weekend has only just begun . . .follow arthur dent's galactic (mis)adventures in the rest of the trilogy with five parts: the restaurant at the end of the universe, life, the universe and everything, so long, and thanks for all the fish, and mostly harmless.",
            "count": 12
           },
           {
            "name": "245 others",
            "count": 925
           }
          ]
         }
        },
        {
         "name": "title_desc",
         "dtype": "object",
         "stats": {
          "unique_count": 950,
          "nan_count": 0,
          "categories": [
           {
            "name": "['queen', 'nothing', '(', 'folk', 'air', '#', ')', 'intoxicating', 'bloodthirsty', 'finale', 'new', 'york', 'time', 'bestselling', 'cruel', 'prince', ',', 'nominated', 'cilip', 'carnegie', 'medal', ',', 'new', 'york', 'time', 'bestseller', 'wicked', 'king', 'pronounced', 'queen', 'faerie', 'abruptly', 'exiled', 'wicked', 'king', 'cardan', ',', 'jude', 'find', 'unmoored', ',', 'queen', 'nothing', '.', 'spends', 'time', 'vivi', 'oak', ',', 'watching', 'reality', 'television', ',', 'odd', 'job', ',', 'including', 'squaring', 'cannibalistic', 'faerie', '.', 'twin', 'sister', 'taryn', 'show', 'asking', 'favour', ',', 'jude', 'jump', 'chance', 'return', 'faerie', 'world', ',', 'even', 'mean', 'facing', 'cardan', ',', 'love', 'despite', 'betrayal', '.', 'dark', 'curse', 'unveiled', ',', 'jude', 'must', 'become', 'first', 'mortal', 'queen', 'faerie', 'break', 'curse', ',', 'risk', 'upsetting', 'balance', 'whole', 'faerie', 'world', '.']",
            "count": 13
           },
           {
            "name": "['hitchhiker', \"'s\", 'guide', 'galaxy', ':', 'nd', 'anniversary', 'edition', 'intergalactic', 'adventure', 'arthur', 'dent', 'begin', 'first', 'volume', \"'trilogy\", 'five', \"'\", ',', 'douglas', 'adam', \"'\", 'comedy', 'sci-fi', 'classic', 'hitchhiker', \"'s\", 'guide', 'galaxy', '.', 'edition', ',', 'metallic', 'sheen', 'cover', ',', 'includes', 'exclusive', 'bonus', 'material', 'douglas', 'adam', 'archive', ',', 'introduction', 'former', 'doctor', 'showrunner', ',', 'russell', 'davies.on', 'october', 'remarkable', 'book', 'ever', 'come', 'great', 'publishing', 'corporation', 'ursa', 'minor', '(', 'earth', ')', 'made', 'available', 'humanity', '-', 'hitchhiker', \"'s\", 'guide', 'galaxy', '.', \"'s\", 'ordinary', 'thursday', 'lunchtime', 'arthur', 'dent', 'house', 'get', 'demolished', '.', 'earth', 'follows', 'shortly', 'afterwards', 'make', 'way', 'new', 'hyperspace', 'express', 'route', ',', 'best', 'friend', 'announced', \"'s\", 'alien', '.', 'moment', ',', \"'re\", 'hurtling', 'space', 'nothing', 'towel', 'innocuous-looking', 'book', 'inscribed', ',', 'large', 'friendly', 'letter', ',', 'word', ':', \"n't\", 'panic', '.', 'weekend', 'begun', '.', '.', '.follow', 'arthur', 'dent', \"'s\", 'galactic', '(', 'mi', ')', 'adventure', 'rest', 'trilogy', 'five', 'part', ':', 'restaurant', 'end', 'universe', ',', 'life', ',', 'universe', 'everything', ',', 'long', ',', 'thanks', 'fish', ',', 'mostly', 'harmless', '.']",
            "count": 12
           },
           {
            "name": "247 others",
            "count": 925
           }
          ]
         }
        },
        {
         "name": "title_desc_filtered",
         "dtype": "object",
         "stats": {
          "unique_count": 249,
          "nan_count": 0,
          "categories": [
           {
            "name": "queen nothing ( folk air # ) intoxicating bloodthirsty finale new york time bestselling cruel prince , nominated cilip carnegie medal , new york time bestseller wicked king pronounced queen faerie abruptly exiled wicked king cardan , jude find unmoored , queen nothing . spends time vivi oak , watching reality television , odd job , including squaring cannibalistic faerie . twin sister taryn show asking favour , jude jump chance return faerie world , even mean facing cardan , love despite betrayal . dark curse unveiled , jude must become first mortal queen faerie break curse , risk upsetting balance whole faerie world .",
            "count": 13
           },
           {
            "name": "hitchhiker 's guide galaxy : nd anniversary edition intergalactic adventure arthur dent begin first volume 'trilogy five ' , douglas adam ' comedy sci-fi classic hitchhiker 's guide galaxy . edition , metallic sheen cover , includes exclusive bonus material douglas adam archive , introduction former doctor showrunner , russell davies.on october remarkable book ever come great publishing corporation ursa minor ( earth ) made available humanity - hitchhiker 's guide galaxy . 's ordinary thursday lunchtime arthur dent house get demolished . earth follows shortly afterwards make way new hyperspace express route , best friend announced 's alien . moment , 're hurtling space nothing towel innocuous-looking book inscribed , large friendly letter , word : n't panic . weekend begun . . .follow arthur dent 's galactic ( mi ) adventure rest trilogy five part : restaurant end universe , life , universe everything , long , thanks fish , mostly harmless .",
            "count": 12
           },
           {
            "name": "247 others",
            "count": 925
           }
          ]
         }
        },
        {
         "name": "_deepnote_index_column",
         "dtype": "int64"
        }
       ],
       "rows": [
        {
         "title": "Blue Moon: A Jack Reacher Novel",
         "author": "Lee Child",
         "desc": "#1 NEW YORK TIMES BESTSELLER • In the next highly anticipated installment of Lee Child’s acclaimed suspense series, Jack Reacher comes to the aid of an elderly couple . . . and confronts his most dangerous opponents yet.\n \n“Jack Reacher is today’s James Bond, a thriller hero we can’t get enough of.”—Ken Follett\n\n“This is a random universe,” Reacher says. “Once in a blue moon things turn out just right.”\n \nThis isn’t one of those times.\n \nReacher is on a Greyhound bus, minding his own business, with no particular place to go, and all the time in the world to get there. Then he steps off the bus to help an old man who is obviously just a victim waiting to happen. But you know what they say about good deeds. Now Reacher wants to make it right.\n \nAn elderly couple have made a few well-meaning mistakes, and now they owe big money to some very bad people. One brazen move leads to another, and suddenly Reacher finds himself a wanted man in the middle of a brutal turf war between rival Ukrain…",
         "lower_age": 16,
         "upper_age": 20,
         "Type": "Books",
         "Author": "nan",
         "title_formatted": "blue moon: a jack reacher novel",
         "desc_formatted": "# new york times bestseller • in the next highly anticipated installment of lee child’s acclaimed suspense series, jack reacher comes to the aid of an elderly couple . . . and confronts his most dangerous opponents yet.\n \n“jack reacher is today’s james bond, a thriller hero we can’t get enough of.”—ken follett\n\n“this is a random universe,” reacher says. “once in a blue moon things turn out just right.”\n \nthis isn’t one of those times.\n \nreacher is on a greyhound bus, minding his own business, with no particular place to go, and all the time in the world to get there. then he steps off the bus to help an old man who is obviously just a victim waiting to happen. but you know what they say about good deeds. now reacher wants to make it right.\n \nan elderly couple have made a few well-meaning mistakes, and now they owe big money to some very bad people. one brazen move leads to another, and suddenly reacher finds himself a wanted man in the middle of a brutal turf war between rival ukraini…",
         "title_desc": "['blue', 'moon', ':', 'jack', 'reacher', 'novel', '#', 'new', 'york', 'time', 'bestseller', '•', 'next', 'highly', 'anticipated', 'installment', 'lee', 'child', '’', 'acclaimed', 'suspense', 'series', ',', 'jack', 'reacher', 'come', 'aid', 'elderly', 'couple', '.', '.', '.', 'confronts', 'dangerous', 'opponent', 'yet', '.', '“', 'jack', 'reacher', 'today', '’', 'james', 'bond', ',', 'thriller', 'hero', '’', 'get', 'enough', 'of.', '”', '—ken', 'follett', '“', 'random', 'universe', ',', '”', 'reacher', 'say', '.', '“', 'blue', 'moon', 'thing', 'turn', 'right.', '”', '’', 'one', 'time', '.', 'reacher', 'greyhound', 'bus', ',', 'minding', 'business', ',', 'particular', 'place', 'go', ',', 'time', 'world', 'get', '.', 'step', 'bus', 'help', 'old', 'man', 'obviously', 'victim', 'waiting', 'happen', '.', 'know', 'say', 'good', 'deed', '.', 'reacher', 'want', 'make', 'right', '.', 'elderly', 'couple', 'made', 'well-meaning', 'mistake', ',', 'owe', 'big', 'money', 'bad', 'people', '.', 'one',…",
         "title_desc_filtered": "blue moon : jack reacher novel # new york time bestseller • next highly anticipated installment lee child ’ acclaimed suspense series , jack reacher come aid elderly couple . . . confronts dangerous opponent yet . “ jack reacher today ’ james bond , thriller hero ’ get enough of. ” —ken follett “ random universe , ” reacher say . “ blue moon thing turn right. ” ’ one time . reacher greyhound bus , minding business , particular place go , time world get . step bus help old man obviously victim waiting happen . know say good deed . reacher want make right . elderly couple made well-meaning mistake , owe big money bad people . one brazen move lead another , suddenly reacher find wanted man middle brutal turf war rival ukrainian albanian gang . reacher stay one step ahead loan shark , thug , assassin . team fed-up waitress know little ’ letting , set take powerful make greedy pay . ’ long shot . odds . reacher belief certain kind justice . . . kind come along blue moon .",
         "_deepnote_index_column": 938
        },
        {
         "title": "The Daylight War: Book Three of The Demon Cycle",
         "author": "Peter V. Brett",
         "desc": "NEW YORK TIMES BESTSELLER\n\nWith The Warded Man and The Desert Spear, Peter V. Brett surged to the front rank of contemporary fantasy, standing alongside giants in the field such as George R. R. Martin, Robert Jordan, and Terry Brooks. The Daylight War, the eagerly anticipated third volume in Brett’s internationally bestselling Demon Cycle, continues the epic tale of humanity’s last stand against an army of demons that rise each night to prey on mankind.\n\n On the night of the new moon, the demons rise in force, seeking the deaths of two men, both of whom have the potential to become the fabled Deliverer, the man prophesied to reunite the scattered remnants of humanity in a final push to destroy the demon corelings once and for all.\n\n Arlen Bales was once an ordinary man, but now he has become something more—the Warded Man, tattooed with eldritch wards so powerful they make him a match for any demon. Arlen denies he is the Deliverer at every turn, but the more he tries to be one with th…",
         "lower_age": 16,
         "upper_age": 20,
         "Type": "Books",
         "Author": "nan",
         "title_formatted": "the daylight war: book three of the demon cycle",
         "desc_formatted": "new york times bestseller\n\nwith the warded man and the desert spear, peter v. brett surged to the front rank of contemporary fantasy, standing alongside giants in the field such as george r. r. martin, robert jordan, and terry brooks. the daylight war, the eagerly anticipated third volume in brett’s internationally bestselling demon cycle, continues the epic tale of humanity’s last stand against an army of demons that rise each night to prey on mankind.\n\n on the night of the new moon, the demons rise in force, seeking the deaths of two men, both of whom have the potential to become the fabled deliverer, the man prophesied to reunite the scattered remnants of humanity in a final push to destroy the demon corelings once and for all.\n\n arlen bales was once an ordinary man, but now he has become something more—the warded man, tattooed with eldritch wards so powerful they make him a match for any demon. arlen denies he is the deliverer at every turn, but the more he tries to be one with th…",
         "title_desc": "['daylight', 'war', ':', 'book', 'three', 'demon', 'cycle', 'new', 'york', 'time', 'bestseller', 'warded', 'man', 'desert', 'spear', ',', 'peter', 'v.', 'brett', 'surged', 'front', 'rank', 'contemporary', 'fantasy', ',', 'standing', 'alongside', 'giant', 'field', 'george', 'r.', 'r.', 'martin', ',', 'robert', 'jordan', ',', 'terry', 'brook', '.', 'daylight', 'war', ',', 'eagerly', 'anticipated', 'third', 'volume', 'brett', '’', 'internationally', 'bestselling', 'demon', 'cycle', ',', 'continues', 'epic', 'tale', 'humanity', '’', 'last', 'stand', 'army', 'demon', 'rise', 'night', 'prey', 'mankind', '.', 'night', 'new', 'moon', ',', 'demon', 'rise', 'force', ',', 'seeking', 'death', 'two', 'men', ',', 'potential', 'become', 'fabled', 'deliverer', ',', 'man', 'prophesied', 'reunite', 'scattered', 'remnant', 'humanity', 'final', 'push', 'destroy', 'demon', 'corelings', '.', 'arlen', 'bale', 'ordinary', 'man', ',', 'become', 'something', 'more—the', 'warded', 'man', ',', 'tattooed', 'eldri…",
         "title_desc_filtered": "daylight war : book three demon cycle new york time bestseller warded man desert spear , peter v. brett surged front rank contemporary fantasy , standing alongside giant field george r. r. martin , robert jordan , terry brook . daylight war , eagerly anticipated third volume brett ’ internationally bestselling demon cycle , continues epic tale humanity ’ last stand army demon rise night prey mankind . night new moon , demon rise force , seeking death two men , potential become fabled deliverer , man prophesied reunite scattered remnant humanity final push destroy demon corelings . arlen bale ordinary man , become something more—the warded man , tattooed eldritch ward powerful make match demon . arlen denies deliverer every turn , try one common folk , fervently believe . many would follow , arlen ’ path threatens lead dark place alone travel , may returning . one hope keeping arlen world men , joining descent world demon , renna tanner , fierce young woman danger losing power demon ma…",
         "_deepnote_index_column": 939
        },
        {
         "title": "The Queen of Nothing (The Folk of the Air #3)",
         "author": "Holly Black",
         "desc": "The intoxicating and bloodthirsty finale to the New York Times bestselling The Cruel Prince, nominated for the CILIP CARNEGIE MEDAL 2019, and  New York Times bestseller The Wicked King \n\nAfter being pronounced Queen of Faerie and then abruptly exiled by the Wicked King Cardan, Jude finds herself unmoored, the queen of nothing. She spends her time with Vivi and Oak, watching reality television, and doing odd jobs, including squaring up to a cannibalistic faerie.\n\nWhen her twin sister Taryn shows up asking a favour, Jude jumps at the chance to return to the Faerie world, even if it means facing Cardan, who she loves despite his betrayal. When a dark curse is unveiled, Jude must become the first mortal Queen of Faerie and break the curse, or risk upsetting the balance of the whole Faerie world.",
         "lower_age": 16,
         "upper_age": 20,
         "Type": "Books",
         "Author": "nan",
         "title_formatted": "the queen of nothing (the folk of the air #)",
         "desc_formatted": "the intoxicating and bloodthirsty finale to the new york times bestselling the cruel prince, nominated for the cilip carnegie medal , and  new york times bestseller the wicked king \n\nafter being pronounced queen of faerie and then abruptly exiled by the wicked king cardan, jude finds herself unmoored, the queen of nothing. she spends her time with vivi and oak, watching reality television, and doing odd jobs, including squaring up to a cannibalistic faerie.\n\nwhen her twin sister taryn shows up asking a favour, jude jumps at the chance to return to the faerie world, even if it means facing cardan, who she loves despite his betrayal. when a dark curse is unveiled, jude must become the first mortal queen of faerie and break the curse, or risk upsetting the balance of the whole faerie world.",
         "title_desc": "['queen', 'nothing', '(', 'folk', 'air', '#', ')', 'intoxicating', 'bloodthirsty', 'finale', 'new', 'york', 'time', 'bestselling', 'cruel', 'prince', ',', 'nominated', 'cilip', 'carnegie', 'medal', ',', 'new', 'york', 'time', 'bestseller', 'wicked', 'king', 'pronounced', 'queen', 'faerie', 'abruptly', 'exiled', 'wicked', 'king', 'cardan', ',', 'jude', 'find', 'unmoored', ',', 'queen', 'nothing', '.', 'spends', 'time', 'vivi', 'oak', ',', 'watching', 'reality', 'television', ',', 'odd', 'job', ',', 'including', 'squaring', 'cannibalistic', 'faerie', '.', 'twin', 'sister', 'taryn', 'show', 'asking', 'favour', ',', 'jude', 'jump', 'chance', 'return', 'faerie', 'world', ',', 'even', 'mean', 'facing', 'cardan', ',', 'love', 'despite', 'betrayal', '.', 'dark', 'curse', 'unveiled', ',', 'jude', 'must', 'become', 'first', 'mortal', 'queen', 'faerie', 'break', 'curse', ',', 'risk', 'upsetting', 'balance', 'whole', 'faerie', 'world', '.']",
         "title_desc_filtered": "queen nothing ( folk air # ) intoxicating bloodthirsty finale new york time bestselling cruel prince , nominated cilip carnegie medal , new york time bestseller wicked king pronounced queen faerie abruptly exiled wicked king cardan , jude find unmoored , queen nothing . spends time vivi oak , watching reality television , odd job , including squaring cannibalistic faerie . twin sister taryn show asking favour , jude jump chance return faerie world , even mean facing cardan , love despite betrayal . dark curse unveiled , jude must become first mortal queen faerie break curse , risk upsetting balance whole faerie world .",
         "_deepnote_index_column": 940
        },
        {
         "title": "Marvel Universe Vs. The Punisher: Volume 1",
         "author": "Jonathan Maberry",
         "desc": "COLLECTING: MARVEL UNIVERSE VS. THE PUNISHER #1-4",
         "lower_age": 16,
         "upper_age": 20,
         "Type": "Books",
         "Author": "nan",
         "title_formatted": "marvel universe vs. the punisher: volume ",
         "desc_formatted": "collecting: marvel universe vs. the punisher #-",
         "title_desc": "['marvel', 'universe', 'vs.', 'punisher', ':', 'volume', 'collecting', ':', 'marvel', 'universe', 'vs.', 'punisher', '#', '-']",
         "title_desc_filtered": "marvel universe vs. punisher : volume collecting : marvel universe vs. punisher # -",
         "_deepnote_index_column": 941
        },
        {
         "title": "Darksiders: The Abomination Vault: A Novel",
         "author": "Ari Marmell",
         "desc": "Ride with the Horsemen of the Apocalypse as they seek to unearth a plot that could plunge all of Creation into chaos!\n  \n Ages before the events of Darksiders and Darksiders II, two of the feared Horsemen—Death and War—are tasked with stopping a group of renegades from locating the Abomination Vault: a hoard containing weapons of ultimate power and malice, capable of bringing an end to the uneasy truce between Heaven and Hell . . . but only by unleashing total destruction.\n  \n Created in close collaboration with the Darksiders II teams at Vigil and THQ, Darksiders: The Abomination Vault gives an exciting look at the history and world of the Horsemen, shining a new light on the unbreakable bond between War and Death.",
         "lower_age": 16,
         "upper_age": 20,
         "Type": "Books",
         "Author": "nan",
         "title_formatted": "darksiders: the abomination vault: a novel",
         "desc_formatted": "ride with the horsemen of the apocalypse as they seek to unearth a plot that could plunge all of creation into chaos!\n  \n ages before the events of darksiders and darksiders ii, two of the feared horsemen—death and war—are tasked with stopping a group of renegades from locating the abomination vault: a hoard containing weapons of ultimate power and malice, capable of bringing an end to the uneasy truce between heaven and hell . . . but only by unleashing total destruction.\n  \n created in close collaboration with the darksiders ii teams at vigil and thq, darksiders: the abomination vault gives an exciting look at the history and world of the horsemen, shining a new light on the unbreakable bond between war and death.",
         "title_desc": "['darksiders', ':', 'abomination', 'vault', ':', 'novel', 'ride', 'horseman', 'apocalypse', 'seek', 'unearth', 'plot', 'could', 'plunge', 'creation', 'chaos', '!', 'age', 'event', 'darksiders', 'darksiders', 'ii', ',', 'two', 'feared', 'horsemen—death', 'war—are', 'tasked', 'stopping', 'group', 'renegade', 'locating', 'abomination', 'vault', ':', 'hoard', 'containing', 'weapon', 'ultimate', 'power', 'malice', ',', 'capable', 'bringing', 'end', 'uneasy', 'truce', 'heaven', 'hell', '.', '.', '.', 'unleashing', 'total', 'destruction', '.', 'created', 'close', 'collaboration', 'darksiders', 'ii', 'team', 'vigil', 'thq', ',', 'darksiders', ':', 'abomination', 'vault', 'give', 'exciting', 'look', 'history', 'world', 'horseman', ',', 'shining', 'new', 'light', 'unbreakable', 'bond', 'war', 'death', '.']",
         "title_desc_filtered": "darksiders : abomination vault : novel ride horseman apocalypse seek unearth plot could plunge creation chaos ! age event darksiders darksiders ii , two feared horsemen—death war—are tasked stopping group renegade locating abomination vault : hoard containing weapon ultimate power malice , capable bringing end uneasy truce heaven hell . . . unleashing total destruction . created close collaboration darksiders ii team vigil thq , darksiders : abomination vault give exciting look history world horseman , shining new light unbreakable bond war death .",
         "_deepnote_index_column": 942
        },
        {
         "title": "The Essentials of Finance and Accounting for Nonfinancial Managers",
         "author": "Edward Fields",
         "desc": "Based on the bestselling AMA seminar, a nuts-and-bolts guide to the dollars-and-cents issues that drive your organization! As a department manager, the last thing you want to think about is numbers. But the truth is, that’s the only thing your executives and senior managers are thinking about so it’s crucial to understand key financial information like balance sheets, income statements, cash flow statements, budgets and forecasts, and annual reports. With over 40,000 copies sold, The Essentials of Finance and Accounting for Nonfinancial Managers has long provided readers with insight into the financial fundamentals. It demystifies the role accounting and finance play in a corporation, demonstrates how financial decisions reflect business goals, and shows how managers can connect corporate financial information directly to their own strategies and actions. Now revised to reflect new accounting and financial standards, the second edition includes: Strategies for getting your share of th…",
         "lower_age": 16,
         "upper_age": 20,
         "Type": "Books",
         "Author": "nan",
         "title_formatted": "the essentials of finance and accounting for nonfinancial managers",
         "desc_formatted": "based on the bestselling ama seminar, a nuts-and-bolts guide to the dollars-and-cents issues that drive your organization! as a department manager, the last thing you want to think about is numbers. but the truth is, that’s the only thing your executives and senior managers are thinking about so it’s crucial to understand key financial information like balance sheets, income statements, cash flow statements, budgets and forecasts, and annual reports. with over , copies sold, the essentials of finance and accounting for nonfinancial managers has long provided readers with insight into the financial fundamentals. it demystifies the role accounting and finance play in a corporation, demonstrates how financial decisions reflect business goals, and shows how managers can connect corporate financial information directly to their own strategies and actions. now revised to reflect new accounting and financial standards, the second edition includes: strategies for getting your share of the bud…",
         "title_desc": "['essential', 'finance', 'accounting', 'nonfinancial', 'manager', 'based', 'bestselling', 'ama', 'seminar', ',', 'nuts-and-bolts', 'guide', 'dollars-and-cents', 'issue', 'drive', 'organization', '!', 'department', 'manager', ',', 'last', 'thing', 'want', 'think', 'number', '.', 'truth', ',', '’', 'thing', 'executive', 'senior', 'manager', 'thinking', '’', 'crucial', 'understand', 'key', 'financial', 'information', 'like', 'balance', 'sheet', ',', 'income', 'statement', ',', 'cash', 'flow', 'statement', ',', 'budget', 'forecast', ',', 'annual', 'report', '.', ',', 'copy', 'sold', ',', 'essential', 'finance', 'accounting', 'nonfinancial', 'manager', 'long', 'provided', 'reader', 'insight', 'financial', 'fundamental', '.', 'demystifies', 'role', 'accounting', 'finance', 'play', 'corporation', ',', 'demonstrates', 'financial', 'decision', 'reflect', 'business', 'goal', ',', 'show', 'manager', 'connect', 'corporate', 'financial', 'information', 'directly', 'strategy', 'action', '.', 'revis…",
         "title_desc_filtered": "essential finance accounting nonfinancial manager based bestselling ama seminar , nuts-and-bolts guide dollars-and-cents issue drive organization ! department manager , last thing want think number . truth , ’ thing executive senior manager thinking ’ crucial understand key financial information like balance sheet , income statement , cash flow statement , budget forecast , annual report . , copy sold , essential finance accounting nonfinancial manager long provided reader insight financial fundamental . demystifies role accounting finance play corporation , demonstrates financial decision reflect business goal , show manager connect corporate financial information directly strategy action . revised reflect new accounting financial standard , second edition includes : strategy getting share budget • new case study practice session • explanation sarbanes-oxley relevance nonfinancial manager • manage cash flow tough time • fraud detection tool • expanded glossary including up-to-the-min…",
         "_deepnote_index_column": 943
        },
        {
         "title": "The Magic of Thinking Big",
         "author": "David J. Schwartz",
         "desc": "The timeless and practical advice in The Magic of Thinking Big clearly demonstrates how you can: Sell moreManage betterLead fearlesslyEarn moreEnjoy a happier, more fulfilling life With applicable and easy-to-implement insights, you’ll discover:Why believing you can succeed is essentialHow to quit making excusesThe means to overcoming fear and finding confidenceHow to develop and use creative thinking and dreamingWhy making (and getting) the most of your attitudes is criticalHow to think right towards othersThe best ways to make “action” a habitHow to find victory in defeatGoals for growth, andHow to think like a leader \n\"Believe Big,” says Schwartz. “The size of your success is determined by the size of your belief. Think little goals and expect little achievements. Think big goals and win big success. Remember this, too! Big ideas and big plans are often easier -- certainly no more difficult - than small ideas and small plans.\"",
         "lower_age": 16,
         "upper_age": 20,
         "Type": "Books",
         "Author": "nan",
         "title_formatted": "the magic of thinking big",
         "desc_formatted": "the timeless and practical advice in the magic of thinking big clearly demonstrates how you can: sell moremanage betterlead fearlesslyearn moreenjoy a happier, more fulfilling life with applicable and easy-to-implement insights, you’ll discover:why believing you can succeed is essentialhow to quit making excusesthe means to overcoming fear and finding confidencehow to develop and use creative thinking and dreamingwhy making (and getting) the most of your attitudes is criticalhow to think right towards othersthe best ways to make “action” a habithow to find victory in defeatgoals for growth, andhow to think like a leader \n\"believe big,” says schwartz. “the size of your success is determined by the size of your belief. think little goals and expect little achievements. think big goals and win big success. remember this, too! big ideas and big plans are often easier -- certainly no more difficult - than small ideas and small plans.\"",
         "title_desc": "['magic', 'thinking', 'big', 'timeless', 'practical', 'advice', 'magic', 'thinking', 'big', 'clearly', 'demonstrates', ':', 'sell', 'moremanage', 'betterlead', 'fearlesslyearn', 'moreenjoy', 'happier', ',', 'fulfilling', 'life', 'applicable', 'easy-to-implement', 'insight', ',', '’', 'discover', ':', 'believing', 'succeed', 'essentialhow', 'quit', 'making', 'excusesthe', 'mean', 'overcoming', 'fear', 'finding', 'confidencehow', 'develop', 'use', 'creative', 'thinking', 'dreamingwhy', 'making', '(', 'getting', ')', 'attitude', 'criticalhow', 'think', 'right', 'towards', 'othersthe', 'best', 'way', 'make', '“', 'action', '”', 'habithow', 'find', 'victory', 'defeatgoals', 'growth', ',', 'andhow', 'think', 'like', 'leader', \"''\", 'believe', 'big', ',', '”', 'say', 'schwartz', '.', '“', 'size', 'success', 'determined', 'size', 'belief', '.', 'think', 'little', 'goal', 'expect', 'little', 'achievement', '.', 'think', 'big', 'goal', 'win', 'big', 'success', '.', 'remember', ',', '!', 'big', …",
         "title_desc_filtered": "magic thinking big timeless practical advice magic thinking big clearly demonstrates : sell moremanage betterlead fearlesslyearn moreenjoy happier , fulfilling life applicable easy-to-implement insight , ’ discover : believing succeed essentialhow quit making excusesthe mean overcoming fear finding confidencehow develop use creative thinking dreamingwhy making ( getting ) attitude criticalhow think right towards othersthe best way make “ action ” habithow find victory defeatgoals growth , andhow think like leader '' believe big , ” say schwartz . “ size success determined size belief . think little goal expect little achievement . think big goal win big success . remember , ! big idea big plan often easier -- certainly difficult - small idea small plan . ''",
         "_deepnote_index_column": 944
        },
        {
         "title": "Twas The Nightshift Before Christmas: Festive hospital diaries from the author of million-copy hit This is Going to Hurt",
         "author": "Adam Kay",
         "desc": "A short gift book of festive hospital diaries from the author of million-copy bestseller This is Going to HurtChristmas is coming, the goose is getting fat . . . but 1.4 million NHS staff are heading off to work. In this perfect present for anyone who has ever set foot in a hospital, Adam Kay delves back into his diaries for a hilarious, horrifying and sometimes heartbreaking peek behind the blue curtain at Christmastime.Twas the Nightshift Before Christmas is a love letter to all those who spend their festive season on the front line, removing babies and baubles from the various places they get stuck, at the most wonderful time of the year.'The perfect surgical stocking-filler' The Times",
         "lower_age": 16,
         "upper_age": 20,
         "Type": "Books",
         "Author": "nan",
         "title_formatted": "twas the nightshift before christmas: festive hospital diaries from the author of million-copy hit this is going to hurt",
         "desc_formatted": "a short gift book of festive hospital diaries from the author of million-copy bestseller this is going to hurtchristmas is coming, the goose is getting fat . . . but . million nhs staff are heading off to work. in this perfect present for anyone who has ever set foot in a hospital, adam kay delves back into his diaries for a hilarious, horrifying and sometimes heartbreaking peek behind the blue curtain at christmastime.twas the nightshift before christmas is a love letter to all those who spend their festive season on the front line, removing babies and baubles from the various places they get stuck, at the most wonderful time of the year.'the perfect surgical stocking-filler' the times",
         "title_desc": "['twas', 'nightshift', 'christmas', ':', 'festive', 'hospital', 'diary', 'author', 'million-copy', 'hit', 'going', 'hurt', 'short', 'gift', 'book', 'festive', 'hospital', 'diary', 'author', 'million-copy', 'bestseller', 'going', 'hurtchristmas', 'coming', ',', 'goose', 'getting', 'fat', '.', '.', '.', '.', 'million', 'nh', 'staff', 'heading', 'work', '.', 'perfect', 'present', 'anyone', 'ever', 'set', 'foot', 'hospital', ',', 'adam', 'kay', 'delf', 'back', 'diary', 'hilarious', ',', 'horrifying', 'sometimes', 'heartbreaking', 'peek', 'behind', 'blue', 'curtain', 'christmastime.twas', 'nightshift', 'christmas', 'love', 'letter', 'spend', 'festive', 'season', 'front', 'line', ',', 'removing', 'baby', 'bauble', 'various', 'place', 'get', 'stuck', ',', 'wonderful', 'time', 'year', '.', \"'the\", 'perfect', 'surgical', 'stocking-filler', \"'\", 'time']",
         "title_desc_filtered": "twas nightshift christmas : festive hospital diary author million-copy hit going hurt short gift book festive hospital diary author million-copy bestseller going hurtchristmas coming , goose getting fat . . . . million nh staff heading work . perfect present anyone ever set foot hospital , adam kay delf back diary hilarious , horrifying sometimes heartbreaking peek behind blue curtain christmastime.twas nightshift christmas love letter spend festive season front line , removing baby bauble various place get stuck , wonderful time year . 'the perfect surgical stocking-filler ' time",
         "_deepnote_index_column": 945
        },
        {
         "title": "Why We Sleep: The New Science of Sleep and Dreams",
         "author": "Matthew Walker",
         "desc": "'Astonishing ... an amazing book ... absolutely chocker full of things that we need to know' Chris Evans\n\n'Matthew Walker is probably one of the most influential people on the planet' Evening Standard\n\nTHE #1 SUNDAY TIMES BESTSELLER\nTLS, OBSERVER, SUNDAY TIMES, FT, GUARDIAN, DAILY MAIL AND EVENING STANDARD BOOKS OF THE YEAR 2017Sleep is one of the most important aspects of our life, health and longevity and yet it is increasingly neglected in twenty-first-century society, with devastating consequences: every major disease in the developed world - Alzheimer's, cancer, obesity, diabetes - has very strong causal links to deficient sleep.In this book, the first of its kind written by a scientific expert, Professor Matthew Walker explores twenty years of cutting-edge research to solve the mystery of why sleep matters. Looking at creatures from across the animal kingdom as well as major human studies, Why We Sleep delves into everything from what really happens during REM sleep to how caffe…",
         "lower_age": 16,
         "upper_age": 20,
         "Type": "Books",
         "Author": "nan",
         "title_formatted": "why we sleep: the new science of sleep and dreams",
         "desc_formatted": "'astonishing ... an amazing book ... absolutely chocker full of things that we need to know' chris evans\n\n'matthew walker is probably one of the most influential people on the planet' evening standard\n\nthe # sunday times bestseller\ntls, observer, sunday times, ft, guardian, daily mail and evening standard books of the year sleep is one of the most important aspects of our life, health and longevity and yet it is increasingly neglected in twenty-first-century society, with devastating consequences: every major disease in the developed world - alzheimer's, cancer, obesity, diabetes - has very strong causal links to deficient sleep.in this book, the first of its kind written by a scientific expert, professor matthew walker explores twenty years of cutting-edge research to solve the mystery of why sleep matters. looking at creatures from across the animal kingdom as well as major human studies, why we sleep delves into everything from what really happens during rem sleep to how caffeine a…",
         "title_desc": "['sleep', ':', 'new', 'science', 'sleep', 'dream', \"'astonishing\", '...', 'amazing', 'book', '...', 'absolutely', 'chocker', 'full', 'thing', 'need', 'know', \"'\", 'chris', 'evans', \"'matthew\", 'walker', 'probably', 'one', 'influential', 'people', 'planet', \"'\", 'evening', 'standard', '#', 'sunday', 'time', 'bestseller', 'tl', ',', 'observer', ',', 'sunday', 'time', ',', 'ft', ',', 'guardian', ',', 'daily', 'mail', 'evening', 'standard', 'book', 'year', 'sleep', 'one', 'important', 'aspect', 'life', ',', 'health', 'longevity', 'yet', 'increasingly', 'neglected', 'twenty-first-century', 'society', ',', 'devastating', 'consequence', ':', 'every', 'major', 'disease', 'developed', 'world', '-', 'alzheimer', \"'s\", ',', 'cancer', ',', 'obesity', ',', 'diabetes', '-', 'strong', 'causal', 'link', 'deficient', 'sleep.in', 'book', ',', 'first', 'kind', 'written', 'scientific', 'expert', ',', 'professor', 'matthew', 'walker', 'explores', 'twenty', 'year', 'cutting-edge', 'research', 'solve', 'mys…",
         "title_desc_filtered": "sleep : new science sleep dream 'astonishing ... amazing book ... absolutely chocker full thing need know ' chris evans 'matthew walker probably one influential people planet ' evening standard # sunday time bestseller tl , observer , sunday time , ft , guardian , daily mail evening standard book year sleep one important aspect life , health longevity yet increasingly neglected twenty-first-century society , devastating consequence : every major disease developed world - alzheimer 's , cancer , obesity , diabetes - strong causal link deficient sleep.in book , first kind written scientific expert , professor matthew walker explores twenty year cutting-edge research solve mystery sleep matter . looking creature across animal kingdom well major human study , sleep delf everything really happens rem sleep caffeine alcohol affect sleep sleep pattern change across lifetime , transforming appreciation extraordinary phenomenon safeguard existence . 'startling , vital ... life-raft ' guardian …",
         "_deepnote_index_column": 946
        },
        {
         "title": "W is for Wasted: A Kinsey Millhone Novel",
         "author": "Sue Grafton",
         "desc": "Private investigator Kinsey Millhone finds shocking connections between two seemingly unrelated deaths in this #1 New York Times bestselling mystery in the Alphabet series.\n\nThe first victim is a local PI of suspect reputation, gunned down near the beach at Santa Teresa. The second is a John Doe found on the beach six weeks later with a slip of paper with private detective Kinsey Millhone’s name and number in his pocket.\n\n Two seemingly unrelated deaths: one man murdered, the other apparently dead of natural causes.\n\nBut as Kinsey digs deeper into the mystery of the John Doe, some very strange links begin to emerge. Not just between the two victims, but also to Kinsey’s past. And before long Kinsey, through no fault of her own, is thoroughly compromised...",
         "lower_age": 16,
         "upper_age": 20,
         "Type": "Books",
         "Author": "nan",
         "title_formatted": "w is for wasted: a kinsey millhone novel",
         "desc_formatted": "private investigator kinsey millhone finds shocking connections between two seemingly unrelated deaths in this # new york times bestselling mystery in the alphabet series.\n\nthe first victim is a local pi of suspect reputation, gunned down near the beach at santa teresa. the second is a john doe found on the beach six weeks later with a slip of paper with private detective kinsey millhone’s name and number in his pocket.\n\n two seemingly unrelated deaths: one man murdered, the other apparently dead of natural causes.\n\nbut as kinsey digs deeper into the mystery of the john doe, some very strange links begin to emerge. not just between the two victims, but also to kinsey’s past. and before long kinsey, through no fault of her own, is thoroughly compromised...",
         "title_desc": "['w', 'wasted', ':', 'kinsey', 'millhone', 'novel', 'private', 'investigator', 'kinsey', 'millhone', 'find', 'shocking', 'connection', 'two', 'seemingly', 'unrelated', 'death', '#', 'new', 'york', 'time', 'bestselling', 'mystery', 'alphabet', 'series', '.', 'first', 'victim', 'local', 'pi', 'suspect', 'reputation', ',', 'gunned', 'near', 'beach', 'santa', 'teresa', '.', 'second', 'john', 'doe', 'found', 'beach', 'six', 'week', 'later', 'slip', 'paper', 'private', 'detective', 'kinsey', 'millhone', '’', 'name', 'number', 'pocket', '.', 'two', 'seemingly', 'unrelated', 'death', ':', 'one', 'man', 'murdered', ',', 'apparently', 'dead', 'natural', 'cause', '.', 'kinsey', 'dig', 'deeper', 'mystery', 'john', 'doe', ',', 'strange', 'link', 'begin', 'emerge', '.', 'two', 'victim', ',', 'also', 'kinsey', '’', 'past', '.', 'long', 'kinsey', ',', 'fault', ',', 'thoroughly', 'compromised', '...']",
         "title_desc_filtered": "w wasted : kinsey millhone novel private investigator kinsey millhone find shocking connection two seemingly unrelated death # new york time bestselling mystery alphabet series . first victim local pi suspect reputation , gunned near beach santa teresa . second john doe found beach six week later slip paper private detective kinsey millhone ’ name number pocket . two seemingly unrelated death : one man murdered , apparently dead natural cause . kinsey dig deeper mystery john doe , strange link begin emerge . two victim , also kinsey ’ past . long kinsey , fault , thoroughly compromised ...",
         "_deepnote_index_column": 947
        }
       ]
      },
      "text/plain": "                                                 title             author  \\\n13                            The Sin Eater's Daughter  Melinda Salisbury   \n33                                     Jimmy Corrigan:         Chris Ware   \n0                           Attack on Titan: Volume 13     Hajime Isayama   \n1     Antiques Roadkill: A Trash 'n' Treasures Mystery      Barbara Allan   \n2                       The Art of Super Mario Odyssey           Nintendo   \n..                                                 ...                ...   \n943  The Essentials of Finance and Accounting for N...      Edward Fields   \n944                          The Magic of Thinking Big  David J. Schwartz   \n945  Twas The Nightshift Before Christmas: Festive ...           Adam Kay   \n946  Why We Sleep: The New Science of Sleep and Dreams     Matthew Walker   \n947           W is for Wasted: A Kinsey Millhone Novel        Sue Grafton   \n\n                                                  desc  lower_age  upper_age  \\\n13   Seventeen-year-old Twylla lives in the castle ...         14         17   \n33   This extraordinary graphic novel is so obvious...         14         17   \n0    NO SAFE PLACE LEFT At great cost to the Garris...         16         20   \n1    Determined to make a new start in her quaint h...         16         20   \n2    Take a globetrotting journey all over the worl...         16         20   \n..                                                 ...        ...        ...   \n943  Based on the bestselling AMA seminar, a nuts-a...         16         20   \n944  The timeless and practical advice in The Magic...         16         20   \n945  A short gift book of festive hospital diaries ...         16         20   \n946  'Astonishing ... an amazing book ... absolutel...         16         20   \n947  Private investigator Kinsey Millhone finds sho...         16         20   \n\n      Type Author                                    title_formatted  \\\n13   Books    NaN                           the sin eater's daughter   \n33   Books    NaN                                    jimmy corrigan:   \n0    Books    NaN                           attack on titan: volume    \n1    Books    NaN   antiques roadkill: a trash 'n' treasures mystery   \n2    Books    NaN                     the art of super mario odyssey   \n..     ...    ...                                                ...   \n943  Books    NaN  the essentials of finance and accounting for n...   \n944  Books    NaN                          the magic of thinking big   \n945  Books    NaN  twas the nightshift before christmas: festive ...   \n946  Books    NaN  why we sleep: the new science of sleep and dreams   \n947  Books    NaN           w is for wasted: a kinsey millhone novel   \n\n                                        desc_formatted  \\\n13   seventeen-year-old twylla lives in the castle ...   \n33   this extraordinary graphic novel is so obvious...   \n0    no safe place left at great cost to the garris...   \n1    determined to make a new start in her quaint h...   \n2    take a globetrotting journey all over the worl...   \n..                                                 ...   \n943  based on the bestselling ama seminar, a nuts-a...   \n944  the timeless and practical advice in the magic...   \n945  a short gift book of festive hospital diaries ...   \n946  'astonishing ... an amazing book ... absolutel...   \n947  private investigator kinsey millhone finds sho...   \n\n                                            title_desc  \\\n13   [sin, eater, 's, daughter, seventeen-year-old,...   \n33   [jimmy, corrigan, :, extraordinary, graphic, n...   \n0    [attack, titan, :, volume, safe, place, left, ...   \n1    [antique, roadkill, :, trash, 'n, ', treasure,...   \n2    [art, super, mario, odyssey, take, globetrotti...   \n..                                                 ...   \n943  [essential, finance, accounting, nonfinancial,...   \n944  [magic, thinking, big, timeless, practical, ad...   \n945  [twas, nightshift, christmas, :, festive, hosp...   \n946  [sleep, :, new, science, sleep, dream, 'astoni...   \n947  [w, wasted, :, kinsey, millhone, novel, privat...   \n\n                                   title_desc_filtered  \n13   sin eater s daughter seventeenyearold twylla l...  \n33   jimmy corrigan  extraordinary graphic novel ob...  \n0    attack titan : volume safe place left great co...  \n1    antique roadkill : trash 'n ' treasure mystery...  \n2    art super mario odyssey take globetrotting jou...  \n..                                                 ...  \n943  essential finance accounting nonfinancial mana...  \n944  magic thinking big timeless practical advice m...  \n945  twas nightshift christmas : festive hospital d...  \n946  sleep : new science sleep dream 'astonishing ....  \n947  w wasted : kinsey millhone novel private inves...  \n\n[950 rows x 11 columns]",
      "text/html": "<div>\n<style scoped>\n    .dataframe tbody tr th:only-of-type {\n        vertical-align: middle;\n    }\n\n    .dataframe tbody tr th {\n        vertical-align: top;\n    }\n\n    .dataframe thead th {\n        text-align: right;\n    }\n</style>\n<table border=\"1\" class=\"dataframe\">\n  <thead>\n    <tr style=\"text-align: right;\">\n      <th></th>\n      <th>title</th>\n      <th>author</th>\n      <th>desc</th>\n      <th>lower_age</th>\n      <th>upper_age</th>\n      <th>Type</th>\n      <th>Author</th>\n      <th>title_formatted</th>\n      <th>desc_formatted</th>\n      <th>title_desc</th>\n      <th>title_desc_filtered</th>\n    </tr>\n  </thead>\n  <tbody>\n    <tr>\n      <th>13</th>\n      <td>The Sin Eater's Daughter</td>\n      <td>Melinda Salisbury</td>\n      <td>Seventeen-year-old Twylla lives in the castle ...</td>\n      <td>14</td>\n      <td>17</td>\n      <td>Books</td>\n      <td>NaN</td>\n      <td>the sin eater's daughter</td>\n      <td>seventeen-year-old twylla lives in the castle ...</td>\n      <td>[sin, eater, 's, daughter, seventeen-year-old,...</td>\n      <td>sin eater s daughter seventeenyearold twylla l...</td>\n    </tr>\n    <tr>\n      <th>33</th>\n      <td>Jimmy Corrigan:</td>\n      <td>Chris Ware</td>\n      <td>This extraordinary graphic novel is so obvious...</td>\n      <td>14</td>\n      <td>17</td>\n      <td>Books</td>\n      <td>NaN</td>\n      <td>jimmy corrigan:</td>\n      <td>this extraordinary graphic novel is so obvious...</td>\n      <td>[jimmy, corrigan, :, extraordinary, graphic, n...</td>\n      <td>jimmy corrigan  extraordinary graphic novel ob...</td>\n    </tr>\n    <tr>\n      <th>0</th>\n      <td>Attack on Titan: Volume 13</td>\n      <td>Hajime Isayama</td>\n      <td>NO SAFE PLACE LEFT At great cost to the Garris...</td>\n      <td>16</td>\n      <td>20</td>\n      <td>Books</td>\n      <td>NaN</td>\n      <td>attack on titan: volume</td>\n      <td>no safe place left at great cost to the garris...</td>\n      <td>[attack, titan, :, volume, safe, place, left, ...</td>\n      <td>attack titan : volume safe place left great co...</td>\n    </tr>\n    <tr>\n      <th>1</th>\n      <td>Antiques Roadkill: A Trash 'n' Treasures Mystery</td>\n      <td>Barbara Allan</td>\n      <td>Determined to make a new start in her quaint h...</td>\n      <td>16</td>\n      <td>20</td>\n      <td>Books</td>\n      <td>NaN</td>\n      <td>antiques roadkill: a trash 'n' treasures mystery</td>\n      <td>determined to make a new start in her quaint h...</td>\n      <td>[antique, roadkill, :, trash, 'n, ', treasure,...</td>\n      <td>antique roadkill : trash 'n ' treasure mystery...</td>\n    </tr>\n    <tr>\n      <th>2</th>\n      <td>The Art of Super Mario Odyssey</td>\n      <td>Nintendo</td>\n      <td>Take a globetrotting journey all over the worl...</td>\n      <td>16</td>\n      <td>20</td>\n      <td>Books</td>\n      <td>NaN</td>\n      <td>the art of super mario odyssey</td>\n      <td>take a globetrotting journey all over the worl...</td>\n      <td>[art, super, mario, odyssey, take, globetrotti...</td>\n      <td>art super mario odyssey take globetrotting jou...</td>\n    </tr>\n    <tr>\n      <th>...</th>\n      <td>...</td>\n      <td>...</td>\n      <td>...</td>\n      <td>...</td>\n      <td>...</td>\n      <td>...</td>\n      <td>...</td>\n      <td>...</td>\n      <td>...</td>\n      <td>...</td>\n      <td>...</td>\n    </tr>\n    <tr>\n      <th>943</th>\n      <td>The Essentials of Finance and Accounting for N...</td>\n      <td>Edward Fields</td>\n      <td>Based on the bestselling AMA seminar, a nuts-a...</td>\n      <td>16</td>\n      <td>20</td>\n      <td>Books</td>\n      <td>NaN</td>\n      <td>the essentials of finance and accounting for n...</td>\n      <td>based on the bestselling ama seminar, a nuts-a...</td>\n      <td>[essential, finance, accounting, nonfinancial,...</td>\n      <td>essential finance accounting nonfinancial mana...</td>\n    </tr>\n    <tr>\n      <th>944</th>\n      <td>The Magic of Thinking Big</td>\n      <td>David J. Schwartz</td>\n      <td>The timeless and practical advice in The Magic...</td>\n      <td>16</td>\n      <td>20</td>\n      <td>Books</td>\n      <td>NaN</td>\n      <td>the magic of thinking big</td>\n      <td>the timeless and practical advice in the magic...</td>\n      <td>[magic, thinking, big, timeless, practical, ad...</td>\n      <td>magic thinking big timeless practical advice m...</td>\n    </tr>\n    <tr>\n      <th>945</th>\n      <td>Twas The Nightshift Before Christmas: Festive ...</td>\n      <td>Adam Kay</td>\n      <td>A short gift book of festive hospital diaries ...</td>\n      <td>16</td>\n      <td>20</td>\n      <td>Books</td>\n      <td>NaN</td>\n      <td>twas the nightshift before christmas: festive ...</td>\n      <td>a short gift book of festive hospital diaries ...</td>\n      <td>[twas, nightshift, christmas, :, festive, hosp...</td>\n      <td>twas nightshift christmas : festive hospital d...</td>\n    </tr>\n    <tr>\n      <th>946</th>\n      <td>Why We Sleep: The New Science of Sleep and Dreams</td>\n      <td>Matthew Walker</td>\n      <td>'Astonishing ... an amazing book ... absolutel...</td>\n      <td>16</td>\n      <td>20</td>\n      <td>Books</td>\n      <td>NaN</td>\n      <td>why we sleep: the new science of sleep and dreams</td>\n      <td>'astonishing ... an amazing book ... absolutel...</td>\n      <td>[sleep, :, new, science, sleep, dream, 'astoni...</td>\n      <td>sleep : new science sleep dream 'astonishing ....</td>\n    </tr>\n    <tr>\n      <th>947</th>\n      <td>W is for Wasted: A Kinsey Millhone Novel</td>\n      <td>Sue Grafton</td>\n      <td>Private investigator Kinsey Millhone finds sho...</td>\n      <td>16</td>\n      <td>20</td>\n      <td>Books</td>\n      <td>NaN</td>\n      <td>w is for wasted: a kinsey millhone novel</td>\n      <td>private investigator kinsey millhone finds sho...</td>\n      <td>[w, wasted, :, kinsey, millhone, novel, privat...</td>\n      <td>w wasted : kinsey millhone novel private inves...</td>\n    </tr>\n  </tbody>\n</table>\n<p>950 rows × 11 columns</p>\n</div>"
     },
     "metadata": {}
    }
   ]
  },
  {
   "cell_type": "code",
   "metadata": {
    "cell_id": "36850f3f1247435389999285e3668414",
    "tags": [],
    "deepnote_to_be_reexecuted": false,
    "source_hash": "1a13e636",
    "execution_start": 1656109287010,
    "execution_millis": 131,
    "deepnote_cell_type": "code",
    "deepnote_cell_height": 207
   },
   "source": "# Now we need to match the book descriptions to the topic that was chosen \nbooks = pq() #min heap \nfor index, row in df_filter.iterrows():\n    # print(row['title_desc_filtered'])\n    intersect_len = len(set(row['title_desc_filtered'].split()).intersection(best_topic))\n    # print(set(row['title_desc_filtered'].split()))\n    books.put((-1*intersect_len, row['title'].strip(string.punctuation), row['author'].strip(string.punctuation), row['Type'].strip(string.punctuation)))\n",
   "execution_count": 28,
   "outputs": []
  },
  {
   "cell_type": "code",
   "metadata": {
    "cell_id": "40668000c416447c971016a1d8c5db8f",
    "deepnote_variable_name": "num_recs",
    "deepnote_variable_value": "5",
    "deepnote_to_be_reexecuted": false,
    "source_hash": "e500b1f7",
    "execution_start": 1656109287145,
    "execution_millis": 2,
    "deepnote_cell_type": "input-text"
   },
   "source": "num_recs = '5'",
   "execution_count": 29,
   "outputs": []
  },
  {
   "cell_type": "code",
   "metadata": {
    "cell_id": "cd4986d88f634c3e92f0de93d9acd5c6",
    "tags": [],
    "deepnote_to_be_reexecuted": false,
    "source_hash": "1cbfd883",
    "execution_start": 1656109287151,
    "execution_millis": 773,
    "deepnote_cell_type": "code",
    "deepnote_cell_height": 302.953125,
    "deepnote_output_heights": [
     97.96875,
     97.96875
    ]
   },
   "source": "books_hm = {}\nwhile len(books_hm) < 5: \n    book = books.get()\n    # print(book[0])\n    books_hm[book[1]] = (book[2], book[3])\n\nbooks_hm",
   "execution_count": 30,
   "outputs": [
    {
     "output_type": "execute_result",
     "execution_count": 30,
     "data": {
      "text/plain": "{'The Black Box': ('Michael Connelly', 'Books'),\n 'Death Masks': ('Jim Butcher', 'Books'),\n 'The Choice of Magic': ('Michael G. Manning', 'Books'),\n 'The Vagrant (The Vagrant Trilogy': ('Peter Newman', 'Books'),\n \"Salem's Lot\": ('Stephen King', 'Books')}"
     },
     "metadata": {}
    }
   ]
  },
  {
   "cell_type": "markdown",
   "source": "<a style='text-decoration:none;line-height:16px;display:flex;color:#5B5B62;padding:10px;justify-content:end;' href='https://deepnote.com?utm_source=created-in-deepnote-cell&projectId=a000e112-1cbe-4ff9-9e6d-cef9a0ebc108' target=\"_blank\">\n<img alt='Created in deepnote.com' style='display:inline;max-height:16px;margin:0px;margin-right:7.5px;' src='data:image/svg+xml;base64,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' > </img>\nCreated in <span style='font-weight:600;margin-left:4px;'>Deepnote</span></a>",
   "metadata": {
    "tags": [],
    "created_in_deepnote_cell": true,
    "deepnote_cell_type": "markdown"
   }
  }
 ],
 "nbformat": 4,
 "nbformat_minor": 2,
 "metadata": {
  "orig_nbformat": 2,
  "deepnote": {},
  "deepnote_notebook_id": "7fa6325c-3307-46a9-b8c5-562dee8f5df7",
  "deepnote_execution_queue": []
 }
}