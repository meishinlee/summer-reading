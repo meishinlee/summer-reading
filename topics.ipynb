{
 "cells": [
  {
   "cell_type": "code",
   "metadata": {
    "cell_id": "4d356711ea8a4ca4ab670818fef0ecf9",
    "tags": [],
    "deepnote_to_be_reexecuted": false,
    "source_hash": "3ed4482",
    "execution_start": 1656126187558,
    "execution_millis": 1577,
    "deepnote_cell_type": "code",
    "deepnote_cell_height": 315
   },
   "source": "import pandas as pd\nimport string\nimport nltk\nimport numpy as np\nimport re\nfrom nltk.tokenize import word_tokenize\nfrom nltk.corpus import stopwords\nfrom nltk.stem import WordNetLemmatizer\nfrom sklearn.feature_extraction.text import TfidfVectorizer\nfrom sklearn.decomposition import LatentDirichletAllocation\nfrom queue import PriorityQueue as pq\nimport editdistance\nfrom nltk.corpus import words\nimport cohere",
   "execution_count": 1,
   "outputs": []
  },
  {
   "cell_type": "code",
   "metadata": {
    "cell_id": "26bbff9f6d354017aa5dfee3446e1998",
    "tags": [],
    "deepnote_to_be_reexecuted": false,
    "source_hash": "d6485474",
    "execution_start": 1656126542839,
    "execution_millis": 32,
    "deepnote_cell_type": "code",
    "deepnote_cell_height": 99
   },
   "source": "adv_reads = pd.read_csv('google_books_1299.csv')\nadv_reads.drop(columns=adv_reads.columns[0], axis=1, inplace=True)",
   "execution_count": 38,
   "outputs": []
  },
  {
   "cell_type": "code",
   "metadata": {
    "cell_id": "4cad93ced6bc4156ab33b29c97a4c2b8",
    "tags": [],
    "deepnote_to_be_reexecuted": false,
    "source_hash": "5621864",
    "execution_start": 1656126544318,
    "execution_millis": 12,
    "deepnote_cell_type": "code",
    "deepnote_cell_height": 189
   },
   "source": "adv_reads.drop_duplicates(keep='first', inplace=True, ignore_index=True)\n\n# manually set: should we do this?\nadv_reads['lower_age'] = [16 for i in range(len(adv_reads))]\nadv_reads['upper_age'] = [20 for i in range(len(adv_reads))]\n# adv_reads.head(2000)\n",
   "execution_count": 39,
   "outputs": []
  },
  {
   "cell_type": "code",
   "metadata": {
    "cell_id": "6733b3d579984f2280e88066e29ac3eb",
    "tags": [],
    "deepnote_to_be_reexecuted": false,
    "source_hash": "67cdbe16",
    "execution_start": 1656126581921,
    "execution_millis": 44,
    "deepnote_table_state": {
     "pageSize": 10,
     "pageIndex": 0,
     "filters": [],
     "sortBy": [
      {
       "id": "Inerest_age",
       "type": "desc"
      }
     ]
    },
    "deepnote_table_loading": false,
    "deepnote_table_invalid": false,
    "deepnote_cell_type": "code",
    "deepnote_cell_height": 117
   },
   "source": "child_books = pd.read_csv(\"children_books.csv\")\nchild_books.drop_duplicates(keep='first', inplace=True, ignore_index=True)\n# child_books.head(5000)",
   "execution_count": 40,
   "outputs": []
  },
  {
   "cell_type": "code",
   "metadata": {
    "cell_id": "cd0873c21f164b7e80515646a40020c9",
    "tags": [],
    "deepnote_to_be_reexecuted": false,
    "source_hash": "8144a91d",
    "execution_start": 1656126189381,
    "execution_millis": 3,
    "deepnote_cell_type": "code",
    "deepnote_cell_height": 405
   },
   "source": "# we want to replace reading age with appr. age lim\n# new columns: upper_age, lower_age\nupper_age = []\nlower_age = []\nfor ind in child_books.index: \n    # print(child_books['Reading_age'][1][:2])\n    if '-' in child_books['Reading_age'][ind]:\n        lower, upper = child_books['Reading_age'][ind].split('-')\n        upper_age.append(int(upper))\n        lower_age.append(int(lower))\n    else: # + \n        lower = int(child_books['Reading_age'][ind][:2].strip(string.punctuation))\n        upper = int(lower+3) # manually set \n        upper_age.append(upper)\n        lower_age.append(lower)\n\n# add age columsn to child_books\nchild_books['lower_age'] = lower_age\nchild_books['upper_age'] = upper_age",
   "execution_count": 5,
   "outputs": []
  },
  {
   "cell_type": "code",
   "metadata": {
    "cell_id": "6deabae4eca244be8e2fd8d5ee2a889d",
    "tags": [],
    "deepnote_to_be_reexecuted": false,
    "source_hash": "542fb031",
    "execution_start": 1656126189428,
    "execution_millis": 0,
    "deepnote_cell_type": "code",
    "deepnote_cell_height": 531
   },
   "source": "child_stories = pd.read_csv('children_stories.Csv')\nchild_stories.drop_duplicates(keep='first', inplace=True, ignore_index=True)\nstory_upper = []\nstory_lower = []\n# Strip off age and split by -\nfor ind in child_stories.index:\n    age = child_stories['cats'][ind][4:]\n    if '-' in age:\n        lower, upper = age.split('-')\n        story_lower.append(int(lower))\n        story_upper.append(int(upper))\n    else: #+\n        try: \n            lower = int(age.strip(string.punctuation))\n            upper = lower + 3\n            story_lower.append(int(lower))\n            story_upper.append(int(upper))\n        except: # in this case we will default to 2-9 years (default)\n            story_lower.append(2)\n            story_upper.append(9)\n            \n# Add 2 columns to child_stories\nchild_stories['lower_age'] = story_lower\nchild_stories['upper_age'] = story_upper\n\n# child_stories['Author'] = [None for i in range(len(child_stories))]",
   "execution_count": 6,
   "outputs": []
  },
  {
   "cell_type": "code",
   "metadata": {
    "cell_id": "8ec85112316341b3a60fd58cc9f525c4",
    "tags": [],
    "deepnote_to_be_reexecuted": false,
    "source_hash": "dee61fc2",
    "execution_start": 1656126189429,
    "execution_millis": 0,
    "deepnote_table_state": {
     "pageSize": 10,
     "pageIndex": 0,
     "filters": [],
     "sortBy": [
      {
       "id": "upper_age",
       "type": "desc"
      }
     ]
    },
    "deepnote_table_loading": false,
    "deepnote_cell_type": "code",
    "deepnote_cell_height": 117
   },
   "source": "# child_books.head()\n# child_stories.head(2000)\n# We won't be using the 'Reading_age' column ",
   "execution_count": 7,
   "outputs": []
  },
  {
   "cell_type": "code",
   "metadata": {
    "cell_id": "5ad236ef4b114a6d981fb74e9ee2decc",
    "tags": [],
    "deepnote_to_be_reexecuted": false,
    "source_hash": "a92433e1",
    "execution_start": 1656126189429,
    "execution_millis": 4,
    "deepnote_cell_type": "code",
    "deepnote_cell_height": 175.75,
    "deepnote_output_heights": [
     78.765625
    ]
   },
   "source": "child_books.columns, child_stories.columns",
   "execution_count": 8,
   "outputs": [
    {
     "output_type": "execute_result",
     "execution_count": 8,
     "data": {
      "text/plain": "(Index(['Title', 'Author', 'Desc', 'Inerest_age', 'Reading_age', 'lower_age',\n        'upper_age'],\n       dtype='object'),\n Index(['names', 'cats', 'desc', 'lower_age', 'upper_age'], dtype='object'))"
     },
     "metadata": {}
    }
   ]
  },
  {
   "cell_type": "code",
   "metadata": {
    "cell_id": "196462c7153b44dda078a8efab38d596",
    "tags": [],
    "deepnote_to_be_reexecuted": false,
    "source_hash": "16400d6d",
    "execution_start": 1656126189438,
    "execution_millis": 3,
    "deepnote_table_state": {
     "pageSize": 10,
     "pageIndex": 46,
     "filters": [],
     "sortBy": []
    },
    "deepnote_table_loading": false,
    "deepnote_cell_type": "code",
    "deepnote_cell_height": 297
   },
   "source": "# is there a way to combine these two dataframes together? \n# we only need the title, upperage, lowerage, desc and author from each dataframe\ndf_1 = child_books.copy().drop(columns = ['Inerest_age', 'Reading_age'])\ndf_1['Type'] = 'Books'\ndf_1 = df_1.rename(columns = {'Title': 'title', 'Desc' : 'desc', 'Author':'author'})\n\ndf_2 = child_stories.copy().drop(columns = ['cats']) \ndf_2['Type'] = 'Stories'\ndf_2 = df_2.rename(columns = {'names': 'title', 'Author':'author'})\n\ndf_combined = pd.concat([df_1, df_2])\n# df_combined.value_counts('title')\n# df_combined",
   "execution_count": 9,
   "outputs": []
  },
  {
   "cell_type": "code",
   "metadata": {
    "cell_id": "6d065523515b48c39ba0dce529dfc284",
    "tags": [],
    "deepnote_to_be_reexecuted": false,
    "source_hash": "aedf537c",
    "execution_start": 1656126189448,
    "execution_millis": 3,
    "deepnote_cell_type": "code",
    "deepnote_cell_height": 225
   },
   "source": "# Rename columns of adv_reads \ntry: \n    adv_reads.drop(columns=['rating', 'voters','price','currency','publisher','page_count','generes','ISBN','language','published_date'], inplace=True)\nexcept:\n    pass\nadv_reads = adv_reads.rename(columns = {'description': 'desc'})\nadv_reads['Type'] = ['Books' for i in range(len(adv_reads))]\nadv_reads.fillna('', inplace=True)\n# adv_reads",
   "execution_count": 10,
   "outputs": []
  },
  {
   "cell_type": "code",
   "metadata": {
    "cell_id": "eced9de226544f93b8bdd79d482b8cf4",
    "tags": [],
    "deepnote_to_be_reexecuted": false,
    "source_hash": "10ffd341",
    "execution_start": 1656126189455,
    "execution_millis": 54,
    "deepnote_cell_type": "code",
    "deepnote_cell_height": 450.65625
   },
   "source": "# get rid of numbers\ndf_combined['title_formatted'] = df_combined['title'].str.replace('\\d+', '')\ndf_combined['desc_formatted'] = df_combined['desc'].str.replace('\\d+', '')\nadv_reads['title_formatted'] = adv_reads['title'].str.replace('\\d+','')\nadv_reads['desc_formatted'] = adv_reads['desc'].str.replace('\\d+','')\n\n# make lowercase\ndf_combined['title_formatted'] = df_combined['title_formatted'].apply(str.lower)\ndf_combined['desc_formatted'] = df_combined['desc_formatted'].apply(str.lower)\nadv_reads['title_formatted'] = adv_reads['title_formatted'].apply(str.lower)\nadv_reads['desc_formatted'] = adv_reads['desc_formatted'].apply(str.lower)\n",
   "execution_count": 11,
   "outputs": [
    {
     "name": "stderr",
     "text": "<ipython-input-11-cecfd9b579cc>:2: FutureWarning: The default value of regex will change from True to False in a future version.\n  df_combined['title_formatted'] = df_combined['title'].str.replace('\\d+', '')\n<ipython-input-11-cecfd9b579cc>:3: FutureWarning: The default value of regex will change from True to False in a future version.\n  df_combined['desc_formatted'] = df_combined['desc'].str.replace('\\d+', '')\n<ipython-input-11-cecfd9b579cc>:4: FutureWarning: The default value of regex will change from True to False in a future version.\n  adv_reads['title_formatted'] = adv_reads['title'].str.replace('\\d+','')\n<ipython-input-11-cecfd9b579cc>:5: FutureWarning: The default value of regex will change from True to False in a future version.\n  adv_reads['desc_formatted'] = adv_reads['desc'].str.replace('\\d+','')\n",
     "output_type": "stream"
    }
   ]
  },
  {
   "cell_type": "code",
   "metadata": {
    "cell_id": "6829c78816f24daf89347438cfc37041",
    "tags": [],
    "deepnote_to_be_reexecuted": false,
    "source_hash": "177dce20",
    "execution_start": 1656126189512,
    "execution_millis": 2749,
    "deepnote_cell_type": "code",
    "deepnote_cell_height": 222.15625
   },
   "source": "# We can tokenize the words here to remove punctuation \n# Tokenize words \nnltk.download('punkt')\ndf_combined['title_desc'] = df_combined['title_formatted'].apply(word_tokenize) + df_combined['desc_formatted'].apply(word_tokenize)\nadv_reads['title_desc'] = adv_reads['title_formatted'].apply(word_tokenize) + adv_reads['desc_formatted'].apply(word_tokenize)\n# df_combined",
   "execution_count": 12,
   "outputs": [
    {
     "name": "stderr",
     "text": "[nltk_data] Downloading package punkt to /root/nltk_data...\n[nltk_data]   Unzipping tokenizers/punkt.zip.\n",
     "output_type": "stream"
    }
   ]
  },
  {
   "cell_type": "code",
   "metadata": {
    "cell_id": "651864a290264c1ebbad366e9e8fd54b",
    "tags": [],
    "deepnote_to_be_reexecuted": false,
    "source_hash": "54f0811",
    "execution_start": 1656126192265,
    "execution_millis": 41721,
    "deepnote_cell_type": "code",
    "deepnote_cell_height": 312.15625
   },
   "source": "# Remove stopwords\nnltk.download('stopwords')\ndef remove_stopwords(input1):\n    words = []\n    for word in input1:\n        if word not in stopwords.words('english'):\n            words.append(word)\n    return words\n\ndf_combined['title_desc'] =  df_combined['title_desc'].apply(remove_stopwords)\nadv_reads['title_desc'] =  adv_reads['title_desc'].apply(remove_stopwords)",
   "execution_count": 13,
   "outputs": [
    {
     "name": "stderr",
     "text": "[nltk_data] Downloading package stopwords to /root/nltk_data...\n[nltk_data]   Unzipping corpora/stopwords.zip.\n",
     "output_type": "stream"
    }
   ]
  },
  {
   "cell_type": "code",
   "metadata": {
    "cell_id": "956e647f53404a48bffef4f25060608b",
    "tags": [],
    "deepnote_to_be_reexecuted": false,
    "source_hash": "14dce115",
    "execution_start": 1656126233987,
    "execution_millis": 3599,
    "deepnote_cell_type": "code",
    "deepnote_cell_height": 298.328125
   },
   "source": "# Lemmatize \nnltk.download('wordnet')\nnltk.download('omw-1.4')\nlem = WordNetLemmatizer()\ndef lemma_wordnet(input):\n    return [lem.lemmatize(w) for w in input]\ndf_combined['title_desc'] = df_combined['title_desc'].apply(lemma_wordnet)\nadv_reads['title_desc'] = adv_reads['title_desc'].apply(lemma_wordnet)",
   "execution_count": 14,
   "outputs": [
    {
     "name": "stderr",
     "text": "[nltk_data] Downloading package wordnet to /root/nltk_data...\n[nltk_data]   Unzipping corpora/wordnet.zip.\n[nltk_data] Downloading package omw-1.4 to /root/nltk_data...\n[nltk_data]   Unzipping corpora/omw-1.4.zip.\n",
     "output_type": "stream"
    }
   ]
  },
  {
   "cell_type": "code",
   "metadata": {
    "cell_id": "a506439adbb34105b37a8a59798ecdd2",
    "tags": [],
    "deepnote_to_be_reexecuted": false,
    "source_hash": "c1369ce1",
    "execution_start": 1656126237600,
    "execution_millis": 3,
    "deepnote_cell_type": "code",
    "deepnote_cell_height": 189
   },
   "source": "# translate list to string\ndef join_text(input):\n    combined = ' '.join(input)\n    return combined\ndf_combined['title_desc_filtered']=df_combined['title_desc'].apply(join_text)\nadv_reads['title_desc_filtered']=adv_reads['title_desc'].apply(join_text)\n# adv_reads",
   "execution_count": 15,
   "outputs": []
  },
  {
   "cell_type": "code",
   "metadata": {
    "cell_id": "82d17eb0dd9a4c0199629f1e0654bc62",
    "tags": [],
    "deepnote_to_be_reexecuted": false,
    "source_hash": "87157f90",
    "execution_start": 1656126237613,
    "execution_millis": 15,
    "deepnote_table_state": {
     "pageSize": 10,
     "pageIndex": 0,
     "filters": [],
     "sortBy": []
    },
    "deepnote_table_loading": false,
    "deepnote_cell_type": "code",
    "deepnote_cell_height": 168.15625
   },
   "source": "# Remove punctuation for clarity \ndf_combined['title_desc_filtered'] = df_combined['title_desc_filtered'].str.replace(r'[^\\w\\s]+', '')\n# df_combined",
   "execution_count": 17,
   "outputs": [
    {
     "name": "stderr",
     "text": "<ipython-input-17-1c4badf68a31>:3: FutureWarning: The default value of regex will change from True to False in a future version.\n  df_combined['title_desc_filtered'] = df_combined['title_desc_filtered'].str.replace(r'[^\\w\\s]+', '')\n",
     "output_type": "stream"
    }
   ]
  },
  {
   "cell_type": "code",
   "metadata": {
    "cell_id": "6a9b0cf15c2a44ff9c5a195402c78bfe",
    "deepnote_variable_name": "user_age",
    "deepnote_variable_value": "17",
    "deepnote_to_be_reexecuted": false,
    "source_hash": "5b29643f",
    "execution_start": 1656126237629,
    "execution_millis": 5,
    "deepnote_cell_type": "input-text"
   },
   "source": "user_age = '17'",
   "execution_count": 18,
   "outputs": []
  },
  {
   "cell_type": "code",
   "metadata": {
    "cell_id": "c77087eecdb6473b95055c36b5000dea",
    "tags": [],
    "deepnote_to_be_reexecuted": false,
    "source_hash": "883ee17d",
    "execution_start": 1656126237640,
    "execution_millis": 7,
    "deepnote_table_state": {
     "pageSize": 10,
     "pageIndex": 0,
     "filters": [],
     "sortBy": []
    },
    "deepnote_table_loading": false,
    "deepnote_cell_type": "code",
    "deepnote_cell_height": 189
   },
   "source": "user_age = int(user_age)\nif int(user_age) >= 16: \n    df_16_plus = pd.concat([df_combined, adv_reads])\n    df_filter = df_16_plus[(df_16_plus['lower_age'] <= user_age) & (df_16_plus['upper_age'] >= user_age)]\nelse: \n    df_filter = df_combined[(df_combined['lower_age']<=user_age) & (df_combined['upper_age']>=user_age) ]\n# df_filter",
   "execution_count": 19,
   "outputs": []
  },
  {
   "cell_type": "code",
   "metadata": {
    "cell_id": "a6e3f2eac091401a9efaa2b63a0df234",
    "tags": [],
    "deepnote_to_be_reexecuted": false,
    "source_hash": "396a05a8",
    "execution_start": 1656126237653,
    "execution_millis": 125,
    "deepnote_cell_type": "code",
    "deepnote_cell_height": 190.609375
   },
   "source": "vectorizer = TfidfVectorizer(max_features=1800, lowercase=True, stop_words='english', ngram_range=(1,1)) #unigrams and bigrams\ntf_idf_output = vectorizer.fit_transform(df_filter['title_desc_filtered'])\nvocab = np.array(vectorizer.get_feature_names())\n# vocab",
   "execution_count": 20,
   "outputs": [
    {
     "name": "stderr",
     "text": "/shared-libs/python3.9/py/lib/python3.9/site-packages/sklearn/utils/deprecation.py:87: FutureWarning: Function get_feature_names is deprecated; get_feature_names is deprecated in 1.0 and will be removed in 1.2. Please use get_feature_names_out instead.\n  warnings.warn(msg, category=FutureWarning)\n",
     "output_type": "stream"
    }
   ]
  },
  {
   "cell_type": "code",
   "metadata": {
    "cell_id": "18fc63de9e21443791d59525b71c9f24",
    "deepnote_variable_name": "num_topics",
    "deepnote_variable_value": "25",
    "deepnote_to_be_reexecuted": false,
    "source_hash": "607eb360",
    "execution_start": 1656126237819,
    "execution_millis": 0,
    "deepnote_cell_type": "input-text"
   },
   "source": "num_topics = '25'",
   "execution_count": 21,
   "outputs": []
  },
  {
   "cell_type": "code",
   "metadata": {
    "cell_id": "c2e1d302d818496b8f038d52f1302084",
    "tags": [],
    "deepnote_to_be_reexecuted": false,
    "source_hash": "f334514b",
    "execution_start": 1656126237819,
    "execution_millis": 2499,
    "deepnote_cell_type": "code",
    "deepnote_cell_height": 117
   },
   "source": "# Perform LDA \nnum_topics = int(num_topics) # can be changed \nlda = LatentDirichletAllocation(n_components=num_topics, random_state=1).fit(tf_idf_output)",
   "execution_count": 22,
   "outputs": []
  },
  {
   "cell_type": "code",
   "metadata": {
    "cell_id": "6a6fc9eb7cda4c56a6c14573ac29acd2",
    "deepnote_variable_name": "num_top_words",
    "deepnote_variable_value": "15",
    "deepnote_to_be_reexecuted": false,
    "source_hash": "9bf19a22",
    "execution_start": 1656126240324,
    "execution_millis": 9,
    "deepnote_cell_type": "input-text"
   },
   "source": "num_top_words = '15'",
   "execution_count": 23,
   "outputs": []
  },
  {
   "cell_type": "code",
   "metadata": {
    "cell_id": "08477ab16f0a471686fd8be670a773ec",
    "tags": [],
    "deepnote_to_be_reexecuted": false,
    "source_hash": "37e037f4",
    "execution_start": 1656126240336,
    "execution_millis": 43,
    "deepnote_cell_type": "code",
    "deepnote_cell_height": 243
   },
   "source": "num_top_words = int(num_top_words) # can be changed. Can also be generated from Cohere\n  \ntopics_set = []\n\n# draft that works\ndef display_topics(model, feature_names, no_top_words):\n    for topic_idx, topic in enumerate(model.components_):\n        topics_set.append(set([feature_names[i] for i in topic.argsort()[:-no_top_words - 1:-1]]))\n\ndisplay_topics(lda, vocab, num_top_words)",
   "execution_count": 24,
   "outputs": []
  },
  {
   "cell_type": "code",
   "metadata": {
    "cell_id": "9b2f941ecc334cd48d5aef470b329996",
    "deepnote_variable_name": "user_phrase",
    "deepnote_variable_value": "small town murder that results in a court case from the victim",
    "deepnote_to_be_reexecuted": false,
    "source_hash": "74e63a45",
    "execution_start": 1656126240379,
    "execution_millis": 0,
    "deepnote_cell_type": "input-text"
   },
   "source": "user_phrase = 'small town murder that results in a court case from the victim'",
   "execution_count": 25,
   "outputs": []
  },
  {
   "cell_type": "code",
   "source": "# word correct\nnltk.download('words')\nwords_corpus = words.words()\n\nuser_input_list = user_phrase.split()\nuser_input_list = [elem.strip(string.punctuation).lower() for elem in user_input_list]\n\ndef run_autocorrect(input_word): \n    closest_words = pq()\n    for word in words_corpus: \n        distance = editdistance.eval(word, input_word)\n        closest_words.put((distance, word))\n    return closest_words.get()\n\nnew_phrase_list = []\nfor elem in user_input_list: \n    if elem not in words_corpus: \n        correct_word = run_autocorrect(elem)\n        new_phrase_list.append(correct_word[1])\n    else: \n        new_phrase_list.append(elem)\n\nuser_phrase = \" \".join(new_phrase_list)\nuser_phrase",
   "metadata": {
    "cell_id": "901a0666ca3841aab1d091a0a6aa7625",
    "tags": [],
    "deepnote_to_be_reexecuted": false,
    "source_hash": "77305a39",
    "execution_start": 1656126240422,
    "execution_millis": 1177,
    "deepnote_cell_type": "code",
    "deepnote_cell_height": 598.34375,
    "deepnote_output_heights": [
     null,
     21.1875
    ]
   },
   "outputs": [
    {
     "name": "stderr",
     "text": "[nltk_data] Downloading package words to /root/nltk_data...\n[nltk_data]   Unzipping corpora/words.zip.\n",
     "output_type": "stream"
    },
    {
     "output_type": "execute_result",
     "execution_count": 26,
     "data": {
      "text/plain": "'small town murder that result in a court case from the victim'"
     },
     "metadata": {}
    }
   ],
   "execution_count": 26
  },
  {
   "cell_type": "code",
   "metadata": {
    "cell_id": "2493fb42ff3045eab1a9e2defb932260",
    "tags": [],
    "deepnote_to_be_reexecuted": false,
    "source_hash": "96784",
    "execution_start": 1656126241607,
    "execution_millis": 8,
    "deepnote_cell_type": "code",
    "deepnote_cell_height": 1014.609375
   },
   "source": "# There is no point of removing stopwords here because we are seeing how much similarity there is regardless. \n# I am thinking of adding spell-correction here? \n\n# user_phrase = set(user_phrase.lower().split())\n# we will preprocess the user phrase just like how we preprocessed the descriptions. Removing stopwords won't matter\n# since we are looking at frequency \n\nuser_phrase = word_tokenize(user_phrase)\nuser_phrase = [word if word not in string.punctuation else '' for word in user_phrase]\n #user_phrase.replace(string.punctuation, '')\nuser_phrase = set([lem.lemmatize(w).lower() for w in user_phrase])\n# print(user_phrase)\n\nbest_topic = topics_set[0] #initialization \nbest_intersection = -1\nfor group in topics_set: \n    # print(group, user_phrase, len(user_phrase.intersection(group)))\n    print(group)\n    if len(user_phrase.intersection(group)) > best_intersection: \n        best_topic = group\n        best_intersection = len(user_phrase.intersection(group))\n\nprint(best_topic, best_intersection) # returns best list of topics and length of the intersection ",
   "execution_count": 27,
   "outputs": [
    {
     "name": "stdout",
     "text": "{'trilogy', 'big', 'hitchhiker', 'jason', 'arthur', 'galaxy', 'guide', 'elio', 'onestate', 'secret', 'dent', 'edition', 'kinsey', 'adventure', 'universe'}\n{'greg', 'winning', 'helen', 'diary', 'talk', 'author', 'day', 'meeny', 'eeny', 'award', 'contemporary', 'jump', 'feminist', 'grace', 'president'}\n{'platform', 'le', 'need', 'step', 'trading', 'day', 'robert', 'thing', 'control', 'mental', 'effective', 'game', 'anthony', 'winterfell', 'money'}\n{'blomkvist', 'investing', 'salander', 'kat', 'vagrant', 'darksiders', 'war', 'destruction', 'stock', 'shining', 'amy', 'little', 'thrawn', 'market', 'leader'}\n{'offering', 'renowned', 'medicine', 'emergency', 'build', 'business', 'tracy', 'marketing', 'brian', 'simple', 'success', 'successful', 'overcome', 'customer', 'personal'}\n{'memoir', 'influence', 'gangster', 'persuasion', 'chaos', 'sherlock', 'story', 'witcher', 'map', 'origin', 'holmes', 'weapon', 'edition', 'zeinab', 'force'}\n{'regarding', 'sorcerer', 'series', 'fantasy', 'poirot', 'honor', 'valor', 'fan', 'morgan', 'destiny', 'king', 'dragon', 'escalon', 'rice', 'rise'}\n{'book', 'financial', 'edge', 'good', 'want', 'shadow', 'key', 'goodreads', 'reviewer', 'people', 'great', 'success', 'change', 'read', 'star'}\n{'teach', 'levitt', 'bos', 'freak', 'problem', 'step', 'employee', 'dubner', 'think', 'better', 'learn', 'emotional', 'offer', 'll', 'trap'}\n{'guilty', 'land', 'detailed', 'sea', 'reverse', 'fellow', 'attack', 'fell', 'needed', 'fiction', 'figure', 'fixed', 'fascinating', 'closer', 'remains'}\n{'christie', 'kate', 'signal', 'harry', 'cooky', 'story', 'billy', 'keri', 'murder', 'short', 'agatha', 'curran', 'time', 'detective', 'brain'}\n{'financial', 'book', 'brent', 'make', 'shadow', 'understand', 'business', 'people', 'life', 'known', 'new', 'worldwide', 'friend', 'win', 'lightbringer'}\n{'christie', 'play', 'spider', 'lord', 'hr', 'footballer', 'ring', 'man', 'job', 'people', 'shakespeare', 'steve', 'agatha', 'poe', 'league'}\n{'knight', 'bestseller', 'diary', 'quincy', 'work', 'reacher', 'festive', 'hero', 'hospital', 'time', 'batman', 'year', 'man', 'grisham', 'alvin'}\n{'fitz', 'crew', 'sunday', 'happy', 'ship', 'happiness', 'auberon', 'farseer', 'option', 'self', 'oregon', 'juan', 'mail', 'cabrillo', 'cussler'}\n{'memoir', 'science', 'critical', 'theory', 'forge', 'dick', 'hollywood', 'capital', 'life', 'unhewn', 'new', 'program', 'julie', 'garrard', 'provides'}\n{'book', 'demon', 'gone', 'killer', 'series', 'psychological', 'thriller', 'mystery', 'paige', 'mind', 'new', 'friend', 'man', 'feel', 'riley'}\n{'strategy', 'archer', 'layla', 'total', 'dr', 'company', 'goal', 'know', 'business', 'truth', 'confidence', 'life', 'finn', 'achieve', 'amanda'}\n{'throne', 'martin', 'feast', 'storm', 'george', 'dance', 'maigret', 'sword', 'game', 'ice', 'dragon', 'infinite', 'song', 'world', 'thorn'}\n{'managerial', 'content', 'arkham', 'need', 'translation', 'lionel', 'art', 'giles', 'table', 'war', 'business', 'military', 'ereader', 'applied', 'functional'}\n{'exiled', 'candide', 'jude', 'bombay', 'love', 'curse', 'wicked', 'faerie', 'shantaram', 'asking', 'queen', 'prison', 'king', 'time', 'cardan'}\n{'crow', 'indistractable', 'eyal', 'focus', 'distraction', 'black', 'frog', 'life', 'modern', 'ice', 'song', 'iron', 'important', 'feast', 'exactly'}\n{'tower', 'monster', 'stand', 'ally', 'selling', 'vs', 'collection', 'attack', 'geralt', 'target', 'witcher', 'universe', 'marvel', 'group', 'alike'}\n{'book', 'mystery', 'robert', 'wheel', 'war', 'antique', 'brandy', 'crime', 'murder', 'jordan', 'time', 'world', 'borne', 'new', 'god'}\n{'strategy', 'advantage', 'science', 'porter', 'competitive', 'architecture', 'wade', 'process', 'business', 'aspect', 'management', 'information', 'mini', 'habit', 'sun'}\n{'christie', 'kate', 'signal', 'harry', 'cooky', 'story', 'billy', 'keri', 'murder', 'short', 'agatha', 'curran', 'time', 'detective', 'brain'} 1\n",
     "output_type": "stream"
    }
   ]
  },
  {
   "cell_type": "code",
   "metadata": {
    "cell_id": "4e51014b9d504bcebc08ea32cdd9f842",
    "tags": [],
    "deepnote_to_be_reexecuted": false,
    "source_hash": "49606e68",
    "execution_start": 1656126241617,
    "execution_millis": 5,
    "deepnote_table_state": {
     "pageSize": 10,
     "pageIndex": 95,
     "filters": [],
     "sortBy": []
    },
    "deepnote_table_loading": false,
    "deepnote_cell_type": "code",
    "deepnote_cell_height": 81
   },
   "source": "# df_filter",
   "execution_count": 28,
   "outputs": []
  },
  {
   "cell_type": "code",
   "metadata": {
    "cell_id": "36850f3f1247435389999285e3668414",
    "tags": [],
    "deepnote_to_be_reexecuted": false,
    "source_hash": "1a13e636",
    "execution_start": 1656126241641,
    "execution_millis": 174,
    "deepnote_cell_type": "code",
    "deepnote_cell_height": 207
   },
   "source": "# Now we need to match the book descriptions to the topic that was chosen \nbooks = pq() #min heap \nfor index, row in df_filter.iterrows():\n    # print(row['title_desc_filtered'])\n    intersect_len = len(set(row['title_desc_filtered'].split()).intersection(best_topic))\n    # print(set(row['title_desc_filtered'].split()))\n    books.put((-1*intersect_len, row['title'].strip(string.punctuation), row['author'].strip(string.punctuation), row['Type'].strip(string.punctuation)))\n",
   "execution_count": 29,
   "outputs": []
  },
  {
   "cell_type": "code",
   "metadata": {
    "cell_id": "40668000c416447c971016a1d8c5db8f",
    "deepnote_variable_name": "num_recs",
    "deepnote_variable_value": "5",
    "deepnote_to_be_reexecuted": false,
    "source_hash": "e500b1f7",
    "execution_start": 1656126241830,
    "execution_millis": 4,
    "deepnote_cell_type": "input-text"
   },
   "source": "num_recs = '5'",
   "execution_count": 30,
   "outputs": []
  },
  {
   "cell_type": "code",
   "metadata": {
    "cell_id": "cd4986d88f634c3e92f0de93d9acd5c6",
    "tags": [],
    "deepnote_to_be_reexecuted": false,
    "source_hash": "1cbfd883",
    "execution_start": 1656126241850,
    "execution_millis": 2219529,
    "deepnote_cell_type": "code",
    "deepnote_cell_height": 341.34375,
    "deepnote_output_heights": [
     136.359375,
     97.96875
    ]
   },
   "source": "books_hm = {}\nwhile len(books_hm) < 5: \n    book = books.get()\n    # print(book[0])\n    books_hm[book[1]] = (book[2], book[3])\n\nbooks_hm",
   "execution_count": 31,
   "outputs": [
    {
     "output_type": "execute_result",
     "execution_count": 31,
     "data": {
      "text/plain": "{'The Red Signal: An Agatha Christie Short Story': ('Agatha Christie',\n  'Books'),\n 'The Mysterious Affair at Styles': ('Agatha Christie', 'Books'),\n 'A Trace of Crime (a Keri Locke Mystery--Book #4': ('Blake Pierce', 'Books'),\n 'A Trace of Vice (a Keri Locke Mystery--Book #3': ('Blake Pierce', 'Books'),\n 'Death in an Elegant City: An English Village Murder Mystery': ('Sara Rosett',\n  'Books')}"
     },
     "metadata": {}
    }
   ]
  },
  {
   "cell_type": "code",
   "source": "# cohere API key\n# KTQmgyEWSk81jeyS98xCMB1iRuWjZ5KDzSkrdw0b",
   "metadata": {
    "cell_id": "5558a86a741543ad9143fb16e77c57fa",
    "tags": [],
    "deepnote_to_be_reexecuted": false,
    "source_hash": "6893179",
    "execution_start": 1656126241911,
    "execution_millis": 2219534,
    "deepnote_cell_type": "code",
    "deepnote_cell_height": 99
   },
   "outputs": [],
   "execution_count": 32
  },
  {
   "cell_type": "code",
   "source": "theme = 'crime, murder, new york city, suspect, man, FBI, detective'",
   "metadata": {
    "cell_id": "16b20484e2a74e218b38f633d2593176",
    "deepnote_variable_name": "theme",
    "deepnote_variable_value": "crime, murder, new york city, suspect, man, FBI, detective",
    "deepnote_to_be_reexecuted": false,
    "source_hash": "105bbfc7",
    "execution_start": 1656126241911,
    "execution_millis": 2219493,
    "deepnote_cell_type": "input-text"
   },
   "outputs": [],
   "execution_count": 33
  },
  {
   "cell_type": "code",
   "source": "import cohere\nco = cohere.Client('KTQmgyEWSk81jeyS98xCMB1iRuWjZ5KDzSkrdw0b')\nprediction = co.generate(\n  model='large',\n  prompt='--\\nProduct: Book \\nKeywords: ' + str(theme) + str('Exciting Book Description:'),\n  max_tokens=50,\n  temperature=0.8,\n  k=0,\n  p=1,\n  frequency_penalty=0,\n  presence_penalty=0,\n  stop_sequences=[\"--\"],\n  return_likelihoods='NONE')\nprint('Idea: {}...'.format(prediction.generations[0].text))\nprediction.generations",
   "metadata": {
    "cell_id": "ff345277590e4371b8ef2eff90bd4113",
    "tags": [],
    "deepnote_to_be_reexecuted": false,
    "source_hash": "b48a5933",
    "execution_start": 1656126241912,
    "execution_millis": 2702,
    "owner_user_id": "3368d2ef-7e80-411c-933c-c0bf7e4e7d6b",
    "deepnote_cell_type": "code",
    "deepnote_cell_height": 576.046875,
    "deepnote_output_heights": [
     null,
     136.359375
    ]
   },
   "outputs": [
    {
     "name": "stdout",
     "text": "Idea: \nThe killings are increasing with each passing day in Manhattan.\nDetective Alicia Berenson and her partner, Detective Michael Norton, are desperate to find the murderer before he strikes again. But they are losing time. The killer has become a...\n",
     "output_type": "stream"
    },
    {
     "output_type": "execute_result",
     "execution_count": 34,
     "data": {
      "text/plain": "[cohere.Generation {\n \ttext: \n The killings are increasing with each passing day in Manhattan.\n Detective Alicia Berenson and her partner, Detective Michael Norton, are desperate to find the murderer before he strikes again. But they are losing time. The killer has become a\n \tlikelihood: None\n \ttoken_likelihoods: None\n }]"
     },
     "metadata": {}
    }
   ],
   "execution_count": 34
  },
  {
   "cell_type": "code",
   "source": "send_sms = 'True'",
   "metadata": {
    "cell_id": "6e5757e142174d759e735aaf68fc6a8a",
    "deepnote_variable_name": "send_sms",
    "deepnote_variable_value": "True",
    "deepnote_variable_options": [
     "True",
     "False"
    ],
    "deepnote_variable_custom_options": [
     "True",
     "False"
    ],
    "deepnote_variable_selected_variable": "",
    "deepnote_variable_select_type": "from-options",
    "deepnote_to_be_reexecuted": false,
    "source_hash": "6e436d54",
    "execution_start": 1656126244623,
    "execution_millis": 2219515,
    "deepnote_cell_type": "input-select"
   },
   "outputs": [],
   "execution_count": 35
  },
  {
   "cell_type": "code",
   "source": "if send_sms == True: \n    # send to twilio ",
   "metadata": {
    "cell_id": "bdbfbc78ae7b4cad8ab8bb1c4acacd45",
    "tags": [],
    "deepnote_to_be_reexecuted": false,
    "source_hash": "1c063be6",
    "execution_start": 1656126244667,
    "execution_millis": 2219475,
    "deepnote_cell_type": "code",
    "deepnote_cell_height": 162.1875
   },
   "outputs": [
    {
     "output_type": "error",
     "ename": "IndentationError",
     "evalue": "expected an indented block (<ipython-input-36-ea0bf1780628>, line 2)",
     "traceback": [
      "\u001b[0;36m  File \u001b[0;32m\"<ipython-input-36-ea0bf1780628>\"\u001b[0;36m, line \u001b[0;32m2\u001b[0m\n\u001b[0;31m    # send to twilio\u001b[0m\n\u001b[0m                     ^\u001b[0m\n\u001b[0;31mIndentationError\u001b[0m\u001b[0;31m:\u001b[0m expected an indented block\n"
     ]
    }
   ],
   "execution_count": 36
  },
  {
   "cell_type": "markdown",
   "source": "<a style='text-decoration:none;line-height:16px;display:flex;color:#5B5B62;padding:10px;justify-content:end;' href='https://deepnote.com?utm_source=created-in-deepnote-cell&projectId=a000e112-1cbe-4ff9-9e6d-cef9a0ebc108' target=\"_blank\">\n<img alt='Created in deepnote.com' style='display:inline;max-height:16px;margin:0px;margin-right:7.5px;' src='data:image/svg+xml;base64,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' > </img>\nCreated in <span style='font-weight:600;margin-left:4px;'>Deepnote</span></a>",
   "metadata": {
    "tags": [],
    "created_in_deepnote_cell": true,
    "deepnote_cell_type": "markdown"
   }
  }
 ],
 "nbformat": 4,
 "nbformat_minor": 2,
 "metadata": {
  "orig_nbformat": 2,
  "deepnote": {},
  "deepnote_notebook_id": "7fa6325c-3307-46a9-b8c5-562dee8f5df7",
  "deepnote_execution_queue": []
 }
}