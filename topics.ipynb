{
 "cells": [
  {
   "cell_type": "code",
   "metadata": {
    "cell_id": "4d356711ea8a4ca4ab670818fef0ecf9",
    "tags": [],
    "deepnote_to_be_reexecuted": false,
    "source_hash": "3ed4482",
    "execution_start": 1656126187558,
    "execution_millis": 1577,
    "owner_user_id": "3368d2ef-7e80-411c-933c-c0bf7e4e7d6b",
    "deepnote_cell_type": "code",
    "deepnote_cell_height": 315
   },
   "source": "import pandas as pd\nimport string\nimport nltk\nimport numpy as np\nimport re\nfrom nltk.tokenize import word_tokenize\nfrom nltk.corpus import stopwords\nfrom nltk.stem import WordNetLemmatizer\nfrom sklearn.feature_extraction.text import TfidfVectorizer\nfrom sklearn.decomposition import LatentDirichletAllocation\nfrom queue import PriorityQueue as pq\nimport editdistance\nfrom nltk.corpus import words\nimport cohere",
   "execution_count": 1,
   "outputs": []
  },
  {
   "cell_type": "code",
   "metadata": {
    "cell_id": "26bbff9f6d354017aa5dfee3446e1998",
    "tags": [],
    "deepnote_to_be_reexecuted": false,
    "source_hash": "d6485474",
    "execution_start": 1656126189145,
    "execution_millis": 26,
    "deepnote_cell_type": "code",
    "deepnote_cell_height": 99
   },
   "source": "adv_reads = pd.read_csv('google_books_1299.csv')\nadv_reads.drop(columns=adv_reads.columns[0], axis=1, inplace=True)",
   "execution_count": 2,
   "outputs": []
  },
  {
   "cell_type": "code",
   "metadata": {
    "cell_id": "4cad93ced6bc4156ab33b29c97a4c2b8",
    "tags": [],
    "deepnote_to_be_reexecuted": false,
    "source_hash": "7c37366e",
    "execution_start": 1656126189181,
    "execution_millis": 72,
    "deepnote_cell_type": "code",
    "deepnote_cell_height": 730.65625
   },
   "source": "adv_reads.drop_duplicates(keep='first', inplace=True, ignore_index=True)\n\n# manually set: should we do this?\nadv_reads['lower_age'] = [16 for i in range(len(adv_reads))]\nadv_reads['upper_age'] = [20 for i in range(len(adv_reads))]\nadv_reads.head(2000)\n",
   "execution_count": 3,
   "outputs": [
    {
     "output_type": "execute_result",
     "execution_count": 3,
     "data": {
      "application/vnd.deepnote.dataframe.v3+json": {
       "column_count": 15,
       "row_count": 948,
       "columns": [
        {
         "name": "title",
         "dtype": "object",
         "stats": {
          "unique_count": 246,
          "nan_count": 0,
          "categories": [
           {
            "name": "The Queen of Nothing (The Folk of the Air #3)",
            "count": 13
           },
           {
            "name": "The Hitchhiker's Guide to the Galaxy: 42nd Anniversary Edition",
            "count": 12
           },
           {
            "name": "244 others",
            "count": 923
           }
          ]
         }
        },
        {
         "name": "author",
         "dtype": "object",
         "stats": {
          "unique_count": 183,
          "nan_count": 0,
          "categories": [
           {
            "name": "Agatha Christie",
            "count": 29
           },
           {
            "name": "Brian Tracy",
            "count": 28
           },
           {
            "name": "181 others",
            "count": 891
           }
          ]
         }
        },
        {
         "name": "rating",
         "dtype": "float64",
         "stats": {
          "unique_count": 18,
          "nan_count": 57,
          "min": "2.5",
          "max": "5.0",
          "histogram": [
           {
            "bin_start": 2.5,
            "bin_end": 2.75,
            "count": 10
           },
           {
            "bin_start": 2.75,
            "bin_end": 3,
            "count": 0
           },
           {
            "bin_start": 3,
            "bin_end": 3.25,
            "count": 0
           },
           {
            "bin_start": 3.25,
            "bin_end": 3.5,
            "count": 6
           },
           {
            "bin_start": 3.5,
            "bin_end": 3.75,
            "count": 25
           },
           {
            "bin_start": 3.75,
            "bin_end": 4,
            "count": 42
           },
           {
            "bin_start": 4,
            "bin_end": 4.25,
            "count": 167
           },
           {
            "bin_start": 4.25,
            "bin_end": 4.5,
            "count": 154
           },
           {
            "bin_start": 4.5,
            "bin_end": 4.75,
            "count": 340
           },
           {
            "bin_start": 4.75,
            "bin_end": 5,
            "count": 147
           }
          ]
         }
        },
        {
         "name": "voters",
         "dtype": "object",
         "stats": {
          "unique_count": 162,
          "nan_count": 57,
          "categories": [
           {
            "name": "2",
            "count": 37
           },
           {
            "name": "161 others",
            "count": 854
           },
           {
            "name": "Missing",
            "count": 57
           }
          ]
         }
        },
        {
         "name": "price",
         "dtype": "float64",
         "stats": {
          "unique_count": 125,
          "nan_count": 0,
          "min": "0.0",
          "max": "886.08",
          "histogram": [
           {
            "bin_start": 0,
            "bin_end": 88.608,
            "count": 861
           },
           {
            "bin_start": 88.608,
            "bin_end": 177.216,
            "count": 75
           },
           {
            "bin_start": 177.216,
            "bin_end": 265.824,
            "count": 10
           },
           {
            "bin_start": 265.824,
            "bin_end": 354.432,
            "count": 0
           },
           {
            "bin_start": 354.432,
            "bin_end": 443.04,
            "count": 0
           },
           {
            "bin_start": 443.04,
            "bin_end": 531.648,
            "count": 0
           },
           {
            "bin_start": 531.648,
            "bin_end": 620.2560000000001,
            "count": 0
           },
           {
            "bin_start": 620.2560000000001,
            "bin_end": 708.864,
            "count": 0
           },
           {
            "bin_start": 708.864,
            "bin_end": 797.472,
            "count": 0
           },
           {
            "bin_start": 797.472,
            "bin_end": 886.08,
            "count": 2
           }
          ]
         }
        },
        {
         "name": "currency",
         "dtype": "object",
         "stats": {
          "unique_count": 2,
          "nan_count": 0,
          "categories": [
           {
            "name": "SAR",
            "count": 925
           },
           {
            "name": "Free",
            "count": 23
           }
          ]
         }
        },
        {
         "name": "description",
         "dtype": "object",
         "stats": {
          "unique_count": 244,
          "nan_count": 3,
          "categories": [
           {
            "name": "The intoxicating and bloodthirsty finale to the New York Times bestselling The Cruel Prince, nominated for the CILIP CARNEGIE MEDAL 2019, and  New York Times bestseller The Wicked King \n\nAfter being pronounced Queen of Faerie and then abruptly exiled by the Wicked King Cardan, Jude finds herself unmoored, the queen of nothing. She spends her time with Vivi and Oak, watching reality television, and doing odd jobs, including squaring up to a cannibalistic faerie.\n\nWhen her twin sister Taryn shows up asking a favour, Jude jumps at the chance to return to the Faerie world, even if it means facing Cardan, who she loves despite his betrayal. When a dark curse is unveiled, Jude must become the first mortal Queen of Faerie and break the curse, or risk upsetting the balance of the whole Faerie world.",
            "count": 13
           },
           {
            "name": "243 others",
            "count": 932
           },
           {
            "name": "Missing",
            "count": 3
           }
          ]
         }
        },
        {
         "name": "publisher",
         "dtype": "object",
         "stats": {
          "unique_count": 82,
          "nan_count": 0,
          "categories": [
           {
            "name": "HarperCollins UK",
            "count": 97
           },
           {
            "name": "Hachette UK",
            "count": 92
           },
           {
            "name": "80 others",
            "count": 759
           }
          ]
         }
        },
        {
         "name": "page_count",
         "dtype": "int64",
         "stats": {
          "unique_count": 103,
          "nan_count": 0,
          "min": "7",
          "max": "9781302013929",
          "histogram": [
           {
            "bin_start": 7,
            "bin_end": 978130201399.2,
            "count": 947
           },
           {
            "bin_start": 978130201399.2,
            "bin_end": 1956260402791.4,
            "count": 0
           },
           {
            "bin_start": 1956260402791.4,
            "bin_end": 2934390604183.5996,
            "count": 0
           },
           {
            "bin_start": 2934390604183.5996,
            "bin_end": 3912520805575.8,
            "count": 0
           },
           {
            "bin_start": 3912520805575.8,
            "bin_end": 4890651006968,
            "count": 0
           },
           {
            "bin_start": 4890651006968,
            "bin_end": 5868781208360.199,
            "count": 0
           },
           {
            "bin_start": 5868781208360.199,
            "bin_end": 6846911409752.399,
            "count": 0
           },
           {
            "bin_start": 6846911409752.399,
            "bin_end": 7825041611144.6,
            "count": 0
           },
           {
            "bin_start": 7825041611144.6,
            "bin_end": 8803171812536.799,
            "count": 0
           },
           {
            "bin_start": 8803171812536.799,
            "bin_end": 9781302013929,
            "count": 1
           }
          ]
         }
        },
        {
         "name": "generes",
         "dtype": "object",
         "stats": {
          "unique_count": 242,
          "nan_count": 0,
          "categories": [
           {
            "name": "none",
            "count": 227
           },
           {
            "name": "Fiction , Thrillers , Suspense",
            "count": 35
           },
           {
            "name": "240 others",
            "count": 686
           }
          ]
         }
        },
        {
         "name": "ISBN",
         "dtype": "object",
         "stats": {
          "unique_count": 227,
          "nan_count": 0,
          "categories": [
           {
            "name": "Original pages",
            "count": 19
           },
           {
            "name": "9781471407574",
            "count": 13
           },
           {
            "name": "225 others",
            "count": 916
           }
          ]
         }
        },
        {
         "name": "language",
         "dtype": "object",
         "stats": {
          "unique_count": 1,
          "nan_count": 0,
          "categories": [
           {
            "name": "English",
            "count": 948
           }
          ]
         }
        },
        {
         "name": "published_date",
         "dtype": "object",
         "stats": {
          "unique_count": 216,
          "nan_count": 0,
          "categories": [
           {
            "name": "Oct 15, 2019",
            "count": 36
           },
           {
            "name": "Oct 17, 2019",
            "count": 24
           },
           {
            "name": "214 others",
            "count": 888
           }
          ]
         }
        },
        {
         "name": "lower_age",
         "dtype": "int64",
         "stats": {
          "unique_count": 1,
          "nan_count": 0,
          "min": "16",
          "max": "16",
          "histogram": [
           {
            "bin_start": 15.5,
            "bin_end": 15.6,
            "count": 0
           },
           {
            "bin_start": 15.6,
            "bin_end": 15.7,
            "count": 0
           },
           {
            "bin_start": 15.7,
            "bin_end": 15.8,
            "count": 0
           },
           {
            "bin_start": 15.8,
            "bin_end": 15.9,
            "count": 0
           },
           {
            "bin_start": 15.9,
            "bin_end": 16,
            "count": 0
           },
           {
            "bin_start": 16,
            "bin_end": 16.1,
            "count": 948
           },
           {
            "bin_start": 16.1,
            "bin_end": 16.2,
            "count": 0
           },
           {
            "bin_start": 16.2,
            "bin_end": 16.3,
            "count": 0
           },
           {
            "bin_start": 16.3,
            "bin_end": 16.4,
            "count": 0
           },
           {
            "bin_start": 16.4,
            "bin_end": 16.5,
            "count": 0
           }
          ]
         }
        },
        {
         "name": "upper_age",
         "dtype": "int64",
         "stats": {
          "unique_count": 1,
          "nan_count": 0,
          "min": "20",
          "max": "20",
          "histogram": [
           {
            "bin_start": 19.5,
            "bin_end": 19.6,
            "count": 0
           },
           {
            "bin_start": 19.6,
            "bin_end": 19.7,
            "count": 0
           },
           {
            "bin_start": 19.7,
            "bin_end": 19.8,
            "count": 0
           },
           {
            "bin_start": 19.8,
            "bin_end": 19.9,
            "count": 0
           },
           {
            "bin_start": 19.9,
            "bin_end": 20,
            "count": 0
           },
           {
            "bin_start": 20,
            "bin_end": 20.1,
            "count": 948
           },
           {
            "bin_start": 20.1,
            "bin_end": 20.2,
            "count": 0
           },
           {
            "bin_start": 20.2,
            "bin_end": 20.3,
            "count": 0
           },
           {
            "bin_start": 20.3,
            "bin_end": 20.4,
            "count": 0
           },
           {
            "bin_start": 20.4,
            "bin_end": 20.5,
            "count": 0
           }
          ]
         }
        },
        {
         "name": "_deepnote_index_column",
         "dtype": "int64"
        }
       ],
       "rows": [
        {
         "title": "Attack on Titan: Volume 13",
         "author": "Hajime Isayama",
         "rating": 4.6,
         "voters": "428",
         "price": 43.28,
         "currency": "SAR",
         "description": "NO SAFE PLACE LEFT At great cost to the Garrison and the Survey Corps, Commander Erwin has managed to recover Eren from the Titans who tried to carry him off. But during the battle, Eren manifested yet another power he doesn't understand. As Eren and Krista find new enemies, the Survey Corps faces threats from both inside and outside the walls. And what will happen to Ymir, now that she has decided to make herself the Titans' prize?",
         "publisher": "Kodansha Comics",
         "page_count": 192,
         "generes": "none",
         "ISBN": "9781612626864",
         "language": "English",
         "published_date": "Jul 31, 2014",
         "lower_age": 16,
         "upper_age": 20,
         "_deepnote_index_column": 0
        },
        {
         "title": "Antiques Roadkill: A Trash 'n' Treasures Mystery",
         "author": "Barbara Allan",
         "rating": 3.3,
         "voters": "23",
         "price": 26.15,
         "currency": "SAR",
         "description": "Determined to make a new start in her quaint hometown on the banks of the Mississippi, Brandy Borne never dreams she'll become the prime suspect in a murder case. . . \n\nMoving back in with her eccentric, larger-than-life mother, Brandy Borne finds small-town Serenity anything but serene. It seems an unscrupulous antiques dealer has swindled Vivian out of the family's heirlooms. But when he is found run over in a country lane, Brandy becomes Murder Suspect Number One--with her mother coming in a very close second. . . \n\nThe list of other suspects is impressive--the victim's business seems to have been based on bilking seniors out of their possessions. And when the Borne \"girls\" uncover a few very unsavory Serenity secrets, they become targets for a murderer whose favorite hobby seems to be collecting victims. \n\nDon't miss Brandy Borne's tips on antiques! \n\n\"Cozy mystery fans will love this down-to-earth heroine with the wry sense of humor and a big heart.\" --Nancy Pickard \n\n\"With its s…",
         "publisher": "Kensington Publishing Corp.",
         "page_count": 288,
         "generes": "Fiction , Mystery &amp, Detective , Cozy , General",
         "ISBN": "9780758272799",
         "language": "English",
         "published_date": "Jul 1, 2007",
         "lower_age": 16,
         "upper_age": 20,
         "_deepnote_index_column": 1
        },
        {
         "title": "The Art of Super Mario Odyssey",
         "author": "Nintendo",
         "rating": 3.9,
         "voters": "9",
         "price": 133.85,
         "currency": "SAR",
         "description": "Take a globetrotting journey all over the world--and beyond!--with this companion art book to the hit video game for the Nintendo Switch(TM) system!\n\nIn October of 2017, Super Mario Odyssey(TM) took the gaming world by storm. Now, discover the art and expertise that went into creating one of Nintendo's best-loved games!\n\n This full-color volume clocks in at over 350 pages and features concept art, preliminary sketches, and notes from the development team, plus insight into some early ideas that didn't make it into the game itself! Explore the world of Super Mario Odyssey from every angle, including screen shots, marketing material, and more, to fully appreciate this captivating adventure",
         "publisher": "Dark Horse Comics",
         "page_count": 368,
         "generes": "Games &amp, Activities , Video &amp, Electronic",
         "ISBN": "9781506713816",
         "language": "English",
         "published_date": "Nov 5, 2019",
         "lower_age": 16,
         "upper_age": 20,
         "_deepnote_index_column": 2
        },
        {
         "title": "Getting Away Is Deadly: An Ellie Avery Mystery",
         "author": "Sara Rosett",
         "rating": 4,
         "voters": "10",
         "price": 26.15,
         "currency": "SAR",
         "description": "With swollen feet and swelling belly, pregnant Ellie bravely joins the nation's tourists in seeing the sights in Washington, D.C. But a fatal incident at the Metro station convinces Ellie that something is rotten in the capital city. Should she do the safe thing and pack her bags? Not likely when too many people are telling lies, hiding secrets, and acting suspiciously. Luckily, Ellie Avery is just the right woman to clean up the most mysterious cases of murder--even if she has to brave the most dangerous byways in the corridors of power . . .\n\n\n\n\nDon't miss Ellie Avery's top-notch tips for great vacations!\n\n\n\nPraise for Sara Rosett and her Mom Zone Mysteries. . .\n\n\n\n\"Crackles with intrigue, keeps you turning pages.\"\n--Alesia Holliday\n\n\n\n\"Sharp writing, tight plotting, a fascinating peek into the world of military wives. Jump in!\"\n--Cynthia Baxter\n\n\n\n\"The stunning conclusion should delight readers.\"\n--Romantic Times",
         "publisher": "Kensington Publishing Corp.",
         "page_count": 320,
         "generes": "none",
         "ISBN": "9781617734076",
         "language": "English",
         "published_date": "Mar 1, 2009",
         "lower_age": 16,
         "upper_age": 20,
         "_deepnote_index_column": 3
        },
        {
         "title": "The Painted Man (The Demon Cycle, Book 1)",
         "author": "Peter V. Brett",
         "rating": 4.5,
         "voters": "577",
         "price": 28.54,
         "currency": "SAR",
         "description": "The stunning debut fantasy novel from author Peter V. Brett.   The Painted Man, book one of the Demon Cycle, is a captivating and thrilling fantasy adventure, pulling the reader into a world of demons, darkness and heroes.  AS DARKNESS FALLS, THE DEMONS RISE For hundreds of years these creatures have terrorized the night, slowly culling the human population. It was not always this way. Men and women did not always cower behind protective magical wards and hope to see the dawn. Once, they battled the demons on equal terms, but those days, and skills, are gone. Arlen Bales lives with his parents on their isolated farmstead until a demon attack shatters their world. He learns a savage lesson that day: that people, as well as magic, can let you down. Rejecting the fear that kills as efficiently as the creatures, Arlen risks another path in order to offer humanity a last, fleeting chance of survival.",
         "publisher": "HarperCollins UK",
         "page_count": 544,
         "generes": "Fiction , Fantasy , Dark Fantasy",
         "ISBN": "9780007287758",
         "language": "English",
         "published_date": "Jan 8, 2009",
         "lower_age": 16,
         "upper_age": 20,
         "_deepnote_index_column": 4
        },
        {
         "title": "A Feast for Crows (A Song of Ice and Fire, Book 4)",
         "author": "George R.R. Martin",
         "rating": 4.5,
         "voters": "832",
         "price": 29.29,
         "currency": "SAR",
         "description": "HBO’s hit series A GAME OF THRONES is based on George R. R. Martin’s internationally bestselling series A SONG OF ICE AND FIRE, the greatest fantasy epic of the modern age. A FEAST FOR CROWS is the fourth volume in the series. The Lannisters are in power on the Iron Throne. The war in the Seven Kingdoms has burned itself out, but in its bitter aftermath new conflicts spark to life. The Martells of Dorne and the Starks of Winterfell seek vengeance for their dead. Euron Crow’s Eye, as black a pirate as ever raised a sail, returns from the smoking ruins of Valyria to claim the Iron Isles. From the icy north, where Others threaten the Wall, apprentice Maester Samwell Tarly brings a mysterious babe in arms to the Citadel. As plots, intrigue and battle threaten to engulf Westeros, victory will go to the men and women possessed of the coldest steel and the coldest hearts.",
         "publisher": "HarperCollins UK",
         "page_count": 864,
         "generes": "none",
         "ISBN": "9780007369218",
         "language": "English",
         "published_date": "Feb 24, 2011",
         "lower_age": 16,
         "upper_age": 20,
         "_deepnote_index_column": 5
        },
        {
         "title": "God of War: The Official Novelization",
         "author": "J.M. Barlog",
         "rating": 4.5,
         "voters": "94",
         "price": 15.82,
         "currency": "SAR",
         "description": "The novelization of the highly anticipated God of War 4 game.\nHis vengeance against the Gods of Olympus years behind him, Kratos now lives as a man in the realm of Norse gods and monsters. It is in this harsh, unforgiving world that he must fight to survive... and teach his son to do the same. This startling reimagining of God of War deconstructs the core elements that defined the series—satisfying combat; breathtaking scale; and a powerful narrative—and fuses them anew.",
         "publisher": "Titan Books",
         "page_count": 400,
         "generes": "Fiction , Media Tie-In",
         "ISBN": "9781789090154",
         "language": "English",
         "published_date": "Aug 28, 2018",
         "lower_age": 16,
         "upper_age": 20,
         "_deepnote_index_column": 6
        },
        {
         "title": "Edgedancer: From the Stormlight Archive",
         "author": "Brandon Sanderson",
         "rating": 4.8,
         "voters": "221",
         "price": 36.79,
         "currency": "SAR",
         "description": "From #1 New York Times bestselling author Brandon Sanderson, a special gift edition of Edgedancer, a short novel of the Stormlight Archive (previously published in Arcanum Unbounded).Three years ago, Lift asked a goddess to stop her from growing older--a wish she believed was granted. Now, in Edgedancer, the barely teenage nascent Knight Radiant finds that time stands still for no one. Although the young Azish emperor granted her safe haven from an executioner she knows only as Darkness, court life is suffocating the free-spirited Lift, who can't help heading to Yeddaw when she hears the relentless Darkness is there hunting people like her with budding powers. The downtrodden in Yeddaw have no champion, and Lift knows she must seize this awesome responsibility.\nOther Tor books by Brandon Sanderson The Cosmere\n \n The Stormlight Archive\n The Way of Kings\n Words of Radiance\n Edgedancer (Novella)\n Oathbringer\n \n The Mistborn trilogy\n Mistborn: The Final Empire\n The Well of Ascension\n The …",
         "publisher": "Tor Books",
         "page_count": 226,
         "generes": "Fiction , Fantasy , Epic",
         "ISBN": "9781250166609",
         "language": "English",
         "published_date": "Oct 17, 2017",
         "lower_age": 16,
         "upper_age": 20,
         "_deepnote_index_column": 7
        },
        {
         "title": "Blood, Sweat, and Pixels: The Triumphant, Turbulent Stories Behind How Video Games Are Made",
         "author": "Jason Schreier",
         "rating": 4.3,
         "voters": "135",
         "price": 50.25,
         "currency": "SAR",
         "description": "NATIONAL BESTSELLERDeveloping video games—hero's journey or fool's errand? The creative and technical logistics that go into building today's hottest games can be more harrowing and complex than the games themselves, often seeming like an endless maze or a bottomless abyss. In Blood, Sweat, and Pixels, Jason Schreier takes readers on a fascinating odyssey behind the scenes of video game development, where the creator may be a team of 600 overworked underdogs or a solitary geek genius. Exploring the artistic challenges, technical impossibilities, marketplace demands, and Donkey Kong-sized monkey wrenches thrown into the works by corporate, Blood, Sweat, and Pixels reveals how bringing any game to completion is more than Sisyphean—it's nothing short of miraculous.Taking some of the most popular, bestselling recent games, Schreier immerses readers in the hellfire of the development process, whether it's RPG studio Bioware's challenge to beat an impossible schedule and overcome countless …",
         "publisher": "HarperCollins",
         "page_count": 304,
         "generes": "Games &amp, Activities , Video &amp, Electronic",
         "ISBN": "9780062651242",
         "language": "English",
         "published_date": "Sep 5, 2017",
         "lower_age": 16,
         "upper_age": 20,
         "_deepnote_index_column": 8
        },
        {
         "title": "Twas The Nightshift Before Christmas: Festive hospital diaries from the author of million-copy hit This is Going to Hurt",
         "author": "Adam Kay",
         "rating": 4.7,
         "voters": "47",
         "price": 41.82,
         "currency": "SAR",
         "description": "A short gift book of festive hospital diaries from the author of million-copy bestseller This is Going to HurtChristmas is coming, the goose is getting fat . . . but 1.4 million NHS staff are heading off to work. In this perfect present for anyone who has ever set foot in a hospital, Adam Kay delves back into his diaries for a hilarious, horrifying and sometimes heartbreaking peek behind the blue curtain at Christmastime.Twas the Nightshift Before Christmas is a love letter to all those who spend their festive season on the front line, removing babies and baubles from the various places they get stuck, at the most wonderful time of the year.'The perfect surgical stocking-filler' The Times",
         "publisher": "Pan Macmillan",
         "page_count": 112,
         "generes": "Biography &amp, Autobiography , Medical (incl. Patients)",
         "ISBN": "9781529018592",
         "language": "English",
         "published_date": "Oct 17, 2019",
         "lower_age": 16,
         "upper_age": 20,
         "_deepnote_index_column": 9
        }
       ]
      },
      "text/plain": "                                                 title             author  \\\n0                           Attack on Titan: Volume 13     Hajime Isayama   \n1     Antiques Roadkill: A Trash 'n' Treasures Mystery      Barbara Allan   \n2                       The Art of Super Mario Odyssey           Nintendo   \n3       Getting Away Is Deadly: An Ellie Avery Mystery        Sara Rosett   \n4            The Painted Man (The Demon Cycle, Book 1)     Peter V. Brett   \n..                                                 ...                ...   \n943  The Essentials of Finance and Accounting for N...      Edward Fields   \n944                          The Magic of Thinking Big  David J. Schwartz   \n945  Twas The Nightshift Before Christmas: Festive ...           Adam Kay   \n946  Why We Sleep: The New Science of Sleep and Dreams     Matthew Walker   \n947           W is for Wasted: A Kinsey Millhone Novel        Sue Grafton   \n\n     rating voters   price currency  \\\n0       4.6    428   43.28      SAR   \n1       3.3     23   26.15      SAR   \n2       3.9      9  133.85      SAR   \n3       4.0     10   26.15      SAR   \n4       4.5    577   28.54      SAR   \n..      ...    ...     ...      ...   \n943     NaN    NaN   58.99      SAR   \n944     4.6    244   66.87      SAR   \n945     4.7     47   41.82      SAR   \n946     4.8     52   46.85      SAR   \n947     4.3    206   39.34      SAR   \n\n                                           description  \\\n0    NO SAFE PLACE LEFT At great cost to the Garris...   \n1    Determined to make a new start in her quaint h...   \n2    Take a globetrotting journey all over the worl...   \n3    With swollen feet and swelling belly, pregnant...   \n4    The stunning debut fantasy novel from author P...   \n..                                                 ...   \n943  Based on the bestselling AMA seminar, a nuts-a...   \n944  The timeless and practical advice in The Magic...   \n945  A short gift book of festive hospital diaries ...   \n946  'Astonishing ... an amazing book ... absolutel...   \n947  Private investigator Kinsey Millhone finds sho...   \n\n                       publisher  page_count  \\\n0                Kodansha Comics         192   \n1    Kensington Publishing Corp.         288   \n2              Dark Horse Comics         368   \n3    Kensington Publishing Corp.         320   \n4               HarperCollins UK         544   \n..                           ...         ...   \n943                       AMACOM         320   \n944                      Penguin         256   \n945                Pan Macmillan         112   \n946                   Penguin UK         368   \n947                      Penguin         448   \n\n                                               generes           ISBN  \\\n0                                                 none  9781612626864   \n1    Fiction , Mystery &amp, Detective , Cozy , Gen...  9780758272799   \n2      Games &amp, Activities , Video &amp, Electronic  9781506713816   \n3                                                 none  9781617734076   \n4                     Fiction , Fantasy , Dark Fantasy  9780007287758   \n..                                                 ...            ...   \n943    Business &amp, Economics , Accounting , General  9780814416259   \n944          Self-Help , Personal Growth , Self-Esteem  9780698198586   \n945                     Medical , Health Care Delivery  9781529018592   \n946  Psychology , Cognitive Psychology &amp, Cognition  9780141983776   \n947                     Fiction , Thrillers , Suspense  9781101636459   \n\n    language published_date  lower_age  upper_age  \n0    English   Jul 31, 2014         16         20  \n1    English    Jul 1, 2007         16         20  \n2    English    Nov 5, 2019         16         20  \n3    English    Mar 1, 2009         16         20  \n4    English    Jan 8, 2009         16         20  \n..       ...            ...        ...        ...  \n943  English   Mar 15, 2011         16         20  \n944  English    Dec 2, 2014         16         20  \n945  English   Oct 17, 2019         16         20  \n946  English   Sep 28, 2017         16         20  \n947  English   Sep 10, 2013         16         20  \n\n[948 rows x 15 columns]",
      "text/html": "<div>\n<style scoped>\n    .dataframe tbody tr th:only-of-type {\n        vertical-align: middle;\n    }\n\n    .dataframe tbody tr th {\n        vertical-align: top;\n    }\n\n    .dataframe thead th {\n        text-align: right;\n    }\n</style>\n<table border=\"1\" class=\"dataframe\">\n  <thead>\n    <tr style=\"text-align: right;\">\n      <th></th>\n      <th>title</th>\n      <th>author</th>\n      <th>rating</th>\n      <th>voters</th>\n      <th>price</th>\n      <th>currency</th>\n      <th>description</th>\n      <th>publisher</th>\n      <th>page_count</th>\n      <th>generes</th>\n      <th>ISBN</th>\n      <th>language</th>\n      <th>published_date</th>\n      <th>lower_age</th>\n      <th>upper_age</th>\n    </tr>\n  </thead>\n  <tbody>\n    <tr>\n      <th>0</th>\n      <td>Attack on Titan: Volume 13</td>\n      <td>Hajime Isayama</td>\n      <td>4.6</td>\n      <td>428</td>\n      <td>43.28</td>\n      <td>SAR</td>\n      <td>NO SAFE PLACE LEFT At great cost to the Garris...</td>\n      <td>Kodansha Comics</td>\n      <td>192</td>\n      <td>none</td>\n      <td>9781612626864</td>\n      <td>English</td>\n      <td>Jul 31, 2014</td>\n      <td>16</td>\n      <td>20</td>\n    </tr>\n    <tr>\n      <th>1</th>\n      <td>Antiques Roadkill: A Trash 'n' Treasures Mystery</td>\n      <td>Barbara Allan</td>\n      <td>3.3</td>\n      <td>23</td>\n      <td>26.15</td>\n      <td>SAR</td>\n      <td>Determined to make a new start in her quaint h...</td>\n      <td>Kensington Publishing Corp.</td>\n      <td>288</td>\n      <td>Fiction , Mystery &amp;amp, Detective , Cozy , Gen...</td>\n      <td>9780758272799</td>\n      <td>English</td>\n      <td>Jul 1, 2007</td>\n      <td>16</td>\n      <td>20</td>\n    </tr>\n    <tr>\n      <th>2</th>\n      <td>The Art of Super Mario Odyssey</td>\n      <td>Nintendo</td>\n      <td>3.9</td>\n      <td>9</td>\n      <td>133.85</td>\n      <td>SAR</td>\n      <td>Take a globetrotting journey all over the worl...</td>\n      <td>Dark Horse Comics</td>\n      <td>368</td>\n      <td>Games &amp;amp, Activities , Video &amp;amp, Electronic</td>\n      <td>9781506713816</td>\n      <td>English</td>\n      <td>Nov 5, 2019</td>\n      <td>16</td>\n      <td>20</td>\n    </tr>\n    <tr>\n      <th>3</th>\n      <td>Getting Away Is Deadly: An Ellie Avery Mystery</td>\n      <td>Sara Rosett</td>\n      <td>4.0</td>\n      <td>10</td>\n      <td>26.15</td>\n      <td>SAR</td>\n      <td>With swollen feet and swelling belly, pregnant...</td>\n      <td>Kensington Publishing Corp.</td>\n      <td>320</td>\n      <td>none</td>\n      <td>9781617734076</td>\n      <td>English</td>\n      <td>Mar 1, 2009</td>\n      <td>16</td>\n      <td>20</td>\n    </tr>\n    <tr>\n      <th>4</th>\n      <td>The Painted Man (The Demon Cycle, Book 1)</td>\n      <td>Peter V. Brett</td>\n      <td>4.5</td>\n      <td>577</td>\n      <td>28.54</td>\n      <td>SAR</td>\n      <td>The stunning debut fantasy novel from author P...</td>\n      <td>HarperCollins UK</td>\n      <td>544</td>\n      <td>Fiction , Fantasy , Dark Fantasy</td>\n      <td>9780007287758</td>\n      <td>English</td>\n      <td>Jan 8, 2009</td>\n      <td>16</td>\n      <td>20</td>\n    </tr>\n    <tr>\n      <th>...</th>\n      <td>...</td>\n      <td>...</td>\n      <td>...</td>\n      <td>...</td>\n      <td>...</td>\n      <td>...</td>\n      <td>...</td>\n      <td>...</td>\n      <td>...</td>\n      <td>...</td>\n      <td>...</td>\n      <td>...</td>\n      <td>...</td>\n      <td>...</td>\n      <td>...</td>\n    </tr>\n    <tr>\n      <th>943</th>\n      <td>The Essentials of Finance and Accounting for N...</td>\n      <td>Edward Fields</td>\n      <td>NaN</td>\n      <td>NaN</td>\n      <td>58.99</td>\n      <td>SAR</td>\n      <td>Based on the bestselling AMA seminar, a nuts-a...</td>\n      <td>AMACOM</td>\n      <td>320</td>\n      <td>Business &amp;amp, Economics , Accounting , General</td>\n      <td>9780814416259</td>\n      <td>English</td>\n      <td>Mar 15, 2011</td>\n      <td>16</td>\n      <td>20</td>\n    </tr>\n    <tr>\n      <th>944</th>\n      <td>The Magic of Thinking Big</td>\n      <td>David J. Schwartz</td>\n      <td>4.6</td>\n      <td>244</td>\n      <td>66.87</td>\n      <td>SAR</td>\n      <td>The timeless and practical advice in The Magic...</td>\n      <td>Penguin</td>\n      <td>256</td>\n      <td>Self-Help , Personal Growth , Self-Esteem</td>\n      <td>9780698198586</td>\n      <td>English</td>\n      <td>Dec 2, 2014</td>\n      <td>16</td>\n      <td>20</td>\n    </tr>\n    <tr>\n      <th>945</th>\n      <td>Twas The Nightshift Before Christmas: Festive ...</td>\n      <td>Adam Kay</td>\n      <td>4.7</td>\n      <td>47</td>\n      <td>41.82</td>\n      <td>SAR</td>\n      <td>A short gift book of festive hospital diaries ...</td>\n      <td>Pan Macmillan</td>\n      <td>112</td>\n      <td>Medical , Health Care Delivery</td>\n      <td>9781529018592</td>\n      <td>English</td>\n      <td>Oct 17, 2019</td>\n      <td>16</td>\n      <td>20</td>\n    </tr>\n    <tr>\n      <th>946</th>\n      <td>Why We Sleep: The New Science of Sleep and Dreams</td>\n      <td>Matthew Walker</td>\n      <td>4.8</td>\n      <td>52</td>\n      <td>46.85</td>\n      <td>SAR</td>\n      <td>'Astonishing ... an amazing book ... absolutel...</td>\n      <td>Penguin UK</td>\n      <td>368</td>\n      <td>Psychology , Cognitive Psychology &amp;amp, Cognition</td>\n      <td>9780141983776</td>\n      <td>English</td>\n      <td>Sep 28, 2017</td>\n      <td>16</td>\n      <td>20</td>\n    </tr>\n    <tr>\n      <th>947</th>\n      <td>W is for Wasted: A Kinsey Millhone Novel</td>\n      <td>Sue Grafton</td>\n      <td>4.3</td>\n      <td>206</td>\n      <td>39.34</td>\n      <td>SAR</td>\n      <td>Private investigator Kinsey Millhone finds sho...</td>\n      <td>Penguin</td>\n      <td>448</td>\n      <td>Fiction , Thrillers , Suspense</td>\n      <td>9781101636459</td>\n      <td>English</td>\n      <td>Sep 10, 2013</td>\n      <td>16</td>\n      <td>20</td>\n    </tr>\n  </tbody>\n</table>\n<p>948 rows × 15 columns</p>\n</div>"
     },
     "metadata": {}
    }
   ]
  },
  {
   "cell_type": "code",
   "metadata": {
    "cell_id": "6733b3d579984f2280e88066e29ac3eb",
    "tags": [],
    "deepnote_to_be_reexecuted": false,
    "source_hash": "ca08e19e",
    "execution_start": 1656126189254,
    "execution_millis": 120,
    "deepnote_table_state": {
     "pageSize": 10,
     "pageIndex": 0,
     "filters": [],
     "sortBy": [
      {
       "id": "Inerest_age",
       "type": "desc"
      }
     ]
    },
    "deepnote_table_loading": false,
    "deepnote_table_invalid": false,
    "deepnote_cell_type": "code",
    "deepnote_cell_height": 668
   },
   "source": "child_books = pd.read_csv(\"children_books.csv\")\nchild_books.drop_duplicates(keep='first', inplace=True, ignore_index=True)\nchild_books.head(5000)",
   "execution_count": 4,
   "outputs": [
    {
     "output_type": "execute_result",
     "execution_count": 4,
     "data": {
      "application/vnd.deepnote.dataframe.v3+json": {
       "column_count": 5,
       "row_count": 41,
       "columns": [
        {
         "name": "Title",
         "dtype": "object",
         "stats": {
          "unique_count": 41,
          "nan_count": 0,
          "categories": [
           {
            "name": "Don't Pick on Me!",
            "count": 1
           },
           {
            "name": "The Complete Calvin and Hobbes",
            "count": 1
           },
           {
            "name": "39 others",
            "count": 39
           }
          ]
         }
        },
        {
         "name": "Author",
         "dtype": "object",
         "stats": {
          "unique_count": 39,
          "nan_count": 2,
          "categories": [
           {
            "name": "Rosemary Stones",
            "count": 1
           },
           {
            "name": "38 others",
            "count": 38
           },
           {
            "name": "Missing",
            "count": 2
           }
          ]
         }
        },
        {
         "name": "Desc",
         "dtype": "object",
         "stats": {
          "unique_count": 41,
          "nan_count": 0,
          "categories": [
           {
            "name": "Practical advice for children on how to handle bullying. Jane's class think that wearing the 'right' label clothing is very important, and her classmates start to make fun of her: 'What a fleabag!', 'Where did you get that coat - the Oxfam shop?' Jane wishes she didn't have to go to school; she is beginning to dread each new day. Michael isn't good at football. The other boys make fun of him, banging into him 'accidentally' and tripping him up when the games teacher isn't looking. Michael's mum wonders why he's always covered in bruises, but Michael won't say.Bullying encompasses many things: being called names, being beaten up, having your bus fare stolen, being made to feel stupid... It's always horrible. Almost everyone gets bullied at some point in their life; often it happens at school. But you don't have to accept being bullied, and if you're a bully, you can learn to stop. This book explores why some people bully, why others are bullied and what you can do to change things.",
            "count": 1
           },
           {
            "name": "The comic-strip adventures of Calvin, a naughty boy with a philosophical bent, and his soft toy tiger companion Hobbes, delighted readers from 1985 to 1995. The huge achievement of the comic's creator Bill Watterson is celebrated here in this wonderful cloth-bound three-volume box set, which contains in chronological order every Calvin and Hobbes strip.  For those who have never experienced the sheer delight of Watterson's creation, here is a brief summary: Calvin is an active and imaginative little boy; his friend Hobbes appears as a stuffed tiger when other people are around, but when the two of them are alone he comes to life and is Calvin's friend and playmate. They live with Calvin's long-suffering parents, who have to cope with his turbulent behaviour.  The charm of the strip is multi-faceted. On the one hand, Calvin is a typical six-year-old with a vivid imagination: one minute he is fearless intergalactic traveller Spaceman Spiff, crash-landing on a hostile planet, the next he is a fearsome T-Rex stalking his victim through the Jurassic jungle. He is in thrall to consumerism, hates school, loves making gruesome snowmen, and plays Calvinball, an anarchic game of ever-changing rules.  Yet he is also given to philosophising about the big issues of life, ably supported or gently undermined by Hobbes's quietly caustic asides (the tiger's name is no coincidence). Here is an outlet for Watterson's deeply-held views about the craziness of the modern world; indeed, the artist himself has always shunned publicity.  The strip is also enhanced by its strong cast of supporting characters. Mrs Wormwood the teacher looms over Calvin when he not paying attention; the school bully (who calls Calvin Twinky) is always on hand to 'pound' him; Susie, the little girl from down the road, often gets her own back on her snowball-throwing nemesis.  Calvin's dad is a particularly funny creation: long-suffering, anti-media, and a proponent of fresh air, he also manages to get his revenge on his manic son by tying him up in mental knots with spurious bits of information (for example, he tells Calvin that old photographs are black and white because the world comprised only those colours in the past).  All these ingredients would, in the right hands, combine to make a perfectly good comic strip, but what always put Calvin and Hobbes ahead of the competition was the sheer artistry of Watterson's illustrations. In this regard, the chronological arrangement of the strips usefully shows Watterson's increasingly sophisticated technique, from his drawings of desert canyons and hideous inhabitants of alien planets, to the facial expressions of all his characters.  It is hard to deny that Watterson owes a debt to Charles Schulz, whose Peanuts strip also offered a sophisticated yet deceptively simple evocation of the inner lives of children. For Calvin and Hobbes, however, Watterson combined uncanny ability, more than a touch of surrealism and a huge dose of humour to distil the essence of late-twentieth-century childhood, thereby elevating his strip into a league of its own.",
            "count": 1
           },
           {
            "name": "39 others",
            "count": 39
           }
          ]
         }
        },
        {
         "name": "Inerest_age",
         "dtype": "object",
         "stats": {
          "unique_count": 12,
          "nan_count": 0,
          "categories": [
           {
            "name": "13+ ",
            "count": 11
           },
           {
            "name": "12+ ",
            "count": 8
           },
           {
            "name": "10 others",
            "count": 22
           }
          ]
         }
        },
        {
         "name": "Reading_age",
         "dtype": "object",
         "stats": {
          "unique_count": 10,
          "nan_count": 0,
          "categories": [
           {
            "name": "12+                               ",
            "count": 9
           },
           {
            "name": "11+                               ",
            "count": 8
           },
           {
            "name": "8 others",
            "count": 24
           }
          ]
         }
        },
        {
         "name": "_deepnote_index_column",
         "dtype": "int64"
        }
       ],
       "rows": [
        {
         "Title": "Don't Pick on Me!",
         "Author": "Rosemary Stones",
         "Desc": "Practical advice for children on how to handle bullying. Jane's class think that wearing the 'right' label clothing is very important, and her classmates start to make fun of her: 'What a fleabag!', 'Where did you get that coat - the Oxfam shop?' Jane wishes she didn't have to go to school; she is beginning to dread each new day. Michael isn't good at football. The other boys make fun of him, banging into him 'accidentally' and tripping him up when the games teacher isn't looking. Michael's mum wonders why he's always covered in bruises, but Michael won't say.Bullying encompasses many things: being called names, being beaten up, having your bus fare stolen, being made to feel stupid... It's always horrible. Almost everyone gets bullied at some point in their life; often it happens at school. But you don't have to accept being bullied, and if you're a bully, you can learn to stop. This book explores why some people bully, why others are bullied and what you can do to change things.",
         "Inerest_age": "9+ ",
         "Reading_age": "9+                               ",
         "_deepnote_index_column": 25
        },
        {
         "Title": "The Complete Calvin and Hobbes",
         "Author": "nan",
         "Desc": "The comic-strip adventures of Calvin, a naughty boy with a philosophical bent, and his soft toy tiger companion Hobbes, delighted readers from 1985 to 1995. The huge achievement of the comic's creator Bill Watterson is celebrated here in this wonderful cloth-bound three-volume box set, which contains in chronological order every Calvin and Hobbes strip.  For those who have never experienced the sheer delight of Watterson's creation, here is a brief summary: Calvin is an active and imaginative little boy; his friend Hobbes appears as a stuffed tiger when other people are around, but when the two of them are alone he comes to life and is Calvin's friend and playmate. They live with Calvin's long-suffering parents, who have to cope with his turbulent behaviour.  The charm of the strip is multi-faceted. On the one hand, Calvin is a typical six-year-old with a vivid imagination: one minute he is fearless intergalactic traveller Spaceman Spiff, crash-landing on a hostile planet, the next he…",
         "Inerest_age": "9+ ",
         "Reading_age": "8+                               ",
         "_deepnote_index_column": 24
        },
        {
         "Title": "Pop-Up Frankenstein",
         "Author": "Claire Hawcock (adapted from Mary Shelley) Illustrator: Anthony Williams (Art) Rob Taylor (colour) and David Hawcock (Pop-ups)\n",
         "Desc": "Frankenstein tells the story of a privileged and self-absorbed young man whose arrogant obsession leads him to create a monstrous version of a human being.\nFrankenstein abandons the physically grotesque creature he has created, leaving it to be reviled and rejected by mankind. As a consequence, its gentle nature is twisted and distorted until it becomes a veritable monster, wreaking havoc and bringing death and destruction in its wake.\nThis remarkable new version blends the finest contemporary illustration, dramatic storytelling and superb paper engineering. A combination of comic strip detail and stunning pop-ups on every spread bring each moment of the story to life, from the monster's creation to his dramatic demise.",
         "Inerest_age": "9+ ",
         "Reading_age": "9+                               ",
         "_deepnote_index_column": 22
        },
        {
         "Title": "The Song from Somewhere Else",
         "Author": "AF Harrold\nIllustrator: Levi Pinfold",
         "Desc": "Frank is being bullied - for what, she's not sure. Being smart? Being different, perhaps. One day, after the bullies throw her bag in the middle of a huge patch of stinging nettles, Nick Underbridge comes to her aid - a strange boy that everyone makes fun of at school for his hugeness and odd, unidentifiable smell. \nAs Frank and Nick become friends, Frank discovers something strange and wonderful in Nick's basement - and an explanation for what holds him apart from the others at school.\nA sometimes sad and sometimes wry tale of bullying and fitting in, The Song From Somewhere Else is also a magical tale about how - sometimes - people might feel alien to us, but that families are universal, whoever you are.\nLevi Pinfold's stunning, intricate and moody illustrations add an extra layer of atmosphere to this heartfelt and beautifully strange story.\nWinner of the Kate Greenaway Amnesty CLIP Honour in 2018.",
         "Inerest_age": "8+ ",
         "Reading_age": "8+                               ",
         "_deepnote_index_column": 16
        },
        {
         "Title": "Rules for a Knight",
         "Author": "Ethan Hawke Illustrator: Ryan Hawke",
         "Desc": "On the eve of battle, Sir Thomas Lemuel Hawke of Cornwall writes a letter to his children. It is a guide on how to live well, like a knight: staying wise, humble, courageous, loving and kind.\nHawke has tried to make this book look as authentic as possible. The cover stands out with a gold-embossed leaf. Inside, an editor’s note talks about the discovery of the ‘historical’ letter, confirming Sir Thomas's death at the Battle of Slaughter Bridge in 1483.It all gives the book an important and timeless feel. Hawke has a way with a sentence, and many of the sections read like note-perfect proverbs. There are also some lovely, tender scenes with the grandfather. It can be a little dense at times, so children may want to dip in and out of the short, standalone chapters. But the book is pitched in such a way that they can get new meaning from it as they grow into teenagers and young adults.",
         "Inerest_age": "7+ ",
         "Reading_age": "10+                               ",
         "_deepnote_index_column": 27
        },
        {
         "Title": "The Sin Eater's Daughter",
         "Author": "Melinda Salisbury",
         "Desc": "Seventeen-year-old Twylla lives in the castle and is betrothed to the prince, but she isn't a princess or a member of court. Twylla is the court executioner. As the Goddess embodied, she can kill with a single touch. Only the prince, with his royal blood, is immune to her touch, but even he avoids her. Then a new guard arrives, one with an easy smile that belies his deadly swordsmanship. He sees past the executioner robes to the girl beneath, and a friendship blossoms between him and Twylla, a friendship that could be more if Twylla wasn't promised to the prince. But her romantic problems are trivial when she discovers the mad plan that the power-hungry and vicious queen is plotting. As everything begins to spiral out of control, Twylla has to decide who she trusts, who she loves, and what she is willing to do for her kingdom.\nThe Sin Eater's Daughter is a truly original fantasy set in a richly imagined world full of complex and complicated characters. The world is multi-layered and S…",
         "Inerest_age": "14+ ",
         "Reading_age": "14+                               ",
         "_deepnote_index_column": 13
        },
        {
         "Title": "Dark Inside",
         "Author": "Jeyn Roberts",
         "Desc": "After a huge earthquake strikes every continent on Earth, strange things start happening and people begin behaving very oddly. Aries survives a bus crash, while Clementine barely escapes the horror of a town massacre. While Mason is in hospital at his dying mother’s bedside his school is destroyed and all his friends killed, whilst Michael’s experience of a road rage incident leaves him reeling... These four survivors soon realise they must draw on all their resources to fight an unknown evil taking over their world.This is the story of four teenagers and their struggle to survive in a post-apocalyptic world. Dark and disturbing yet exciting, it reveals real humanity and emotion, as the relationships between the young people are tested to the limit. A readable and refreshing take on the zombie genre.",
         "Inerest_age": "14+ ",
         "Reading_age": "10+                               ",
         "_deepnote_index_column": 6
        },
        {
         "Title": "Holding Up the Universe",
         "Author": "Jennifer Niven",
         "Desc": "Jennifer Niven's deeply compelling and highly successful first teen novel All The Bright Places was very much for an older audience with its themes of depression and suicide. Her new book Holding Up the Universe is suitable for younger teens as well - and just as powerfully written.\nThe book is narrated in turns by Libby, famous for once being 'America's Fattest Teen' and starting high school after years of being home schooled, and Jack, who seems to be one of the popular kids but secretly suffers from Prospagnosia - the inability to recognise the faces of familiar people even those in this own family which is often called 'face blindness'. Their worlds collide in a horribly cruel high school game and an unlikely friendship is formed that leads to something even deeper.\nJennifer Niven is a gorgeous writer. Her characters Libby and Jack feel so real that it's almost impossible to believe they don't live and breathe. The author herself struggled with weight issues and anxiety over the y…",
         "Inerest_age": "14+ ",
         "Reading_age": "12+                               ",
         "_deepnote_index_column": 21
        },
        {
         "Title": "The Changes Trilogy",
         "Author": "Peter Dickinson",
         "Desc": "Gripped by a strange fear, England closes its doors to the outside world. In a tunnel beneath Wales one man opens a crack in a mysterious stone wall, and all over the island of Britain people react with horror to perfectly normal machines. Abandoning their cars on the roads and destroying their own factories, many flee the cities for the countryside, where they return to farming and an old-fashioned life. When families are split apart and grown-ups forget how they used to live, young people face unexpected challenges.\nA classic in the teen sci-fi genre, perfect for those who have read all the contemporary YA dystopian novels and want to see where it all began.",
         "Inerest_age": "14+ ",
         "Reading_age": "13+                               ",
         "_deepnote_index_column": 18
        },
        {
         "Title": "Jimmy Corrigan:",
         "Author": "Chris Ware",
         "Desc": "This extraordinary graphic novel is so obviously a labour of love that the reader can only marvel at the energy that has been expended in its creation.  Although the two plots that make up the book are essentially simple, the care with which Ware has executed them gives them an almost mythic quality. Jimmy Corrigan is a lonely, single, thirty-something with a boring job in an office cubicle, and a domineering mother who, in spite of living in a nursing home, is never far from the telephone or Jimmy. His crippling shyness renders him incapable of even saying hello to Peggy, the woman who works at an adjacent desk. When the father he has never known sends him an invitation and a plane ticket, Jimmy feels compelled to fly out to meet him.  Jimmy's (by and large disastrous) trip is mirrored by the boyhood tale of his grandfather, James, whose relationship with his father is tainted by unhappiness. (It's not as confusing as it sounds.) Young James's mother has died, leaving his father with…",
         "Inerest_age": "14+ ",
         "Reading_age": "14+                               ",
         "_deepnote_index_column": 33
        }
       ]
      },
      "text/plain": "                             Title  \\\n0      The Girl Who Drank the Moon   \n1                  Time Between Us   \n2                Girl Out of Water   \n3                          Captive   \n4              The School of Music   \n5                The Crystal Stair   \n6                      Dark Inside   \n7                      Kite Spirit   \n8             I Capture the Castle   \n9                           Butter   \n10                    Dead Jealous   \n11                 A Flash of Blue   \n12                 Jet Black Heart   \n13        The Sin Eater's Daughter   \n14   King Lear - Manga Shakespeare   \n15                    Frankenstein   \n16    The Song from Somewhere Else   \n17       Amy & Roger's Epic Detour   \n18             The Changes Trilogy   \n19  The Train to Impossible Places   \n20                    Half Brother   \n21         Holding Up the Universe   \n22             Pop-Up Frankenstein   \n23                 Mister Creecher   \n24  The Complete Calvin and Hobbes   \n25               Don't Pick on Me!   \n26              Five Hundred Miles   \n27              Rules for a Knight   \n28                 Paper Avalanche   \n29                     Ghost World   \n30                        Invictus   \n31            The Name of the Star   \n32      Spy for the Queen of Scots   \n33                 Jimmy Corrigan:   \n34                The Martian Girl   \n35                 Buffalo Soldier   \n36                     Witchstruck   \n37                         Flyaway   \n38         Etiquette and Espionage   \n39           The Sky is Everywhere   \n40                     Glass Sword   \n\n                                               Author  \\\n0                                      Kelly Barnhill   \n1                                Tamara Ireland Stone   \n2                                       Nat Luurtsema   \n3                                        A J Grainger   \n4   Rachel Bowen and Meurig Bowen Illustrator: Dan...   \n5                                    Catherine Fisher   \n6                                        Jeyn Roberts   \n7                                    Sita Brahmachari   \n8                                         Dodie Smith   \n9                                     Erin Jade Lange   \n10                                       Sharon Jones   \n11                                       Maria Farrer   \n12                                      Teresa Flavin   \n13                                  Melinda Salisbury   \n14                                William Shakespeare   \n15                                       Mary Shelley   \n16              AF Harrold\\nIllustrator: Levi Pinfold   \n17                                      Morgan Matson   \n18                                    Peter Dickinson   \n19           P.G. Bell Illustrator: Flavia Sorrentino   \n20                                      Kenneth Oppel   \n21                                     Jennifer Niven   \n22  Claire Hawcock (adapted from Mary Shelley) Ill...   \n23                                    Chris Priestley   \n24                                                NaN   \n25                                    Rosemary Stones   \n26                                       Kevin Brooks   \n27                Ethan Hawke Illustrator: Ryan Hawke   \n28                                    Lisa Williamson   \n29                                      Daniel Clowes   \n30                                       Ryan Graudin   \n31                                    Maureen Johnson   \n32                                    Theresa Breslin   \n33                                         Chris Ware   \n34                                                NaN   \n35                                      Tanya Landman   \n36                                      Victoria Lamb   \n37                                   Lucy Christopher   \n38                                      Gail Carriger   \n39                                       Jandy Nelson   \n40                                   Victoria Aveyard   \n\n                                                 Desc Inerest_age  \\\n0   Every year, the evil Protectorate offers a bab...      10-14    \n1   Sixteen-year-old Anna is struggling to underst...        13+    \n2   Lou Brown's swimming ambitions sank without tr...      13-18    \n3   Robyn is scared. Ever since the attempted assa...        13+    \n4   Welcome to the School of Music. In charge is M...        10+    \n5   The Crystal Stair picks up after At the World’...        12+    \n6   After a huge earthquake strikes every continen...        14+    \n7   When her best friend Dawn commits suicide, Kit...        13+    \n8   Originally published in 1949, this delightful ...        12+    \n9   Isolated and bullied at school, with a dysfunc...        13+    \n10  When Poppy Sinclair finds the body of a young ...        13+    \n11  Since Amber's eighteen year old brother Liam d...      13-15    \n12  Dory is having a boring family holiday in a sm...        11+    \n13  Seventeen-year-old Twylla lives in the castle ...        14+    \n14  The story of Lear, the old chieftain, who divi...        11+    \n15  Obsessed with the idea of rivalling God and cr...        13+    \n16  Frank is being bullied - for what, she's not s...         8+    \n17  Amy Curry’s life is a disaster. Her father rec...        12+    \n18  Gripped by a strange fear, England closes its ...        14+    \n19  Suzy Smith is very surprised when a huge magic...      10-12    \n20  Oppel bases his first YA novel on projects in ...        11+    \n21  Jennifer Niven's deeply compelling and highly ...        14+    \n22  Frankenstein tells the story of a privileged a...         9+    \n23  Billy is a street urchin, pickpocket and petty...        12+    \n24  The comic-strip adventures of Calvin, a naught...         9+    \n25  Practical advice for children on how to handle...         9+    \n26  In the industrial wastelands of east London, t...        13+    \n27  On the eve of battle, Sir Thomas Lemuel Hawke ...         7+    \n28  Fourteen-year-old Ro Snow’s got a secret: her ...        12+    \n29  Daniel Clowes is able to tell brilliant storie...        13+    \n30  Farway Gaius McCarthy was born in the future, ...        11+    \n31  Louisiana teenager Rory is embarking on a new ...        13+    \n32  Beautiful young aristocrat Ginette, known as J...        12+    \n33  This extraordinary graphic novel is so obvious...        14+    \n34  Following on from the brilliant Lost on Mars, ...        10+    \n35  Plantation slave Charley Smith is eleven when ...        13+    \n36  The future Elizabeth I has been imprisoned by ...        12+    \n37  Isla embarks on an art project to make a flyin...        12+    \n38  Sophronia is horrified when her mother decides...        11+    \n39  Grief has turned Lennie's world upside down - ...        13+    \n40  Mare Barrow knows she is different. Her blood ...      13-18    \n\n                             Reading_age  \n0   10-14                                 \n1     12+                                 \n2     10+                                 \n3      13                                 \n4     10+                                 \n5      8+                                 \n6     10+                                 \n7     12+                                 \n8     12+                                 \n9     13+                                 \n10    13+                                 \n11    10+                                 \n12    11+                                 \n13    14+                                 \n14    11+                                 \n15    13+                                 \n16     8+                                 \n17    12+                                 \n18    13+                                 \n19  10-12                                 \n20     9+                                 \n21    12+                                 \n22     9+                                 \n23    11+                                 \n24     8+                                 \n25     9+                                 \n26     9+                                 \n27    10+                                 \n28    12+                                 \n29    13+                                 \n30    11+                                 \n31    13+                                 \n32    12+                                 \n33    14+                                 \n34    10+                                 \n35    11+                                 \n36    12+                                 \n37    11+                                 \n38    11+                                 \n39    12+                                 \n40    11+                                 ",
      "text/html": "<div>\n<style scoped>\n    .dataframe tbody tr th:only-of-type {\n        vertical-align: middle;\n    }\n\n    .dataframe tbody tr th {\n        vertical-align: top;\n    }\n\n    .dataframe thead th {\n        text-align: right;\n    }\n</style>\n<table border=\"1\" class=\"dataframe\">\n  <thead>\n    <tr style=\"text-align: right;\">\n      <th></th>\n      <th>Title</th>\n      <th>Author</th>\n      <th>Desc</th>\n      <th>Inerest_age</th>\n      <th>Reading_age</th>\n    </tr>\n  </thead>\n  <tbody>\n    <tr>\n      <th>0</th>\n      <td>The Girl Who Drank the Moon</td>\n      <td>Kelly Barnhill</td>\n      <td>Every year, the evil Protectorate offers a bab...</td>\n      <td>10-14</td>\n      <td>10-14</td>\n    </tr>\n    <tr>\n      <th>1</th>\n      <td>Time Between Us</td>\n      <td>Tamara Ireland Stone</td>\n      <td>Sixteen-year-old Anna is struggling to underst...</td>\n      <td>13+</td>\n      <td>12+</td>\n    </tr>\n    <tr>\n      <th>2</th>\n      <td>Girl Out of Water</td>\n      <td>Nat Luurtsema</td>\n      <td>Lou Brown's swimming ambitions sank without tr...</td>\n      <td>13-18</td>\n      <td>10+</td>\n    </tr>\n    <tr>\n      <th>3</th>\n      <td>Captive</td>\n      <td>A J Grainger</td>\n      <td>Robyn is scared. Ever since the attempted assa...</td>\n      <td>13+</td>\n      <td>13</td>\n    </tr>\n    <tr>\n      <th>4</th>\n      <td>The School of Music</td>\n      <td>Rachel Bowen and Meurig Bowen Illustrator: Dan...</td>\n      <td>Welcome to the School of Music. In charge is M...</td>\n      <td>10+</td>\n      <td>10+</td>\n    </tr>\n    <tr>\n      <th>5</th>\n      <td>The Crystal Stair</td>\n      <td>Catherine Fisher</td>\n      <td>The Crystal Stair picks up after At the World’...</td>\n      <td>12+</td>\n      <td>8+</td>\n    </tr>\n    <tr>\n      <th>6</th>\n      <td>Dark Inside</td>\n      <td>Jeyn Roberts</td>\n      <td>After a huge earthquake strikes every continen...</td>\n      <td>14+</td>\n      <td>10+</td>\n    </tr>\n    <tr>\n      <th>7</th>\n      <td>Kite Spirit</td>\n      <td>Sita Brahmachari</td>\n      <td>When her best friend Dawn commits suicide, Kit...</td>\n      <td>13+</td>\n      <td>12+</td>\n    </tr>\n    <tr>\n      <th>8</th>\n      <td>I Capture the Castle</td>\n      <td>Dodie Smith</td>\n      <td>Originally published in 1949, this delightful ...</td>\n      <td>12+</td>\n      <td>12+</td>\n    </tr>\n    <tr>\n      <th>9</th>\n      <td>Butter</td>\n      <td>Erin Jade Lange</td>\n      <td>Isolated and bullied at school, with a dysfunc...</td>\n      <td>13+</td>\n      <td>13+</td>\n    </tr>\n    <tr>\n      <th>10</th>\n      <td>Dead Jealous</td>\n      <td>Sharon Jones</td>\n      <td>When Poppy Sinclair finds the body of a young ...</td>\n      <td>13+</td>\n      <td>13+</td>\n    </tr>\n    <tr>\n      <th>11</th>\n      <td>A Flash of Blue</td>\n      <td>Maria Farrer</td>\n      <td>Since Amber's eighteen year old brother Liam d...</td>\n      <td>13-15</td>\n      <td>10+</td>\n    </tr>\n    <tr>\n      <th>12</th>\n      <td>Jet Black Heart</td>\n      <td>Teresa Flavin</td>\n      <td>Dory is having a boring family holiday in a sm...</td>\n      <td>11+</td>\n      <td>11+</td>\n    </tr>\n    <tr>\n      <th>13</th>\n      <td>The Sin Eater's Daughter</td>\n      <td>Melinda Salisbury</td>\n      <td>Seventeen-year-old Twylla lives in the castle ...</td>\n      <td>14+</td>\n      <td>14+</td>\n    </tr>\n    <tr>\n      <th>14</th>\n      <td>King Lear - Manga Shakespeare</td>\n      <td>William Shakespeare</td>\n      <td>The story of Lear, the old chieftain, who divi...</td>\n      <td>11+</td>\n      <td>11+</td>\n    </tr>\n    <tr>\n      <th>15</th>\n      <td>Frankenstein</td>\n      <td>Mary Shelley</td>\n      <td>Obsessed with the idea of rivalling God and cr...</td>\n      <td>13+</td>\n      <td>13+</td>\n    </tr>\n    <tr>\n      <th>16</th>\n      <td>The Song from Somewhere Else</td>\n      <td>AF Harrold\\nIllustrator: Levi Pinfold</td>\n      <td>Frank is being bullied - for what, she's not s...</td>\n      <td>8+</td>\n      <td>8+</td>\n    </tr>\n    <tr>\n      <th>17</th>\n      <td>Amy &amp; Roger's Epic Detour</td>\n      <td>Morgan Matson</td>\n      <td>Amy Curry’s life is a disaster. Her father rec...</td>\n      <td>12+</td>\n      <td>12+</td>\n    </tr>\n    <tr>\n      <th>18</th>\n      <td>The Changes Trilogy</td>\n      <td>Peter Dickinson</td>\n      <td>Gripped by a strange fear, England closes its ...</td>\n      <td>14+</td>\n      <td>13+</td>\n    </tr>\n    <tr>\n      <th>19</th>\n      <td>The Train to Impossible Places</td>\n      <td>P.G. Bell Illustrator: Flavia Sorrentino</td>\n      <td>Suzy Smith is very surprised when a huge magic...</td>\n      <td>10-12</td>\n      <td>10-12</td>\n    </tr>\n    <tr>\n      <th>20</th>\n      <td>Half Brother</td>\n      <td>Kenneth Oppel</td>\n      <td>Oppel bases his first YA novel on projects in ...</td>\n      <td>11+</td>\n      <td>9+</td>\n    </tr>\n    <tr>\n      <th>21</th>\n      <td>Holding Up the Universe</td>\n      <td>Jennifer Niven</td>\n      <td>Jennifer Niven's deeply compelling and highly ...</td>\n      <td>14+</td>\n      <td>12+</td>\n    </tr>\n    <tr>\n      <th>22</th>\n      <td>Pop-Up Frankenstein</td>\n      <td>Claire Hawcock (adapted from Mary Shelley) Ill...</td>\n      <td>Frankenstein tells the story of a privileged a...</td>\n      <td>9+</td>\n      <td>9+</td>\n    </tr>\n    <tr>\n      <th>23</th>\n      <td>Mister Creecher</td>\n      <td>Chris Priestley</td>\n      <td>Billy is a street urchin, pickpocket and petty...</td>\n      <td>12+</td>\n      <td>11+</td>\n    </tr>\n    <tr>\n      <th>24</th>\n      <td>The Complete Calvin and Hobbes</td>\n      <td>NaN</td>\n      <td>The comic-strip adventures of Calvin, a naught...</td>\n      <td>9+</td>\n      <td>8+</td>\n    </tr>\n    <tr>\n      <th>25</th>\n      <td>Don't Pick on Me!</td>\n      <td>Rosemary Stones</td>\n      <td>Practical advice for children on how to handle...</td>\n      <td>9+</td>\n      <td>9+</td>\n    </tr>\n    <tr>\n      <th>26</th>\n      <td>Five Hundred Miles</td>\n      <td>Kevin Brooks</td>\n      <td>In the industrial wastelands of east London, t...</td>\n      <td>13+</td>\n      <td>9+</td>\n    </tr>\n    <tr>\n      <th>27</th>\n      <td>Rules for a Knight</td>\n      <td>Ethan Hawke Illustrator: Ryan Hawke</td>\n      <td>On the eve of battle, Sir Thomas Lemuel Hawke ...</td>\n      <td>7+</td>\n      <td>10+</td>\n    </tr>\n    <tr>\n      <th>28</th>\n      <td>Paper Avalanche</td>\n      <td>Lisa Williamson</td>\n      <td>Fourteen-year-old Ro Snow’s got a secret: her ...</td>\n      <td>12+</td>\n      <td>12+</td>\n    </tr>\n    <tr>\n      <th>29</th>\n      <td>Ghost World</td>\n      <td>Daniel Clowes</td>\n      <td>Daniel Clowes is able to tell brilliant storie...</td>\n      <td>13+</td>\n      <td>13+</td>\n    </tr>\n    <tr>\n      <th>30</th>\n      <td>Invictus</td>\n      <td>Ryan Graudin</td>\n      <td>Farway Gaius McCarthy was born in the future, ...</td>\n      <td>11+</td>\n      <td>11+</td>\n    </tr>\n    <tr>\n      <th>31</th>\n      <td>The Name of the Star</td>\n      <td>Maureen Johnson</td>\n      <td>Louisiana teenager Rory is embarking on a new ...</td>\n      <td>13+</td>\n      <td>13+</td>\n    </tr>\n    <tr>\n      <th>32</th>\n      <td>Spy for the Queen of Scots</td>\n      <td>Theresa Breslin</td>\n      <td>Beautiful young aristocrat Ginette, known as J...</td>\n      <td>12+</td>\n      <td>12+</td>\n    </tr>\n    <tr>\n      <th>33</th>\n      <td>Jimmy Corrigan:</td>\n      <td>Chris Ware</td>\n      <td>This extraordinary graphic novel is so obvious...</td>\n      <td>14+</td>\n      <td>14+</td>\n    </tr>\n    <tr>\n      <th>34</th>\n      <td>The Martian Girl</td>\n      <td>NaN</td>\n      <td>Following on from the brilliant Lost on Mars, ...</td>\n      <td>10+</td>\n      <td>10+</td>\n    </tr>\n    <tr>\n      <th>35</th>\n      <td>Buffalo Soldier</td>\n      <td>Tanya Landman</td>\n      <td>Plantation slave Charley Smith is eleven when ...</td>\n      <td>13+</td>\n      <td>11+</td>\n    </tr>\n    <tr>\n      <th>36</th>\n      <td>Witchstruck</td>\n      <td>Victoria Lamb</td>\n      <td>The future Elizabeth I has been imprisoned by ...</td>\n      <td>12+</td>\n      <td>12+</td>\n    </tr>\n    <tr>\n      <th>37</th>\n      <td>Flyaway</td>\n      <td>Lucy Christopher</td>\n      <td>Isla embarks on an art project to make a flyin...</td>\n      <td>12+</td>\n      <td>11+</td>\n    </tr>\n    <tr>\n      <th>38</th>\n      <td>Etiquette and Espionage</td>\n      <td>Gail Carriger</td>\n      <td>Sophronia is horrified when her mother decides...</td>\n      <td>11+</td>\n      <td>11+</td>\n    </tr>\n    <tr>\n      <th>39</th>\n      <td>The Sky is Everywhere</td>\n      <td>Jandy Nelson</td>\n      <td>Grief has turned Lennie's world upside down - ...</td>\n      <td>13+</td>\n      <td>12+</td>\n    </tr>\n    <tr>\n      <th>40</th>\n      <td>Glass Sword</td>\n      <td>Victoria Aveyard</td>\n      <td>Mare Barrow knows she is different. Her blood ...</td>\n      <td>13-18</td>\n      <td>11+</td>\n    </tr>\n  </tbody>\n</table>\n</div>"
     },
     "metadata": {}
    }
   ]
  },
  {
   "cell_type": "code",
   "metadata": {
    "cell_id": "cd0873c21f164b7e80515646a40020c9",
    "tags": [],
    "deepnote_to_be_reexecuted": false,
    "source_hash": "8144a91d",
    "execution_start": 1656126189381,
    "execution_millis": 3,
    "deepnote_cell_type": "code",
    "deepnote_cell_height": 405
   },
   "source": "# we want to replace reading age with appr. age lim\n# new columns: upper_age, lower_age\nupper_age = []\nlower_age = []\nfor ind in child_books.index: \n    # print(child_books['Reading_age'][1][:2])\n    if '-' in child_books['Reading_age'][ind]:\n        lower, upper = child_books['Reading_age'][ind].split('-')\n        upper_age.append(int(upper))\n        lower_age.append(int(lower))\n    else: # + \n        lower = int(child_books['Reading_age'][ind][:2].strip(string.punctuation))\n        upper = int(lower+3) # manually set \n        upper_age.append(upper)\n        lower_age.append(lower)\n\n# add age columsn to child_books\nchild_books['lower_age'] = lower_age\nchild_books['upper_age'] = upper_age",
   "execution_count": 5,
   "outputs": []
  },
  {
   "cell_type": "code",
   "metadata": {
    "cell_id": "6deabae4eca244be8e2fd8d5ee2a889d",
    "tags": [],
    "deepnote_to_be_reexecuted": false,
    "source_hash": "542fb031",
    "execution_start": 1656126189428,
    "execution_millis": 0,
    "deepnote_cell_type": "code",
    "deepnote_cell_height": 531
   },
   "source": "child_stories = pd.read_csv('children_stories.Csv')\nchild_stories.drop_duplicates(keep='first', inplace=True, ignore_index=True)\nstory_upper = []\nstory_lower = []\n# Strip off age and split by -\nfor ind in child_stories.index:\n    age = child_stories['cats'][ind][4:]\n    if '-' in age:\n        lower, upper = age.split('-')\n        story_lower.append(int(lower))\n        story_upper.append(int(upper))\n    else: #+\n        try: \n            lower = int(age.strip(string.punctuation))\n            upper = lower + 3\n            story_lower.append(int(lower))\n            story_upper.append(int(upper))\n        except: # in this case we will default to 2-9 years (default)\n            story_lower.append(2)\n            story_upper.append(9)\n            \n# Add 2 columns to child_stories\nchild_stories['lower_age'] = story_lower\nchild_stories['upper_age'] = story_upper\n\n# child_stories['Author'] = [None for i in range(len(child_stories))]",
   "execution_count": 6,
   "outputs": []
  },
  {
   "cell_type": "code",
   "metadata": {
    "cell_id": "8ec85112316341b3a60fd58cc9f525c4",
    "tags": [],
    "deepnote_to_be_reexecuted": false,
    "source_hash": "dee61fc2",
    "execution_start": 1656126189429,
    "execution_millis": 0,
    "deepnote_table_state": {
     "pageSize": 10,
     "pageIndex": 0,
     "filters": [],
     "sortBy": [
      {
       "id": "upper_age",
       "type": "desc"
      }
     ]
    },
    "deepnote_table_loading": false,
    "deepnote_cell_type": "code",
    "deepnote_cell_height": 117
   },
   "source": "# child_books.head()\n# child_stories.head(2000)\n# We won't be using the 'Reading_age' column ",
   "execution_count": 7,
   "outputs": []
  },
  {
   "cell_type": "code",
   "metadata": {
    "cell_id": "5ad236ef4b114a6d981fb74e9ee2decc",
    "tags": [],
    "deepnote_to_be_reexecuted": false,
    "source_hash": "a92433e1",
    "execution_start": 1656126189429,
    "execution_millis": 4,
    "deepnote_cell_type": "code",
    "deepnote_cell_height": 175.75,
    "deepnote_output_heights": [
     78.765625
    ]
   },
   "source": "child_books.columns, child_stories.columns",
   "execution_count": 8,
   "outputs": [
    {
     "output_type": "execute_result",
     "execution_count": 8,
     "data": {
      "text/plain": "(Index(['Title', 'Author', 'Desc', 'Inerest_age', 'Reading_age', 'lower_age',\n        'upper_age'],\n       dtype='object'),\n Index(['names', 'cats', 'desc', 'lower_age', 'upper_age'], dtype='object'))"
     },
     "metadata": {}
    }
   ]
  },
  {
   "cell_type": "code",
   "metadata": {
    "cell_id": "196462c7153b44dda078a8efab38d596",
    "tags": [],
    "deepnote_to_be_reexecuted": false,
    "source_hash": "16400d6d",
    "execution_start": 1656126189438,
    "execution_millis": 3,
    "deepnote_table_state": {
     "pageSize": 10,
     "pageIndex": 46,
     "filters": [],
     "sortBy": []
    },
    "deepnote_table_loading": false,
    "deepnote_cell_type": "code",
    "deepnote_cell_height": 297
   },
   "source": "# is there a way to combine these two dataframes together? \n# we only need the title, upperage, lowerage, desc and author from each dataframe\ndf_1 = child_books.copy().drop(columns = ['Inerest_age', 'Reading_age'])\ndf_1['Type'] = 'Books'\ndf_1 = df_1.rename(columns = {'Title': 'title', 'Desc' : 'desc', 'Author':'author'})\n\ndf_2 = child_stories.copy().drop(columns = ['cats']) \ndf_2['Type'] = 'Stories'\ndf_2 = df_2.rename(columns = {'names': 'title', 'Author':'author'})\n\ndf_combined = pd.concat([df_1, df_2])\n# df_combined.value_counts('title')\n# df_combined",
   "execution_count": 9,
   "outputs": []
  },
  {
   "cell_type": "code",
   "metadata": {
    "cell_id": "6d065523515b48c39ba0dce529dfc284",
    "tags": [],
    "deepnote_to_be_reexecuted": false,
    "source_hash": "aedf537c",
    "execution_start": 1656126189448,
    "execution_millis": 3,
    "deepnote_cell_type": "code",
    "deepnote_cell_height": 225
   },
   "source": "# Rename columns of adv_reads \ntry: \n    adv_reads.drop(columns=['rating', 'voters','price','currency','publisher','page_count','generes','ISBN','language','published_date'], inplace=True)\nexcept:\n    pass\nadv_reads = adv_reads.rename(columns = {'description': 'desc'})\nadv_reads['Type'] = ['Books' for i in range(len(adv_reads))]\nadv_reads.fillna('', inplace=True)\n# adv_reads",
   "execution_count": 10,
   "outputs": []
  },
  {
   "cell_type": "code",
   "metadata": {
    "cell_id": "eced9de226544f93b8bdd79d482b8cf4",
    "tags": [],
    "deepnote_to_be_reexecuted": false,
    "source_hash": "10ffd341",
    "execution_start": 1656126189455,
    "execution_millis": 54,
    "deepnote_cell_type": "code",
    "deepnote_cell_height": 451
   },
   "source": "# get rid of numbers\ndf_combined['title_formatted'] = df_combined['title'].str.replace('\\d+', '')\ndf_combined['desc_formatted'] = df_combined['desc'].str.replace('\\d+', '')\nadv_reads['title_formatted'] = adv_reads['title'].str.replace('\\d+','')\nadv_reads['desc_formatted'] = adv_reads['desc'].str.replace('\\d+','')\n\n# make lowercase\ndf_combined['title_formatted'] = df_combined['title_formatted'].apply(str.lower)\ndf_combined['desc_formatted'] = df_combined['desc_formatted'].apply(str.lower)\nadv_reads['title_formatted'] = adv_reads['title_formatted'].apply(str.lower)\nadv_reads['desc_formatted'] = adv_reads['desc_formatted'].apply(str.lower)\n",
   "execution_count": 11,
   "outputs": [
    {
     "name": "stderr",
     "text": "<ipython-input-11-cecfd9b579cc>:2: FutureWarning: The default value of regex will change from True to False in a future version.\n  df_combined['title_formatted'] = df_combined['title'].str.replace('\\d+', '')\n<ipython-input-11-cecfd9b579cc>:3: FutureWarning: The default value of regex will change from True to False in a future version.\n  df_combined['desc_formatted'] = df_combined['desc'].str.replace('\\d+', '')\n<ipython-input-11-cecfd9b579cc>:4: FutureWarning: The default value of regex will change from True to False in a future version.\n  adv_reads['title_formatted'] = adv_reads['title'].str.replace('\\d+','')\n<ipython-input-11-cecfd9b579cc>:5: FutureWarning: The default value of regex will change from True to False in a future version.\n  adv_reads['desc_formatted'] = adv_reads['desc'].str.replace('\\d+','')\n",
     "output_type": "stream"
    }
   ]
  },
  {
   "cell_type": "code",
   "metadata": {
    "cell_id": "6829c78816f24daf89347438cfc37041",
    "tags": [],
    "deepnote_to_be_reexecuted": false,
    "source_hash": "177dce20",
    "execution_start": 1656126189512,
    "execution_millis": 2749,
    "deepnote_cell_type": "code",
    "deepnote_cell_height": 222.15625
   },
   "source": "# We can tokenize the words here to remove punctuation \n# Tokenize words \nnltk.download('punkt')\ndf_combined['title_desc'] = df_combined['title_formatted'].apply(word_tokenize) + df_combined['desc_formatted'].apply(word_tokenize)\nadv_reads['title_desc'] = adv_reads['title_formatted'].apply(word_tokenize) + adv_reads['desc_formatted'].apply(word_tokenize)\n# df_combined",
   "execution_count": 12,
   "outputs": [
    {
     "name": "stderr",
     "text": "[nltk_data] Downloading package punkt to /root/nltk_data...\n[nltk_data]   Unzipping tokenizers/punkt.zip.\n",
     "output_type": "stream"
    }
   ]
  },
  {
   "cell_type": "code",
   "metadata": {
    "cell_id": "651864a290264c1ebbad366e9e8fd54b",
    "tags": [],
    "deepnote_to_be_reexecuted": false,
    "source_hash": "54f0811",
    "execution_start": 1656126192265,
    "execution_millis": 44139,
    "deepnote_cell_type": "code",
    "deepnote_cell_height": 312.15625
   },
   "source": "# Remove stopwords\nnltk.download('stopwords')\ndef remove_stopwords(input1):\n    words = []\n    for word in input1:\n        if word not in stopwords.words('english'):\n            words.append(word)\n    return words\n\ndf_combined['title_desc'] =  df_combined['title_desc'].apply(remove_stopwords)\nadv_reads['title_desc'] =  adv_reads['title_desc'].apply(remove_stopwords)",
   "outputs": [
    {
     "name": "stderr",
     "text": "[nltk_data] Downloading package stopwords to /root/nltk_data...\n[nltk_data]   Unzipping corpora/stopwords.zip.\n",
     "output_type": "stream"
    }
   ],
   "execution_count": null
  },
  {
   "cell_type": "code",
   "metadata": {
    "cell_id": "956e647f53404a48bffef4f25060608b",
    "tags": [],
    "deepnote_to_be_reexecuted": true,
    "source_hash": "14dce115",
    "execution_start": 1656124012942,
    "execution_millis": 4616,
    "deepnote_cell_type": "code",
    "deepnote_cell_height": 298.328125
   },
   "source": "# Lemmatize \nnltk.download('wordnet')\nnltk.download('omw-1.4')\nlem = WordNetLemmatizer()\ndef lemma_wordnet(input):\n    return [lem.lemmatize(w) for w in input]\ndf_combined['title_desc'] = df_combined['title_desc'].apply(lemma_wordnet)\nadv_reads['title_desc'] = adv_reads['title_desc'].apply(lemma_wordnet)",
   "outputs": [
    {
     "name": "stderr",
     "text": "[nltk_data] Downloading package wordnet to /root/nltk_data...\n[nltk_data]   Unzipping corpora/wordnet.zip.\n[nltk_data] Downloading package omw-1.4 to /root/nltk_data...\n[nltk_data]   Unzipping corpora/omw-1.4.zip.\n",
     "output_type": "stream"
    }
   ],
   "execution_count": null
  },
  {
   "cell_type": "code",
   "metadata": {
    "cell_id": "a506439adbb34105b37a8a59798ecdd2",
    "tags": [],
    "deepnote_to_be_reexecuted": true,
    "source_hash": "c1369ce1",
    "execution_start": 1656124017580,
    "execution_millis": 2,
    "deepnote_cell_type": "code",
    "deepnote_cell_height": 189
   },
   "source": "# translate list to string\ndef join_text(input):\n    combined = ' '.join(input)\n    return combined\ndf_combined['title_desc_filtered']=df_combined['title_desc'].apply(join_text)\nadv_reads['title_desc_filtered']=adv_reads['title_desc'].apply(join_text)\n# adv_reads",
   "outputs": [],
   "execution_count": null
  },
  {
   "cell_type": "code",
   "source": "adv_reads['desc'][2]",
   "metadata": {
    "cell_id": "091a3e6f80f64b838d15940217a3dd6e",
    "tags": [],
    "deepnote_to_be_reexecuted": true,
    "source_hash": "8dad8152",
    "execution_start": 1656124017589,
    "execution_millis": 7,
    "deepnote_cell_type": "code",
    "deepnote_cell_height": 118.1875,
    "deepnote_output_heights": [
     21.1875
    ]
   },
   "outputs": [
    {
     "output_type": "execute_result",
     "execution_count": 16,
     "data": {
      "text/plain": "\"Take a globetrotting journey all over the world--and beyond!--with this companion art book to the hit video game for the Nintendo Switch(TM) system!\\n\\nIn October of 2017, Super Mario Odyssey(TM) took the gaming world by storm. Now, discover the art and expertise that went into creating one of Nintendo's best-loved games!\\n\\n This full-color volume clocks in at over 350 pages and features concept art, preliminary sketches, and notes from the development team, plus insight into some early ideas that didn't make it into the game itself! Explore the world of Super Mario Odyssey from every angle, including screen shots, marketing material, and more, to fully appreciate this captivating adventure\""
     },
     "metadata": {}
    }
   ],
   "execution_count": null
  },
  {
   "cell_type": "code",
   "metadata": {
    "cell_id": "82d17eb0dd9a4c0199629f1e0654bc62",
    "tags": [],
    "deepnote_to_be_reexecuted": true,
    "source_hash": "87157f90",
    "execution_start": 1656124017617,
    "execution_millis": 4,
    "deepnote_table_state": {
     "pageSize": 10,
     "pageIndex": 0,
     "filters": [],
     "sortBy": []
    },
    "deepnote_table_loading": false,
    "deepnote_cell_type": "code",
    "deepnote_cell_height": 168.15625
   },
   "source": "# Remove punctuation for clarity \ndf_combined['title_desc_filtered'] = df_combined['title_desc_filtered'].str.replace(r'[^\\w\\s]+', '')\n# df_combined",
   "outputs": [
    {
     "name": "stderr",
     "text": "<ipython-input-17-1c4badf68a31>:3: FutureWarning: The default value of regex will change from True to False in a future version.\n  df_combined['title_desc_filtered'] = df_combined['title_desc_filtered'].str.replace(r'[^\\w\\s]+', '')\n",
     "output_type": "stream"
    }
   ],
   "execution_count": null
  },
  {
   "cell_type": "code",
   "metadata": {
    "cell_id": "6a9b0cf15c2a44ff9c5a195402c78bfe",
    "deepnote_variable_name": "user_age",
    "deepnote_variable_value": "17",
    "deepnote_to_be_reexecuted": true,
    "source_hash": "5b29643f",
    "execution_start": 1656124017694,
    "execution_millis": 1,
    "deepnote_cell_type": "input-text"
   },
   "source": "user_age = '17'",
   "outputs": [],
   "execution_count": null
  },
  {
   "cell_type": "code",
   "metadata": {
    "cell_id": "c77087eecdb6473b95055c36b5000dea",
    "tags": [],
    "deepnote_to_be_reexecuted": true,
    "source_hash": "883ee17d",
    "execution_start": 1656124017696,
    "execution_millis": 1,
    "deepnote_table_state": {
     "pageSize": 10,
     "pageIndex": 0,
     "filters": [],
     "sortBy": []
    },
    "deepnote_table_loading": false,
    "deepnote_cell_type": "code",
    "deepnote_cell_height": 189
   },
   "source": "user_age = int(user_age)\nif int(user_age) >= 16: \n    df_16_plus = pd.concat([df_combined, adv_reads])\n    df_filter = df_16_plus[(df_16_plus['lower_age'] <= user_age) & (df_16_plus['upper_age'] >= user_age)]\nelse: \n    df_filter = df_combined[(df_combined['lower_age']<=user_age) & (df_combined['upper_age']>=user_age) ]\n# df_filter",
   "outputs": [],
   "execution_count": null
  },
  {
   "cell_type": "code",
   "metadata": {
    "cell_id": "a6e3f2eac091401a9efaa2b63a0df234",
    "tags": [],
    "deepnote_to_be_reexecuted": true,
    "source_hash": "396a05a8",
    "execution_start": 1656124017801,
    "execution_millis": 117,
    "deepnote_cell_type": "code",
    "deepnote_cell_height": 191
   },
   "source": "vectorizer = TfidfVectorizer(max_features=1800, lowercase=True, stop_words='english', ngram_range=(1,1)) #unigrams and bigrams\ntf_idf_output = vectorizer.fit_transform(df_filter['title_desc_filtered'])\nvocab = np.array(vectorizer.get_feature_names())\n# vocab",
   "outputs": [
    {
     "name": "stderr",
     "text": "/shared-libs/python3.9/py/lib/python3.9/site-packages/sklearn/utils/deprecation.py:87: FutureWarning: Function get_feature_names is deprecated; get_feature_names is deprecated in 1.0 and will be removed in 1.2. Please use get_feature_names_out instead.\n  warnings.warn(msg, category=FutureWarning)\n",
     "output_type": "stream"
    }
   ],
   "execution_count": null
  },
  {
   "cell_type": "code",
   "metadata": {
    "cell_id": "18fc63de9e21443791d59525b71c9f24",
    "deepnote_variable_name": "num_topics",
    "deepnote_variable_value": "25",
    "deepnote_to_be_reexecuted": true,
    "source_hash": "607eb360",
    "execution_start": 1656124017916,
    "execution_millis": 1,
    "deepnote_cell_type": "input-text"
   },
   "source": "num_topics = '25'",
   "outputs": [],
   "execution_count": null
  },
  {
   "cell_type": "code",
   "metadata": {
    "cell_id": "c2e1d302d818496b8f038d52f1302084",
    "tags": [],
    "deepnote_to_be_reexecuted": true,
    "source_hash": "f334514b",
    "execution_start": 1656124017927,
    "execution_millis": 2577,
    "deepnote_cell_type": "code",
    "deepnote_cell_height": 117
   },
   "source": "# Perform LDA \nnum_topics = int(num_topics) # can be changed \nlda = LatentDirichletAllocation(n_components=num_topics, random_state=1).fit(tf_idf_output)",
   "outputs": [],
   "execution_count": null
  },
  {
   "cell_type": "code",
   "metadata": {
    "cell_id": "6a6fc9eb7cda4c56a6c14573ac29acd2",
    "deepnote_variable_name": "num_top_words",
    "deepnote_variable_value": "15",
    "deepnote_to_be_reexecuted": true,
    "source_hash": "9bf19a22",
    "execution_start": 1656124020505,
    "execution_millis": 4,
    "deepnote_cell_type": "input-text"
   },
   "source": "num_top_words = '15'",
   "outputs": [],
   "execution_count": null
  },
  {
   "cell_type": "code",
   "metadata": {
    "cell_id": "08477ab16f0a471686fd8be670a773ec",
    "tags": [],
    "deepnote_to_be_reexecuted": true,
    "source_hash": "37e037f4",
    "execution_start": 1656124020552,
    "execution_millis": 0,
    "deepnote_cell_type": "code",
    "deepnote_cell_height": 243
   },
   "source": "num_top_words = int(num_top_words) # can be changed. Can also be generated from Cohere\n  \ntopics_set = []\n\n# draft that works\ndef display_topics(model, feature_names, no_top_words):\n    for topic_idx, topic in enumerate(model.components_):\n        topics_set.append(set([feature_names[i] for i in topic.argsort()[:-no_top_words - 1:-1]]))\n\ndisplay_topics(lda, vocab, num_top_words)",
   "outputs": [],
   "execution_count": null
  },
  {
   "cell_type": "code",
   "metadata": {
    "cell_id": "9b2f941ecc334cd48d5aef470b329996",
    "deepnote_variable_name": "user_phrase",
    "deepnote_variable_value": "small town murder that results in a court case from the victim",
    "deepnote_to_be_reexecuted": true,
    "source_hash": "74e63a45",
    "execution_start": 1656124020553,
    "execution_millis": 0,
    "deepnote_cell_type": "input-text"
   },
   "source": "user_phrase = 'small town murder that results in a court case from the victim'",
   "outputs": [],
   "execution_count": null
  },
  {
   "cell_type": "code",
   "source": "# word correct\nnltk.download('words')\nwords_corpus = words.words()\n\nuser_input_list = user_phrase.split()\nuser_input_list = [elem.strip(string.punctuation).lower() for elem in user_input_list]\n\ndef run_autocorrect(input_word): \n    closest_words = pq()\n    for word in words_corpus: \n        distance = editdistance.eval(word, input_word)\n        closest_words.put((distance, word))\n    return closest_words.get()\n\nnew_phrase_list = []\nfor elem in user_input_list: \n    if elem not in words_corpus: \n        correct_word = run_autocorrect(elem)\n        new_phrase_list.append(correct_word[1])\n    else: \n        new_phrase_list.append(elem)\n\nuser_phrase = \" \".join(new_phrase_list)\nuser_phrase",
   "metadata": {
    "cell_id": "901a0666ca3841aab1d091a0a6aa7625",
    "tags": [],
    "deepnote_to_be_reexecuted": true,
    "source_hash": "77305a39",
    "execution_start": 1656124020553,
    "execution_millis": 1915,
    "deepnote_cell_type": "code",
    "deepnote_cell_height": 598.34375,
    "deepnote_output_heights": [
     null,
     21.1875
    ]
   },
   "outputs": [
    {
     "name": "stderr",
     "text": "[nltk_data] Downloading package words to /root/nltk_data...\n[nltk_data]   Unzipping corpora/words.zip.\n",
     "output_type": "stream"
    },
    {
     "output_type": "execute_result",
     "execution_count": 26,
     "data": {
      "text/plain": "'small town murder that result in a court case from the victim'"
     },
     "metadata": {}
    }
   ],
   "execution_count": null
  },
  {
   "cell_type": "code",
   "metadata": {
    "cell_id": "2493fb42ff3045eab1a9e2defb932260",
    "tags": [],
    "deepnote_to_be_reexecuted": true,
    "source_hash": "96784",
    "execution_start": 1656124022069,
    "execution_millis": 407,
    "deepnote_cell_type": "code",
    "deepnote_cell_height": 1014.609375
   },
   "source": "# There is no point of removing stopwords here because we are seeing how much similarity there is regardless. \n# I am thinking of adding spell-correction here? \n\n# user_phrase = set(user_phrase.lower().split())\n# we will preprocess the user phrase just like how we preprocessed the descriptions. Removing stopwords won't matter\n# since we are looking at frequency \n\nuser_phrase = word_tokenize(user_phrase)\nuser_phrase = [word if word not in string.punctuation else '' for word in user_phrase]\n #user_phrase.replace(string.punctuation, '')\nuser_phrase = set([lem.lemmatize(w).lower() for w in user_phrase])\n# print(user_phrase)\n\nbest_topic = topics_set[0] #initialization \nbest_intersection = -1\nfor group in topics_set: \n    # print(group, user_phrase, len(user_phrase.intersection(group)))\n    print(group)\n    if len(user_phrase.intersection(group)) > best_intersection: \n        best_topic = group\n        best_intersection = len(user_phrase.intersection(group))\n\nprint(best_topic, best_intersection) # returns best list of topics and length of the intersection ",
   "outputs": [
    {
     "name": "stdout",
     "text": "{'dent', 'secret', 'jason', 'arthur', 'universe', 'guide', 'adventure', 'galaxy', 'elio', 'big', 'edition', 'trilogy', 'onestate', 'kinsey', 'hitchhiker'}\n{'feminist', 'helen', 'meeny', 'winning', 'greg', 'award', 'talk', 'jump', 'eeny', 'author', 'president', 'diary', 'grace', 'day', 'contemporary'}\n{'robert', 'anthony', 'trading', 'step', 'need', 'effective', 'mental', 'control', 'le', 'money', 'game', 'thing', 'platform', 'winterfell', 'day'}\n{'kat', 'thrawn', 'leader', 'salander', 'destruction', 'investing', 'war', 'little', 'darksiders', 'stock', 'market', 'vagrant', 'amy', 'blomkvist', 'shining'}\n{'emergency', 'tracy', 'business', 'marketing', 'build', 'offering', 'simple', 'successful', 'medicine', 'renowned', 'brian', 'success', 'overcome', 'customer', 'personal'}\n{'story', 'memoir', 'weapon', 'map', 'origin', 'force', 'zeinab', 'edition', 'influence', 'witcher', 'holmes', 'sherlock', 'persuasion', 'chaos', 'gangster'}\n{'valor', 'escalon', 'series', 'regarding', 'sorcerer', 'fan', 'honor', 'poirot', 'dragon', 'king', 'destiny', 'morgan', 'fantasy', 'rise', 'rice'}\n{'edge', 'star', 'goodreads', 'financial', 'change', 'shadow', 'read', 'key', 'reviewer', 'people', 'success', 'book', 'want', 'good', 'great'}\n{'dubner', 'levitt', 'problem', 'teach', 'trap', 'better', 'step', 'learn', 'freak', 'bos', 'offer', 'emotional', 'll', 'think', 'employee'}\n{'reverse', 'fiction', 'fixed', 'figure', 'fellow', 'fascinating', 'needed', 'fell', 'attack', 'detailed', 'guilty', 'remains', 'closer', 'sea', 'land'}\n{'short', 'story', 'cooky', 'christie', 'detective', 'harry', 'billy', 'brain', 'time', 'keri', 'signal', 'agatha', 'kate', 'curran', 'murder'}\n{'understand', 'business', 'financial', 'shadow', 'worldwide', 'make', 'known', 'people', 'book', 'life', 'friend', 'win', 'new', 'lightbringer', 'brent'}\n{'christie', 'hr', 'shakespeare', 'lord', 'play', 'agatha', 'poe', 'job', 'ring', 'footballer', 'people', 'steve', 'league', 'spider', 'man'}\n{'reacher', 'festive', 'year', 'quincy', 'batman', 'time', 'knight', 'hospital', 'bestseller', 'alvin', 'hero', 'man', 'diary', 'work', 'grisham'}\n{'happiness', 'cussler', 'sunday', 'farseer', 'oregon', 'option', 'cabrillo', 'happy', 'fitz', 'crew', 'auberon', 'juan', 'mail', 'self', 'ship'}\n{'science', 'memoir', 'forge', 'theory', 'garrard', 'program', 'capital', 'provides', 'julie', 'life', 'unhewn', 'new', 'critical', 'dick', 'hollywood'}\n{'series', 'gone', 'killer', 'mystery', 'man', 'riley', 'feel', 'book', 'friend', 'new', 'paige', 'demon', 'mind', 'thriller', 'psychological'}\n{'know', 'business', 'amanda', 'company', 'total', 'finn', 'layla', 'archer', 'strategy', 'achieve', 'goal', 'truth', 'life', 'confidence', 'dr'}\n{'thorn', 'sword', 'feast', 'song', 'martin', 'dragon', 'infinite', 'world', 'ice', 'dance', 'maigret', 'george', 'game', 'throne', 'storm'}\n{'business', 'art', 'content', 'arkham', 'ereader', 'need', 'war', 'managerial', 'giles', 'applied', 'table', 'functional', 'lionel', 'military', 'translation'}\n{'queen', 'faerie', 'bombay', 'jude', 'candide', 'wicked', 'shantaram', 'time', 'love', 'cardan', 'prison', 'king', 'asking', 'exiled', 'curse'}\n{'exactly', 'modern', 'feast', 'song', 'eyal', 'distraction', 'frog', 'important', 'black', 'iron', 'life', 'ice', 'indistractable', 'crow', 'focus'}\n{'alike', 'tower', 'marvel', 'selling', 'universe', 'geralt', 'attack', 'witcher', 'monster', 'collection', 'ally', 'target', 'group', 'stand', 'vs'}\n{'robert', 'jordan', 'wheel', 'brandy', 'god', 'mystery', 'time', 'war', 'world', 'book', 'crime', 'new', 'antique', 'borne', 'murder'}\n{'business', 'porter', 'habit', 'advantage', 'mini', 'information', 'management', 'strategy', 'aspect', 'competitive', 'science', 'sun', 'architecture', 'process', 'wade'}\n{'short', 'story', 'cooky', 'christie', 'detective', 'harry', 'billy', 'brain', 'time', 'keri', 'signal', 'agatha', 'kate', 'curran', 'murder'} 1\n",
     "output_type": "stream"
    }
   ],
   "execution_count": null
  },
  {
   "cell_type": "code",
   "metadata": {
    "cell_id": "4e51014b9d504bcebc08ea32cdd9f842",
    "tags": [],
    "deepnote_to_be_reexecuted": true,
    "source_hash": "49606e68",
    "execution_start": 1656124022111,
    "execution_millis": 3084926,
    "deepnote_table_state": {
     "pageSize": 10,
     "pageIndex": 95,
     "filters": [],
     "sortBy": []
    },
    "deepnote_table_loading": false,
    "deepnote_cell_type": "code",
    "deepnote_cell_height": 81
   },
   "source": "# df_filter",
   "outputs": [],
   "execution_count": null
  },
  {
   "cell_type": "code",
   "metadata": {
    "cell_id": "36850f3f1247435389999285e3668414",
    "tags": [],
    "deepnote_to_be_reexecuted": true,
    "source_hash": "1a13e636",
    "execution_start": 1656124022112,
    "execution_millis": 192,
    "deepnote_cell_type": "code",
    "deepnote_cell_height": 207
   },
   "source": "# Now we need to match the book descriptions to the topic that was chosen \nbooks = pq() #min heap \nfor index, row in df_filter.iterrows():\n    # print(row['title_desc_filtered'])\n    intersect_len = len(set(row['title_desc_filtered'].split()).intersection(best_topic))\n    # print(set(row['title_desc_filtered'].split()))\n    books.put((-1*intersect_len, row['title'].strip(string.punctuation), row['author'].strip(string.punctuation), row['Type'].strip(string.punctuation)))\n",
   "outputs": [],
   "execution_count": null
  },
  {
   "cell_type": "code",
   "metadata": {
    "cell_id": "40668000c416447c971016a1d8c5db8f",
    "deepnote_variable_name": "num_recs",
    "deepnote_variable_value": "5",
    "deepnote_to_be_reexecuted": true,
    "source_hash": "e500b1f7",
    "execution_start": 1656124022304,
    "execution_millis": 3,
    "deepnote_cell_type": "input-text"
   },
   "source": "num_recs = '5'",
   "outputs": [],
   "execution_count": null
  },
  {
   "cell_type": "code",
   "metadata": {
    "cell_id": "cd4986d88f634c3e92f0de93d9acd5c6",
    "tags": [],
    "deepnote_to_be_reexecuted": true,
    "source_hash": "1cbfd883",
    "execution_start": 1656124022311,
    "execution_millis": 185,
    "deepnote_cell_type": "code",
    "deepnote_cell_height": 341.34375,
    "deepnote_output_heights": [
     136.359375,
     97.96875
    ]
   },
   "source": "books_hm = {}\nwhile len(books_hm) < 5: \n    book = books.get()\n    # print(book[0])\n    books_hm[book[1]] = (book[2], book[3])\n\nbooks_hm",
   "outputs": [
    {
     "output_type": "execute_result",
     "execution_count": 31,
     "data": {
      "text/plain": "{'The Red Signal: An Agatha Christie Short Story': ('Agatha Christie',\n  'Books'),\n 'The Mysterious Affair at Styles': ('Agatha Christie', 'Books'),\n 'A Trace of Crime (a Keri Locke Mystery--Book #4': ('Blake Pierce', 'Books'),\n 'A Trace of Vice (a Keri Locke Mystery--Book #3': ('Blake Pierce', 'Books'),\n 'Death in an Elegant City: An English Village Murder Mystery': ('Sara Rosett',\n  'Books')}"
     },
     "metadata": {}
    }
   ],
   "execution_count": null
  },
  {
   "cell_type": "code",
   "source": "# cohere API key\n# KTQmgyEWSk81jeyS98xCMB1iRuWjZ5KDzSkrdw0b",
   "metadata": {
    "cell_id": "5558a86a741543ad9143fb16e77c57fa",
    "tags": [],
    "deepnote_to_be_reexecuted": true,
    "source_hash": "6893179",
    "execution_start": 1656124022313,
    "execution_millis": 1,
    "deepnote_cell_type": "code",
    "deepnote_cell_height": 99
   },
   "outputs": [],
   "execution_count": null
  },
  {
   "cell_type": "code",
   "source": "theme = 'crime, murder, new york city, suspect, man, FBI, detective'",
   "metadata": {
    "cell_id": "16b20484e2a74e218b38f633d2593176",
    "deepnote_variable_name": "theme",
    "deepnote_variable_value": "crime, murder, new york city, suspect, man, FBI, detective",
    "deepnote_to_be_reexecuted": true,
    "source_hash": "105bbfc7",
    "execution_start": 1656124022358,
    "execution_millis": 0,
    "deepnote_cell_type": "input-text"
   },
   "outputs": [],
   "execution_count": null
  },
  {
   "cell_type": "code",
   "source": "import cohere\nco = cohere.Client('KTQmgyEWSk81jeyS98xCMB1iRuWjZ5KDzSkrdw0b')\nprediction = co.generate(\n  model='large',\n  prompt='--\\nProduct: Book \\nKeywords: ' + str(theme) + str('Exciting Book Description:'),\n  max_tokens=50,\n  temperature=0.8,\n  k=0,\n  p=1,\n  frequency_penalty=0,\n  presence_penalty=0,\n  stop_sequences=[\"--\"],\n  return_likelihoods='NONE')\nprint('Idea: {}...'.format(prediction.generations[0].text))\nprediction.generations",
   "metadata": {
    "cell_id": "ff345277590e4371b8ef2eff90bd4113",
    "tags": [],
    "deepnote_to_be_reexecuted": true,
    "source_hash": "b48a5933",
    "execution_start": 1656124022359,
    "execution_millis": 2896,
    "deepnote_cell_type": "code",
    "deepnote_cell_height": 610.875,
    "deepnote_output_heights": [
     null,
     155.546875
    ]
   },
   "outputs": [
    {
     "name": "stdout",
     "text": "Idea: \nIn a savage murder in New York City, a man is found dead at the scene of a crime. Hours later, the FBI picks up the unusual phone calls from a suspect in the case.\n\nThis is the premise of a thrilling...\n",
     "output_type": "stream"
    },
    {
     "output_type": "execute_result",
     "execution_count": 34,
     "data": {
      "text/plain": "[cohere.Generation {\n \ttext: \n In a savage murder in New York City, a man is found dead at the scene of a crime. Hours later, the FBI picks up the unusual phone calls from a suspect in the case.\n \n This is the premise of a thrilling\n \tlikelihood: None\n \ttoken_likelihoods: None\n }]"
     },
     "metadata": {}
    }
   ],
   "execution_count": null
  },
  {
   "cell_type": "code",
   "source": "send_sms = 'True'",
   "metadata": {
    "cell_id": "6e5757e142174d759e735aaf68fc6a8a",
    "deepnote_variable_name": "send_sms",
    "deepnote_variable_value": "True",
    "deepnote_variable_options": [
     "True",
     "False"
    ],
    "deepnote_variable_custom_options": [
     "True",
     "False"
    ],
    "deepnote_variable_selected_variable": "",
    "deepnote_variable_select_type": "from-options",
    "deepnote_to_be_reexecuted": true,
    "source_hash": "6e436d54",
    "execution_start": 1656124025103,
    "execution_millis": 2,
    "deepnote_cell_type": "input-select"
   },
   "outputs": [],
   "execution_count": null
  },
  {
   "cell_type": "code",
   "source": "if send_sms == True: \n    # send to twilio ",
   "metadata": {
    "cell_id": "bdbfbc78ae7b4cad8ab8bb1c4acacd45",
    "tags": [],
    "deepnote_to_be_reexecuted": true,
    "source_hash": "1c063be6",
    "execution_start": 1656124025146,
    "execution_millis": 127,
    "deepnote_cell_type": "code",
    "deepnote_cell_height": 162.1875
   },
   "outputs": [
    {
     "output_type": "error",
     "ename": "IndentationError",
     "evalue": "expected an indented block (<ipython-input-36-ea0bf1780628>, line 2)",
     "traceback": [
      "\u001b[0;36m  File \u001b[0;32m\"<ipython-input-36-ea0bf1780628>\"\u001b[0;36m, line \u001b[0;32m2\u001b[0m\n\u001b[0;31m    # send to twilio\u001b[0m\n\u001b[0m                     ^\u001b[0m\n\u001b[0;31mIndentationError\u001b[0m\u001b[0;31m:\u001b[0m expected an indented block\n"
     ]
    }
   ],
   "execution_count": null
  },
  {
   "cell_type": "markdown",
   "source": "<a style='text-decoration:none;line-height:16px;display:flex;color:#5B5B62;padding:10px;justify-content:end;' href='https://deepnote.com?utm_source=created-in-deepnote-cell&projectId=a000e112-1cbe-4ff9-9e6d-cef9a0ebc108' target=\"_blank\">\n<img alt='Created in deepnote.com' style='display:inline;max-height:16px;margin:0px;margin-right:7.5px;' src='data:image/svg+xml;base64,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' > </img>\nCreated in <span style='font-weight:600;margin-left:4px;'>Deepnote</span></a>",
   "metadata": {
    "tags": [],
    "created_in_deepnote_cell": true,
    "deepnote_cell_type": "markdown"
   }
  }
 ],
 "nbformat": 4,
 "nbformat_minor": 2,
 "metadata": {
  "orig_nbformat": 2,
  "deepnote": {},
  "deepnote_notebook_id": "7fa6325c-3307-46a9-b8c5-562dee8f5df7",
  "deepnote_execution_queue": [
   {
    "cellId": "651864a290264c1ebbad366e9e8fd54b",
    "sessionId": "5aefaabb-64fe-4306-98dc-610b12ddbfb3",
    "msgId": "9713e8a9-c658-484c-88df-333fcd6c928c"
   },
   {
    "cellId": "956e647f53404a48bffef4f25060608b",
    "sessionId": "5aefaabb-64fe-4306-98dc-610b12ddbfb3",
    "msgId": "48bf0896-4e74-4d16-af72-51b84f446083"
   },
   {
    "cellId": "a506439adbb34105b37a8a59798ecdd2",
    "sessionId": "5aefaabb-64fe-4306-98dc-610b12ddbfb3",
    "msgId": "951a872c-7bdf-41a7-a335-6dba92a8334d"
   },
   {
    "cellId": "091a3e6f80f64b838d15940217a3dd6e",
    "sessionId": "5aefaabb-64fe-4306-98dc-610b12ddbfb3",
    "msgId": "d48e36cb-83d7-411c-9c9e-8f027806a4d8"
   },
   {
    "cellId": "82d17eb0dd9a4c0199629f1e0654bc62",
    "sessionId": "5aefaabb-64fe-4306-98dc-610b12ddbfb3",
    "msgId": "ae04fe93-62ca-47cf-bb9d-9c4b8722b8ca"
   },
   {
    "cellId": "6a9b0cf15c2a44ff9c5a195402c78bfe",
    "sessionId": "5aefaabb-64fe-4306-98dc-610b12ddbfb3",
    "msgId": "f8eace96-81c0-453d-aa95-cfbc2a2018a0"
   },
   {
    "cellId": "c77087eecdb6473b95055c36b5000dea",
    "sessionId": "5aefaabb-64fe-4306-98dc-610b12ddbfb3",
    "msgId": "759f5663-506e-4647-968e-c584a18e6f56"
   },
   {
    "cellId": "a6e3f2eac091401a9efaa2b63a0df234",
    "sessionId": "5aefaabb-64fe-4306-98dc-610b12ddbfb3",
    "msgId": "5bbf952b-5340-4180-b8a2-9841d3c8dc8a"
   },
   {
    "cellId": "18fc63de9e21443791d59525b71c9f24",
    "sessionId": "5aefaabb-64fe-4306-98dc-610b12ddbfb3",
    "msgId": "eed21553-0e46-4b13-9a4d-58512a091e6f"
   },
   {
    "cellId": "c2e1d302d818496b8f038d52f1302084",
    "sessionId": "5aefaabb-64fe-4306-98dc-610b12ddbfb3",
    "msgId": "0cd28368-9622-4b98-a8fe-f406fb15b39c"
   },
   {
    "cellId": "6a6fc9eb7cda4c56a6c14573ac29acd2",
    "sessionId": "5aefaabb-64fe-4306-98dc-610b12ddbfb3",
    "msgId": "a83db9c5-0413-4f1a-8988-caf8c60601b7"
   },
   {
    "cellId": "08477ab16f0a471686fd8be670a773ec",
    "sessionId": "5aefaabb-64fe-4306-98dc-610b12ddbfb3",
    "msgId": "03952b4f-9118-48b7-bd7f-ced63c64ca7e"
   },
   {
    "cellId": "9b2f941ecc334cd48d5aef470b329996",
    "sessionId": "5aefaabb-64fe-4306-98dc-610b12ddbfb3",
    "msgId": "7a25949e-1cad-44d9-b4e6-c8dc3f537d97"
   },
   {
    "cellId": "901a0666ca3841aab1d091a0a6aa7625",
    "sessionId": "5aefaabb-64fe-4306-98dc-610b12ddbfb3",
    "msgId": "828cf716-30fc-43f5-bbaa-b5318266a653"
   },
   {
    "cellId": "2493fb42ff3045eab1a9e2defb932260",
    "sessionId": "5aefaabb-64fe-4306-98dc-610b12ddbfb3",
    "msgId": "2ab1bc21-bb95-4b2a-b5eb-4dea3485085b"
   },
   {
    "cellId": "4e51014b9d504bcebc08ea32cdd9f842",
    "sessionId": "5aefaabb-64fe-4306-98dc-610b12ddbfb3",
    "msgId": "2f06c8d1-36f3-47b3-8c19-4fe39d37d0d7"
   },
   {
    "cellId": "36850f3f1247435389999285e3668414",
    "sessionId": "5aefaabb-64fe-4306-98dc-610b12ddbfb3",
    "msgId": "3e246c22-f829-4b20-8b2d-00fd879cb45d"
   },
   {
    "cellId": "40668000c416447c971016a1d8c5db8f",
    "sessionId": "5aefaabb-64fe-4306-98dc-610b12ddbfb3",
    "msgId": "6c0278d5-9141-4ef7-b5bd-e32ca4496582"
   },
   {
    "cellId": "cd4986d88f634c3e92f0de93d9acd5c6",
    "sessionId": "5aefaabb-64fe-4306-98dc-610b12ddbfb3",
    "msgId": "da89491d-7028-485a-8eb7-3044ebad18be"
   },
   {
    "cellId": "5558a86a741543ad9143fb16e77c57fa",
    "sessionId": "5aefaabb-64fe-4306-98dc-610b12ddbfb3",
    "msgId": "ef43974c-e5f7-4f7b-9fd7-8e4d088451a4"
   },
   {
    "cellId": "16b20484e2a74e218b38f633d2593176",
    "sessionId": "5aefaabb-64fe-4306-98dc-610b12ddbfb3",
    "msgId": "d77f1398-402e-496b-8a6d-e04f8fca6e9b"
   },
   {
    "cellId": "ff345277590e4371b8ef2eff90bd4113",
    "sessionId": "5aefaabb-64fe-4306-98dc-610b12ddbfb3",
    "msgId": "bc0456bf-590f-45bb-8263-d7dc6d3b0303"
   },
   {
    "cellId": "6e5757e142174d759e735aaf68fc6a8a",
    "sessionId": "5aefaabb-64fe-4306-98dc-610b12ddbfb3",
    "msgId": "f8bba80d-5e0d-4154-8c94-9d220af2f54f"
   },
   {
    "cellId": "bdbfbc78ae7b4cad8ab8bb1c4acacd45",
    "sessionId": "5aefaabb-64fe-4306-98dc-610b12ddbfb3",
    "msgId": "0bef9fb0-fa98-4e82-a14b-b1e1fea46a76"
   }
  ]
 }
}