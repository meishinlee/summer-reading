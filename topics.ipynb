{
 "cells": [
  {
   "cell_type": "code",
   "execution_count": 1,
   "metadata": {
    "cell_id": "4d356711ea8a4ca4ab670818fef0ecf9",
    "deepnote_cell_height": 315,
    "deepnote_cell_type": "code",
    "deepnote_to_be_reexecuted": false,
    "execution_millis": 1577,
    "execution_start": 1656126187558,
    "source_hash": "3ed4482",
    "tags": []
   },
   "outputs": [],
   "source": [
    "import pandas as pd\n",
    "import string\n",
    "import nltk\n",
    "import numpy as np\n",
    "import re\n",
    "from nltk.tokenize import word_tokenize\n",
    "from nltk.corpus import stopwords\n",
    "from nltk.stem import WordNetLemmatizer\n",
    "from sklearn.feature_extraction.text import TfidfVectorizer\n",
    "from sklearn.decomposition import LatentDirichletAllocation\n",
    "from queue import PriorityQueue as pq\n",
    "import editdistance\n",
    "from nltk.corpus import words\n",
    "import cohere"
   ]
  },
  {
   "cell_type": "code",
   "execution_count": 38,
   "metadata": {
    "cell_id": "26bbff9f6d354017aa5dfee3446e1998",
    "deepnote_cell_height": 99,
    "deepnote_cell_type": "code",
    "deepnote_to_be_reexecuted": false,
    "execution_millis": 32,
    "execution_start": 1656126542839,
    "source_hash": "d6485474",
    "tags": []
   },
   "outputs": [],
   "source": [
    "adv_reads = pd.read_csv('google_books_1299.csv')\n",
    "adv_reads.drop(columns=adv_reads.columns[0], axis=1, inplace=True)"
   ]
  },
  {
   "cell_type": "code",
   "execution_count": 39,
   "metadata": {
    "cell_id": "4cad93ced6bc4156ab33b29c97a4c2b8",
    "deepnote_cell_height": 189,
    "deepnote_cell_type": "code",
    "deepnote_to_be_reexecuted": false,
    "execution_millis": 12,
    "execution_start": 1656126544318,
    "source_hash": "5621864",
    "tags": []
   },
   "outputs": [],
   "source": [
    "adv_reads.drop_duplicates(keep='first', inplace=True, ignore_index=True)\n",
    "\n",
    "# manually set: should we do this?\n",
    "adv_reads['lower_age'] = [16 for i in range(len(adv_reads))]\n",
    "adv_reads['upper_age'] = [20 for i in range(len(adv_reads))]\n",
    "# adv_reads.head(2000)\n"
   ]
  },
  {
   "cell_type": "code",
   "execution_count": 40,
   "metadata": {
    "cell_id": "6733b3d579984f2280e88066e29ac3eb",
    "deepnote_cell_height": 117,
    "deepnote_cell_type": "code",
    "deepnote_table_invalid": false,
    "deepnote_table_loading": false,
    "deepnote_table_state": {
     "filters": [],
     "pageIndex": 0,
     "pageSize": 10,
     "sortBy": [
      {
       "id": "Inerest_age",
       "type": "desc"
      }
     ]
    },
    "deepnote_to_be_reexecuted": false,
    "execution_millis": 44,
    "execution_start": 1656126581921,
    "source_hash": "67cdbe16",
    "tags": []
   },
   "outputs": [],
   "source": [
    "child_books = pd.read_csv(\"children_books.csv\")\n",
    "child_books.drop_duplicates(keep='first', inplace=True, ignore_index=True)\n",
    "# child_books.head(5000)"
   ]
  },
  {
   "cell_type": "code",
   "execution_count": 5,
   "metadata": {
    "cell_id": "cd0873c21f164b7e80515646a40020c9",
    "deepnote_cell_height": 405,
    "deepnote_cell_type": "code",
    "deepnote_to_be_reexecuted": false,
    "execution_millis": 3,
    "execution_start": 1656126189381,
    "source_hash": "8144a91d",
    "tags": []
   },
   "outputs": [],
   "source": [
    "# we want to replace reading age with appr. age lim\n",
    "# new columns: upper_age, lower_age\n",
    "upper_age = []\n",
    "lower_age = []\n",
    "for ind in child_books.index: \n",
    "    # print(child_books['Reading_age'][1][:2])\n",
    "    if '-' in child_books['Reading_age'][ind]:\n",
    "        lower, upper = child_books['Reading_age'][ind].split('-')\n",
    "        upper_age.append(int(upper))\n",
    "        lower_age.append(int(lower))\n",
    "    else: # + \n",
    "        lower = int(child_books['Reading_age'][ind][:2].strip(string.punctuation))\n",
    "        upper = int(lower+3) # manually set \n",
    "        upper_age.append(upper)\n",
    "        lower_age.append(lower)\n",
    "\n",
    "# add age columsn to child_books\n",
    "child_books['lower_age'] = lower_age\n",
    "child_books['upper_age'] = upper_age"
   ]
  },
  {
   "cell_type": "code",
   "execution_count": 6,
   "metadata": {
    "cell_id": "6deabae4eca244be8e2fd8d5ee2a889d",
    "deepnote_cell_height": 531,
    "deepnote_cell_type": "code",
    "deepnote_to_be_reexecuted": false,
    "execution_millis": 0,
    "execution_start": 1656126189428,
    "source_hash": "542fb031",
    "tags": []
   },
   "outputs": [],
   "source": [
    "child_stories = pd.read_csv('children_stories.Csv')\n",
    "child_stories.drop_duplicates(keep='first', inplace=True, ignore_index=True)\n",
    "story_upper = []\n",
    "story_lower = []\n",
    "# Strip off age and split by -\n",
    "for ind in child_stories.index:\n",
    "    age = child_stories['cats'][ind][4:]\n",
    "    if '-' in age:\n",
    "        lower, upper = age.split('-')\n",
    "        story_lower.append(int(lower))\n",
    "        story_upper.append(int(upper))\n",
    "    else: #+\n",
    "        try: \n",
    "            lower = int(age.strip(string.punctuation))\n",
    "            upper = lower + 3\n",
    "            story_lower.append(int(lower))\n",
    "            story_upper.append(int(upper))\n",
    "        except: # in this case we will default to 2-9 years (default)\n",
    "            story_lower.append(2)\n",
    "            story_upper.append(9)\n",
    "            \n",
    "# Add 2 columns to child_stories\n",
    "child_stories['lower_age'] = story_lower\n",
    "child_stories['upper_age'] = story_upper\n",
    "\n",
    "# child_stories['Author'] = [None for i in range(len(child_stories))]"
   ]
  },
  {
   "cell_type": "code",
   "execution_count": 7,
   "metadata": {
    "cell_id": "8ec85112316341b3a60fd58cc9f525c4",
    "deepnote_cell_height": 117,
    "deepnote_cell_type": "code",
    "deepnote_table_loading": false,
    "deepnote_table_state": {
     "filters": [],
     "pageIndex": 0,
     "pageSize": 10,
     "sortBy": [
      {
       "id": "upper_age",
       "type": "desc"
      }
     ]
    },
    "deepnote_to_be_reexecuted": false,
    "execution_millis": 0,
    "execution_start": 1656126189429,
    "source_hash": "dee61fc2",
    "tags": []
   },
   "outputs": [],
   "source": [
    "# child_books.head()\n",
    "# child_stories.head(2000)\n",
    "# We won't be using the 'Reading_age' column "
   ]
  },
  {
   "cell_type": "code",
   "execution_count": 8,
   "metadata": {
    "cell_id": "5ad236ef4b114a6d981fb74e9ee2decc",
    "deepnote_cell_height": 175.75,
    "deepnote_cell_type": "code",
    "deepnote_output_heights": [
     78.765625
    ],
    "deepnote_to_be_reexecuted": false,
    "execution_millis": 4,
    "execution_start": 1656126189429,
    "source_hash": "a92433e1",
    "tags": []
   },
   "outputs": [
    {
     "data": {
      "text/plain": [
       "(Index(['Title', 'Author', 'Desc', 'Inerest_age', 'Reading_age', 'lower_age',\n",
       "        'upper_age'],\n",
       "       dtype='object'),\n",
       " Index(['names', 'cats', 'desc', 'lower_age', 'upper_age'], dtype='object'))"
      ]
     },
     "execution_count": 8,
     "metadata": {},
     "output_type": "execute_result"
    }
   ],
   "source": [
    "child_books.columns, child_stories.columns"
   ]
  },
  {
   "cell_type": "code",
   "execution_count": 9,
   "metadata": {
    "cell_id": "196462c7153b44dda078a8efab38d596",
    "deepnote_cell_height": 297,
    "deepnote_cell_type": "code",
    "deepnote_table_loading": false,
    "deepnote_table_state": {
     "filters": [],
     "pageIndex": 46,
     "pageSize": 10,
     "sortBy": []
    },
    "deepnote_to_be_reexecuted": false,
    "execution_millis": 3,
    "execution_start": 1656126189438,
    "source_hash": "16400d6d",
    "tags": []
   },
   "outputs": [],
   "source": [
    "# is there a way to combine these two dataframes together? \n",
    "# we only need the title, upperage, lowerage, desc and author from each dataframe\n",
    "df_1 = child_books.copy().drop(columns = ['Inerest_age', 'Reading_age'])\n",
    "df_1['Type'] = 'Books'\n",
    "df_1 = df_1.rename(columns = {'Title': 'title', 'Desc' : 'desc', 'Author':'author'})\n",
    "\n",
    "df_2 = child_stories.copy().drop(columns = ['cats']) \n",
    "df_2['Type'] = 'Stories'\n",
    "df_2 = df_2.rename(columns = {'names': 'title', 'Author':'author'})\n",
    "\n",
    "df_combined = pd.concat([df_1, df_2])\n",
    "# df_combined.value_counts('title')\n",
    "# df_combined"
   ]
  },
  {
   "cell_type": "code",
   "execution_count": 10,
   "metadata": {
    "cell_id": "6d065523515b48c39ba0dce529dfc284",
    "deepnote_cell_height": 225,
    "deepnote_cell_type": "code",
    "deepnote_to_be_reexecuted": false,
    "execution_millis": 3,
    "execution_start": 1656126189448,
    "source_hash": "aedf537c",
    "tags": []
   },
   "outputs": [],
   "source": [
    "# Rename columns of adv_reads \n",
    "try: \n",
    "    adv_reads.drop(columns=['rating', 'voters','price','currency','publisher','page_count','generes','ISBN','language','published_date'], inplace=True)\n",
    "except:\n",
    "    pass\n",
    "adv_reads = adv_reads.rename(columns = {'description': 'desc'})\n",
    "adv_reads['Type'] = ['Books' for i in range(len(adv_reads))]\n",
    "adv_reads.fillna('', inplace=True)\n",
    "# adv_reads"
   ]
  },
  {
   "cell_type": "code",
   "execution_count": 11,
   "metadata": {
    "cell_id": "eced9de226544f93b8bdd79d482b8cf4",
    "deepnote_cell_height": 450.65625,
    "deepnote_cell_type": "code",
    "deepnote_to_be_reexecuted": false,
    "execution_millis": 54,
    "execution_start": 1656126189455,
    "source_hash": "10ffd341",
    "tags": []
   },
   "outputs": [
    {
     "name": "stderr",
     "output_type": "stream",
     "text": [
      "<ipython-input-11-cecfd9b579cc>:2: FutureWarning: The default value of regex will change from True to False in a future version.\n",
      "  df_combined['title_formatted'] = df_combined['title'].str.replace('\\d+', '')\n",
      "<ipython-input-11-cecfd9b579cc>:3: FutureWarning: The default value of regex will change from True to False in a future version.\n",
      "  df_combined['desc_formatted'] = df_combined['desc'].str.replace('\\d+', '')\n",
      "<ipython-input-11-cecfd9b579cc>:4: FutureWarning: The default value of regex will change from True to False in a future version.\n",
      "  adv_reads['title_formatted'] = adv_reads['title'].str.replace('\\d+','')\n",
      "<ipython-input-11-cecfd9b579cc>:5: FutureWarning: The default value of regex will change from True to False in a future version.\n",
      "  adv_reads['desc_formatted'] = adv_reads['desc'].str.replace('\\d+','')\n"
     ]
    }
   ],
   "source": [
    "# get rid of numbers\n",
    "df_combined['title_formatted'] = df_combined['title'].str.replace('\\d+', '')\n",
    "df_combined['desc_formatted'] = df_combined['desc'].str.replace('\\d+', '')\n",
    "adv_reads['title_formatted'] = adv_reads['title'].str.replace('\\d+','')\n",
    "adv_reads['desc_formatted'] = adv_reads['desc'].str.replace('\\d+','')\n",
    "\n",
    "# make lowercase\n",
    "df_combined['title_formatted'] = df_combined['title_formatted'].apply(str.lower)\n",
    "df_combined['desc_formatted'] = df_combined['desc_formatted'].apply(str.lower)\n",
    "adv_reads['title_formatted'] = adv_reads['title_formatted'].apply(str.lower)\n",
    "adv_reads['desc_formatted'] = adv_reads['desc_formatted'].apply(str.lower)\n"
   ]
  },
  {
   "cell_type": "code",
   "execution_count": 12,
   "metadata": {
    "cell_id": "6829c78816f24daf89347438cfc37041",
    "deepnote_cell_height": 222.15625,
    "deepnote_cell_type": "code",
    "deepnote_to_be_reexecuted": false,
    "execution_millis": 2749,
    "execution_start": 1656126189512,
    "source_hash": "177dce20",
    "tags": []
   },
   "outputs": [
    {
     "name": "stderr",
     "output_type": "stream",
     "text": [
      "[nltk_data] Downloading package punkt to /root/nltk_data...\n",
      "[nltk_data]   Unzipping tokenizers/punkt.zip.\n"
     ]
    }
   ],
   "source": [
    "# We can tokenize the words here to remove punctuation \n",
    "# Tokenize words \n",
    "nltk.download('punkt')\n",
    "df_combined['title_desc'] = df_combined['title_formatted'].apply(word_tokenize) + df_combined['desc_formatted'].apply(word_tokenize)\n",
    "adv_reads['title_desc'] = adv_reads['title_formatted'].apply(word_tokenize) + adv_reads['desc_formatted'].apply(word_tokenize)\n",
    "# df_combined"
   ]
  },
  {
   "cell_type": "code",
   "execution_count": 13,
   "metadata": {
    "cell_id": "651864a290264c1ebbad366e9e8fd54b",
    "deepnote_cell_height": 312.15625,
    "deepnote_cell_type": "code",
    "deepnote_to_be_reexecuted": false,
    "execution_millis": 41721,
    "execution_start": 1656126192265,
    "source_hash": "54f0811",
    "tags": []
   },
   "outputs": [
    {
     "name": "stderr",
     "output_type": "stream",
     "text": [
      "[nltk_data] Downloading package stopwords to /root/nltk_data...\n",
      "[nltk_data]   Unzipping corpora/stopwords.zip.\n"
     ]
    }
   ],
   "source": [
    "# Remove stopwords\n",
    "nltk.download('stopwords')\n",
    "def remove_stopwords(input1):\n",
    "    words = []\n",
    "    for word in input1:\n",
    "        if word not in stopwords.words('english'):\n",
    "            words.append(word)\n",
    "    return words\n",
    "\n",
    "df_combined['title_desc'] =  df_combined['title_desc'].apply(remove_stopwords)\n",
    "adv_reads['title_desc'] =  adv_reads['title_desc'].apply(remove_stopwords)"
   ]
  },
  {
   "cell_type": "code",
   "execution_count": 14,
   "metadata": {
    "cell_id": "956e647f53404a48bffef4f25060608b",
    "deepnote_cell_height": 298.328125,
    "deepnote_cell_type": "code",
    "deepnote_to_be_reexecuted": false,
    "execution_millis": 3599,
    "execution_start": 1656126233987,
    "source_hash": "14dce115",
    "tags": []
   },
   "outputs": [
    {
     "name": "stderr",
     "output_type": "stream",
     "text": [
      "[nltk_data] Downloading package wordnet to /root/nltk_data...\n",
      "[nltk_data]   Unzipping corpora/wordnet.zip.\n",
      "[nltk_data] Downloading package omw-1.4 to /root/nltk_data...\n",
      "[nltk_data]   Unzipping corpora/omw-1.4.zip.\n"
     ]
    }
   ],
   "source": [
    "# Lemmatize \n",
    "nltk.download('wordnet')\n",
    "nltk.download('omw-1.4')\n",
    "lem = WordNetLemmatizer()\n",
    "def lemma_wordnet(input):\n",
    "    return [lem.lemmatize(w) for w in input]\n",
    "df_combined['title_desc'] = df_combined['title_desc'].apply(lemma_wordnet)\n",
    "adv_reads['title_desc'] = adv_reads['title_desc'].apply(lemma_wordnet)"
   ]
  },
  {
   "cell_type": "code",
   "execution_count": 15,
   "metadata": {
    "cell_id": "a506439adbb34105b37a8a59798ecdd2",
    "deepnote_cell_height": 189,
    "deepnote_cell_type": "code",
    "deepnote_to_be_reexecuted": false,
    "execution_millis": 3,
    "execution_start": 1656126237600,
    "source_hash": "c1369ce1",
    "tags": []
   },
   "outputs": [],
   "source": [
    "# translate list to string\n",
    "def join_text(input):\n",
    "    combined = ' '.join(input)\n",
    "    return combined\n",
    "df_combined['title_desc_filtered']=df_combined['title_desc'].apply(join_text)\n",
    "adv_reads['title_desc_filtered']=adv_reads['title_desc'].apply(join_text)\n",
    "# adv_reads"
   ]
  },
  {
   "cell_type": "code",
   "execution_count": 17,
   "metadata": {
    "cell_id": "82d17eb0dd9a4c0199629f1e0654bc62",
    "deepnote_cell_height": 168.15625,
    "deepnote_cell_type": "code",
    "deepnote_table_loading": false,
    "deepnote_table_state": {
     "filters": [],
     "pageIndex": 0,
     "pageSize": 10,
     "sortBy": []
    },
    "deepnote_to_be_reexecuted": false,
    "execution_millis": 15,
    "execution_start": 1656126237613,
    "source_hash": "87157f90",
    "tags": []
   },
   "outputs": [
    {
     "name": "stderr",
     "output_type": "stream",
     "text": [
      "<ipython-input-17-1c4badf68a31>:3: FutureWarning: The default value of regex will change from True to False in a future version.\n",
      "  df_combined['title_desc_filtered'] = df_combined['title_desc_filtered'].str.replace(r'[^\\w\\s]+', '')\n"
     ]
    }
   ],
   "source": [
    "# Remove punctuation for clarity \n",
    "df_combined['title_desc_filtered'] = df_combined['title_desc_filtered'].str.replace(r'[^\\w\\s]+', '')\n",
    "# df_combined"
   ]
  },
  {
   "cell_type": "code",
   "execution_count": 18,
   "metadata": {
    "cell_id": "6a9b0cf15c2a44ff9c5a195402c78bfe",
    "deepnote_cell_type": "input-text",
    "deepnote_to_be_reexecuted": false,
    "deepnote_variable_name": "user_age",
    "deepnote_variable_value": "17",
    "execution_millis": 5,
    "execution_start": 1656126237629,
    "source_hash": "5b29643f"
   },
   "outputs": [],
   "source": [
    "user_age = '17'"
   ]
  },
  {
   "cell_type": "code",
   "execution_count": 19,
   "metadata": {
    "cell_id": "c77087eecdb6473b95055c36b5000dea",
    "deepnote_cell_height": 189,
    "deepnote_cell_type": "code",
    "deepnote_table_loading": false,
    "deepnote_table_state": {
     "filters": [],
     "pageIndex": 0,
     "pageSize": 10,
     "sortBy": []
    },
    "deepnote_to_be_reexecuted": false,
    "execution_millis": 7,
    "execution_start": 1656126237640,
    "source_hash": "883ee17d",
    "tags": []
   },
   "outputs": [],
   "source": [
    "user_age = int(user_age)\n",
    "if int(user_age) >= 16: \n",
    "    df_16_plus = pd.concat([df_combined, adv_reads])\n",
    "    df_filter = df_16_plus[(df_16_plus['lower_age'] <= user_age) & (df_16_plus['upper_age'] >= user_age)]\n",
    "else: \n",
    "    df_filter = df_combined[(df_combined['lower_age']<=user_age) & (df_combined['upper_age']>=user_age) ]\n",
    "# df_filter"
   ]
  },
  {
   "cell_type": "code",
   "execution_count": 20,
   "metadata": {
    "cell_id": "a6e3f2eac091401a9efaa2b63a0df234",
    "deepnote_cell_height": 190.609375,
    "deepnote_cell_type": "code",
    "deepnote_to_be_reexecuted": false,
    "execution_millis": 125,
    "execution_start": 1656126237653,
    "source_hash": "396a05a8",
    "tags": []
   },
   "outputs": [
    {
     "name": "stderr",
     "output_type": "stream",
     "text": [
      "/shared-libs/python3.9/py/lib/python3.9/site-packages/sklearn/utils/deprecation.py:87: FutureWarning: Function get_feature_names is deprecated; get_feature_names is deprecated in 1.0 and will be removed in 1.2. Please use get_feature_names_out instead.\n",
      "  warnings.warn(msg, category=FutureWarning)\n"
     ]
    }
   ],
   "source": [
    "vectorizer = TfidfVectorizer(max_features=1800, lowercase=True, stop_words='english', ngram_range=(1,1)) #unigrams and bigrams\n",
    "tf_idf_output = vectorizer.fit_transform(df_filter['title_desc_filtered'])\n",
    "vocab = np.array(vectorizer.get_feature_names())\n",
    "# vocab"
   ]
  },
  {
   "cell_type": "code",
   "execution_count": 21,
   "metadata": {
    "cell_id": "18fc63de9e21443791d59525b71c9f24",
    "deepnote_cell_type": "input-text",
    "deepnote_to_be_reexecuted": false,
    "deepnote_variable_name": "num_topics",
    "deepnote_variable_value": "25",
    "execution_millis": 0,
    "execution_start": 1656126237819,
    "source_hash": "607eb360"
   },
   "outputs": [],
   "source": [
    "num_topics = '25'"
   ]
  },
  {
   "cell_type": "code",
   "execution_count": 22,
   "metadata": {
    "cell_id": "c2e1d302d818496b8f038d52f1302084",
    "deepnote_cell_height": 117,
    "deepnote_cell_type": "code",
    "deepnote_to_be_reexecuted": false,
    "execution_millis": 2499,
    "execution_start": 1656126237819,
    "source_hash": "f334514b",
    "tags": []
   },
   "outputs": [],
   "source": [
    "# Perform LDA \n",
    "num_topics = int(num_topics) # can be changed \n",
    "lda = LatentDirichletAllocation(n_components=num_topics, random_state=1).fit(tf_idf_output)"
   ]
  },
  {
   "cell_type": "code",
   "execution_count": 23,
   "metadata": {
    "cell_id": "6a6fc9eb7cda4c56a6c14573ac29acd2",
    "deepnote_cell_type": "input-text",
    "deepnote_to_be_reexecuted": false,
    "deepnote_variable_name": "num_top_words",
    "deepnote_variable_value": "15",
    "execution_millis": 9,
    "execution_start": 1656126240324,
    "source_hash": "9bf19a22"
   },
   "outputs": [],
   "source": [
    "num_top_words = '15'"
   ]
  },
  {
   "cell_type": "code",
   "execution_count": 24,
   "metadata": {
    "cell_id": "08477ab16f0a471686fd8be670a773ec",
    "deepnote_cell_height": 243,
    "deepnote_cell_type": "code",
    "deepnote_to_be_reexecuted": false,
    "execution_millis": 43,
    "execution_start": 1656126240336,
    "source_hash": "37e037f4",
    "tags": []
   },
   "outputs": [],
   "source": [
    "num_top_words = int(num_top_words) # can be changed. Can also be generated from Cohere\n",
    "  \n",
    "topics_set = []\n",
    "\n",
    "# draft that works\n",
    "def display_topics(model, feature_names, no_top_words):\n",
    "    for topic_idx, topic in enumerate(model.components_):\n",
    "        topics_set.append(set([feature_names[i] for i in topic.argsort()[:-no_top_words - 1:-1]]))\n",
    "\n",
    "display_topics(lda, vocab, num_top_words)"
   ]
  },
  {
   "cell_type": "code",
   "execution_count": 25,
   "metadata": {
    "cell_id": "9b2f941ecc334cd48d5aef470b329996",
    "deepnote_cell_type": "input-text",
    "deepnote_to_be_reexecuted": false,
    "deepnote_variable_name": "user_phrase",
    "deepnote_variable_value": "small town murder that results in a court case from the victim",
    "execution_millis": 0,
    "execution_start": 1656126240379,
    "source_hash": "74e63a45"
   },
   "outputs": [],
   "source": [
    "user_phrase = 'small town murder that results in a court case from the victim'"
   ]
  },
  {
   "cell_type": "code",
   "execution_count": 26,
   "metadata": {
    "cell_id": "901a0666ca3841aab1d091a0a6aa7625",
    "deepnote_cell_height": 598.34375,
    "deepnote_cell_type": "code",
    "deepnote_output_heights": [
     null,
     21.1875
    ],
    "deepnote_to_be_reexecuted": false,
    "execution_millis": 1177,
    "execution_start": 1656126240422,
    "source_hash": "77305a39",
    "tags": []
   },
   "outputs": [
    {
     "name": "stderr",
     "output_type": "stream",
     "text": [
      "[nltk_data] Downloading package words to /root/nltk_data...\n",
      "[nltk_data]   Unzipping corpora/words.zip.\n"
     ]
    },
    {
     "data": {
      "text/plain": [
       "'small town murder that result in a court case from the victim'"
      ]
     },
     "execution_count": 26,
     "metadata": {},
     "output_type": "execute_result"
    }
   ],
   "source": [
    "# word correct\n",
    "nltk.download('words')\n",
    "words_corpus = words.words()\n",
    "\n",
    "user_input_list = user_phrase.split()\n",
    "user_input_list = [elem.strip(string.punctuation).lower() for elem in user_input_list]\n",
    "\n",
    "def run_autocorrect(input_word): \n",
    "    closest_words = pq()\n",
    "    for word in words_corpus: \n",
    "        distance = editdistance.eval(word, input_word)\n",
    "        closest_words.put((distance, word))\n",
    "    return closest_words.get()\n",
    "\n",
    "new_phrase_list = []\n",
    "for elem in user_input_list: \n",
    "    if elem not in words_corpus: \n",
    "        correct_word = run_autocorrect(elem)\n",
    "        new_phrase_list.append(correct_word[1])\n",
    "    else: \n",
    "        new_phrase_list.append(elem)\n",
    "\n",
    "user_phrase = \" \".join(new_phrase_list)\n",
    "user_phrase"
   ]
  },
  {
   "cell_type": "code",
   "execution_count": 27,
   "metadata": {
    "cell_id": "2493fb42ff3045eab1a9e2defb932260",
    "deepnote_cell_height": 1014.609375,
    "deepnote_cell_type": "code",
    "deepnote_to_be_reexecuted": false,
    "execution_millis": 8,
    "execution_start": 1656126241607,
    "source_hash": "96784",
    "tags": []
   },
   "outputs": [
    {
     "name": "stdout",
     "output_type": "stream",
     "text": [
      "{'trilogy', 'big', 'hitchhiker', 'jason', 'arthur', 'galaxy', 'guide', 'elio', 'onestate', 'secret', 'dent', 'edition', 'kinsey', 'adventure', 'universe'}\n",
      "{'greg', 'winning', 'helen', 'diary', 'talk', 'author', 'day', 'meeny', 'eeny', 'award', 'contemporary', 'jump', 'feminist', 'grace', 'president'}\n",
      "{'platform', 'le', 'need', 'step', 'trading', 'day', 'robert', 'thing', 'control', 'mental', 'effective', 'game', 'anthony', 'winterfell', 'money'}\n",
      "{'blomkvist', 'investing', 'salander', 'kat', 'vagrant', 'darksiders', 'war', 'destruction', 'stock', 'shining', 'amy', 'little', 'thrawn', 'market', 'leader'}\n",
      "{'offering', 'renowned', 'medicine', 'emergency', 'build', 'business', 'tracy', 'marketing', 'brian', 'simple', 'success', 'successful', 'overcome', 'customer', 'personal'}\n",
      "{'memoir', 'influence', 'gangster', 'persuasion', 'chaos', 'sherlock', 'story', 'witcher', 'map', 'origin', 'holmes', 'weapon', 'edition', 'zeinab', 'force'}\n",
      "{'regarding', 'sorcerer', 'series', 'fantasy', 'poirot', 'honor', 'valor', 'fan', 'morgan', 'destiny', 'king', 'dragon', 'escalon', 'rice', 'rise'}\n",
      "{'book', 'financial', 'edge', 'good', 'want', 'shadow', 'key', 'goodreads', 'reviewer', 'people', 'great', 'success', 'change', 'read', 'star'}\n",
      "{'teach', 'levitt', 'bos', 'freak', 'problem', 'step', 'employee', 'dubner', 'think', 'better', 'learn', 'emotional', 'offer', 'll', 'trap'}\n",
      "{'guilty', 'land', 'detailed', 'sea', 'reverse', 'fellow', 'attack', 'fell', 'needed', 'fiction', 'figure', 'fixed', 'fascinating', 'closer', 'remains'}\n",
      "{'christie', 'kate', 'signal', 'harry', 'cooky', 'story', 'billy', 'keri', 'murder', 'short', 'agatha', 'curran', 'time', 'detective', 'brain'}\n",
      "{'financial', 'book', 'brent', 'make', 'shadow', 'understand', 'business', 'people', 'life', 'known', 'new', 'worldwide', 'friend', 'win', 'lightbringer'}\n",
      "{'christie', 'play', 'spider', 'lord', 'hr', 'footballer', 'ring', 'man', 'job', 'people', 'shakespeare', 'steve', 'agatha', 'poe', 'league'}\n",
      "{'knight', 'bestseller', 'diary', 'quincy', 'work', 'reacher', 'festive', 'hero', 'hospital', 'time', 'batman', 'year', 'man', 'grisham', 'alvin'}\n",
      "{'fitz', 'crew', 'sunday', 'happy', 'ship', 'happiness', 'auberon', 'farseer', 'option', 'self', 'oregon', 'juan', 'mail', 'cabrillo', 'cussler'}\n",
      "{'memoir', 'science', 'critical', 'theory', 'forge', 'dick', 'hollywood', 'capital', 'life', 'unhewn', 'new', 'program', 'julie', 'garrard', 'provides'}\n",
      "{'book', 'demon', 'gone', 'killer', 'series', 'psychological', 'thriller', 'mystery', 'paige', 'mind', 'new', 'friend', 'man', 'feel', 'riley'}\n",
      "{'strategy', 'archer', 'layla', 'total', 'dr', 'company', 'goal', 'know', 'business', 'truth', 'confidence', 'life', 'finn', 'achieve', 'amanda'}\n",
      "{'throne', 'martin', 'feast', 'storm', 'george', 'dance', 'maigret', 'sword', 'game', 'ice', 'dragon', 'infinite', 'song', 'world', 'thorn'}\n",
      "{'managerial', 'content', 'arkham', 'need', 'translation', 'lionel', 'art', 'giles', 'table', 'war', 'business', 'military', 'ereader', 'applied', 'functional'}\n",
      "{'exiled', 'candide', 'jude', 'bombay', 'love', 'curse', 'wicked', 'faerie', 'shantaram', 'asking', 'queen', 'prison', 'king', 'time', 'cardan'}\n",
      "{'crow', 'indistractable', 'eyal', 'focus', 'distraction', 'black', 'frog', 'life', 'modern', 'ice', 'song', 'iron', 'important', 'feast', 'exactly'}\n",
      "{'tower', 'monster', 'stand', 'ally', 'selling', 'vs', 'collection', 'attack', 'geralt', 'target', 'witcher', 'universe', 'marvel', 'group', 'alike'}\n",
      "{'book', 'mystery', 'robert', 'wheel', 'war', 'antique', 'brandy', 'crime', 'murder', 'jordan', 'time', 'world', 'borne', 'new', 'god'}\n",
      "{'strategy', 'advantage', 'science', 'porter', 'competitive', 'architecture', 'wade', 'process', 'business', 'aspect', 'management', 'information', 'mini', 'habit', 'sun'}\n",
      "{'christie', 'kate', 'signal', 'harry', 'cooky', 'story', 'billy', 'keri', 'murder', 'short', 'agatha', 'curran', 'time', 'detective', 'brain'} 1\n"
     ]
    }
   ],
   "source": [
    "# There is no point of removing stopwords here because we are seeing how much similarity there is regardless. \n",
    "# I am thinking of adding spell-correction here? \n",
    "\n",
    "# user_phrase = set(user_phrase.lower().split())\n",
    "# we will preprocess the user phrase just like how we preprocessed the descriptions. Removing stopwords won't matter\n",
    "# since we are looking at frequency \n",
    "\n",
    "user_phrase = word_tokenize(user_phrase)\n",
    "user_phrase = [word if word not in string.punctuation else '' for word in user_phrase]\n",
    " #user_phrase.replace(string.punctuation, '')\n",
    "user_phrase = set([lem.lemmatize(w).lower() for w in user_phrase])\n",
    "# print(user_phrase)\n",
    "\n",
    "best_topic = topics_set[0] #initialization \n",
    "best_intersection = -1\n",
    "for group in topics_set: \n",
    "    # print(group, user_phrase, len(user_phrase.intersection(group)))\n",
    "    print(group)\n",
    "    if len(user_phrase.intersection(group)) > best_intersection: \n",
    "        best_topic = group\n",
    "        best_intersection = len(user_phrase.intersection(group))\n",
    "\n",
    "print(best_topic, best_intersection) # returns best list of topics and length of the intersection "
   ]
  },
  {
   "cell_type": "code",
   "execution_count": 28,
   "metadata": {
    "cell_id": "4e51014b9d504bcebc08ea32cdd9f842",
    "deepnote_cell_height": 81,
    "deepnote_cell_type": "code",
    "deepnote_table_loading": false,
    "deepnote_table_state": {
     "filters": [],
     "pageIndex": 95,
     "pageSize": 10,
     "sortBy": []
    },
    "deepnote_to_be_reexecuted": false,
    "execution_millis": 5,
    "execution_start": 1656126241617,
    "source_hash": "49606e68",
    "tags": []
   },
   "outputs": [],
   "source": [
    "# df_filter"
   ]
  },
  {
   "cell_type": "code",
   "execution_count": 29,
   "metadata": {
    "cell_id": "36850f3f1247435389999285e3668414",
    "deepnote_cell_height": 207,
    "deepnote_cell_type": "code",
    "deepnote_to_be_reexecuted": false,
    "execution_millis": 174,
    "execution_start": 1656126241641,
    "source_hash": "1a13e636",
    "tags": []
   },
   "outputs": [],
   "source": [
    "# Now we need to match the book descriptions to the topic that was chosen \n",
    "books = pq() #min heap \n",
    "for index, row in df_filter.iterrows():\n",
    "    # print(row['title_desc_filtered'])\n",
    "    intersect_len = len(set(row['title_desc_filtered'].split()).intersection(best_topic))\n",
    "    # print(set(row['title_desc_filtered'].split()))\n",
    "    books.put((-1*intersect_len, row['title'].strip(string.punctuation), row['author'].strip(string.punctuation), row['Type'].strip(string.punctuation)))\n"
   ]
  },
  {
   "cell_type": "code",
   "execution_count": 30,
   "metadata": {
    "cell_id": "40668000c416447c971016a1d8c5db8f",
    "deepnote_cell_type": "input-text",
    "deepnote_to_be_reexecuted": false,
    "deepnote_variable_name": "num_recs",
    "deepnote_variable_value": "5",
    "execution_millis": 4,
    "execution_start": 1656126241830,
    "source_hash": "e500b1f7"
   },
   "outputs": [],
   "source": [
    "num_recs = '5'"
   ]
  },
  {
   "cell_type": "code",
   "execution_count": 31,
   "metadata": {
    "cell_id": "cd4986d88f634c3e92f0de93d9acd5c6",
    "deepnote_cell_height": 341.34375,
    "deepnote_cell_type": "code",
    "deepnote_output_heights": [
     136.359375,
     97.96875
    ],
    "deepnote_to_be_reexecuted": false,
    "execution_millis": 2219529,
    "execution_start": 1656126241850,
    "source_hash": "1cbfd883",
    "tags": []
   },
   "outputs": [
    {
     "data": {
      "text/plain": [
       "{'The Red Signal: An Agatha Christie Short Story': ('Agatha Christie',\n",
       "  'Books'),\n",
       " 'The Mysterious Affair at Styles': ('Agatha Christie', 'Books'),\n",
       " 'A Trace of Crime (a Keri Locke Mystery--Book #4': ('Blake Pierce', 'Books'),\n",
       " 'A Trace of Vice (a Keri Locke Mystery--Book #3': ('Blake Pierce', 'Books'),\n",
       " 'Death in an Elegant City: An English Village Murder Mystery': ('Sara Rosett',\n",
       "  'Books')}"
      ]
     },
     "execution_count": 31,
     "metadata": {},
     "output_type": "execute_result"
    }
   ],
   "source": [
    "books_hm = {}\n",
    "while len(books_hm) < 5: \n",
    "    book = books.get()\n",
    "    # print(book[0])\n",
    "    books_hm[book[1]] = (book[2], book[3])\n",
    "\n",
    "books_hm"
   ]
  },
  {
   "cell_type": "code",
   "execution_count": 32,
   "metadata": {
    "cell_id": "5558a86a741543ad9143fb16e77c57fa",
    "deepnote_cell_height": 99,
    "deepnote_cell_type": "code",
    "deepnote_to_be_reexecuted": false,
    "execution_millis": 2219534,
    "execution_start": 1656126241911,
    "source_hash": "6893179",
    "tags": []
   },
   "outputs": [],
   "source": [
    "# cohere API key\n",
    "# KTQmgyEWSk81jeyS98xCMB1iRuWjZ5KDzSkrdw0b"
   ]
  },
  {
   "cell_type": "code",
   "execution_count": 33,
   "metadata": {
    "cell_id": "16b20484e2a74e218b38f633d2593176",
    "deepnote_cell_type": "input-text",
    "deepnote_to_be_reexecuted": false,
    "deepnote_variable_name": "theme",
    "deepnote_variable_value": "crime, murder, new york city, suspect, man, FBI, detective",
    "execution_millis": 2219493,
    "execution_start": 1656126241911,
    "source_hash": "105bbfc7"
   },
   "outputs": [],
   "source": [
    "theme = 'crime, murder, new york city, suspect, man, FBI, detective'"
   ]
  },
  {
   "cell_type": "code",
   "execution_count": 34,
   "metadata": {
    "cell_id": "ff345277590e4371b8ef2eff90bd4113",
    "deepnote_cell_height": 576.046875,
    "deepnote_cell_type": "code",
    "deepnote_output_heights": [
     null,
     136.359375
    ],
    "deepnote_to_be_reexecuted": false,
    "execution_millis": 2702,
    "execution_start": 1656126241912,
    "owner_user_id": "3368d2ef-7e80-411c-933c-c0bf7e4e7d6b",
    "source_hash": "b48a5933",
    "tags": []
   },
   "outputs": [
    {
     "name": "stdout",
     "output_type": "stream",
     "text": [
      "Idea: \n",
      "The killings are increasing with each passing day in Manhattan.\n",
      "Detective Alicia Berenson and her partner, Detective Michael Norton, are desperate to find the murderer before he strikes again. But they are losing time. The killer has become a...\n"
     ]
    },
    {
     "data": {
      "text/plain": [
       "[cohere.Generation {\n",
       " \ttext: \n",
       " The killings are increasing with each passing day in Manhattan.\n",
       " Detective Alicia Berenson and her partner, Detective Michael Norton, are desperate to find the murderer before he strikes again. But they are losing time. The killer has become a\n",
       " \tlikelihood: None\n",
       " \ttoken_likelihoods: None\n",
       " }]"
      ]
     },
     "execution_count": 34,
     "metadata": {},
     "output_type": "execute_result"
    }
   ],
   "source": [
    "import cohere\n",
    "co = cohere.Client('KTQmgyEWSk81jeyS98xCMB1iRuWjZ5KDzSkrdw0b')\n",
    "prediction = co.generate(\n",
    "  model='large',\n",
    "  prompt='--\\nProduct: Book \\nKeywords: ' + str(theme) + str('Exciting Book Description:'),\n",
    "  max_tokens=50,\n",
    "  temperature=0.8,\n",
    "  k=0,\n",
    "  p=1,\n",
    "  frequency_penalty=0,\n",
    "  presence_penalty=0,\n",
    "  stop_sequences=[\"--\"],\n",
    "  return_likelihoods='NONE')\n",
    "print('Idea: {}...'.format(prediction.generations[0].text))\n",
    "prediction.generations"
   ]
  },
  {
   "cell_type": "code",
   "execution_count": 35,
   "metadata": {
    "cell_id": "6e5757e142174d759e735aaf68fc6a8a",
    "deepnote_cell_type": "input-select",
    "deepnote_to_be_reexecuted": false,
    "deepnote_variable_custom_options": [
     "True",
     "False"
    ],
    "deepnote_variable_name": "send_sms",
    "deepnote_variable_options": [
     "True",
     "False"
    ],
    "deepnote_variable_select_type": "from-options",
    "deepnote_variable_selected_variable": "",
    "deepnote_variable_value": "True",
    "execution_millis": 2219515,
    "execution_start": 1656126244623,
    "source_hash": "6e436d54"
   },
   "outputs": [],
   "source": [
    "send_sms = 'True'"
   ]
  },
  {
   "cell_type": "code",
   "execution_count": 36,
   "metadata": {
    "cell_id": "bdbfbc78ae7b4cad8ab8bb1c4acacd45",
    "deepnote_cell_height": 162.1875,
    "deepnote_cell_type": "code",
    "deepnote_to_be_reexecuted": false,
    "execution_millis": 2219475,
    "execution_start": 1656126244667,
    "source_hash": "1c063be6",
    "tags": []
   },
   "outputs": [
    {
     "ename": "IndentationError",
     "evalue": "expected an indented block (<ipython-input-36-ea0bf1780628>, line 2)",
     "output_type": "error",
     "traceback": [
      "\u001b[0;36m  File \u001b[0;32m\"<ipython-input-36-ea0bf1780628>\"\u001b[0;36m, line \u001b[0;32m2\u001b[0m\n\u001b[0;31m    # send to twilio\u001b[0m\n\u001b[0m                     ^\u001b[0m\n\u001b[0;31mIndentationError\u001b[0m\u001b[0;31m:\u001b[0m expected an indented block\n"
     ]
    }
   ],
   "source": [
    "from twilio.rest import Client \n",
    "\n",
    "if send_sms == str(True): \n",
    "    # send to twilio \n",
    "    account_sid = 'AC10d95cbc904be6f7f854a20da39496ec' \n",
    "    auth_token = 'b7b13b9326b3a9689c53d3a87521bcf5' \n",
    "    client = Client(account_sid, auth_token) \n",
    "    \n",
    "    message = client.messages.create(  \n",
    "                                messaging_service_sid='MG92509adabb70c0340dc5196debb415a4', \n",
    "                                body='Here\\'s your idea:' + str(idea) + \"\\nNow it's time for you to write your heart out!\",      \n",
    "                                to='+16462867923'\n",
    "                            ) \n",
    "    \n",
    "    print(message.sid)"
   ]
  },
  {
   "cell_type": "markdown",
   "metadata": {
    "created_in_deepnote_cell": true,
    "deepnote_cell_type": "markdown",
    "tags": []
   },
   "source": [
    "<a style='text-decoration:none;line-height:16px;display:flex;color:#5B5B62;padding:10px;justify-content:end;' href='https://deepnote.com?utm_source=created-in-deepnote-cell&projectId=a000e112-1cbe-4ff9-9e6d-cef9a0ebc108' target=\"_blank\">\n",
    "<img alt='Created in deepnote.com' style='display:inline;max-height:16px;margin:0px;margin-right:7.5px;' src='data:image/svg+xml;base64,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' > </img>\n",
    "Created in <span style='font-weight:600;margin-left:4px;'>Deepnote</span></a>"
   ]
  }
 ],
 "metadata": {
  "deepnote": {},
  "deepnote_execution_queue": [],
  "deepnote_notebook_id": "7fa6325c-3307-46a9-b8c5-562dee8f5df7",
  "language_info": {
   "name": "python"
  },
  "orig_nbformat": 2
 },
 "nbformat": 4,
 "nbformat_minor": 2
}
